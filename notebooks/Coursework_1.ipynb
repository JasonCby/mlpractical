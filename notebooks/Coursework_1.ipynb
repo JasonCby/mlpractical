{
 "cells": [
  {
   "cell_type": "markdown",
   "metadata": {},
   "source": [
    "# Coursework 1\n",
    "\n",
    "This notebook is intended to be used as a starting point for your experiments. The instructions can be found in the instructions file located under spec/coursework1.pdf. The methods provided here are just helper functions. If you want more complex graphs such as side by side comparisons of different experiments you should learn more about matplotlib and implement them. Before each experiment remember to re-initialize neural network weights and reset the data providers so you get a properly initialized experiment. For each experiment try to keep most hyperparameters the same except the one under investigation so you can understand what the effects of each are."
   ]
  },
  {
   "cell_type": "code",
   "execution_count": 31,
   "metadata": {
    "collapsed": true
   },
   "outputs": [],
   "source": [
    "import matplotlib.pyplot as plt\n",
    "%matplotlib inline\n",
    "plt.style.use('ggplot')\n",
    "\n",
    "def train_model_and_plot_stats(\n",
    "        model, error, learning_rule, train_data, valid_data, num_epochs, stats_interval, notebook=True):\n",
    "    \n",
    "    # As well as monitoring the error over training also monitor classification\n",
    "    # accuracy i.e. proportion of most-probable predicted classes being equal to targets\n",
    "    data_monitors={'acc': lambda y, t: (y.argmax(-1) == t.argmax(-1)).mean()}\n",
    "\n",
    "    # Use the created objects to initialise a new Optimiser instance.\n",
    "    optimiser = Optimiser(\n",
    "        model, error, learning_rule, train_data, valid_data, data_monitors, notebook=notebook)\n",
    "\n",
    "    # Run the optimiser for num_epochs epochs (full passes through the training set)\n",
    "    # printing statistics every epoch.\n",
    "    stats, keys, run_time = optimiser.train(num_epochs=num_epochs, stats_interval=stats_interval)\n",
    "\n",
    "    # Plot the change in the validation and training set error over training.\n",
    "    fig_1 = plt.figure(figsize=(8, 4))\n",
    "    ax_1 = fig_1.add_subplot(111)\n",
    "    for k in ['error(train)', 'error(valid)']:\n",
    "        ax_1.plot(np.arange(1, stats.shape[0]) * stats_interval, \n",
    "                  stats[1:, keys[k]], label=k)\n",
    "    ax_1.legend(loc=0)\n",
    "    ax_1.set_xlabel('Epoch number')\n",
    "    ax_1.set_ylabel('Error')\n",
    "\n",
    "    # Plot the change in the validation and training set accuracy over training.\n",
    "    fig_2 = plt.figure(figsize=(8, 4))\n",
    "    ax_2 = fig_2.add_subplot(111)\n",
    "    for k in ['acc(train)', 'acc(valid)']:\n",
    "        ax_2.plot(np.arange(1, stats.shape[0]) * stats_interval, \n",
    "                  stats[1:, keys[k]], label=k)\n",
    "    ax_2.legend(loc=0)\n",
    "    ax_2.set_xlabel('Epoch number')\n",
    "    ax_2.set_xlabel('Accuracy')\n",
    "    \n",
    "    return stats, keys, run_time, fig_1, ax_1, fig_2, ax_2"
   ]
  },
  {
   "cell_type": "code",
   "execution_count": 47,
   "metadata": {
    "collapsed": true
   },
   "outputs": [],
   "source": [
    "def train_model_and_plot_stats1(\n",
    "        models, error, learning_rule, train_data, valid_data, num_epochs, stats_interval, notebook=True):\n",
    "    \n",
    "    # As well as monitoring the error over training also monitor classification\n",
    "    # accuracy i.e. proportion of most-probable predicted classes being equal to targets\n",
    "    data_monitors={'acc': lambda y, t: (y.argmax(-1) == t.argmax(-1)).mean()}\n",
    "\n",
    "    # Use the created objects to initialise a new Optimiser instance.\n",
    "    fig_1 = plt.figure(figsize=(8, 4))\n",
    "    fig_2 = plt.figure(figsize=(8, 4))\n",
    "    for (model,i) in zip(models,[\"with 32\",\"with 64\",\"with 128\"]) :\n",
    "        optimiser = Optimiser(\n",
    "            model, error, learning_rule, train_data, valid_data, data_monitors, notebook=notebook)\n",
    "\n",
    "        # Run the optimiser for num_epochs epochs (full passes through the training set)\n",
    "        # printing statistics every epoch.\n",
    "        stats, keys, run_time = optimiser.train(num_epochs=num_epochs, stats_interval=stats_interval)\n",
    "\n",
    "        # Plot the change in the validation and training set error over training.\n",
    "        ax_1 = fig_1.add_subplot(111)\n",
    "        for k in ['error(train)', 'error(valid)']:\n",
    "            if k == \"error(valid)\":\n",
    "                ax_1.plot(np.arange(1, stats.shape[0]) * stats_interval, \n",
    "                      stats[1:, keys[k]], label=i+ \" \" +k,linestyle=':', linewidth=3)\n",
    "            else:\n",
    "                ax_1.plot(np.arange(1, stats.shape[0]) * stats_interval, \n",
    "                          stats[1:, keys[k]], label=i+ \" \" +k)\n",
    "        ax_1.legend(loc=0)\n",
    "        ax_1.set_xlabel('Epoch number')\n",
    "        ax_1.set_ylabel('Error')\n",
    "\n",
    "        # Plot the change in the validation and training set accuracy over training.\n",
    "        ax_2 = fig_2.add_subplot(111)\n",
    "        for k in ['acc(train)', 'acc(valid)']:\n",
    "            if k == \"acc(valid)\":\n",
    "                ax_2.plot(np.arange(1, stats.shape[0]) * stats_interval, \n",
    "                      stats[1:, keys[k]], label=i+ \" \" +k,linestyle=':', linewidth=3)\n",
    "            else:\n",
    "                ax_2.plot(np.arange(1, stats.shape[0]) * stats_interval, \n",
    "                          stats[1:, keys[k]], label=i+ \" \" +k)\n",
    "        ax_2.legend(loc=0)\n",
    "        ax_2.set_xlabel('Epoch number')\n",
    "        ax_2.set_xlabel('Accuracy')\n",
    "    fig_1.savefig('empty_error_curve_width_1.pdf')\n",
    "    fig_2.savefig('empty_acc_curve_width_1.pdf')\n",
    "    return stats, keys, run_time, fig_1, ax_1, fig_2, ax_2"
   ]
  },
  {
   "cell_type": "code",
   "execution_count": 50,
   "metadata": {
    "collapsed": true
   },
   "outputs": [],
   "source": [
    "def train_model_and_plot_stats2(\n",
    "        models, error, learning_rule, train_data, valid_data, num_epochs, stats_interval, notebook=True):\n",
    "    \n",
    "    # As well as monitoring the error over training also monitor classification\n",
    "    # accuracy i.e. proportion of most-probable predicted classes being equal to targets\n",
    "    data_monitors={'acc': lambda y, t: (y.argmax(-1) == t.argmax(-1)).mean()}\n",
    "\n",
    "    # Use the created objects to initialise a new Optimiser instance.\n",
    "    fig_1 = plt.figure(figsize=(8, 4))\n",
    "    fig_2 = plt.figure(figsize=(8, 4))\n",
    "    for (model,i) in zip(models,[\"depth 1\",\"depth 2\",\"depth 3\"]) :\n",
    "        optimiser = Optimiser(\n",
    "            model, error, learning_rule, train_data, valid_data, data_monitors, notebook=notebook)\n",
    "\n",
    "        # Run the optimiser for num_epochs epochs (full passes through the training set)\n",
    "        # printing statistics every epoch.\n",
    "        stats, keys, run_time = optimiser.train(num_epochs=num_epochs, stats_interval=stats_interval)\n",
    "\n",
    "        # Plot the change in the validation and training set error over training.\n",
    "        ax_1 = fig_1.add_subplot(111)\n",
    "        for k in ['error(train)', 'error(valid)']:\n",
    "            if k == \"error(valid)\":\n",
    "                ax_1.plot(np.arange(1, stats.shape[0]) * stats_interval, \n",
    "                      stats[1:, keys[k]], label=i+ \" \" +k,linestyle=':', linewidth=3)\n",
    "            else:\n",
    "                ax_1.plot(np.arange(1, stats.shape[0]) * stats_interval, \n",
    "                          stats[1:, keys[k]], label=i+ \" \" +k)\n",
    "        ax_1.legend(loc=0)\n",
    "        ax_1.set_xlabel('Epoch number')\n",
    "        ax_1.set_ylabel('Error')\n",
    "\n",
    "        # Plot the change in the validation and training set accuracy over training.\n",
    "        ax_2 = fig_2.add_subplot(111)\n",
    "        for k in ['acc(train)', 'acc(valid)']:\n",
    "            if k == \"acc(valid)\":\n",
    "                ax_2.plot(np.arange(1, stats.shape[0]) * stats_interval, \n",
    "                      stats[1:, keys[k]], label=i+ \" \" +k,linestyle=':', linewidth=3)\n",
    "            else:\n",
    "                ax_2.plot(np.arange(1, stats.shape[0]) * stats_interval, \n",
    "                          stats[1:, keys[k]], label=i+ \" \" +k)\n",
    "        ax_2.legend(loc=0)\n",
    "        ax_2.set_xlabel('Epoch number')\n",
    "        ax_2.set_xlabel('Accuracy')\n",
    "    fig_1.savefig('empty_error_curve_depth_1.pdf')\n",
    "    fig_2.savefig('empty_acc_curve_depth_1.pdf')\n",
    "    return stats, keys, run_time, fig_1, ax_1, fig_2, ax_2"
   ]
  },
  {
   "cell_type": "code",
   "execution_count": 42,
   "metadata": {},
   "outputs": [
    {
     "name": "stdout",
     "output_type": "stream",
     "text": [
      "['inputs', 'targets']\n",
      "['inputs', 'targets']\n"
     ]
    }
   ],
   "source": [
    "# The below code will set up the data providers, random number\n",
    "# generator and logger objects needed for training runs. As\n",
    "# loading the data from file take a little while you generally\n",
    "# will probably not want to reload the data providers on\n",
    "# every training run. If you wish to reset their state you\n",
    "# should instead use the .reset() method of the data providers.\n",
    "import numpy as np\n",
    "import logging\n",
    "from mlp.data_providers import MNISTDataProvider, EMNISTDataProvider\n",
    "\n",
    "# Seed a random number generator\n",
    "seed = 11102019 \n",
    "rng = np.random.RandomState(seed)\n",
    "batch_size = 100\n",
    "# Set up a logger object to print info about the training run to stdout\n",
    "logger = logging.getLogger()\n",
    "logger.setLevel(logging.INFO)\n",
    "logger.handlers = [logging.StreamHandler()]\n",
    "\n",
    "# Create data provider objects for the MNIST data set\n",
    "train_data = EMNISTDataProvider('train', batch_size=batch_size, rng=rng)\n",
    "valid_data = EMNISTDataProvider('valid', batch_size=batch_size, rng=rng)"
   ]
  },
  {
   "cell_type": "code",
   "execution_count": 49,
   "metadata": {},
   "outputs": [
    {
     "name": "stderr",
     "output_type": "stream",
     "text": [
      "Widget Javascript not detected.  It may not be installed or enabled properly.\n"
     ]
    },
    {
     "data": {
      "application/vnd.jupyter.widget-view+json": {
       "model_id": "cd20db740bce4b49affcbba0f2e61068"
      }
     },
     "metadata": {},
     "output_type": "display_data"
    },
    {
     "name": "stderr",
     "output_type": "stream",
     "text": [
      "Widget Javascript not detected.  It may not be installed or enabled properly.\n"
     ]
    },
    {
     "data": {
      "application/vnd.jupyter.widget-view+json": {
       "model_id": "eef08d079c8f4b03b967297fcece28c9"
      }
     },
     "metadata": {},
     "output_type": "display_data"
    },
    {
     "name": "stderr",
     "output_type": "stream",
     "text": [
      "Epoch 1: 1.8s to complete\n",
      "    error(train)=1.22e+00, acc(train)=6.56e-01, error(valid)=1.23e+00, acc(valid)=6.56e-01\n",
      "Widget Javascript not detected.  It may not be installed or enabled properly.\n"
     ]
    },
    {
     "data": {
      "application/vnd.jupyter.widget-view+json": {
       "model_id": "db02727341404004b216869008333c3a"
      }
     },
     "metadata": {},
     "output_type": "display_data"
    },
    {
     "name": "stderr",
     "output_type": "stream",
     "text": [
      "Epoch 2: 1.7s to complete\n",
      "    error(train)=1.07e+00, acc(train)=6.99e-01, error(valid)=1.08e+00, acc(valid)=6.91e-01\n",
      "Widget Javascript not detected.  It may not be installed or enabled properly.\n"
     ]
    },
    {
     "data": {
      "application/vnd.jupyter.widget-view+json": {
       "model_id": "72375c2306924438a802717ce6e172dc"
      }
     },
     "metadata": {},
     "output_type": "display_data"
    },
    {
     "name": "stderr",
     "output_type": "stream",
     "text": [
      "Epoch 3: 1.7s to complete\n",
      "    error(train)=9.71e-01, acc(train)=7.24e-01, error(valid)=9.92e-01, acc(valid)=7.21e-01\n",
      "Widget Javascript not detected.  It may not be installed or enabled properly.\n"
     ]
    },
    {
     "data": {
      "application/vnd.jupyter.widget-view+json": {
       "model_id": "66520a27e13f4454b311fec25d0de26a"
      }
     },
     "metadata": {},
     "output_type": "display_data"
    },
    {
     "name": "stderr",
     "output_type": "stream",
     "text": [
      "Epoch 4: 1.7s to complete\n",
      "    error(train)=9.22e-01, acc(train)=7.34e-01, error(valid)=9.49e-01, acc(valid)=7.29e-01\n",
      "Widget Javascript not detected.  It may not be installed or enabled properly.\n"
     ]
    },
    {
     "data": {
      "application/vnd.jupyter.widget-view+json": {
       "model_id": "b30953e824f140d984538fff7b27fbe7"
      }
     },
     "metadata": {},
     "output_type": "display_data"
    },
    {
     "name": "stderr",
     "output_type": "stream",
     "text": [
      "Epoch 5: 1.7s to complete\n",
      "    error(train)=8.90e-01, acc(train)=7.43e-01, error(valid)=9.25e-01, acc(valid)=7.35e-01\n",
      "Widget Javascript not detected.  It may not be installed or enabled properly.\n"
     ]
    },
    {
     "data": {
      "application/vnd.jupyter.widget-view+json": {
       "model_id": "66ff0f8716d5462693501c6e5dfe7700"
      }
     },
     "metadata": {},
     "output_type": "display_data"
    },
    {
     "name": "stderr",
     "output_type": "stream",
     "text": [
      "Epoch 6: 1.6s to complete\n",
      "    error(train)=8.71e-01, acc(train)=7.48e-01, error(valid)=9.05e-01, acc(valid)=7.39e-01\n",
      "Widget Javascript not detected.  It may not be installed or enabled properly.\n"
     ]
    },
    {
     "data": {
      "application/vnd.jupyter.widget-view+json": {
       "model_id": "4d990eec71314ee2a1ae888f5f598754"
      }
     },
     "metadata": {},
     "output_type": "display_data"
    },
    {
     "name": "stderr",
     "output_type": "stream",
     "text": [
      "Epoch 7: 1.7s to complete\n",
      "    error(train)=8.40e-01, acc(train)=7.55e-01, error(valid)=8.78e-01, acc(valid)=7.43e-01\n",
      "Widget Javascript not detected.  It may not be installed or enabled properly.\n"
     ]
    },
    {
     "data": {
      "application/vnd.jupyter.widget-view+json": {
       "model_id": "c4281d4c958943949e72f237697cc7c2"
      }
     },
     "metadata": {},
     "output_type": "display_data"
    },
    {
     "name": "stderr",
     "output_type": "stream",
     "text": [
      "Epoch 8: 1.7s to complete\n",
      "    error(train)=8.18e-01, acc(train)=7.60e-01, error(valid)=8.60e-01, acc(valid)=7.50e-01\n",
      "Widget Javascript not detected.  It may not be installed or enabled properly.\n"
     ]
    },
    {
     "data": {
      "application/vnd.jupyter.widget-view+json": {
       "model_id": "ee952b1304174c90a2ae0229fff25d94"
      }
     },
     "metadata": {},
     "output_type": "display_data"
    },
    {
     "name": "stderr",
     "output_type": "stream",
     "text": [
      "Epoch 9: 1.7s to complete\n",
      "    error(train)=7.98e-01, acc(train)=7.64e-01, error(valid)=8.43e-01, acc(valid)=7.52e-01\n",
      "Widget Javascript not detected.  It may not be installed or enabled properly.\n"
     ]
    },
    {
     "data": {
      "application/vnd.jupyter.widget-view+json": {
       "model_id": "6fdffcd761a44054acabce79f658dd9c"
      }
     },
     "metadata": {},
     "output_type": "display_data"
    },
    {
     "name": "stderr",
     "output_type": "stream",
     "text": [
      "Epoch 10: 1.7s to complete\n",
      "    error(train)=7.78e-01, acc(train)=7.70e-01, error(valid)=8.27e-01, acc(valid)=7.61e-01\n",
      "Widget Javascript not detected.  It may not be installed or enabled properly.\n"
     ]
    },
    {
     "data": {
      "application/vnd.jupyter.widget-view+json": {
       "model_id": "3631dfeb0af444d2897d27ed1fbc0392"
      }
     },
     "metadata": {},
     "output_type": "display_data"
    },
    {
     "name": "stderr",
     "output_type": "stream",
     "text": [
      "Epoch 11: 1.7s to complete\n",
      "    error(train)=7.62e-01, acc(train)=7.73e-01, error(valid)=8.14e-01, acc(valid)=7.63e-01\n",
      "Widget Javascript not detected.  It may not be installed or enabled properly.\n"
     ]
    },
    {
     "data": {
      "application/vnd.jupyter.widget-view+json": {
       "model_id": "ca81638212cf45758dd8277ae82282f3"
      }
     },
     "metadata": {},
     "output_type": "display_data"
    },
    {
     "name": "stderr",
     "output_type": "stream",
     "text": [
      "Epoch 12: 1.7s to complete\n",
      "    error(train)=7.57e-01, acc(train)=7.73e-01, error(valid)=8.14e-01, acc(valid)=7.59e-01\n",
      "Widget Javascript not detected.  It may not be installed or enabled properly.\n"
     ]
    },
    {
     "data": {
      "application/vnd.jupyter.widget-view+json": {
       "model_id": "70a50ab054f04801a93781a9d99c92ea"
      }
     },
     "metadata": {},
     "output_type": "display_data"
    },
    {
     "name": "stderr",
     "output_type": "stream",
     "text": [
      "Epoch 13: 1.7s to complete\n",
      "    error(train)=7.40e-01, acc(train)=7.78e-01, error(valid)=7.97e-01, acc(valid)=7.62e-01\n",
      "Widget Javascript not detected.  It may not be installed or enabled properly.\n"
     ]
    },
    {
     "data": {
      "application/vnd.jupyter.widget-view+json": {
       "model_id": "5db10fae882b4bb3ae151695cc4d5bd1"
      }
     },
     "metadata": {},
     "output_type": "display_data"
    },
    {
     "name": "stderr",
     "output_type": "stream",
     "text": [
      "Epoch 14: 1.7s to complete\n",
      "    error(train)=7.31e-01, acc(train)=7.81e-01, error(valid)=7.93e-01, acc(valid)=7.67e-01\n",
      "Widget Javascript not detected.  It may not be installed or enabled properly.\n"
     ]
    },
    {
     "data": {
      "application/vnd.jupyter.widget-view+json": {
       "model_id": "d4a2315249614f9f837a4d5b6bb572c9"
      }
     },
     "metadata": {},
     "output_type": "display_data"
    },
    {
     "name": "stderr",
     "output_type": "stream",
     "text": [
      "Epoch 15: 1.7s to complete\n",
      "    error(train)=7.25e-01, acc(train)=7.81e-01, error(valid)=7.85e-01, acc(valid)=7.66e-01\n",
      "Widget Javascript not detected.  It may not be installed or enabled properly.\n"
     ]
    },
    {
     "data": {
      "application/vnd.jupyter.widget-view+json": {
       "model_id": "9968911325254f1ab228cba31a462b03"
      }
     },
     "metadata": {},
     "output_type": "display_data"
    },
    {
     "name": "stderr",
     "output_type": "stream",
     "text": [
      "Epoch 16: 1.7s to complete\n",
      "    error(train)=7.16e-01, acc(train)=7.83e-01, error(valid)=7.80e-01, acc(valid)=7.67e-01\n",
      "Widget Javascript not detected.  It may not be installed or enabled properly.\n"
     ]
    },
    {
     "data": {
      "application/vnd.jupyter.widget-view+json": {
       "model_id": "7cc52850486c4a3a84868152459ea89e"
      }
     },
     "metadata": {},
     "output_type": "display_data"
    },
    {
     "name": "stderr",
     "output_type": "stream",
     "text": [
      "Epoch 17: 1.7s to complete\n",
      "    error(train)=7.14e-01, acc(train)=7.80e-01, error(valid)=7.83e-01, acc(valid)=7.60e-01\n",
      "Widget Javascript not detected.  It may not be installed or enabled properly.\n"
     ]
    },
    {
     "data": {
      "application/vnd.jupyter.widget-view+json": {
       "model_id": "2a55357823144a8887de982a6dad3d19"
      }
     },
     "metadata": {},
     "output_type": "display_data"
    },
    {
     "name": "stderr",
     "output_type": "stream",
     "text": [
      "Epoch 18: 1.7s to complete\n",
      "    error(train)=6.97e-01, acc(train)=7.88e-01, error(valid)=7.66e-01, acc(valid)=7.70e-01\n",
      "Widget Javascript not detected.  It may not be installed or enabled properly.\n"
     ]
    },
    {
     "data": {
      "application/vnd.jupyter.widget-view+json": {
       "model_id": "94bacbaf0f4f4e359ddb0634327f08f0"
      }
     },
     "metadata": {},
     "output_type": "display_data"
    },
    {
     "name": "stderr",
     "output_type": "stream",
     "text": [
      "Epoch 19: 1.7s to complete\n",
      "    error(train)=6.86e-01, acc(train)=7.92e-01, error(valid)=7.57e-01, acc(valid)=7.70e-01\n",
      "Widget Javascript not detected.  It may not be installed or enabled properly.\n"
     ]
    },
    {
     "data": {
      "application/vnd.jupyter.widget-view+json": {
       "model_id": "51bc48af0cab45c8a5a76d171cc44001"
      }
     },
     "metadata": {},
     "output_type": "display_data"
    },
    {
     "name": "stderr",
     "output_type": "stream",
     "text": [
      "Epoch 20: 1.8s to complete\n",
      "    error(train)=6.87e-01, acc(train)=7.89e-01, error(valid)=7.60e-01, acc(valid)=7.68e-01\n",
      "Widget Javascript not detected.  It may not be installed or enabled properly.\n"
     ]
    },
    {
     "data": {
      "application/vnd.jupyter.widget-view+json": {
       "model_id": "493c9b9e4a25460b97f78f81b94bed6f"
      }
     },
     "metadata": {},
     "output_type": "display_data"
    },
    {
     "name": "stderr",
     "output_type": "stream",
     "text": [
      "Epoch 21: 1.8s to complete\n",
      "    error(train)=6.79e-01, acc(train)=7.91e-01, error(valid)=7.54e-01, acc(valid)=7.70e-01\n",
      "Widget Javascript not detected.  It may not be installed or enabled properly.\n"
     ]
    },
    {
     "data": {
      "application/vnd.jupyter.widget-view+json": {
       "model_id": "16617e3df6a948b7b3ec84e00f9fae4c"
      }
     },
     "metadata": {},
     "output_type": "display_data"
    },
    {
     "name": "stderr",
     "output_type": "stream",
     "text": [
      "Epoch 22: 1.8s to complete\n",
      "    error(train)=6.72e-01, acc(train)=7.93e-01, error(valid)=7.49e-01, acc(valid)=7.74e-01\n",
      "Widget Javascript not detected.  It may not be installed or enabled properly.\n"
     ]
    },
    {
     "data": {
      "application/vnd.jupyter.widget-view+json": {
       "model_id": "e513cca99f7143f0a850e98600af19a9"
      }
     },
     "metadata": {},
     "output_type": "display_data"
    },
    {
     "name": "stderr",
     "output_type": "stream",
     "text": [
      "Epoch 23: 1.8s to complete\n",
      "    error(train)=6.64e-01, acc(train)=7.96e-01, error(valid)=7.43e-01, acc(valid)=7.76e-01\n",
      "Widget Javascript not detected.  It may not be installed or enabled properly.\n"
     ]
    },
    {
     "data": {
      "application/vnd.jupyter.widget-view+json": {
       "model_id": "6c1fd7c976b941d68d1f149a99d53e2c"
      }
     },
     "metadata": {},
     "output_type": "display_data"
    },
    {
     "name": "stderr",
     "output_type": "stream",
     "text": [
      "Epoch 24: 1.7s to complete\n",
      "    error(train)=6.59e-01, acc(train)=7.97e-01, error(valid)=7.38e-01, acc(valid)=7.77e-01\n",
      "Widget Javascript not detected.  It may not be installed or enabled properly.\n"
     ]
    },
    {
     "data": {
      "application/vnd.jupyter.widget-view+json": {
       "model_id": "971feff89b9c4ae2acb1ab0c87a23721"
      }
     },
     "metadata": {},
     "output_type": "display_data"
    },
    {
     "name": "stderr",
     "output_type": "stream",
     "text": [
      "Epoch 25: 1.8s to complete\n",
      "    error(train)=6.54e-01, acc(train)=7.98e-01, error(valid)=7.32e-01, acc(valid)=7.76e-01\n",
      "Widget Javascript not detected.  It may not be installed or enabled properly.\n"
     ]
    },
    {
     "data": {
      "application/vnd.jupyter.widget-view+json": {
       "model_id": "a3ae1c2b981f4a11927bcf26e0758ca8"
      }
     },
     "metadata": {},
     "output_type": "display_data"
    },
    {
     "name": "stderr",
     "output_type": "stream",
     "text": [
      "Epoch 26: 1.8s to complete\n",
      "    error(train)=6.47e-01, acc(train)=8.01e-01, error(valid)=7.28e-01, acc(valid)=7.78e-01\n",
      "Widget Javascript not detected.  It may not be installed or enabled properly.\n"
     ]
    },
    {
     "data": {
      "application/vnd.jupyter.widget-view+json": {
       "model_id": "03582d4563b5448c8f751161e331a9f4"
      }
     },
     "metadata": {},
     "output_type": "display_data"
    },
    {
     "name": "stderr",
     "output_type": "stream",
     "text": [
      "Epoch 27: 1.8s to complete\n",
      "    error(train)=6.44e-01, acc(train)=8.02e-01, error(valid)=7.29e-01, acc(valid)=7.80e-01\n",
      "Widget Javascript not detected.  It may not be installed or enabled properly.\n"
     ]
    },
    {
     "data": {
      "application/vnd.jupyter.widget-view+json": {
       "model_id": "62c426003b794a138ac1c86dc3247a66"
      }
     },
     "metadata": {},
     "output_type": "display_data"
    },
    {
     "name": "stderr",
     "output_type": "stream",
     "text": [
      "Epoch 28: 1.8s to complete\n",
      "    error(train)=6.43e-01, acc(train)=8.01e-01, error(valid)=7.25e-01, acc(valid)=7.78e-01\n",
      "Widget Javascript not detected.  It may not be installed or enabled properly.\n"
     ]
    },
    {
     "data": {
      "application/vnd.jupyter.widget-view+json": {
       "model_id": "556dddb505844b0d952a24c883a8d55b"
      }
     },
     "metadata": {},
     "output_type": "display_data"
    },
    {
     "name": "stderr",
     "output_type": "stream",
     "text": [
      "Epoch 29: 1.8s to complete\n",
      "    error(train)=6.41e-01, acc(train)=8.01e-01, error(valid)=7.22e-01, acc(valid)=7.81e-01\n",
      "Widget Javascript not detected.  It may not be installed or enabled properly.\n"
     ]
    },
    {
     "data": {
      "application/vnd.jupyter.widget-view+json": {
       "model_id": "7a34e647be154712bb31be936bfdf922"
      }
     },
     "metadata": {},
     "output_type": "display_data"
    },
    {
     "name": "stderr",
     "output_type": "stream",
     "text": [
      "Epoch 30: 1.8s to complete\n",
      "    error(train)=6.36e-01, acc(train)=8.04e-01, error(valid)=7.20e-01, acc(valid)=7.80e-01\n",
      "Widget Javascript not detected.  It may not be installed or enabled properly.\n"
     ]
    },
    {
     "data": {
      "application/vnd.jupyter.widget-view+json": {
       "model_id": "76e147e3e80a400eb9a2be562013e8cb"
      }
     },
     "metadata": {},
     "output_type": "display_data"
    },
    {
     "name": "stderr",
     "output_type": "stream",
     "text": [
      "Epoch 31: 1.7s to complete\n",
      "    error(train)=6.37e-01, acc(train)=8.03e-01, error(valid)=7.22e-01, acc(valid)=7.79e-01\n",
      "Widget Javascript not detected.  It may not be installed or enabled properly.\n"
     ]
    },
    {
     "data": {
      "application/vnd.jupyter.widget-view+json": {
       "model_id": "134c2e88eedf4f26be7059c9ca7a6ef1"
      }
     },
     "metadata": {},
     "output_type": "display_data"
    },
    {
     "name": "stderr",
     "output_type": "stream",
     "text": [
      "Epoch 32: 1.8s to complete\n",
      "    error(train)=6.26e-01, acc(train)=8.06e-01, error(valid)=7.13e-01, acc(valid)=7.81e-01\n",
      "Widget Javascript not detected.  It may not be installed or enabled properly.\n"
     ]
    },
    {
     "data": {
      "application/vnd.jupyter.widget-view+json": {
       "model_id": "98fb9c823f3f4bff9bd239886be00b09"
      }
     },
     "metadata": {},
     "output_type": "display_data"
    },
    {
     "name": "stderr",
     "output_type": "stream",
     "text": [
      "Epoch 33: 1.8s to complete\n",
      "    error(train)=6.20e-01, acc(train)=8.08e-01, error(valid)=7.10e-01, acc(valid)=7.86e-01\n",
      "Widget Javascript not detected.  It may not be installed or enabled properly.\n"
     ]
    },
    {
     "data": {
      "application/vnd.jupyter.widget-view+json": {
       "model_id": "0265a073f1964e538de3e8db3443e61f"
      }
     },
     "metadata": {},
     "output_type": "display_data"
    },
    {
     "name": "stderr",
     "output_type": "stream",
     "text": [
      "Epoch 34: 1.8s to complete\n",
      "    error(train)=6.29e-01, acc(train)=8.06e-01, error(valid)=7.17e-01, acc(valid)=7.81e-01\n",
      "Widget Javascript not detected.  It may not be installed or enabled properly.\n"
     ]
    },
    {
     "data": {
      "application/vnd.jupyter.widget-view+json": {
       "model_id": "5fe93b05b9cd4c63bef6d7463310edd7"
      }
     },
     "metadata": {},
     "output_type": "display_data"
    },
    {
     "name": "stderr",
     "output_type": "stream",
     "text": [
      "Epoch 35: 1.8s to complete\n",
      "    error(train)=6.22e-01, acc(train)=8.07e-01, error(valid)=7.13e-01, acc(valid)=7.82e-01\n",
      "Widget Javascript not detected.  It may not be installed or enabled properly.\n"
     ]
    },
    {
     "data": {
      "application/vnd.jupyter.widget-view+json": {
       "model_id": "46c0f92a23d54821814a51e450052098"
      }
     },
     "metadata": {},
     "output_type": "display_data"
    },
    {
     "name": "stderr",
     "output_type": "stream",
     "text": [
      "Epoch 36: 1.7s to complete\n",
      "    error(train)=6.15e-01, acc(train)=8.09e-01, error(valid)=7.06e-01, acc(valid)=7.86e-01\n",
      "Widget Javascript not detected.  It may not be installed or enabled properly.\n"
     ]
    },
    {
     "data": {
      "application/vnd.jupyter.widget-view+json": {
       "model_id": "08443d202c084369b9c08dc26917daba"
      }
     },
     "metadata": {},
     "output_type": "display_data"
    },
    {
     "name": "stderr",
     "output_type": "stream",
     "text": [
      "Epoch 37: 1.8s to complete\n",
      "    error(train)=6.12e-01, acc(train)=8.09e-01, error(valid)=7.03e-01, acc(valid)=7.85e-01\n",
      "Widget Javascript not detected.  It may not be installed or enabled properly.\n"
     ]
    },
    {
     "data": {
      "application/vnd.jupyter.widget-view+json": {
       "model_id": "28d99af42b9b436e9c727304f26c3f76"
      }
     },
     "metadata": {},
     "output_type": "display_data"
    },
    {
     "name": "stderr",
     "output_type": "stream",
     "text": [
      "Epoch 38: 1.7s to complete\n",
      "    error(train)=6.09e-01, acc(train)=8.10e-01, error(valid)=7.04e-01, acc(valid)=7.84e-01\n",
      "Widget Javascript not detected.  It may not be installed or enabled properly.\n"
     ]
    },
    {
     "data": {
      "application/vnd.jupyter.widget-view+json": {
       "model_id": "976b42c780ff49b4b1901491add26d20"
      }
     },
     "metadata": {},
     "output_type": "display_data"
    },
    {
     "name": "stderr",
     "output_type": "stream",
     "text": [
      "Epoch 39: 1.8s to complete\n",
      "    error(train)=6.09e-01, acc(train)=8.10e-01, error(valid)=7.04e-01, acc(valid)=7.86e-01\n",
      "Widget Javascript not detected.  It may not be installed or enabled properly.\n"
     ]
    },
    {
     "data": {
      "application/vnd.jupyter.widget-view+json": {
       "model_id": "04d33beaa61445d49b47b6b8fc960835"
      }
     },
     "metadata": {},
     "output_type": "display_data"
    },
    {
     "name": "stderr",
     "output_type": "stream",
     "text": [
      "Epoch 40: 1.8s to complete\n",
      "    error(train)=6.05e-01, acc(train)=8.10e-01, error(valid)=7.01e-01, acc(valid)=7.83e-01\n",
      "Widget Javascript not detected.  It may not be installed or enabled properly.\n"
     ]
    },
    {
     "data": {
      "application/vnd.jupyter.widget-view+json": {
       "model_id": "4888aa4771b745118facb12bbf6c3490"
      }
     },
     "metadata": {},
     "output_type": "display_data"
    },
    {
     "name": "stderr",
     "output_type": "stream",
     "text": [
      "Epoch 41: 1.8s to complete\n",
      "    error(train)=6.04e-01, acc(train)=8.11e-01, error(valid)=7.04e-01, acc(valid)=7.83e-01\n",
      "Widget Javascript not detected.  It may not be installed or enabled properly.\n"
     ]
    },
    {
     "data": {
      "application/vnd.jupyter.widget-view+json": {
       "model_id": "294780b09ba248e4867fc17a5181e482"
      }
     },
     "metadata": {},
     "output_type": "display_data"
    },
    {
     "name": "stderr",
     "output_type": "stream",
     "text": [
      "Epoch 42: 1.8s to complete\n",
      "    error(train)=6.09e-01, acc(train)=8.10e-01, error(valid)=7.10e-01, acc(valid)=7.82e-01\n",
      "Widget Javascript not detected.  It may not be installed or enabled properly.\n"
     ]
    },
    {
     "data": {
      "application/vnd.jupyter.widget-view+json": {
       "model_id": "3c61b472b70a4d5ba107584109c0fa37"
      }
     },
     "metadata": {},
     "output_type": "display_data"
    },
    {
     "name": "stderr",
     "output_type": "stream",
     "text": [
      "Epoch 43: 1.8s to complete\n",
      "    error(train)=6.06e-01, acc(train)=8.11e-01, error(valid)=7.05e-01, acc(valid)=7.86e-01\n",
      "Widget Javascript not detected.  It may not be installed or enabled properly.\n"
     ]
    },
    {
     "data": {
      "application/vnd.jupyter.widget-view+json": {
       "model_id": "e2af84fff3774193aea125785d744c41"
      }
     },
     "metadata": {},
     "output_type": "display_data"
    },
    {
     "name": "stderr",
     "output_type": "stream",
     "text": [
      "Epoch 44: 1.8s to complete\n",
      "    error(train)=6.04e-01, acc(train)=8.11e-01, error(valid)=7.00e-01, acc(valid)=7.83e-01\n",
      "Widget Javascript not detected.  It may not be installed or enabled properly.\n"
     ]
    },
    {
     "data": {
      "application/vnd.jupyter.widget-view+json": {
       "model_id": "2e321ca523614440a8c9e3efb720aaf7"
      }
     },
     "metadata": {},
     "output_type": "display_data"
    },
    {
     "name": "stderr",
     "output_type": "stream",
     "text": [
      "Epoch 45: 1.8s to complete\n",
      "    error(train)=6.05e-01, acc(train)=8.10e-01, error(valid)=7.06e-01, acc(valid)=7.85e-01\n",
      "Widget Javascript not detected.  It may not be installed or enabled properly.\n"
     ]
    },
    {
     "data": {
      "application/vnd.jupyter.widget-view+json": {
       "model_id": "5d6b909200e64a099c90a02cd175a3a7"
      }
     },
     "metadata": {},
     "output_type": "display_data"
    },
    {
     "name": "stderr",
     "output_type": "stream",
     "text": [
      "Epoch 46: 1.8s to complete\n",
      "    error(train)=5.98e-01, acc(train)=8.13e-01, error(valid)=7.03e-01, acc(valid)=7.84e-01\n",
      "Widget Javascript not detected.  It may not be installed or enabled properly.\n"
     ]
    },
    {
     "data": {
      "application/vnd.jupyter.widget-view+json": {
       "model_id": "95b68243f8744f7ca65fcc677ceb77ad"
      }
     },
     "metadata": {},
     "output_type": "display_data"
    },
    {
     "name": "stderr",
     "output_type": "stream",
     "text": [
      "Epoch 47: 1.7s to complete\n",
      "    error(train)=5.92e-01, acc(train)=8.15e-01, error(valid)=6.93e-01, acc(valid)=7.88e-01\n",
      "Widget Javascript not detected.  It may not be installed or enabled properly.\n"
     ]
    },
    {
     "data": {
      "application/vnd.jupyter.widget-view+json": {
       "model_id": "7b993eb94fd649a389778c4f5b92827c"
      }
     },
     "metadata": {},
     "output_type": "display_data"
    },
    {
     "name": "stderr",
     "output_type": "stream",
     "text": [
      "Epoch 48: 1.8s to complete\n",
      "    error(train)=5.93e-01, acc(train)=8.13e-01, error(valid)=6.92e-01, acc(valid)=7.85e-01\n",
      "Widget Javascript not detected.  It may not be installed or enabled properly.\n"
     ]
    },
    {
     "data": {
      "application/vnd.jupyter.widget-view+json": {
       "model_id": "3b741261613b4fb9aa6f57ca25efc4a8"
      }
     },
     "metadata": {},
     "output_type": "display_data"
    },
    {
     "name": "stderr",
     "output_type": "stream",
     "text": [
      "Epoch 49: 1.7s to complete\n",
      "    error(train)=5.90e-01, acc(train)=8.15e-01, error(valid)=6.91e-01, acc(valid)=7.89e-01\n",
      "Widget Javascript not detected.  It may not be installed or enabled properly.\n"
     ]
    },
    {
     "data": {
      "application/vnd.jupyter.widget-view+json": {
       "model_id": "a01e8175c1764815befb1a3312ebdae7"
      }
     },
     "metadata": {},
     "output_type": "display_data"
    },
    {
     "name": "stderr",
     "output_type": "stream",
     "text": [
      "Epoch 50: 1.8s to complete\n",
      "    error(train)=5.85e-01, acc(train)=8.18e-01, error(valid)=6.86e-01, acc(valid)=7.90e-01\n",
      "Widget Javascript not detected.  It may not be installed or enabled properly.\n"
     ]
    },
    {
     "data": {
      "application/vnd.jupyter.widget-view+json": {
       "model_id": "c33c326bb81f49489919c0dbc02f1d5e"
      }
     },
     "metadata": {},
     "output_type": "display_data"
    },
    {
     "name": "stderr",
     "output_type": "stream",
     "text": [
      "Epoch 51: 1.8s to complete\n",
      "    error(train)=5.88e-01, acc(train)=8.15e-01, error(valid)=6.92e-01, acc(valid)=7.88e-01\n",
      "Widget Javascript not detected.  It may not be installed or enabled properly.\n"
     ]
    },
    {
     "data": {
      "application/vnd.jupyter.widget-view+json": {
       "model_id": "98cc01c4e4174f15ade10d3c028dee89"
      }
     },
     "metadata": {},
     "output_type": "display_data"
    },
    {
     "name": "stderr",
     "output_type": "stream",
     "text": [
      "Epoch 52: 1.8s to complete\n",
      "    error(train)=5.88e-01, acc(train)=8.16e-01, error(valid)=6.90e-01, acc(valid)=7.89e-01\n",
      "Widget Javascript not detected.  It may not be installed or enabled properly.\n"
     ]
    },
    {
     "data": {
      "application/vnd.jupyter.widget-view+json": {
       "model_id": "c622134e13584a02a5b18153cf514a8b"
      }
     },
     "metadata": {},
     "output_type": "display_data"
    },
    {
     "name": "stderr",
     "output_type": "stream",
     "text": [
      "Epoch 53: 1.7s to complete\n",
      "    error(train)=5.83e-01, acc(train)=8.17e-01, error(valid)=6.91e-01, acc(valid)=7.88e-01\n",
      "Widget Javascript not detected.  It may not be installed or enabled properly.\n"
     ]
    },
    {
     "data": {
      "application/vnd.jupyter.widget-view+json": {
       "model_id": "166e69538e4c47b79517a6da078f3ca9"
      }
     },
     "metadata": {},
     "output_type": "display_data"
    },
    {
     "name": "stderr",
     "output_type": "stream",
     "text": [
      "Epoch 54: 2.0s to complete\n",
      "    error(train)=5.90e-01, acc(train)=8.15e-01, error(valid)=6.96e-01, acc(valid)=7.85e-01\n",
      "Widget Javascript not detected.  It may not be installed or enabled properly.\n"
     ]
    },
    {
     "data": {
      "application/vnd.jupyter.widget-view+json": {
       "model_id": "2cdf4dcc3e094fd08174c2ecac5a28b3"
      }
     },
     "metadata": {},
     "output_type": "display_data"
    },
    {
     "name": "stderr",
     "output_type": "stream",
     "text": [
      "Epoch 55: 1.9s to complete\n",
      "    error(train)=5.83e-01, acc(train)=8.17e-01, error(valid)=6.90e-01, acc(valid)=7.90e-01\n",
      "Widget Javascript not detected.  It may not be installed or enabled properly.\n"
     ]
    },
    {
     "data": {
      "application/vnd.jupyter.widget-view+json": {
       "model_id": "f8e244edeae747d4ad46756e9a4c3c58"
      }
     },
     "metadata": {},
     "output_type": "display_data"
    },
    {
     "name": "stderr",
     "output_type": "stream",
     "text": [
      "Epoch 56: 1.8s to complete\n",
      "    error(train)=5.94e-01, acc(train)=8.10e-01, error(valid)=7.04e-01, acc(valid)=7.79e-01\n",
      "Widget Javascript not detected.  It may not be installed or enabled properly.\n"
     ]
    },
    {
     "data": {
      "application/vnd.jupyter.widget-view+json": {
       "model_id": "bb256b3144fc4ca8a4c215cce1fef20c"
      }
     },
     "metadata": {},
     "output_type": "display_data"
    },
    {
     "name": "stderr",
     "output_type": "stream",
     "text": [
      "Epoch 57: 1.7s to complete\n",
      "    error(train)=5.78e-01, acc(train)=8.19e-01, error(valid)=6.89e-01, acc(valid)=7.90e-01\n",
      "Widget Javascript not detected.  It may not be installed or enabled properly.\n"
     ]
    },
    {
     "data": {
      "application/vnd.jupyter.widget-view+json": {
       "model_id": "d0423f069491401e95ecabcec1570dfc"
      }
     },
     "metadata": {},
     "output_type": "display_data"
    },
    {
     "name": "stderr",
     "output_type": "stream",
     "text": [
      "Epoch 58: 1.8s to complete\n",
      "    error(train)=5.82e-01, acc(train)=8.17e-01, error(valid)=6.94e-01, acc(valid)=7.84e-01\n",
      "Widget Javascript not detected.  It may not be installed or enabled properly.\n"
     ]
    },
    {
     "data": {
      "application/vnd.jupyter.widget-view+json": {
       "model_id": "2eb1354bdaae443dab4f672150af8db4"
      }
     },
     "metadata": {},
     "output_type": "display_data"
    },
    {
     "name": "stderr",
     "output_type": "stream",
     "text": [
      "Epoch 59: 1.7s to complete\n",
      "    error(train)=5.89e-01, acc(train)=8.14e-01, error(valid)=7.00e-01, acc(valid)=7.86e-01\n",
      "Widget Javascript not detected.  It may not be installed or enabled properly.\n"
     ]
    },
    {
     "data": {
      "application/vnd.jupyter.widget-view+json": {
       "model_id": "2a63001bef974918bec520b0472a677b"
      }
     },
     "metadata": {},
     "output_type": "display_data"
    },
    {
     "name": "stderr",
     "output_type": "stream",
     "text": [
      "Epoch 60: 1.7s to complete\n",
      "    error(train)=5.76e-01, acc(train)=8.20e-01, error(valid)=6.87e-01, acc(valid)=7.91e-01\n",
      "Widget Javascript not detected.  It may not be installed or enabled properly.\n"
     ]
    },
    {
     "data": {
      "application/vnd.jupyter.widget-view+json": {
       "model_id": "bdb49553e3004383aafc46873992b58a"
      }
     },
     "metadata": {},
     "output_type": "display_data"
    },
    {
     "name": "stderr",
     "output_type": "stream",
     "text": [
      "Epoch 61: 1.7s to complete\n",
      "    error(train)=5.86e-01, acc(train)=8.15e-01, error(valid)=7.00e-01, acc(valid)=7.87e-01\n",
      "Widget Javascript not detected.  It may not be installed or enabled properly.\n"
     ]
    },
    {
     "data": {
      "application/vnd.jupyter.widget-view+json": {
       "model_id": "e851211551324f5dab406e6058a8644a"
      }
     },
     "metadata": {},
     "output_type": "display_data"
    },
    {
     "name": "stderr",
     "output_type": "stream",
     "text": [
      "Epoch 62: 1.8s to complete\n",
      "    error(train)=5.79e-01, acc(train)=8.18e-01, error(valid)=6.90e-01, acc(valid)=7.88e-01\n",
      "Widget Javascript not detected.  It may not be installed or enabled properly.\n"
     ]
    },
    {
     "data": {
      "application/vnd.jupyter.widget-view+json": {
       "model_id": "cc33b32d36cf4c87b2508493ad06d815"
      }
     },
     "metadata": {},
     "output_type": "display_data"
    },
    {
     "name": "stderr",
     "output_type": "stream",
     "text": [
      "Epoch 63: 1.8s to complete\n",
      "    error(train)=5.76e-01, acc(train)=8.19e-01, error(valid)=6.87e-01, acc(valid)=7.89e-01\n",
      "Widget Javascript not detected.  It may not be installed or enabled properly.\n"
     ]
    },
    {
     "data": {
      "application/vnd.jupyter.widget-view+json": {
       "model_id": "48f25562ec1c4b6cbabc51361c6fa028"
      }
     },
     "metadata": {},
     "output_type": "display_data"
    },
    {
     "name": "stderr",
     "output_type": "stream",
     "text": [
      "Epoch 64: 1.8s to complete\n",
      "    error(train)=5.73e-01, acc(train)=8.19e-01, error(valid)=6.88e-01, acc(valid)=7.89e-01\n",
      "Widget Javascript not detected.  It may not be installed or enabled properly.\n"
     ]
    },
    {
     "data": {
      "application/vnd.jupyter.widget-view+json": {
       "model_id": "8ff5bfd7c43344f590525c6f4f3f42a4"
      }
     },
     "metadata": {},
     "output_type": "display_data"
    },
    {
     "name": "stderr",
     "output_type": "stream",
     "text": [
      "Epoch 65: 1.7s to complete\n",
      "    error(train)=5.78e-01, acc(train)=8.18e-01, error(valid)=6.95e-01, acc(valid)=7.90e-01\n",
      "Widget Javascript not detected.  It may not be installed or enabled properly.\n"
     ]
    },
    {
     "data": {
      "application/vnd.jupyter.widget-view+json": {
       "model_id": "1aa1491197f64e2695503330bc41c7ca"
      }
     },
     "metadata": {},
     "output_type": "display_data"
    },
    {
     "name": "stderr",
     "output_type": "stream",
     "text": [
      "Epoch 66: 1.8s to complete\n",
      "    error(train)=5.71e-01, acc(train)=8.21e-01, error(valid)=6.89e-01, acc(valid)=7.88e-01\n",
      "Widget Javascript not detected.  It may not be installed or enabled properly.\n"
     ]
    },
    {
     "data": {
      "application/vnd.jupyter.widget-view+json": {
       "model_id": "dea0ee91848a415197d621692fdff368"
      }
     },
     "metadata": {},
     "output_type": "display_data"
    },
    {
     "name": "stderr",
     "output_type": "stream",
     "text": [
      "Epoch 67: 1.7s to complete\n",
      "    error(train)=5.68e-01, acc(train)=8.21e-01, error(valid)=6.86e-01, acc(valid)=7.90e-01\n",
      "Widget Javascript not detected.  It may not be installed or enabled properly.\n"
     ]
    },
    {
     "data": {
      "application/vnd.jupyter.widget-view+json": {
       "model_id": "8fcf878e029c4fafb7b358a80636548b"
      }
     },
     "metadata": {},
     "output_type": "display_data"
    },
    {
     "name": "stderr",
     "output_type": "stream",
     "text": [
      "Epoch 68: 1.8s to complete\n",
      "    error(train)=5.69e-01, acc(train)=8.20e-01, error(valid)=6.85e-01, acc(valid)=7.90e-01\n",
      "Widget Javascript not detected.  It may not be installed or enabled properly.\n"
     ]
    },
    {
     "data": {
      "application/vnd.jupyter.widget-view+json": {
       "model_id": "a7e2bd3bb1e24b5089b3de5f77ecdf48"
      }
     },
     "metadata": {},
     "output_type": "display_data"
    },
    {
     "name": "stderr",
     "output_type": "stream",
     "text": [
      "Epoch 69: 1.8s to complete\n",
      "    error(train)=5.77e-01, acc(train)=8.16e-01, error(valid)=7.00e-01, acc(valid)=7.85e-01\n",
      "Widget Javascript not detected.  It may not be installed or enabled properly.\n"
     ]
    },
    {
     "data": {
      "application/vnd.jupyter.widget-view+json": {
       "model_id": "89198cb22e5a442c89e2aa495bb96d20"
      }
     },
     "metadata": {},
     "output_type": "display_data"
    },
    {
     "name": "stderr",
     "output_type": "stream",
     "text": [
      "Epoch 70: 1.8s to complete\n",
      "    error(train)=5.69e-01, acc(train)=8.21e-01, error(valid)=6.91e-01, acc(valid)=7.88e-01\n",
      "Widget Javascript not detected.  It may not be installed or enabled properly.\n"
     ]
    },
    {
     "data": {
      "application/vnd.jupyter.widget-view+json": {
       "model_id": "5c674b94ce2e417fb6db22139ab22b79"
      }
     },
     "metadata": {},
     "output_type": "display_data"
    },
    {
     "name": "stderr",
     "output_type": "stream",
     "text": [
      "Epoch 71: 1.8s to complete\n",
      "    error(train)=5.64e-01, acc(train)=8.20e-01, error(valid)=6.87e-01, acc(valid)=7.87e-01\n",
      "Widget Javascript not detected.  It may not be installed or enabled properly.\n"
     ]
    },
    {
     "data": {
      "application/vnd.jupyter.widget-view+json": {
       "model_id": "3831624dd62045c787ea3ccc37e9865e"
      }
     },
     "metadata": {},
     "output_type": "display_data"
    },
    {
     "name": "stderr",
     "output_type": "stream",
     "text": [
      "Epoch 72: 1.8s to complete\n",
      "    error(train)=5.66e-01, acc(train)=8.22e-01, error(valid)=6.87e-01, acc(valid)=7.88e-01\n",
      "Widget Javascript not detected.  It may not be installed or enabled properly.\n"
     ]
    },
    {
     "data": {
      "application/vnd.jupyter.widget-view+json": {
       "model_id": "2b90f51e9d5d43209935fb45b0963be0"
      }
     },
     "metadata": {},
     "output_type": "display_data"
    },
    {
     "name": "stderr",
     "output_type": "stream",
     "text": [
      "Epoch 73: 1.8s to complete\n",
      "    error(train)=5.71e-01, acc(train)=8.19e-01, error(valid)=6.91e-01, acc(valid)=7.89e-01\n",
      "Widget Javascript not detected.  It may not be installed or enabled properly.\n"
     ]
    },
    {
     "data": {
      "application/vnd.jupyter.widget-view+json": {
       "model_id": "efcbb5337eec432f82b225ea84d38f6d"
      }
     },
     "metadata": {},
     "output_type": "display_data"
    },
    {
     "name": "stderr",
     "output_type": "stream",
     "text": [
      "Epoch 74: 1.8s to complete\n",
      "    error(train)=5.63e-01, acc(train)=8.22e-01, error(valid)=6.87e-01, acc(valid)=7.89e-01\n",
      "Widget Javascript not detected.  It may not be installed or enabled properly.\n"
     ]
    },
    {
     "data": {
      "application/vnd.jupyter.widget-view+json": {
       "model_id": "e987aa8981a3411e98f5c7d6a297b165"
      }
     },
     "metadata": {},
     "output_type": "display_data"
    },
    {
     "name": "stderr",
     "output_type": "stream",
     "text": [
      "Epoch 75: 1.8s to complete\n",
      "    error(train)=5.59e-01, acc(train)=8.23e-01, error(valid)=6.82e-01, acc(valid)=7.91e-01\n",
      "Widget Javascript not detected.  It may not be installed or enabled properly.\n"
     ]
    },
    {
     "data": {
      "application/vnd.jupyter.widget-view+json": {
       "model_id": "ad981e5deaf44ad48c6dd3e0df33dd10"
      }
     },
     "metadata": {},
     "output_type": "display_data"
    },
    {
     "name": "stderr",
     "output_type": "stream",
     "text": [
      "Epoch 76: 1.8s to complete\n",
      "    error(train)=5.58e-01, acc(train)=8.24e-01, error(valid)=6.79e-01, acc(valid)=7.92e-01\n",
      "Widget Javascript not detected.  It may not be installed or enabled properly.\n"
     ]
    },
    {
     "data": {
      "application/vnd.jupyter.widget-view+json": {
       "model_id": "d923b74d987245a682666ba661ba21a3"
      }
     },
     "metadata": {},
     "output_type": "display_data"
    },
    {
     "name": "stderr",
     "output_type": "stream",
     "text": [
      "Epoch 77: 1.8s to complete\n",
      "    error(train)=5.68e-01, acc(train)=8.20e-01, error(valid)=6.96e-01, acc(valid)=7.85e-01\n",
      "Widget Javascript not detected.  It may not be installed or enabled properly.\n"
     ]
    },
    {
     "data": {
      "application/vnd.jupyter.widget-view+json": {
       "model_id": "072110e1e2b547d4b3ef1333abb79797"
      }
     },
     "metadata": {},
     "output_type": "display_data"
    },
    {
     "name": "stderr",
     "output_type": "stream",
     "text": [
      "Epoch 78: 1.8s to complete\n",
      "    error(train)=5.64e-01, acc(train)=8.21e-01, error(valid)=6.87e-01, acc(valid)=7.88e-01\n",
      "Widget Javascript not detected.  It may not be installed or enabled properly.\n"
     ]
    },
    {
     "data": {
      "application/vnd.jupyter.widget-view+json": {
       "model_id": "819c5af0170d4e91b8962bceef8aa67e"
      }
     },
     "metadata": {},
     "output_type": "display_data"
    },
    {
     "name": "stderr",
     "output_type": "stream",
     "text": [
      "Epoch 79: 1.8s to complete\n",
      "    error(train)=5.62e-01, acc(train)=8.21e-01, error(valid)=6.91e-01, acc(valid)=7.89e-01\n",
      "Widget Javascript not detected.  It may not be installed or enabled properly.\n"
     ]
    },
    {
     "data": {
      "application/vnd.jupyter.widget-view+json": {
       "model_id": "8e19a16e518f417c81ee033bc83e028f"
      }
     },
     "metadata": {},
     "output_type": "display_data"
    },
    {
     "name": "stderr",
     "output_type": "stream",
     "text": [
      "Epoch 80: 1.8s to complete\n",
      "    error(train)=5.63e-01, acc(train)=8.21e-01, error(valid)=6.90e-01, acc(valid)=7.90e-01\n",
      "Widget Javascript not detected.  It may not be installed or enabled properly.\n"
     ]
    },
    {
     "data": {
      "application/vnd.jupyter.widget-view+json": {
       "model_id": "48f67fd630964f2882eeadb8a894f142"
      }
     },
     "metadata": {},
     "output_type": "display_data"
    },
    {
     "name": "stderr",
     "output_type": "stream",
     "text": [
      "Epoch 81: 1.8s to complete\n",
      "    error(train)=5.62e-01, acc(train)=8.22e-01, error(valid)=6.88e-01, acc(valid)=7.92e-01\n",
      "Widget Javascript not detected.  It may not be installed or enabled properly.\n"
     ]
    },
    {
     "data": {
      "application/vnd.jupyter.widget-view+json": {
       "model_id": "14d3384fd860487b910452064ca0513d"
      }
     },
     "metadata": {},
     "output_type": "display_data"
    },
    {
     "name": "stderr",
     "output_type": "stream",
     "text": [
      "Epoch 82: 1.8s to complete\n",
      "    error(train)=5.55e-01, acc(train)=8.24e-01, error(valid)=6.80e-01, acc(valid)=7.90e-01\n",
      "Widget Javascript not detected.  It may not be installed or enabled properly.\n"
     ]
    },
    {
     "data": {
      "application/vnd.jupyter.widget-view+json": {
       "model_id": "4cc905ddd00a465bba18d1b6f13fe020"
      }
     },
     "metadata": {},
     "output_type": "display_data"
    },
    {
     "name": "stderr",
     "output_type": "stream",
     "text": [
      "Epoch 83: 1.8s to complete\n",
      "    error(train)=5.59e-01, acc(train)=8.22e-01, error(valid)=6.83e-01, acc(valid)=7.90e-01\n",
      "Widget Javascript not detected.  It may not be installed or enabled properly.\n"
     ]
    },
    {
     "data": {
      "application/vnd.jupyter.widget-view+json": {
       "model_id": "0c0ec179978046b08958a01fc4da8323"
      }
     },
     "metadata": {},
     "output_type": "display_data"
    },
    {
     "name": "stderr",
     "output_type": "stream",
     "text": [
      "Epoch 84: 1.8s to complete\n",
      "    error(train)=5.63e-01, acc(train)=8.21e-01, error(valid)=6.94e-01, acc(valid)=7.86e-01\n",
      "Widget Javascript not detected.  It may not be installed or enabled properly.\n"
     ]
    },
    {
     "data": {
      "application/vnd.jupyter.widget-view+json": {
       "model_id": "f2b4c0b8ad1a47999bec4d67068ccd1a"
      }
     },
     "metadata": {},
     "output_type": "display_data"
    },
    {
     "name": "stderr",
     "output_type": "stream",
     "text": [
      "Epoch 85: 1.8s to complete\n",
      "    error(train)=5.56e-01, acc(train)=8.23e-01, error(valid)=6.83e-01, acc(valid)=7.89e-01\n",
      "Widget Javascript not detected.  It may not be installed or enabled properly.\n"
     ]
    },
    {
     "data": {
      "application/vnd.jupyter.widget-view+json": {
       "model_id": "d05bd3f60f164c92a1cb1340ee19eafa"
      }
     },
     "metadata": {},
     "output_type": "display_data"
    },
    {
     "name": "stderr",
     "output_type": "stream",
     "text": [
      "Epoch 86: 1.9s to complete\n",
      "    error(train)=5.59e-01, acc(train)=8.20e-01, error(valid)=6.89e-01, acc(valid)=7.86e-01\n",
      "Widget Javascript not detected.  It may not be installed or enabled properly.\n"
     ]
    },
    {
     "data": {
      "application/vnd.jupyter.widget-view+json": {
       "model_id": "e9b77b99550a4427856c957427fb255a"
      }
     },
     "metadata": {},
     "output_type": "display_data"
    },
    {
     "name": "stderr",
     "output_type": "stream",
     "text": [
      "Epoch 87: 2.0s to complete\n",
      "    error(train)=5.56e-01, acc(train)=8.23e-01, error(valid)=6.91e-01, acc(valid)=7.88e-01\n",
      "Widget Javascript not detected.  It may not be installed or enabled properly.\n"
     ]
    },
    {
     "data": {
      "application/vnd.jupyter.widget-view+json": {
       "model_id": "4c2ade9656324ee49c42e292313b322b"
      }
     },
     "metadata": {},
     "output_type": "display_data"
    },
    {
     "name": "stderr",
     "output_type": "stream",
     "text": [
      "Epoch 88: 1.9s to complete\n",
      "    error(train)=5.62e-01, acc(train)=8.21e-01, error(valid)=6.95e-01, acc(valid)=7.86e-01\n",
      "Widget Javascript not detected.  It may not be installed or enabled properly.\n"
     ]
    },
    {
     "data": {
      "application/vnd.jupyter.widget-view+json": {
       "model_id": "9897abde28764d2397a85c8561372c56"
      }
     },
     "metadata": {},
     "output_type": "display_data"
    },
    {
     "name": "stderr",
     "output_type": "stream",
     "text": [
      "Epoch 89: 1.8s to complete\n",
      "    error(train)=5.51e-01, acc(train)=8.25e-01, error(valid)=6.84e-01, acc(valid)=7.92e-01\n",
      "Widget Javascript not detected.  It may not be installed or enabled properly.\n"
     ]
    },
    {
     "data": {
      "application/vnd.jupyter.widget-view+json": {
       "model_id": "74ef42c3667f489aafe3e26fe86887ca"
      }
     },
     "metadata": {},
     "output_type": "display_data"
    },
    {
     "name": "stderr",
     "output_type": "stream",
     "text": [
      "Epoch 90: 1.8s to complete\n",
      "    error(train)=5.49e-01, acc(train)=8.26e-01, error(valid)=6.81e-01, acc(valid)=7.93e-01\n",
      "Widget Javascript not detected.  It may not be installed or enabled properly.\n"
     ]
    },
    {
     "data": {
      "application/vnd.jupyter.widget-view+json": {
       "model_id": "dc4d6e09994d4113b2c4e5d7dde13a8c"
      }
     },
     "metadata": {},
     "output_type": "display_data"
    },
    {
     "name": "stderr",
     "output_type": "stream",
     "text": [
      "Epoch 91: 1.8s to complete\n",
      "    error(train)=5.55e-01, acc(train)=8.23e-01, error(valid)=6.90e-01, acc(valid)=7.88e-01\n",
      "Widget Javascript not detected.  It may not be installed or enabled properly.\n"
     ]
    },
    {
     "data": {
      "application/vnd.jupyter.widget-view+json": {
       "model_id": "b017b872bbdd438097be394053a92082"
      }
     },
     "metadata": {},
     "output_type": "display_data"
    },
    {
     "name": "stderr",
     "output_type": "stream",
     "text": [
      "Epoch 92: 1.8s to complete\n",
      "    error(train)=5.52e-01, acc(train)=8.23e-01, error(valid)=6.87e-01, acc(valid)=7.89e-01\n",
      "Widget Javascript not detected.  It may not be installed or enabled properly.\n"
     ]
    },
    {
     "data": {
      "application/vnd.jupyter.widget-view+json": {
       "model_id": "b1de536f2328410d96b7951fe4879f86"
      }
     },
     "metadata": {},
     "output_type": "display_data"
    },
    {
     "name": "stderr",
     "output_type": "stream",
     "text": [
      "Epoch 93: 1.8s to complete\n",
      "    error(train)=5.47e-01, acc(train)=8.26e-01, error(valid)=6.85e-01, acc(valid)=7.91e-01\n",
      "Widget Javascript not detected.  It may not be installed or enabled properly.\n"
     ]
    },
    {
     "data": {
      "application/vnd.jupyter.widget-view+json": {
       "model_id": "72bb7ddf384b4cfea51055eab1758a10"
      }
     },
     "metadata": {},
     "output_type": "display_data"
    },
    {
     "name": "stderr",
     "output_type": "stream",
     "text": [
      "Epoch 94: 1.7s to complete\n",
      "    error(train)=5.58e-01, acc(train)=8.20e-01, error(valid)=7.01e-01, acc(valid)=7.82e-01\n",
      "Widget Javascript not detected.  It may not be installed or enabled properly.\n"
     ]
    },
    {
     "data": {
      "application/vnd.jupyter.widget-view+json": {
       "model_id": "1a1403b0019c432087891cfa436c08ec"
      }
     },
     "metadata": {},
     "output_type": "display_data"
    },
    {
     "name": "stderr",
     "output_type": "stream",
     "text": [
      "Epoch 95: 1.8s to complete\n",
      "    error(train)=5.52e-01, acc(train)=8.23e-01, error(valid)=6.92e-01, acc(valid)=7.84e-01\n",
      "Widget Javascript not detected.  It may not be installed or enabled properly.\n"
     ]
    },
    {
     "data": {
      "application/vnd.jupyter.widget-view+json": {
       "model_id": "0933ae3411b04e76a91114548d689b2f"
      }
     },
     "metadata": {},
     "output_type": "display_data"
    },
    {
     "name": "stderr",
     "output_type": "stream",
     "text": [
      "Epoch 96: 1.8s to complete\n",
      "    error(train)=5.57e-01, acc(train)=8.22e-01, error(valid)=6.95e-01, acc(valid)=7.88e-01\n",
      "Widget Javascript not detected.  It may not be installed or enabled properly.\n"
     ]
    },
    {
     "data": {
      "application/vnd.jupyter.widget-view+json": {
       "model_id": "be1486839a67499983c6abf5423d46ce"
      }
     },
     "metadata": {},
     "output_type": "display_data"
    },
    {
     "name": "stderr",
     "output_type": "stream",
     "text": [
      "Epoch 97: 1.9s to complete\n",
      "    error(train)=5.45e-01, acc(train)=8.26e-01, error(valid)=6.80e-01, acc(valid)=7.93e-01\n",
      "Widget Javascript not detected.  It may not be installed or enabled properly.\n"
     ]
    },
    {
     "data": {
      "application/vnd.jupyter.widget-view+json": {
       "model_id": "86e4200e18d14a57a93b9b4b127f3c1b"
      }
     },
     "metadata": {},
     "output_type": "display_data"
    },
    {
     "name": "stderr",
     "output_type": "stream",
     "text": [
      "Epoch 98: 1.9s to complete\n",
      "    error(train)=5.58e-01, acc(train)=8.20e-01, error(valid)=7.00e-01, acc(valid)=7.82e-01\n",
      "Widget Javascript not detected.  It may not be installed or enabled properly.\n"
     ]
    },
    {
     "data": {
      "application/vnd.jupyter.widget-view+json": {
       "model_id": "3665c64ee52543bc97a882fb8c119b7a"
      }
     },
     "metadata": {},
     "output_type": "display_data"
    },
    {
     "name": "stderr",
     "output_type": "stream",
     "text": [
      "Epoch 99: 2.0s to complete\n",
      "    error(train)=5.56e-01, acc(train)=8.22e-01, error(valid)=6.96e-01, acc(valid)=7.83e-01\n",
      "Widget Javascript not detected.  It may not be installed or enabled properly.\n"
     ]
    },
    {
     "data": {
      "application/vnd.jupyter.widget-view+json": {
       "model_id": "080ee1530ba14ecd920834c27fc45d9d"
      }
     },
     "metadata": {},
     "output_type": "display_data"
    },
    {
     "name": "stderr",
     "output_type": "stream",
     "text": [
      "Epoch 100: 1.9s to complete\n",
      "    error(train)=5.43e-01, acc(train)=8.26e-01, error(valid)=6.85e-01, acc(valid)=7.91e-01\n"
     ]
    },
    {
     "name": "stdout",
     "output_type": "stream",
     "text": [
      "\n"
     ]
    },
    {
     "name": "stderr",
     "output_type": "stream",
     "text": [
      "Widget Javascript not detected.  It may not be installed or enabled properly.\n"
     ]
    },
    {
     "data": {
      "application/vnd.jupyter.widget-view+json": {
       "model_id": "28c6eb3c40744b3ead3173b539959e75"
      }
     },
     "metadata": {},
     "output_type": "display_data"
    },
    {
     "name": "stderr",
     "output_type": "stream",
     "text": [
      "Widget Javascript not detected.  It may not be installed or enabled properly.\n"
     ]
    },
    {
     "data": {
      "application/vnd.jupyter.widget-view+json": {
       "model_id": "0a2e3c5859f449619424b16b838855ef"
      }
     },
     "metadata": {},
     "output_type": "display_data"
    },
    {
     "name": "stderr",
     "output_type": "stream",
     "text": [
      "Epoch 1: 1.4s to complete\n",
      "    error(train)=1.08e+00, acc(train)=6.94e-01, error(valid)=1.09e+00, acc(valid)=6.90e-01\n",
      "Widget Javascript not detected.  It may not be installed or enabled properly.\n"
     ]
    },
    {
     "data": {
      "application/vnd.jupyter.widget-view+json": {
       "model_id": "35d18fd356294973ac4b015f212e2d9e"
      }
     },
     "metadata": {},
     "output_type": "display_data"
    },
    {
     "name": "stderr",
     "output_type": "stream",
     "text": [
      "Epoch 2: 1.4s to complete\n",
      "    error(train)=8.93e-01, acc(train)=7.43e-01, error(valid)=9.15e-01, acc(valid)=7.39e-01\n",
      "Widget Javascript not detected.  It may not be installed or enabled properly.\n"
     ]
    },
    {
     "data": {
      "application/vnd.jupyter.widget-view+json": {
       "model_id": "f1c1102edbf74e90b610803dcbc4ae4b"
      }
     },
     "metadata": {},
     "output_type": "display_data"
    },
    {
     "name": "stderr",
     "output_type": "stream",
     "text": [
      "Epoch 3: 1.5s to complete\n",
      "    error(train)=8.02e-01, acc(train)=7.63e-01, error(valid)=8.37e-01, acc(valid)=7.53e-01\n",
      "Widget Javascript not detected.  It may not be installed or enabled properly.\n"
     ]
    },
    {
     "data": {
      "application/vnd.jupyter.widget-view+json": {
       "model_id": "c095472c1b3a44eebf5169414ba8677f"
      }
     },
     "metadata": {},
     "output_type": "display_data"
    },
    {
     "name": "stderr",
     "output_type": "stream",
     "text": [
      "Epoch 4: 1.4s to complete\n",
      "    error(train)=7.41e-01, acc(train)=7.80e-01, error(valid)=7.89e-01, acc(valid)=7.67e-01\n",
      "Widget Javascript not detected.  It may not be installed or enabled properly.\n"
     ]
    },
    {
     "data": {
      "application/vnd.jupyter.widget-view+json": {
       "model_id": "737c48af94054e90b834a1bca56262df"
      }
     },
     "metadata": {},
     "output_type": "display_data"
    },
    {
     "name": "stderr",
     "output_type": "stream",
     "text": [
      "Epoch 5: 1.5s to complete\n",
      "    error(train)=6.89e-01, acc(train)=7.93e-01, error(valid)=7.42e-01, acc(valid)=7.79e-01\n",
      "Widget Javascript not detected.  It may not be installed or enabled properly.\n"
     ]
    },
    {
     "data": {
      "application/vnd.jupyter.widget-view+json": {
       "model_id": "6be97e995fae44e19a15dd7694a9c732"
      }
     },
     "metadata": {},
     "output_type": "display_data"
    },
    {
     "name": "stderr",
     "output_type": "stream",
     "text": [
      "Epoch 6: 1.4s to complete\n",
      "    error(train)=6.70e-01, acc(train)=7.97e-01, error(valid)=7.26e-01, acc(valid)=7.82e-01\n",
      "Widget Javascript not detected.  It may not be installed or enabled properly.\n"
     ]
    },
    {
     "data": {
      "application/vnd.jupyter.widget-view+json": {
       "model_id": "cc15a2376eb8463ca3c4988fb2e88902"
      }
     },
     "metadata": {},
     "output_type": "display_data"
    },
    {
     "name": "stderr",
     "output_type": "stream",
     "text": [
      "Epoch 7: 1.5s to complete\n",
      "    error(train)=6.28e-01, acc(train)=8.07e-01, error(valid)=6.88e-01, acc(valid)=7.91e-01\n",
      "Widget Javascript not detected.  It may not be installed or enabled properly.\n"
     ]
    },
    {
     "data": {
      "application/vnd.jupyter.widget-view+json": {
       "model_id": "7eb45ec33ca742cdb57b346d2b1a1387"
      }
     },
     "metadata": {},
     "output_type": "display_data"
    },
    {
     "name": "stderr",
     "output_type": "stream",
     "text": [
      "Epoch 8: 1.5s to complete\n",
      "    error(train)=6.04e-01, acc(train)=8.15e-01, error(valid)=6.72e-01, acc(valid)=7.95e-01\n",
      "Widget Javascript not detected.  It may not be installed or enabled properly.\n"
     ]
    },
    {
     "data": {
      "application/vnd.jupyter.widget-view+json": {
       "model_id": "bd5d84c8ef234f6bad8512d69536a8b0"
      }
     },
     "metadata": {},
     "output_type": "display_data"
    },
    {
     "name": "stderr",
     "output_type": "stream",
     "text": [
      "Epoch 9: 1.5s to complete\n",
      "    error(train)=5.88e-01, acc(train)=8.16e-01, error(valid)=6.65e-01, acc(valid)=7.95e-01\n",
      "Widget Javascript not detected.  It may not be installed or enabled properly.\n"
     ]
    },
    {
     "data": {
      "application/vnd.jupyter.widget-view+json": {
       "model_id": "dd30984b2d6d49698120678897d8bad1"
      }
     },
     "metadata": {},
     "output_type": "display_data"
    },
    {
     "name": "stderr",
     "output_type": "stream",
     "text": [
      "Epoch 10: 1.5s to complete\n",
      "    error(train)=5.79e-01, acc(train)=8.18e-01, error(valid)=6.61e-01, acc(valid)=7.98e-01\n",
      "Widget Javascript not detected.  It may not be installed or enabled properly.\n"
     ]
    },
    {
     "data": {
      "application/vnd.jupyter.widget-view+json": {
       "model_id": "36d06c938ae347319b36e0b23ad8bd71"
      }
     },
     "metadata": {},
     "output_type": "display_data"
    },
    {
     "name": "stderr",
     "output_type": "stream",
     "text": [
      "Epoch 11: 1.5s to complete\n",
      "    error(train)=5.60e-01, acc(train)=8.23e-01, error(valid)=6.42e-01, acc(valid)=7.98e-01\n",
      "Widget Javascript not detected.  It may not be installed or enabled properly.\n"
     ]
    },
    {
     "data": {
      "application/vnd.jupyter.widget-view+json": {
       "model_id": "9f8f69c133754aa0ac5ff81d08896f8d"
      }
     },
     "metadata": {},
     "output_type": "display_data"
    },
    {
     "name": "stderr",
     "output_type": "stream",
     "text": [
      "Epoch 12: 1.6s to complete\n",
      "    error(train)=5.43e-01, acc(train)=8.30e-01, error(valid)=6.32e-01, acc(valid)=8.06e-01\n",
      "Widget Javascript not detected.  It may not be installed or enabled properly.\n"
     ]
    },
    {
     "data": {
      "application/vnd.jupyter.widget-view+json": {
       "model_id": "10634777cb334220b097bbf368ae885b"
      }
     },
     "metadata": {},
     "output_type": "display_data"
    },
    {
     "name": "stderr",
     "output_type": "stream",
     "text": [
      "Epoch 13: 1.5s to complete\n",
      "    error(train)=5.40e-01, acc(train)=8.30e-01, error(valid)=6.35e-01, acc(valid)=8.03e-01\n",
      "Widget Javascript not detected.  It may not be installed or enabled properly.\n"
     ]
    },
    {
     "data": {
      "application/vnd.jupyter.widget-view+json": {
       "model_id": "33c76a4be45740abbb624875fc0054ad"
      }
     },
     "metadata": {},
     "output_type": "display_data"
    },
    {
     "name": "stderr",
     "output_type": "stream",
     "text": [
      "Epoch 14: 1.9s to complete\n",
      "    error(train)=5.33e-01, acc(train)=8.28e-01, error(valid)=6.32e-01, acc(valid)=8.01e-01\n",
      "Widget Javascript not detected.  It may not be installed or enabled properly.\n"
     ]
    },
    {
     "data": {
      "application/vnd.jupyter.widget-view+json": {
       "model_id": "c37692599e344d359544d6ca8a19b43e"
      }
     },
     "metadata": {},
     "output_type": "display_data"
    },
    {
     "name": "stderr",
     "output_type": "stream",
     "text": [
      "Epoch 15: 2.4s to complete\n",
      "    error(train)=5.18e-01, acc(train)=8.35e-01, error(valid)=6.22e-01, acc(valid)=8.07e-01\n",
      "Widget Javascript not detected.  It may not be installed or enabled properly.\n"
     ]
    },
    {
     "data": {
      "application/vnd.jupyter.widget-view+json": {
       "model_id": "85d21471baa54a1bbb55fe7fa0d25ee6"
      }
     },
     "metadata": {},
     "output_type": "display_data"
    },
    {
     "name": "stderr",
     "output_type": "stream",
     "text": [
      "Epoch 16: 1.6s to complete\n",
      "    error(train)=5.15e-01, acc(train)=8.35e-01, error(valid)=6.23e-01, acc(valid)=8.06e-01\n",
      "Widget Javascript not detected.  It may not be installed or enabled properly.\n"
     ]
    },
    {
     "data": {
      "application/vnd.jupyter.widget-view+json": {
       "model_id": "6a7abf3a261940578b22dd1bee3c56b8"
      }
     },
     "metadata": {},
     "output_type": "display_data"
    },
    {
     "name": "stderr",
     "output_type": "stream",
     "text": [
      "Epoch 17: 1.5s to complete\n",
      "    error(train)=5.03e-01, acc(train)=8.38e-01, error(valid)=6.12e-01, acc(valid)=8.06e-01\n",
      "Widget Javascript not detected.  It may not be installed or enabled properly.\n"
     ]
    },
    {
     "data": {
      "application/vnd.jupyter.widget-view+json": {
       "model_id": "8fc703f4ace34087902cbda1cc966eb2"
      }
     },
     "metadata": {},
     "output_type": "display_data"
    },
    {
     "name": "stderr",
     "output_type": "stream",
     "text": [
      "Epoch 18: 1.6s to complete\n",
      "    error(train)=4.98e-01, acc(train)=8.38e-01, error(valid)=6.10e-01, acc(valid)=8.07e-01\n",
      "Widget Javascript not detected.  It may not be installed or enabled properly.\n"
     ]
    },
    {
     "data": {
      "application/vnd.jupyter.widget-view+json": {
       "model_id": "0b88470237f441d4af14eeaf68911a0b"
      }
     },
     "metadata": {},
     "output_type": "display_data"
    },
    {
     "name": "stderr",
     "output_type": "stream",
     "text": [
      "Epoch 19: 1.6s to complete\n",
      "    error(train)=4.88e-01, acc(train)=8.42e-01, error(valid)=6.07e-01, acc(valid)=8.08e-01\n",
      "Widget Javascript not detected.  It may not be installed or enabled properly.\n"
     ]
    },
    {
     "data": {
      "application/vnd.jupyter.widget-view+json": {
       "model_id": "1b50cdc7f22645f582a6582c1fcec655"
      }
     },
     "metadata": {},
     "output_type": "display_data"
    },
    {
     "name": "stderr",
     "output_type": "stream",
     "text": [
      "Epoch 20: 1.7s to complete\n",
      "    error(train)=4.87e-01, acc(train)=8.42e-01, error(valid)=6.04e-01, acc(valid)=8.10e-01\n",
      "Widget Javascript not detected.  It may not be installed or enabled properly.\n"
     ]
    },
    {
     "data": {
      "application/vnd.jupyter.widget-view+json": {
       "model_id": "ae3717b1ea884903aa090536656b18be"
      }
     },
     "metadata": {},
     "output_type": "display_data"
    },
    {
     "name": "stderr",
     "output_type": "stream",
     "text": [
      "Epoch 21: 1.6s to complete\n",
      "    error(train)=4.71e-01, acc(train)=8.47e-01, error(valid)=5.94e-01, acc(valid)=8.13e-01\n",
      "Widget Javascript not detected.  It may not be installed or enabled properly.\n"
     ]
    },
    {
     "data": {
      "application/vnd.jupyter.widget-view+json": {
       "model_id": "793897416ec04d94a61b76f6ba193e89"
      }
     },
     "metadata": {},
     "output_type": "display_data"
    },
    {
     "name": "stderr",
     "output_type": "stream",
     "text": [
      "Epoch 22: 1.7s to complete\n",
      "    error(train)=4.75e-01, acc(train)=8.47e-01, error(valid)=5.99e-01, acc(valid)=8.13e-01\n",
      "Widget Javascript not detected.  It may not be installed or enabled properly.\n"
     ]
    },
    {
     "data": {
      "application/vnd.jupyter.widget-view+json": {
       "model_id": "a241d7bbeac44f1f85c89d2298e7d9c4"
      }
     },
     "metadata": {},
     "output_type": "display_data"
    },
    {
     "name": "stderr",
     "output_type": "stream",
     "text": [
      "Epoch 23: 1.7s to complete\n",
      "    error(train)=4.66e-01, acc(train)=8.49e-01, error(valid)=5.96e-01, acc(valid)=8.15e-01\n",
      "Widget Javascript not detected.  It may not be installed or enabled properly.\n"
     ]
    },
    {
     "data": {
      "application/vnd.jupyter.widget-view+json": {
       "model_id": "e7fcf437600b446d86952fe2ab80dc52"
      }
     },
     "metadata": {},
     "output_type": "display_data"
    },
    {
     "name": "stderr",
     "output_type": "stream",
     "text": [
      "Epoch 24: 1.7s to complete\n",
      "    error(train)=4.65e-01, acc(train)=8.48e-01, error(valid)=6.01e-01, acc(valid)=8.10e-01\n",
      "Widget Javascript not detected.  It may not be installed or enabled properly.\n"
     ]
    },
    {
     "data": {
      "application/vnd.jupyter.widget-view+json": {
       "model_id": "e3b485040c274197b6440513ca67d086"
      }
     },
     "metadata": {},
     "output_type": "display_data"
    },
    {
     "name": "stderr",
     "output_type": "stream",
     "text": [
      "Epoch 25: 1.6s to complete\n",
      "    error(train)=4.58e-01, acc(train)=8.50e-01, error(valid)=5.95e-01, acc(valid)=8.13e-01\n",
      "Widget Javascript not detected.  It may not be installed or enabled properly.\n"
     ]
    },
    {
     "data": {
      "application/vnd.jupyter.widget-view+json": {
       "model_id": "f5d95ef468bd4b12ade43e32b527a756"
      }
     },
     "metadata": {},
     "output_type": "display_data"
    },
    {
     "name": "stderr",
     "output_type": "stream",
     "text": [
      "Epoch 26: 1.7s to complete\n",
      "    error(train)=4.53e-01, acc(train)=8.49e-01, error(valid)=5.96e-01, acc(valid)=8.09e-01\n",
      "Widget Javascript not detected.  It may not be installed or enabled properly.\n"
     ]
    },
    {
     "data": {
      "application/vnd.jupyter.widget-view+json": {
       "model_id": "7f56969a2a114d3db0e8ec95fbb28ed3"
      }
     },
     "metadata": {},
     "output_type": "display_data"
    },
    {
     "name": "stderr",
     "output_type": "stream",
     "text": [
      "Epoch 27: 1.6s to complete\n",
      "    error(train)=4.51e-01, acc(train)=8.53e-01, error(valid)=5.96e-01, acc(valid)=8.13e-01\n",
      "Widget Javascript not detected.  It may not be installed or enabled properly.\n"
     ]
    },
    {
     "data": {
      "application/vnd.jupyter.widget-view+json": {
       "model_id": "c23932bd96b0432d83ff505a5739a379"
      }
     },
     "metadata": {},
     "output_type": "display_data"
    },
    {
     "name": "stderr",
     "output_type": "stream",
     "text": [
      "Epoch 28: 1.6s to complete\n",
      "    error(train)=4.57e-01, acc(train)=8.49e-01, error(valid)=6.01e-01, acc(valid)=8.09e-01\n",
      "Widget Javascript not detected.  It may not be installed or enabled properly.\n"
     ]
    },
    {
     "data": {
      "application/vnd.jupyter.widget-view+json": {
       "model_id": "7f9472530321435e8c005f5a0b386963"
      }
     },
     "metadata": {},
     "output_type": "display_data"
    },
    {
     "name": "stderr",
     "output_type": "stream",
     "text": [
      "Epoch 29: 1.5s to complete\n",
      "    error(train)=4.52e-01, acc(train)=8.50e-01, error(valid)=6.05e-01, acc(valid)=8.10e-01\n",
      "Widget Javascript not detected.  It may not be installed or enabled properly.\n"
     ]
    },
    {
     "data": {
      "application/vnd.jupyter.widget-view+json": {
       "model_id": "a107c3e0dc23439d95a9532a756d6ac9"
      }
     },
     "metadata": {},
     "output_type": "display_data"
    },
    {
     "name": "stderr",
     "output_type": "stream",
     "text": [
      "Epoch 30: 1.5s to complete\n",
      "    error(train)=4.38e-01, acc(train)=8.57e-01, error(valid)=5.90e-01, acc(valid)=8.15e-01\n",
      "Widget Javascript not detected.  It may not be installed or enabled properly.\n"
     ]
    },
    {
     "data": {
      "application/vnd.jupyter.widget-view+json": {
       "model_id": "dd41fa7ac1b447ecb404883f230c9820"
      }
     },
     "metadata": {},
     "output_type": "display_data"
    },
    {
     "name": "stderr",
     "output_type": "stream",
     "text": [
      "Epoch 31: 1.5s to complete\n",
      "    error(train)=4.43e-01, acc(train)=8.52e-01, error(valid)=5.99e-01, acc(valid)=8.13e-01\n",
      "Widget Javascript not detected.  It may not be installed or enabled properly.\n"
     ]
    },
    {
     "data": {
      "application/vnd.jupyter.widget-view+json": {
       "model_id": "96208d5924a947898ef0eef063014059"
      }
     },
     "metadata": {},
     "output_type": "display_data"
    },
    {
     "name": "stderr",
     "output_type": "stream",
     "text": [
      "Epoch 32: 1.6s to complete\n",
      "    error(train)=4.39e-01, acc(train)=8.53e-01, error(valid)=5.96e-01, acc(valid)=8.10e-01\n",
      "Widget Javascript not detected.  It may not be installed or enabled properly.\n"
     ]
    },
    {
     "data": {
      "application/vnd.jupyter.widget-view+json": {
       "model_id": "3b0093e1fa2b42c3ad167a3a4c7fbbbf"
      }
     },
     "metadata": {},
     "output_type": "display_data"
    },
    {
     "name": "stderr",
     "output_type": "stream",
     "text": [
      "Epoch 33: 1.6s to complete\n",
      "    error(train)=4.30e-01, acc(train)=8.58e-01, error(valid)=5.94e-01, acc(valid)=8.16e-01\n",
      "Widget Javascript not detected.  It may not be installed or enabled properly.\n"
     ]
    },
    {
     "data": {
      "application/vnd.jupyter.widget-view+json": {
       "model_id": "2af64923c6a74c2fa78599eba1861b03"
      }
     },
     "metadata": {},
     "output_type": "display_data"
    },
    {
     "name": "stderr",
     "output_type": "stream",
     "text": [
      "Epoch 34: 1.6s to complete\n",
      "    error(train)=4.29e-01, acc(train)=8.59e-01, error(valid)=5.93e-01, acc(valid)=8.16e-01\n",
      "Widget Javascript not detected.  It may not be installed or enabled properly.\n"
     ]
    },
    {
     "data": {
      "application/vnd.jupyter.widget-view+json": {
       "model_id": "94783ec2b83649308102fcb759f30e1b"
      }
     },
     "metadata": {},
     "output_type": "display_data"
    },
    {
     "name": "stderr",
     "output_type": "stream",
     "text": [
      "Epoch 35: 1.6s to complete\n",
      "    error(train)=4.37e-01, acc(train)=8.54e-01, error(valid)=6.07e-01, acc(valid)=8.08e-01\n",
      "Widget Javascript not detected.  It may not be installed or enabled properly.\n"
     ]
    },
    {
     "data": {
      "application/vnd.jupyter.widget-view+json": {
       "model_id": "249b7751b0234cdc90c84c74c0432f30"
      }
     },
     "metadata": {},
     "output_type": "display_data"
    },
    {
     "name": "stderr",
     "output_type": "stream",
     "text": [
      "Epoch 36: 1.6s to complete\n",
      "    error(train)=4.26e-01, acc(train)=8.58e-01, error(valid)=5.97e-01, acc(valid)=8.10e-01\n",
      "Widget Javascript not detected.  It may not be installed or enabled properly.\n"
     ]
    },
    {
     "data": {
      "application/vnd.jupyter.widget-view+json": {
       "model_id": "e7cb72817cde49ab86f851a5c9aa14a0"
      }
     },
     "metadata": {},
     "output_type": "display_data"
    },
    {
     "name": "stderr",
     "output_type": "stream",
     "text": [
      "Epoch 37: 1.6s to complete\n",
      "    error(train)=4.24e-01, acc(train)=8.59e-01, error(valid)=5.97e-01, acc(valid)=8.15e-01\n",
      "Widget Javascript not detected.  It may not be installed or enabled properly.\n"
     ]
    },
    {
     "data": {
      "application/vnd.jupyter.widget-view+json": {
       "model_id": "978bc13369f04370bc2c64b54df42b08"
      }
     },
     "metadata": {},
     "output_type": "display_data"
    },
    {
     "name": "stderr",
     "output_type": "stream",
     "text": [
      "Epoch 38: 1.6s to complete\n",
      "    error(train)=4.18e-01, acc(train)=8.62e-01, error(valid)=5.96e-01, acc(valid)=8.17e-01\n",
      "Widget Javascript not detected.  It may not be installed or enabled properly.\n"
     ]
    },
    {
     "data": {
      "application/vnd.jupyter.widget-view+json": {
       "model_id": "9736107d77a647828d32fc2acd8bd507"
      }
     },
     "metadata": {},
     "output_type": "display_data"
    },
    {
     "name": "stderr",
     "output_type": "stream",
     "text": [
      "Epoch 39: 1.6s to complete\n",
      "    error(train)=4.16e-01, acc(train)=8.61e-01, error(valid)=5.95e-01, acc(valid)=8.16e-01\n",
      "Widget Javascript not detected.  It may not be installed or enabled properly.\n"
     ]
    },
    {
     "data": {
      "application/vnd.jupyter.widget-view+json": {
       "model_id": "7e5b137d3e1b4b519b3e19af4e88fce1"
      }
     },
     "metadata": {},
     "output_type": "display_data"
    },
    {
     "name": "stderr",
     "output_type": "stream",
     "text": [
      "Epoch 40: 1.8s to complete\n",
      "    error(train)=4.15e-01, acc(train)=8.62e-01, error(valid)=5.96e-01, acc(valid)=8.15e-01\n",
      "Widget Javascript not detected.  It may not be installed or enabled properly.\n"
     ]
    },
    {
     "data": {
      "application/vnd.jupyter.widget-view+json": {
       "model_id": "8c2df29af5bd44eb8571c0fc060d97a4"
      }
     },
     "metadata": {},
     "output_type": "display_data"
    },
    {
     "name": "stderr",
     "output_type": "stream",
     "text": [
      "Epoch 41: 1.6s to complete\n",
      "    error(train)=4.14e-01, acc(train)=8.62e-01, error(valid)=6.00e-01, acc(valid)=8.14e-01\n",
      "Widget Javascript not detected.  It may not be installed or enabled properly.\n"
     ]
    },
    {
     "data": {
      "application/vnd.jupyter.widget-view+json": {
       "model_id": "a79ecf626aca45c994d54c8e236bf1b6"
      }
     },
     "metadata": {},
     "output_type": "display_data"
    },
    {
     "name": "stderr",
     "output_type": "stream",
     "text": [
      "Epoch 42: 1.8s to complete\n",
      "    error(train)=4.14e-01, acc(train)=8.62e-01, error(valid)=6.07e-01, acc(valid)=8.14e-01\n",
      "Widget Javascript not detected.  It may not be installed or enabled properly.\n"
     ]
    },
    {
     "data": {
      "application/vnd.jupyter.widget-view+json": {
       "model_id": "f97f8992fbab4632a00bf3f9e604671b"
      }
     },
     "metadata": {},
     "output_type": "display_data"
    },
    {
     "name": "stderr",
     "output_type": "stream",
     "text": [
      "Epoch 43: 1.8s to complete\n",
      "    error(train)=4.06e-01, acc(train)=8.65e-01, error(valid)=5.98e-01, acc(valid)=8.16e-01\n",
      "Widget Javascript not detected.  It may not be installed or enabled properly.\n"
     ]
    },
    {
     "data": {
      "application/vnd.jupyter.widget-view+json": {
       "model_id": "b00bb35e55a04e43a9398bf8d7686116"
      }
     },
     "metadata": {},
     "output_type": "display_data"
    },
    {
     "name": "stderr",
     "output_type": "stream",
     "text": [
      "Epoch 44: 1.6s to complete\n",
      "    error(train)=4.06e-01, acc(train)=8.65e-01, error(valid)=6.06e-01, acc(valid)=8.15e-01\n",
      "Widget Javascript not detected.  It may not be installed or enabled properly.\n"
     ]
    },
    {
     "data": {
      "application/vnd.jupyter.widget-view+json": {
       "model_id": "defd7d1ea00f4515b545ac04a31a7748"
      }
     },
     "metadata": {},
     "output_type": "display_data"
    },
    {
     "name": "stderr",
     "output_type": "stream",
     "text": [
      "Epoch 45: 1.5s to complete\n",
      "    error(train)=4.03e-01, acc(train)=8.66e-01, error(valid)=5.96e-01, acc(valid)=8.18e-01\n",
      "Widget Javascript not detected.  It may not be installed or enabled properly.\n"
     ]
    },
    {
     "data": {
      "application/vnd.jupyter.widget-view+json": {
       "model_id": "4797cd9282e843b49371ab303e5ca652"
      }
     },
     "metadata": {},
     "output_type": "display_data"
    },
    {
     "name": "stderr",
     "output_type": "stream",
     "text": [
      "Epoch 46: 1.6s to complete\n",
      "    error(train)=3.98e-01, acc(train)=8.68e-01, error(valid)=5.99e-01, acc(valid)=8.17e-01\n",
      "Widget Javascript not detected.  It may not be installed or enabled properly.\n"
     ]
    },
    {
     "data": {
      "application/vnd.jupyter.widget-view+json": {
       "model_id": "9a787d163f104aac8c35ad7643d30687"
      }
     },
     "metadata": {},
     "output_type": "display_data"
    },
    {
     "name": "stderr",
     "output_type": "stream",
     "text": [
      "Epoch 47: 1.5s to complete\n",
      "    error(train)=4.00e-01, acc(train)=8.66e-01, error(valid)=6.06e-01, acc(valid)=8.14e-01\n",
      "Widget Javascript not detected.  It may not be installed or enabled properly.\n"
     ]
    },
    {
     "data": {
      "application/vnd.jupyter.widget-view+json": {
       "model_id": "5e0328cdc46a46f48591e571653cbd2c"
      }
     },
     "metadata": {},
     "output_type": "display_data"
    },
    {
     "name": "stderr",
     "output_type": "stream",
     "text": [
      "Epoch 48: 1.7s to complete\n",
      "    error(train)=3.99e-01, acc(train)=8.66e-01, error(valid)=6.09e-01, acc(valid)=8.15e-01\n",
      "Widget Javascript not detected.  It may not be installed or enabled properly.\n"
     ]
    },
    {
     "data": {
      "application/vnd.jupyter.widget-view+json": {
       "model_id": "19170285ba134d2cacfc60ab509c71ea"
      }
     },
     "metadata": {},
     "output_type": "display_data"
    },
    {
     "name": "stderr",
     "output_type": "stream",
     "text": [
      "Epoch 49: 1.7s to complete\n",
      "    error(train)=3.93e-01, acc(train)=8.68e-01, error(valid)=6.06e-01, acc(valid)=8.14e-01\n",
      "Widget Javascript not detected.  It may not be installed or enabled properly.\n"
     ]
    },
    {
     "data": {
      "application/vnd.jupyter.widget-view+json": {
       "model_id": "a8bdf96168fa4623ba4cd4b57640942f"
      }
     },
     "metadata": {},
     "output_type": "display_data"
    },
    {
     "name": "stderr",
     "output_type": "stream",
     "text": [
      "Epoch 50: 1.9s to complete\n",
      "    error(train)=3.92e-01, acc(train)=8.69e-01, error(valid)=6.06e-01, acc(valid)=8.17e-01\n",
      "Widget Javascript not detected.  It may not be installed or enabled properly.\n"
     ]
    },
    {
     "data": {
      "application/vnd.jupyter.widget-view+json": {
       "model_id": "f290e3bfba9246db9ba29617ebbf3b51"
      }
     },
     "metadata": {},
     "output_type": "display_data"
    },
    {
     "name": "stderr",
     "output_type": "stream",
     "text": [
      "Epoch 51: 1.5s to complete\n",
      "    error(train)=3.91e-01, acc(train)=8.68e-01, error(valid)=6.05e-01, acc(valid)=8.17e-01\n",
      "Widget Javascript not detected.  It may not be installed or enabled properly.\n"
     ]
    },
    {
     "data": {
      "application/vnd.jupyter.widget-view+json": {
       "model_id": "15e21fa05c664a18b1ea8c3b2146d586"
      }
     },
     "metadata": {},
     "output_type": "display_data"
    },
    {
     "name": "stderr",
     "output_type": "stream",
     "text": [
      "Epoch 52: 1.6s to complete\n",
      "    error(train)=3.88e-01, acc(train)=8.69e-01, error(valid)=6.11e-01, acc(valid)=8.14e-01\n",
      "Widget Javascript not detected.  It may not be installed or enabled properly.\n"
     ]
    },
    {
     "data": {
      "application/vnd.jupyter.widget-view+json": {
       "model_id": "7777284204214a7c9ff717d08bb49401"
      }
     },
     "metadata": {},
     "output_type": "display_data"
    },
    {
     "name": "stderr",
     "output_type": "stream",
     "text": [
      "Epoch 53: 1.6s to complete\n",
      "    error(train)=3.90e-01, acc(train)=8.68e-01, error(valid)=6.11e-01, acc(valid)=8.13e-01\n",
      "Widget Javascript not detected.  It may not be installed or enabled properly.\n"
     ]
    },
    {
     "data": {
      "application/vnd.jupyter.widget-view+json": {
       "model_id": "e056b4d8076e4d9fb9d9040c2f63223c"
      }
     },
     "metadata": {},
     "output_type": "display_data"
    },
    {
     "name": "stderr",
     "output_type": "stream",
     "text": [
      "Epoch 54: 1.8s to complete\n",
      "    error(train)=3.92e-01, acc(train)=8.68e-01, error(valid)=6.18e-01, acc(valid)=8.10e-01\n",
      "Widget Javascript not detected.  It may not be installed or enabled properly.\n"
     ]
    },
    {
     "data": {
      "application/vnd.jupyter.widget-view+json": {
       "model_id": "7d8d58b2d3f84283a9c39d0f8894773a"
      }
     },
     "metadata": {},
     "output_type": "display_data"
    },
    {
     "name": "stderr",
     "output_type": "stream",
     "text": [
      "Epoch 55: 1.6s to complete\n",
      "    error(train)=3.83e-01, acc(train)=8.71e-01, error(valid)=6.11e-01, acc(valid)=8.16e-01\n",
      "Widget Javascript not detected.  It may not be installed or enabled properly.\n"
     ]
    },
    {
     "data": {
      "application/vnd.jupyter.widget-view+json": {
       "model_id": "3739c1c2d7dc4972aa075b78f2a0dc6b"
      }
     },
     "metadata": {},
     "output_type": "display_data"
    },
    {
     "name": "stderr",
     "output_type": "stream",
     "text": [
      "Epoch 56: 1.6s to complete\n",
      "    error(train)=3.89e-01, acc(train)=8.68e-01, error(valid)=6.21e-01, acc(valid)=8.12e-01\n",
      "Widget Javascript not detected.  It may not be installed or enabled properly.\n"
     ]
    },
    {
     "data": {
      "application/vnd.jupyter.widget-view+json": {
       "model_id": "528309fb53c342b3bdd6305fae2dcedc"
      }
     },
     "metadata": {},
     "output_type": "display_data"
    },
    {
     "name": "stderr",
     "output_type": "stream",
     "text": [
      "Epoch 57: 1.5s to complete\n",
      "    error(train)=3.84e-01, acc(train)=8.70e-01, error(valid)=6.17e-01, acc(valid)=8.13e-01\n",
      "Widget Javascript not detected.  It may not be installed or enabled properly.\n"
     ]
    },
    {
     "data": {
      "application/vnd.jupyter.widget-view+json": {
       "model_id": "b2dc75c827a041d19c83f1886fd4f409"
      }
     },
     "metadata": {},
     "output_type": "display_data"
    },
    {
     "name": "stderr",
     "output_type": "stream",
     "text": [
      "Epoch 58: 1.5s to complete\n",
      "    error(train)=3.85e-01, acc(train)=8.71e-01, error(valid)=6.17e-01, acc(valid)=8.15e-01\n",
      "Widget Javascript not detected.  It may not be installed or enabled properly.\n"
     ]
    },
    {
     "data": {
      "application/vnd.jupyter.widget-view+json": {
       "model_id": "325707a31bb34a7aaa4a60ce8283bd74"
      }
     },
     "metadata": {},
     "output_type": "display_data"
    },
    {
     "name": "stderr",
     "output_type": "stream",
     "text": [
      "Epoch 59: 1.5s to complete\n",
      "    error(train)=3.84e-01, acc(train)=8.69e-01, error(valid)=6.22e-01, acc(valid)=8.14e-01\n",
      "Widget Javascript not detected.  It may not be installed or enabled properly.\n"
     ]
    },
    {
     "data": {
      "application/vnd.jupyter.widget-view+json": {
       "model_id": "4689ce4ac17c43faad534e4c4c9d6061"
      }
     },
     "metadata": {},
     "output_type": "display_data"
    },
    {
     "name": "stderr",
     "output_type": "stream",
     "text": [
      "Epoch 60: 1.6s to complete\n",
      "    error(train)=3.90e-01, acc(train)=8.67e-01, error(valid)=6.30e-01, acc(valid)=8.11e-01\n",
      "Widget Javascript not detected.  It may not be installed or enabled properly.\n"
     ]
    },
    {
     "data": {
      "application/vnd.jupyter.widget-view+json": {
       "model_id": "0a512e41b5bb4d2fb054e97aac6278d8"
      }
     },
     "metadata": {},
     "output_type": "display_data"
    },
    {
     "name": "stderr",
     "output_type": "stream",
     "text": [
      "Epoch 61: 1.6s to complete\n",
      "    error(train)=3.83e-01, acc(train)=8.70e-01, error(valid)=6.29e-01, acc(valid)=8.12e-01\n",
      "Widget Javascript not detected.  It may not be installed or enabled properly.\n"
     ]
    },
    {
     "data": {
      "application/vnd.jupyter.widget-view+json": {
       "model_id": "c10b5f97d3a247a8918fbd2fb3d35fed"
      }
     },
     "metadata": {},
     "output_type": "display_data"
    },
    {
     "name": "stderr",
     "output_type": "stream",
     "text": [
      "Epoch 62: 1.6s to complete\n",
      "    error(train)=3.78e-01, acc(train)=8.71e-01, error(valid)=6.19e-01, acc(valid)=8.13e-01\n",
      "Widget Javascript not detected.  It may not be installed or enabled properly.\n"
     ]
    },
    {
     "data": {
      "application/vnd.jupyter.widget-view+json": {
       "model_id": "ac8aaa64c32c4e8eb417d73edda96241"
      }
     },
     "metadata": {},
     "output_type": "display_data"
    },
    {
     "name": "stderr",
     "output_type": "stream",
     "text": [
      "Epoch 63: 1.6s to complete\n",
      "    error(train)=3.75e-01, acc(train)=8.73e-01, error(valid)=6.22e-01, acc(valid)=8.13e-01\n",
      "Widget Javascript not detected.  It may not be installed or enabled properly.\n"
     ]
    },
    {
     "data": {
      "application/vnd.jupyter.widget-view+json": {
       "model_id": "87fdaac019c348af8743b818e40270ca"
      }
     },
     "metadata": {},
     "output_type": "display_data"
    },
    {
     "name": "stderr",
     "output_type": "stream",
     "text": [
      "Epoch 64: 1.6s to complete\n",
      "    error(train)=3.72e-01, acc(train)=8.73e-01, error(valid)=6.21e-01, acc(valid)=8.15e-01\n",
      "Widget Javascript not detected.  It may not be installed or enabled properly.\n"
     ]
    },
    {
     "data": {
      "application/vnd.jupyter.widget-view+json": {
       "model_id": "0867939762e842c291f8b9c986660c78"
      }
     },
     "metadata": {},
     "output_type": "display_data"
    },
    {
     "name": "stderr",
     "output_type": "stream",
     "text": [
      "Epoch 65: 1.5s to complete\n",
      "    error(train)=3.79e-01, acc(train)=8.70e-01, error(valid)=6.32e-01, acc(valid)=8.11e-01\n",
      "Widget Javascript not detected.  It may not be installed or enabled properly.\n"
     ]
    },
    {
     "data": {
      "application/vnd.jupyter.widget-view+json": {
       "model_id": "303e78e8ea71476986a35c4e5cf77172"
      }
     },
     "metadata": {},
     "output_type": "display_data"
    },
    {
     "name": "stderr",
     "output_type": "stream",
     "text": [
      "Epoch 66: 1.6s to complete\n",
      "    error(train)=3.76e-01, acc(train)=8.71e-01, error(valid)=6.28e-01, acc(valid)=8.11e-01\n",
      "Widget Javascript not detected.  It may not be installed or enabled properly.\n"
     ]
    },
    {
     "data": {
      "application/vnd.jupyter.widget-view+json": {
       "model_id": "28697dc323fa4f04891cde0aeb35a616"
      }
     },
     "metadata": {},
     "output_type": "display_data"
    },
    {
     "name": "stderr",
     "output_type": "stream",
     "text": [
      "Epoch 67: 1.6s to complete\n",
      "    error(train)=3.72e-01, acc(train)=8.74e-01, error(valid)=6.28e-01, acc(valid)=8.14e-01\n",
      "Widget Javascript not detected.  It may not be installed or enabled properly.\n"
     ]
    },
    {
     "data": {
      "application/vnd.jupyter.widget-view+json": {
       "model_id": "55ecc32acca543868ed99928384bf5c5"
      }
     },
     "metadata": {},
     "output_type": "display_data"
    },
    {
     "name": "stderr",
     "output_type": "stream",
     "text": [
      "Epoch 68: 1.6s to complete\n",
      "    error(train)=3.71e-01, acc(train)=8.74e-01, error(valid)=6.28e-01, acc(valid)=8.13e-01\n",
      "Widget Javascript not detected.  It may not be installed or enabled properly.\n"
     ]
    },
    {
     "data": {
      "application/vnd.jupyter.widget-view+json": {
       "model_id": "28b9f6c35c8641e6b056fecb7a49bead"
      }
     },
     "metadata": {},
     "output_type": "display_data"
    },
    {
     "name": "stderr",
     "output_type": "stream",
     "text": [
      "Epoch 69: 1.5s to complete\n",
      "    error(train)=3.67e-01, acc(train)=8.76e-01, error(valid)=6.25e-01, acc(valid)=8.17e-01\n",
      "Widget Javascript not detected.  It may not be installed or enabled properly.\n"
     ]
    },
    {
     "data": {
      "application/vnd.jupyter.widget-view+json": {
       "model_id": "12c96ebca3a740308063e6813e44b136"
      }
     },
     "metadata": {},
     "output_type": "display_data"
    },
    {
     "name": "stderr",
     "output_type": "stream",
     "text": [
      "Epoch 70: 1.5s to complete\n",
      "    error(train)=3.70e-01, acc(train)=8.73e-01, error(valid)=6.37e-01, acc(valid)=8.10e-01\n",
      "Widget Javascript not detected.  It may not be installed or enabled properly.\n"
     ]
    },
    {
     "data": {
      "application/vnd.jupyter.widget-view+json": {
       "model_id": "49ece19f198948449a6926b16d078050"
      }
     },
     "metadata": {},
     "output_type": "display_data"
    },
    {
     "name": "stderr",
     "output_type": "stream",
     "text": [
      "Epoch 71: 2.2s to complete\n",
      "    error(train)=3.72e-01, acc(train)=8.73e-01, error(valid)=6.40e-01, acc(valid)=8.12e-01\n",
      "Widget Javascript not detected.  It may not be installed or enabled properly.\n"
     ]
    },
    {
     "data": {
      "application/vnd.jupyter.widget-view+json": {
       "model_id": "1f7248a287a8432c987d6ae404335ab8"
      }
     },
     "metadata": {},
     "output_type": "display_data"
    },
    {
     "name": "stderr",
     "output_type": "stream",
     "text": [
      "Epoch 72: 1.5s to complete\n",
      "    error(train)=3.64e-01, acc(train)=8.75e-01, error(valid)=6.31e-01, acc(valid)=8.13e-01\n",
      "Widget Javascript not detected.  It may not be installed or enabled properly.\n"
     ]
    },
    {
     "data": {
      "application/vnd.jupyter.widget-view+json": {
       "model_id": "85046a9023db4d8e90daa8f1c5abadf0"
      }
     },
     "metadata": {},
     "output_type": "display_data"
    },
    {
     "name": "stderr",
     "output_type": "stream",
     "text": [
      "Epoch 73: 1.7s to complete\n",
      "    error(train)=3.73e-01, acc(train)=8.72e-01, error(valid)=6.47e-01, acc(valid)=8.06e-01\n",
      "Widget Javascript not detected.  It may not be installed or enabled properly.\n"
     ]
    },
    {
     "data": {
      "application/vnd.jupyter.widget-view+json": {
       "model_id": "de38165dc4f9477fbff6f16b7beb2f0b"
      }
     },
     "metadata": {},
     "output_type": "display_data"
    },
    {
     "name": "stderr",
     "output_type": "stream",
     "text": [
      "Epoch 74: 1.5s to complete\n",
      "    error(train)=3.69e-01, acc(train)=8.73e-01, error(valid)=6.45e-01, acc(valid)=8.08e-01\n",
      "Widget Javascript not detected.  It may not be installed or enabled properly.\n"
     ]
    },
    {
     "data": {
      "application/vnd.jupyter.widget-view+json": {
       "model_id": "d238e89b28a342f7b04430f110cbff08"
      }
     },
     "metadata": {},
     "output_type": "display_data"
    },
    {
     "name": "stderr",
     "output_type": "stream",
     "text": [
      "Epoch 75: 1.5s to complete\n",
      "    error(train)=3.72e-01, acc(train)=8.73e-01, error(valid)=6.49e-01, acc(valid)=8.10e-01\n",
      "Widget Javascript not detected.  It may not be installed or enabled properly.\n"
     ]
    },
    {
     "data": {
      "application/vnd.jupyter.widget-view+json": {
       "model_id": "e3497c9b66cd44188d853140bc820582"
      }
     },
     "metadata": {},
     "output_type": "display_data"
    },
    {
     "name": "stderr",
     "output_type": "stream",
     "text": [
      "Epoch 76: 1.6s to complete\n",
      "    error(train)=3.64e-01, acc(train)=8.76e-01, error(valid)=6.47e-01, acc(valid)=8.12e-01\n",
      "Widget Javascript not detected.  It may not be installed or enabled properly.\n"
     ]
    },
    {
     "data": {
      "application/vnd.jupyter.widget-view+json": {
       "model_id": "b12357876a1949c98d5ba6e8a2b0247b"
      }
     },
     "metadata": {},
     "output_type": "display_data"
    },
    {
     "name": "stderr",
     "output_type": "stream",
     "text": [
      "Epoch 77: 1.6s to complete\n",
      "    error(train)=3.63e-01, acc(train)=8.75e-01, error(valid)=6.46e-01, acc(valid)=8.09e-01\n",
      "Widget Javascript not detected.  It may not be installed or enabled properly.\n"
     ]
    },
    {
     "data": {
      "application/vnd.jupyter.widget-view+json": {
       "model_id": "aeea6b6c061444ac97ed4701b06198e2"
      }
     },
     "metadata": {},
     "output_type": "display_data"
    },
    {
     "name": "stderr",
     "output_type": "stream",
     "text": [
      "Epoch 78: 1.7s to complete\n",
      "    error(train)=3.64e-01, acc(train)=8.76e-01, error(valid)=6.44e-01, acc(valid)=8.13e-01\n",
      "Widget Javascript not detected.  It may not be installed or enabled properly.\n"
     ]
    },
    {
     "data": {
      "application/vnd.jupyter.widget-view+json": {
       "model_id": "db2e60b9bd2744d3b157529a91f43f17"
      }
     },
     "metadata": {},
     "output_type": "display_data"
    },
    {
     "name": "stderr",
     "output_type": "stream",
     "text": [
      "Epoch 79: 1.6s to complete\n",
      "    error(train)=3.60e-01, acc(train)=8.76e-01, error(valid)=6.46e-01, acc(valid)=8.12e-01\n",
      "Widget Javascript not detected.  It may not be installed or enabled properly.\n"
     ]
    },
    {
     "data": {
      "application/vnd.jupyter.widget-view+json": {
       "model_id": "5e266f91c46943b09e02f0321a2c60e5"
      }
     },
     "metadata": {},
     "output_type": "display_data"
    },
    {
     "name": "stderr",
     "output_type": "stream",
     "text": [
      "Epoch 80: 1.6s to complete\n",
      "    error(train)=3.69e-01, acc(train)=8.73e-01, error(valid)=6.59e-01, acc(valid)=8.07e-01\n",
      "Widget Javascript not detected.  It may not be installed or enabled properly.\n"
     ]
    },
    {
     "data": {
      "application/vnd.jupyter.widget-view+json": {
       "model_id": "74855fb463f640f6bd1908e8b44cf817"
      }
     },
     "metadata": {},
     "output_type": "display_data"
    },
    {
     "name": "stderr",
     "output_type": "stream",
     "text": [
      "Epoch 81: 1.6s to complete\n",
      "    error(train)=3.58e-01, acc(train)=8.78e-01, error(valid)=6.51e-01, acc(valid)=8.10e-01\n",
      "Widget Javascript not detected.  It may not be installed or enabled properly.\n"
     ]
    },
    {
     "data": {
      "application/vnd.jupyter.widget-view+json": {
       "model_id": "4bd863db21704c749953225003eaa2d7"
      }
     },
     "metadata": {},
     "output_type": "display_data"
    },
    {
     "name": "stderr",
     "output_type": "stream",
     "text": [
      "Epoch 82: 1.6s to complete\n",
      "    error(train)=3.57e-01, acc(train)=8.79e-01, error(valid)=6.46e-01, acc(valid)=8.12e-01\n",
      "Widget Javascript not detected.  It may not be installed or enabled properly.\n"
     ]
    },
    {
     "data": {
      "application/vnd.jupyter.widget-view+json": {
       "model_id": "10381c08bfa44c0f8ffba64beb2fdf12"
      }
     },
     "metadata": {},
     "output_type": "display_data"
    },
    {
     "name": "stderr",
     "output_type": "stream",
     "text": [
      "Epoch 83: 1.6s to complete\n",
      "    error(train)=3.59e-01, acc(train)=8.76e-01, error(valid)=6.54e-01, acc(valid)=8.08e-01\n",
      "Widget Javascript not detected.  It may not be installed or enabled properly.\n"
     ]
    },
    {
     "data": {
      "application/vnd.jupyter.widget-view+json": {
       "model_id": "21441b4389c24cf2b3b7e2fa29994067"
      }
     },
     "metadata": {},
     "output_type": "display_data"
    },
    {
     "name": "stderr",
     "output_type": "stream",
     "text": [
      "Epoch 84: 1.5s to complete\n",
      "    error(train)=3.55e-01, acc(train)=8.80e-01, error(valid)=6.54e-01, acc(valid)=8.05e-01\n",
      "Widget Javascript not detected.  It may not be installed or enabled properly.\n"
     ]
    },
    {
     "data": {
      "application/vnd.jupyter.widget-view+json": {
       "model_id": "9cc6b2d6df5b4145ad393e303dc6c23b"
      }
     },
     "metadata": {},
     "output_type": "display_data"
    },
    {
     "name": "stderr",
     "output_type": "stream",
     "text": [
      "Epoch 85: 1.5s to complete\n",
      "    error(train)=3.58e-01, acc(train)=8.78e-01, error(valid)=6.60e-01, acc(valid)=8.08e-01\n",
      "Widget Javascript not detected.  It may not be installed or enabled properly.\n"
     ]
    },
    {
     "data": {
      "application/vnd.jupyter.widget-view+json": {
       "model_id": "eaa3afd7be7347d5b5491362047ba5d6"
      }
     },
     "metadata": {},
     "output_type": "display_data"
    },
    {
     "name": "stderr",
     "output_type": "stream",
     "text": [
      "Epoch 86: 1.6s to complete\n",
      "    error(train)=3.54e-01, acc(train)=8.77e-01, error(valid)=6.59e-01, acc(valid)=8.09e-01\n",
      "Widget Javascript not detected.  It may not be installed or enabled properly.\n"
     ]
    },
    {
     "data": {
      "application/vnd.jupyter.widget-view+json": {
       "model_id": "06d8713922294bd0bb0402884e563a14"
      }
     },
     "metadata": {},
     "output_type": "display_data"
    },
    {
     "name": "stderr",
     "output_type": "stream",
     "text": [
      "Epoch 87: 1.6s to complete\n",
      "    error(train)=3.55e-01, acc(train)=8.76e-01, error(valid)=6.61e-01, acc(valid)=8.05e-01\n",
      "Widget Javascript not detected.  It may not be installed or enabled properly.\n"
     ]
    },
    {
     "data": {
      "application/vnd.jupyter.widget-view+json": {
       "model_id": "dbc933c6760144fa8d61dbaa4405cdf5"
      }
     },
     "metadata": {},
     "output_type": "display_data"
    },
    {
     "name": "stderr",
     "output_type": "stream",
     "text": [
      "Epoch 88: 1.6s to complete\n",
      "    error(train)=3.55e-01, acc(train)=8.77e-01, error(valid)=6.67e-01, acc(valid)=8.07e-01\n",
      "Widget Javascript not detected.  It may not be installed or enabled properly.\n"
     ]
    },
    {
     "data": {
      "application/vnd.jupyter.widget-view+json": {
       "model_id": "72e1f6c1df424661b908c16496056580"
      }
     },
     "metadata": {},
     "output_type": "display_data"
    },
    {
     "name": "stderr",
     "output_type": "stream",
     "text": [
      "Epoch 89: 1.6s to complete\n",
      "    error(train)=3.57e-01, acc(train)=8.77e-01, error(valid)=6.70e-01, acc(valid)=8.05e-01\n",
      "Widget Javascript not detected.  It may not be installed or enabled properly.\n"
     ]
    },
    {
     "data": {
      "application/vnd.jupyter.widget-view+json": {
       "model_id": "e9afbc27dc944933b92ab4f53356f83a"
      }
     },
     "metadata": {},
     "output_type": "display_data"
    },
    {
     "name": "stderr",
     "output_type": "stream",
     "text": [
      "Epoch 90: 1.6s to complete\n",
      "    error(train)=3.56e-01, acc(train)=8.77e-01, error(valid)=6.67e-01, acc(valid)=8.07e-01\n",
      "Widget Javascript not detected.  It may not be installed or enabled properly.\n"
     ]
    },
    {
     "data": {
      "application/vnd.jupyter.widget-view+json": {
       "model_id": "de5d6d0e55da41859bc843c390096fa0"
      }
     },
     "metadata": {},
     "output_type": "display_data"
    },
    {
     "name": "stderr",
     "output_type": "stream",
     "text": [
      "Epoch 91: 1.6s to complete\n",
      "    error(train)=3.43e-01, acc(train)=8.83e-01, error(valid)=6.57e-01, acc(valid)=8.08e-01\n",
      "Widget Javascript not detected.  It may not be installed or enabled properly.\n"
     ]
    },
    {
     "data": {
      "application/vnd.jupyter.widget-view+json": {
       "model_id": "d9a078114023436c8c79a01fec0d9473"
      }
     },
     "metadata": {},
     "output_type": "display_data"
    },
    {
     "name": "stderr",
     "output_type": "stream",
     "text": [
      "Epoch 92: 1.6s to complete\n",
      "    error(train)=3.55e-01, acc(train)=8.78e-01, error(valid)=6.67e-01, acc(valid)=8.08e-01\n",
      "Widget Javascript not detected.  It may not be installed or enabled properly.\n"
     ]
    },
    {
     "data": {
      "application/vnd.jupyter.widget-view+json": {
       "model_id": "460f0a9699a244eb81cf3316e9c4f2fe"
      }
     },
     "metadata": {},
     "output_type": "display_data"
    },
    {
     "name": "stderr",
     "output_type": "stream",
     "text": [
      "Epoch 93: 1.6s to complete\n",
      "    error(train)=3.51e-01, acc(train)=8.78e-01, error(valid)=6.68e-01, acc(valid)=8.07e-01\n",
      "Widget Javascript not detected.  It may not be installed or enabled properly.\n"
     ]
    },
    {
     "data": {
      "application/vnd.jupyter.widget-view+json": {
       "model_id": "871eb43657db4a59a829b9983797af3e"
      }
     },
     "metadata": {},
     "output_type": "display_data"
    },
    {
     "name": "stderr",
     "output_type": "stream",
     "text": [
      "Epoch 94: 1.6s to complete\n",
      "    error(train)=3.50e-01, acc(train)=8.79e-01, error(valid)=6.69e-01, acc(valid)=8.09e-01\n",
      "Widget Javascript not detected.  It may not be installed or enabled properly.\n"
     ]
    },
    {
     "data": {
      "application/vnd.jupyter.widget-view+json": {
       "model_id": "7c6662d65b204b6baaa27e018b489d9f"
      }
     },
     "metadata": {},
     "output_type": "display_data"
    },
    {
     "name": "stderr",
     "output_type": "stream",
     "text": [
      "Epoch 95: 1.6s to complete\n",
      "    error(train)=3.45e-01, acc(train)=8.81e-01, error(valid)=6.70e-01, acc(valid)=8.05e-01\n",
      "Widget Javascript not detected.  It may not be installed or enabled properly.\n"
     ]
    },
    {
     "data": {
      "application/vnd.jupyter.widget-view+json": {
       "model_id": "64323a1180d845d994a2c799f46cc8a8"
      }
     },
     "metadata": {},
     "output_type": "display_data"
    },
    {
     "name": "stderr",
     "output_type": "stream",
     "text": [
      "Epoch 96: 1.6s to complete\n",
      "    error(train)=3.49e-01, acc(train)=8.80e-01, error(valid)=6.67e-01, acc(valid)=8.11e-01\n",
      "Widget Javascript not detected.  It may not be installed or enabled properly.\n"
     ]
    },
    {
     "data": {
      "application/vnd.jupyter.widget-view+json": {
       "model_id": "fd4f3070e514493999d5a657abd3b692"
      }
     },
     "metadata": {},
     "output_type": "display_data"
    },
    {
     "name": "stderr",
     "output_type": "stream",
     "text": [
      "Epoch 97: 1.6s to complete\n",
      "    error(train)=3.43e-01, acc(train)=8.81e-01, error(valid)=6.69e-01, acc(valid)=8.04e-01\n",
      "Widget Javascript not detected.  It may not be installed or enabled properly.\n"
     ]
    },
    {
     "data": {
      "application/vnd.jupyter.widget-view+json": {
       "model_id": "34d94a37b70c4bfcba0fdf912de445c4"
      }
     },
     "metadata": {},
     "output_type": "display_data"
    },
    {
     "name": "stderr",
     "output_type": "stream",
     "text": [
      "Epoch 98: 1.5s to complete\n",
      "    error(train)=3.42e-01, acc(train)=8.83e-01, error(valid)=6.71e-01, acc(valid)=8.08e-01\n",
      "Widget Javascript not detected.  It may not be installed or enabled properly.\n"
     ]
    },
    {
     "data": {
      "application/vnd.jupyter.widget-view+json": {
       "model_id": "efd9dcdda5e34781b1b232f3ca1a6a36"
      }
     },
     "metadata": {},
     "output_type": "display_data"
    },
    {
     "name": "stderr",
     "output_type": "stream",
     "text": [
      "Epoch 99: 1.6s to complete\n",
      "    error(train)=3.46e-01, acc(train)=8.81e-01, error(valid)=6.81e-01, acc(valid)=8.05e-01\n",
      "Widget Javascript not detected.  It may not be installed or enabled properly.\n"
     ]
    },
    {
     "data": {
      "application/vnd.jupyter.widget-view+json": {
       "model_id": "6afadd1f1d8d454eba19703eb7e8eb17"
      }
     },
     "metadata": {},
     "output_type": "display_data"
    },
    {
     "name": "stderr",
     "output_type": "stream",
     "text": [
      "Epoch 100: 1.6s to complete\n",
      "    error(train)=3.41e-01, acc(train)=8.83e-01, error(valid)=6.77e-01, acc(valid)=8.05e-01\n"
     ]
    },
    {
     "name": "stdout",
     "output_type": "stream",
     "text": [
      "\n"
     ]
    },
    {
     "name": "stderr",
     "output_type": "stream",
     "text": [
      "Widget Javascript not detected.  It may not be installed or enabled properly.\n"
     ]
    },
    {
     "data": {
      "application/vnd.jupyter.widget-view+json": {
       "model_id": "0058f2690959477bb9bcaca0c0e5e950"
      }
     },
     "metadata": {},
     "output_type": "display_data"
    },
    {
     "name": "stderr",
     "output_type": "stream",
     "text": [
      "Widget Javascript not detected.  It may not be installed or enabled properly.\n"
     ]
    },
    {
     "data": {
      "application/vnd.jupyter.widget-view+json": {
       "model_id": "a18c1eb289824fe39f5fd5fc89b92239"
      }
     },
     "metadata": {},
     "output_type": "display_data"
    },
    {
     "name": "stderr",
     "output_type": "stream",
     "text": [
      "Epoch 1: 4.0s to complete\n",
      "    error(train)=8.84e-01, acc(train)=7.44e-01, error(valid)=9.06e-01, acc(valid)=7.37e-01\n",
      "Widget Javascript not detected.  It may not be installed or enabled properly.\n"
     ]
    },
    {
     "data": {
      "application/vnd.jupyter.widget-view+json": {
       "model_id": "338ec2162f3748158086c2c092ba5336"
      }
     },
     "metadata": {},
     "output_type": "display_data"
    },
    {
     "name": "stderr",
     "output_type": "stream",
     "text": [
      "Epoch 2: 4.0s to complete\n",
      "    error(train)=6.97e-01, acc(train)=7.90e-01, error(valid)=7.27e-01, acc(valid)=7.81e-01\n",
      "Widget Javascript not detected.  It may not be installed or enabled properly.\n"
     ]
    },
    {
     "data": {
      "application/vnd.jupyter.widget-view+json": {
       "model_id": "371e7082bc2646a0bafcac11c6902b8e"
      }
     },
     "metadata": {},
     "output_type": "display_data"
    },
    {
     "name": "stderr",
     "output_type": "stream",
     "text": [
      "Epoch 3: 4.0s to complete\n",
      "    error(train)=5.93e-01, acc(train)=8.15e-01, error(valid)=6.40e-01, acc(valid)=8.02e-01\n",
      "Widget Javascript not detected.  It may not be installed or enabled properly.\n"
     ]
    },
    {
     "data": {
      "application/vnd.jupyter.widget-view+json": {
       "model_id": "a9cb012de4f943a19619a918e012f22d"
      }
     },
     "metadata": {},
     "output_type": "display_data"
    },
    {
     "name": "stderr",
     "output_type": "stream",
     "text": [
      "Epoch 4: 4.4s to complete\n",
      "    error(train)=5.43e-01, acc(train)=8.28e-01, error(valid)=6.05e-01, acc(valid)=8.06e-01\n",
      "Widget Javascript not detected.  It may not be installed or enabled properly.\n"
     ]
    },
    {
     "data": {
      "application/vnd.jupyter.widget-view+json": {
       "model_id": "d20e76b9eab64204b202076054e08aac"
      }
     },
     "metadata": {},
     "output_type": "display_data"
    },
    {
     "name": "stderr",
     "output_type": "stream",
     "text": [
      "Epoch 5: 4.0s to complete\n",
      "    error(train)=5.10e-01, acc(train)=8.35e-01, error(valid)=5.80e-01, acc(valid)=8.14e-01\n",
      "Widget Javascript not detected.  It may not be installed or enabled properly.\n"
     ]
    },
    {
     "data": {
      "application/vnd.jupyter.widget-view+json": {
       "model_id": "07e6958c7f4c411ea6cebeacdbeec0ea"
      }
     },
     "metadata": {},
     "output_type": "display_data"
    },
    {
     "name": "stderr",
     "output_type": "stream",
     "text": [
      "Epoch 6: 4.0s to complete\n",
      "    error(train)=4.71e-01, acc(train)=8.48e-01, error(valid)=5.51e-01, acc(valid)=8.24e-01\n",
      "Widget Javascript not detected.  It may not be installed or enabled properly.\n"
     ]
    },
    {
     "data": {
      "application/vnd.jupyter.widget-view+json": {
       "model_id": "7a7246ddeb3240f99efa2238cb0c7ecf"
      }
     },
     "metadata": {},
     "output_type": "display_data"
    },
    {
     "name": "stderr",
     "output_type": "stream",
     "text": [
      "Epoch 7: 4.0s to complete\n",
      "    error(train)=4.43e-01, acc(train)=8.56e-01, error(valid)=5.34e-01, acc(valid)=8.29e-01\n",
      "Widget Javascript not detected.  It may not be installed or enabled properly.\n"
     ]
    },
    {
     "data": {
      "application/vnd.jupyter.widget-view+json": {
       "model_id": "92ca0e2358a44de6a0932bf786e99070"
      }
     },
     "metadata": {},
     "output_type": "display_data"
    },
    {
     "name": "stderr",
     "output_type": "stream",
     "text": [
      "Epoch 8: 4.1s to complete\n",
      "    error(train)=4.35e-01, acc(train)=8.57e-01, error(valid)=5.35e-01, acc(valid)=8.29e-01\n",
      "Widget Javascript not detected.  It may not be installed or enabled properly.\n"
     ]
    },
    {
     "data": {
      "application/vnd.jupyter.widget-view+json": {
       "model_id": "1c2a9f2b87384bf7993cfddc56a485a5"
      }
     },
     "metadata": {},
     "output_type": "display_data"
    },
    {
     "name": "stderr",
     "output_type": "stream",
     "text": [
      "Epoch 9: 4.1s to complete\n",
      "    error(train)=4.12e-01, acc(train)=8.64e-01, error(valid)=5.25e-01, acc(valid)=8.31e-01\n",
      "Widget Javascript not detected.  It may not be installed or enabled properly.\n"
     ]
    },
    {
     "data": {
      "application/vnd.jupyter.widget-view+json": {
       "model_id": "bbbcd6cd20a84f3eb52cbcbccfd81de9"
      }
     },
     "metadata": {},
     "output_type": "display_data"
    },
    {
     "name": "stderr",
     "output_type": "stream",
     "text": [
      "Epoch 10: 4.4s to complete\n",
      "    error(train)=3.99e-01, acc(train)=8.66e-01, error(valid)=5.19e-01, acc(valid)=8.33e-01\n",
      "Widget Javascript not detected.  It may not be installed or enabled properly.\n"
     ]
    },
    {
     "data": {
      "application/vnd.jupyter.widget-view+json": {
       "model_id": "b486f0169db94232853c9d4b59e2f497"
      }
     },
     "metadata": {},
     "output_type": "display_data"
    },
    {
     "name": "stderr",
     "output_type": "stream",
     "text": [
      "Epoch 11: 4.2s to complete\n",
      "    error(train)=3.89e-01, acc(train)=8.68e-01, error(valid)=5.23e-01, acc(valid)=8.29e-01\n",
      "Widget Javascript not detected.  It may not be installed or enabled properly.\n"
     ]
    },
    {
     "data": {
      "application/vnd.jupyter.widget-view+json": {
       "model_id": "0751bba8c5fd4ed484ba8d640159e259"
      }
     },
     "metadata": {},
     "output_type": "display_data"
    },
    {
     "name": "stderr",
     "output_type": "stream",
     "text": [
      "Epoch 12: 4.0s to complete\n",
      "    error(train)=3.73e-01, acc(train)=8.73e-01, error(valid)=5.13e-01, acc(valid)=8.34e-01\n",
      "Widget Javascript not detected.  It may not be installed or enabled properly.\n"
     ]
    },
    {
     "data": {
      "application/vnd.jupyter.widget-view+json": {
       "model_id": "8714577f895340a1a15a032ed4ad5c2f"
      }
     },
     "metadata": {},
     "output_type": "display_data"
    },
    {
     "name": "stderr",
     "output_type": "stream",
     "text": [
      "Epoch 13: 4.0s to complete\n",
      "    error(train)=3.66e-01, acc(train)=8.75e-01, error(valid)=5.22e-01, acc(valid)=8.31e-01\n",
      "Widget Javascript not detected.  It may not be installed or enabled properly.\n"
     ]
    },
    {
     "data": {
      "application/vnd.jupyter.widget-view+json": {
       "model_id": "24c32116d9a74398b78ad86153cd591a"
      }
     },
     "metadata": {},
     "output_type": "display_data"
    },
    {
     "name": "stderr",
     "output_type": "stream",
     "text": [
      "Epoch 14: 4.2s to complete\n",
      "    error(train)=3.49e-01, acc(train)=8.80e-01, error(valid)=5.11e-01, acc(valid)=8.35e-01\n",
      "Widget Javascript not detected.  It may not be installed or enabled properly.\n"
     ]
    },
    {
     "data": {
      "application/vnd.jupyter.widget-view+json": {
       "model_id": "559c1d80063b45e2886ec53e3f5783dd"
      }
     },
     "metadata": {},
     "output_type": "display_data"
    },
    {
     "name": "stderr",
     "output_type": "stream",
     "text": [
      "Epoch 15: 3.6s to complete\n",
      "    error(train)=3.47e-01, acc(train)=8.80e-01, error(valid)=5.19e-01, acc(valid)=8.36e-01\n",
      "Widget Javascript not detected.  It may not be installed or enabled properly.\n"
     ]
    },
    {
     "data": {
      "application/vnd.jupyter.widget-view+json": {
       "model_id": "2d91e23514034672a736e5ce50e31715"
      }
     },
     "metadata": {},
     "output_type": "display_data"
    },
    {
     "name": "stderr",
     "output_type": "stream",
     "text": [
      "Epoch 16: 3.5s to complete\n",
      "    error(train)=3.38e-01, acc(train)=8.84e-01, error(valid)=5.15e-01, acc(valid)=8.38e-01\n",
      "Widget Javascript not detected.  It may not be installed or enabled properly.\n"
     ]
    },
    {
     "data": {
      "application/vnd.jupyter.widget-view+json": {
       "model_id": "2bfea9de3e19440692a94f7acc7171ec"
      }
     },
     "metadata": {},
     "output_type": "display_data"
    },
    {
     "name": "stderr",
     "output_type": "stream",
     "text": [
      "Epoch 17: 3.5s to complete\n",
      "    error(train)=3.45e-01, acc(train)=8.78e-01, error(valid)=5.30e-01, acc(valid)=8.30e-01\n",
      "Widget Javascript not detected.  It may not be installed or enabled properly.\n"
     ]
    },
    {
     "data": {
      "application/vnd.jupyter.widget-view+json": {
       "model_id": "4ade4a059ca44a7892825f656c9e674a"
      }
     },
     "metadata": {},
     "output_type": "display_data"
    },
    {
     "name": "stderr",
     "output_type": "stream",
     "text": [
      "Epoch 18: 3.6s to complete\n",
      "    error(train)=3.30e-01, acc(train)=8.84e-01, error(valid)=5.26e-01, acc(valid)=8.35e-01\n",
      "Widget Javascript not detected.  It may not be installed or enabled properly.\n"
     ]
    },
    {
     "data": {
      "application/vnd.jupyter.widget-view+json": {
       "model_id": "9330857a813a4f4e9dd73576cc9f3f2e"
      }
     },
     "metadata": {},
     "output_type": "display_data"
    },
    {
     "name": "stderr",
     "output_type": "stream",
     "text": [
      "Epoch 19: 3.6s to complete\n",
      "    error(train)=3.30e-01, acc(train)=8.85e-01, error(valid)=5.38e-01, acc(valid)=8.32e-01\n",
      "Widget Javascript not detected.  It may not be installed or enabled properly.\n"
     ]
    },
    {
     "data": {
      "application/vnd.jupyter.widget-view+json": {
       "model_id": "102b9c98b1184e73bd5706975c626bee"
      }
     },
     "metadata": {},
     "output_type": "display_data"
    },
    {
     "name": "stderr",
     "output_type": "stream",
     "text": [
      "Epoch 20: 3.6s to complete\n",
      "    error(train)=3.19e-01, acc(train)=8.88e-01, error(valid)=5.37e-01, acc(valid)=8.33e-01\n",
      "Widget Javascript not detected.  It may not be installed or enabled properly.\n"
     ]
    },
    {
     "data": {
      "application/vnd.jupyter.widget-view+json": {
       "model_id": "b8e2e96c540040948bdfe02b874b342f"
      }
     },
     "metadata": {},
     "output_type": "display_data"
    },
    {
     "name": "stderr",
     "output_type": "stream",
     "text": [
      "Epoch 21: 3.7s to complete\n",
      "    error(train)=3.10e-01, acc(train)=8.91e-01, error(valid)=5.38e-01, acc(valid)=8.32e-01\n",
      "Widget Javascript not detected.  It may not be installed or enabled properly.\n"
     ]
    },
    {
     "data": {
      "application/vnd.jupyter.widget-view+json": {
       "model_id": "c315ad0cee5443049dc3563b24080ad3"
      }
     },
     "metadata": {},
     "output_type": "display_data"
    },
    {
     "name": "stderr",
     "output_type": "stream",
     "text": [
      "Epoch 22: 3.6s to complete\n",
      "    error(train)=3.02e-01, acc(train)=8.93e-01, error(valid)=5.36e-01, acc(valid)=8.35e-01\n",
      "Widget Javascript not detected.  It may not be installed or enabled properly.\n"
     ]
    },
    {
     "data": {
      "application/vnd.jupyter.widget-view+json": {
       "model_id": "b5bb2bae0c114485b2534ccfe6730c90"
      }
     },
     "metadata": {},
     "output_type": "display_data"
    },
    {
     "name": "stderr",
     "output_type": "stream",
     "text": [
      "Epoch 23: 3.6s to complete\n",
      "    error(train)=3.02e-01, acc(train)=8.91e-01, error(valid)=5.45e-01, acc(valid)=8.23e-01\n",
      "Widget Javascript not detected.  It may not be installed or enabled properly.\n"
     ]
    },
    {
     "data": {
      "application/vnd.jupyter.widget-view+json": {
       "model_id": "f22d667670be43b688c84377f24f6bac"
      }
     },
     "metadata": {},
     "output_type": "display_data"
    },
    {
     "name": "stderr",
     "output_type": "stream",
     "text": [
      "Epoch 24: 3.5s to complete\n",
      "    error(train)=3.04e-01, acc(train)=8.91e-01, error(valid)=5.53e-01, acc(valid)=8.33e-01\n",
      "Widget Javascript not detected.  It may not be installed or enabled properly.\n"
     ]
    },
    {
     "data": {
      "application/vnd.jupyter.widget-view+json": {
       "model_id": "7abfab8212914f8cb1c7d6c0dcaac609"
      }
     },
     "metadata": {},
     "output_type": "display_data"
    },
    {
     "name": "stderr",
     "output_type": "stream",
     "text": [
      "Epoch 25: 3.6s to complete\n",
      "    error(train)=3.06e-01, acc(train)=8.89e-01, error(valid)=5.69e-01, acc(valid)=8.27e-01\n",
      "Widget Javascript not detected.  It may not be installed or enabled properly.\n"
     ]
    },
    {
     "data": {
      "application/vnd.jupyter.widget-view+json": {
       "model_id": "beefc5cd23cb4a97a03f62f1cefe9525"
      }
     },
     "metadata": {},
     "output_type": "display_data"
    },
    {
     "name": "stderr",
     "output_type": "stream",
     "text": [
      "Epoch 26: 3.6s to complete\n",
      "    error(train)=2.90e-01, acc(train)=8.97e-01, error(valid)=5.53e-01, acc(valid)=8.32e-01\n",
      "Widget Javascript not detected.  It may not be installed or enabled properly.\n"
     ]
    },
    {
     "data": {
      "application/vnd.jupyter.widget-view+json": {
       "model_id": "d5f7bb0ed456452cbbb73da091c0926e"
      }
     },
     "metadata": {},
     "output_type": "display_data"
    },
    {
     "name": "stderr",
     "output_type": "stream",
     "text": [
      "Epoch 27: 3.6s to complete\n",
      "    error(train)=2.78e-01, acc(train)=9.00e-01, error(valid)=5.49e-01, acc(valid)=8.33e-01\n",
      "Widget Javascript not detected.  It may not be installed or enabled properly.\n"
     ]
    },
    {
     "data": {
      "application/vnd.jupyter.widget-view+json": {
       "model_id": "0dd4c87e71094b198d0172353fb6dba4"
      }
     },
     "metadata": {},
     "output_type": "display_data"
    },
    {
     "name": "stderr",
     "output_type": "stream",
     "text": [
      "Epoch 28: 3.7s to complete\n",
      "    error(train)=2.75e-01, acc(train)=9.01e-01, error(valid)=5.58e-01, acc(valid)=8.31e-01\n",
      "Widget Javascript not detected.  It may not be installed or enabled properly.\n"
     ]
    },
    {
     "data": {
      "application/vnd.jupyter.widget-view+json": {
       "model_id": "c2d971c5b1bd45e7893f46db907c2aa7"
      }
     },
     "metadata": {},
     "output_type": "display_data"
    },
    {
     "name": "stderr",
     "output_type": "stream",
     "text": [
      "Epoch 29: 3.6s to complete\n",
      "    error(train)=2.79e-01, acc(train)=9.00e-01, error(valid)=5.66e-01, acc(valid)=8.30e-01\n",
      "Widget Javascript not detected.  It may not be installed or enabled properly.\n"
     ]
    },
    {
     "data": {
      "application/vnd.jupyter.widget-view+json": {
       "model_id": "47f0ccf4cced40dc9123254c6c21e19b"
      }
     },
     "metadata": {},
     "output_type": "display_data"
    },
    {
     "name": "stderr",
     "output_type": "stream",
     "text": [
      "Epoch 30: 3.9s to complete\n",
      "    error(train)=2.70e-01, acc(train)=9.03e-01, error(valid)=5.68e-01, acc(valid)=8.33e-01\n",
      "Widget Javascript not detected.  It may not be installed or enabled properly.\n"
     ]
    },
    {
     "data": {
      "application/vnd.jupyter.widget-view+json": {
       "model_id": "ed966972e0d74d56bb47ad438bd58f07"
      }
     },
     "metadata": {},
     "output_type": "display_data"
    },
    {
     "name": "stderr",
     "output_type": "stream",
     "text": [
      "Epoch 31: 4.1s to complete\n",
      "    error(train)=2.66e-01, acc(train)=9.04e-01, error(valid)=5.66e-01, acc(valid)=8.30e-01\n",
      "Widget Javascript not detected.  It may not be installed or enabled properly.\n"
     ]
    },
    {
     "data": {
      "application/vnd.jupyter.widget-view+json": {
       "model_id": "459140e0965d44eeb755f8d8cc6a57e5"
      }
     },
     "metadata": {},
     "output_type": "display_data"
    },
    {
     "name": "stderr",
     "output_type": "stream",
     "text": [
      "Epoch 32: 3.8s to complete\n",
      "    error(train)=2.65e-01, acc(train)=9.04e-01, error(valid)=5.82e-01, acc(valid)=8.28e-01\n",
      "Widget Javascript not detected.  It may not be installed or enabled properly.\n"
     ]
    },
    {
     "data": {
      "application/vnd.jupyter.widget-view+json": {
       "model_id": "96cc9ce5acae4f20bf11945f7ff4a1bf"
      }
     },
     "metadata": {},
     "output_type": "display_data"
    },
    {
     "name": "stderr",
     "output_type": "stream",
     "text": [
      "Epoch 33: 3.7s to complete\n",
      "    error(train)=2.63e-01, acc(train)=9.04e-01, error(valid)=5.85e-01, acc(valid)=8.29e-01\n",
      "Widget Javascript not detected.  It may not be installed or enabled properly.\n"
     ]
    },
    {
     "data": {
      "application/vnd.jupyter.widget-view+json": {
       "model_id": "d8c2c6fc72ce4937a1b2d67acde9713c"
      }
     },
     "metadata": {},
     "output_type": "display_data"
    },
    {
     "name": "stderr",
     "output_type": "stream",
     "text": [
      "Epoch 34: 4.1s to complete\n",
      "    error(train)=2.61e-01, acc(train)=9.06e-01, error(valid)=5.93e-01, acc(valid)=8.30e-01\n",
      "Widget Javascript not detected.  It may not be installed or enabled properly.\n"
     ]
    },
    {
     "data": {
      "application/vnd.jupyter.widget-view+json": {
       "model_id": "bcd4cb659b934ed382fa7ea2abba3c2c"
      }
     },
     "metadata": {},
     "output_type": "display_data"
    },
    {
     "name": "stderr",
     "output_type": "stream",
     "text": [
      "Epoch 35: 4.2s to complete\n",
      "    error(train)=2.57e-01, acc(train)=9.06e-01, error(valid)=5.92e-01, acc(valid)=8.31e-01\n",
      "Widget Javascript not detected.  It may not be installed or enabled properly.\n"
     ]
    },
    {
     "data": {
      "application/vnd.jupyter.widget-view+json": {
       "model_id": "4dafebba1943460caf4e40481e67cfdd"
      }
     },
     "metadata": {},
     "output_type": "display_data"
    },
    {
     "name": "stderr",
     "output_type": "stream",
     "text": [
      "Epoch 36: 4.0s to complete\n",
      "    error(train)=2.50e-01, acc(train)=9.10e-01, error(valid)=5.94e-01, acc(valid)=8.25e-01\n",
      "Widget Javascript not detected.  It may not be installed or enabled properly.\n"
     ]
    },
    {
     "data": {
      "application/vnd.jupyter.widget-view+json": {
       "model_id": "321bb530eed3462ca58e74a906170beb"
      }
     },
     "metadata": {},
     "output_type": "display_data"
    },
    {
     "name": "stderr",
     "output_type": "stream",
     "text": [
      "Epoch 37: 3.6s to complete\n",
      "    error(train)=2.61e-01, acc(train)=9.04e-01, error(valid)=6.13e-01, acc(valid)=8.25e-01\n",
      "Widget Javascript not detected.  It may not be installed or enabled properly.\n"
     ]
    },
    {
     "data": {
      "application/vnd.jupyter.widget-view+json": {
       "model_id": "33fe15bc577a4282ba6e49aabd4cc0cb"
      }
     },
     "metadata": {},
     "output_type": "display_data"
    },
    {
     "name": "stderr",
     "output_type": "stream",
     "text": [
      "Epoch 38: 3.5s to complete\n",
      "    error(train)=2.47e-01, acc(train)=9.10e-01, error(valid)=6.07e-01, acc(valid)=8.28e-01\n",
      "Widget Javascript not detected.  It may not be installed or enabled properly.\n"
     ]
    },
    {
     "data": {
      "application/vnd.jupyter.widget-view+json": {
       "model_id": "7fd6e748104748aaa6993470435ce970"
      }
     },
     "metadata": {},
     "output_type": "display_data"
    },
    {
     "name": "stderr",
     "output_type": "stream",
     "text": [
      "Epoch 39: 3.6s to complete\n",
      "    error(train)=2.50e-01, acc(train)=9.08e-01, error(valid)=6.14e-01, acc(valid)=8.27e-01\n",
      "Widget Javascript not detected.  It may not be installed or enabled properly.\n"
     ]
    },
    {
     "data": {
      "application/vnd.jupyter.widget-view+json": {
       "model_id": "ca0f8fa8193542ffac34947961e1d58d"
      }
     },
     "metadata": {},
     "output_type": "display_data"
    },
    {
     "name": "stderr",
     "output_type": "stream",
     "text": [
      "Epoch 40: 3.7s to complete\n",
      "    error(train)=2.43e-01, acc(train)=9.11e-01, error(valid)=6.14e-01, acc(valid)=8.28e-01\n",
      "Widget Javascript not detected.  It may not be installed or enabled properly.\n"
     ]
    },
    {
     "data": {
      "application/vnd.jupyter.widget-view+json": {
       "model_id": "afe5817b39954fb5a1fa2373e1738622"
      }
     },
     "metadata": {},
     "output_type": "display_data"
    },
    {
     "name": "stderr",
     "output_type": "stream",
     "text": [
      "Epoch 41: 3.6s to complete\n",
      "    error(train)=2.40e-01, acc(train)=9.11e-01, error(valid)=6.22e-01, acc(valid)=8.24e-01\n",
      "Widget Javascript not detected.  It may not be installed or enabled properly.\n"
     ]
    },
    {
     "data": {
      "application/vnd.jupyter.widget-view+json": {
       "model_id": "e3416718272e4efca03eaff4b9f10398"
      }
     },
     "metadata": {},
     "output_type": "display_data"
    },
    {
     "name": "stderr",
     "output_type": "stream",
     "text": [
      "Epoch 42: 3.7s to complete\n",
      "    error(train)=2.37e-01, acc(train)=9.13e-01, error(valid)=6.30e-01, acc(valid)=8.25e-01\n",
      "Widget Javascript not detected.  It may not be installed or enabled properly.\n"
     ]
    },
    {
     "data": {
      "application/vnd.jupyter.widget-view+json": {
       "model_id": "4dfa9033e8cb4e1e8a3f8a1929151b6b"
      }
     },
     "metadata": {},
     "output_type": "display_data"
    },
    {
     "name": "stderr",
     "output_type": "stream",
     "text": [
      "Epoch 43: 3.6s to complete\n",
      "    error(train)=2.31e-01, acc(train)=9.16e-01, error(valid)=6.29e-01, acc(valid)=8.25e-01\n",
      "Widget Javascript not detected.  It may not be installed or enabled properly.\n"
     ]
    },
    {
     "data": {
      "application/vnd.jupyter.widget-view+json": {
       "model_id": "a6f0e7707418437fba9c9b2bc3e2d3e1"
      }
     },
     "metadata": {},
     "output_type": "display_data"
    },
    {
     "name": "stderr",
     "output_type": "stream",
     "text": [
      "Epoch 44: 3.6s to complete\n",
      "    error(train)=2.26e-01, acc(train)=9.18e-01, error(valid)=6.32e-01, acc(valid)=8.28e-01\n",
      "Widget Javascript not detected.  It may not be installed or enabled properly.\n"
     ]
    },
    {
     "data": {
      "application/vnd.jupyter.widget-view+json": {
       "model_id": "f1823cdd93304f4fa95d969e849eb173"
      }
     },
     "metadata": {},
     "output_type": "display_data"
    },
    {
     "name": "stderr",
     "output_type": "stream",
     "text": [
      "Epoch 45: 3.6s to complete\n",
      "    error(train)=2.40e-01, acc(train)=9.10e-01, error(valid)=6.50e-01, acc(valid)=8.19e-01\n",
      "Widget Javascript not detected.  It may not be installed or enabled properly.\n"
     ]
    },
    {
     "data": {
      "application/vnd.jupyter.widget-view+json": {
       "model_id": "465ccff5dce848c49acfc7a8c988f647"
      }
     },
     "metadata": {},
     "output_type": "display_data"
    },
    {
     "name": "stderr",
     "output_type": "stream",
     "text": [
      "Epoch 46: 3.5s to complete\n",
      "    error(train)=2.34e-01, acc(train)=9.13e-01, error(valid)=6.56e-01, acc(valid)=8.21e-01\n",
      "Widget Javascript not detected.  It may not be installed or enabled properly.\n"
     ]
    },
    {
     "data": {
      "application/vnd.jupyter.widget-view+json": {
       "model_id": "1bb3d23a9daf4b7caf9e0d69a882d625"
      }
     },
     "metadata": {},
     "output_type": "display_data"
    },
    {
     "name": "stderr",
     "output_type": "stream",
     "text": [
      "Epoch 47: 3.7s to complete\n",
      "    error(train)=2.30e-01, acc(train)=9.15e-01, error(valid)=6.63e-01, acc(valid)=8.23e-01\n",
      "Widget Javascript not detected.  It may not be installed or enabled properly.\n"
     ]
    },
    {
     "data": {
      "application/vnd.jupyter.widget-view+json": {
       "model_id": "fe9f1ab32f5543c99e6610f148010bb1"
      }
     },
     "metadata": {},
     "output_type": "display_data"
    },
    {
     "name": "stderr",
     "output_type": "stream",
     "text": [
      "Epoch 48: 3.6s to complete\n",
      "    error(train)=2.19e-01, acc(train)=9.18e-01, error(valid)=6.51e-01, acc(valid)=8.23e-01\n",
      "Widget Javascript not detected.  It may not be installed or enabled properly.\n"
     ]
    },
    {
     "data": {
      "application/vnd.jupyter.widget-view+json": {
       "model_id": "09ceb2c764e447fd829bf5b49969f9f3"
      }
     },
     "metadata": {},
     "output_type": "display_data"
    },
    {
     "name": "stderr",
     "output_type": "stream",
     "text": [
      "Epoch 49: 3.6s to complete\n",
      "    error(train)=2.25e-01, acc(train)=9.18e-01, error(valid)=6.62e-01, acc(valid)=8.23e-01\n",
      "Widget Javascript not detected.  It may not be installed or enabled properly.\n"
     ]
    },
    {
     "data": {
      "application/vnd.jupyter.widget-view+json": {
       "model_id": "9a368507ea2b45c7a45a82b86c670a74"
      }
     },
     "metadata": {},
     "output_type": "display_data"
    },
    {
     "name": "stderr",
     "output_type": "stream",
     "text": [
      "Epoch 50: 3.6s to complete\n",
      "    error(train)=2.22e-01, acc(train)=9.18e-01, error(valid)=6.73e-01, acc(valid)=8.19e-01\n",
      "Widget Javascript not detected.  It may not be installed or enabled properly.\n"
     ]
    },
    {
     "data": {
      "application/vnd.jupyter.widget-view+json": {
       "model_id": "2323c7a26d144aebbd577e91cc2a9a6b"
      }
     },
     "metadata": {},
     "output_type": "display_data"
    },
    {
     "name": "stderr",
     "output_type": "stream",
     "text": [
      "Epoch 51: 3.6s to complete\n",
      "    error(train)=2.19e-01, acc(train)=9.20e-01, error(valid)=6.75e-01, acc(valid)=8.20e-01\n",
      "Widget Javascript not detected.  It may not be installed or enabled properly.\n"
     ]
    },
    {
     "data": {
      "application/vnd.jupyter.widget-view+json": {
       "model_id": "bf4721c93c774b1d81bc0f6b88835db4"
      }
     },
     "metadata": {},
     "output_type": "display_data"
    },
    {
     "name": "stderr",
     "output_type": "stream",
     "text": [
      "Epoch 52: 3.6s to complete\n",
      "    error(train)=2.20e-01, acc(train)=9.19e-01, error(valid)=6.88e-01, acc(valid)=8.22e-01\n",
      "Widget Javascript not detected.  It may not be installed or enabled properly.\n"
     ]
    },
    {
     "data": {
      "application/vnd.jupyter.widget-view+json": {
       "model_id": "333c92adc56f4b00beaf0d3df59629f9"
      }
     },
     "metadata": {},
     "output_type": "display_data"
    },
    {
     "name": "stderr",
     "output_type": "stream",
     "text": [
      "Epoch 53: 3.9s to complete\n",
      "    error(train)=2.14e-01, acc(train)=9.22e-01, error(valid)=6.92e-01, acc(valid)=8.19e-01\n",
      "Widget Javascript not detected.  It may not be installed or enabled properly.\n"
     ]
    },
    {
     "data": {
      "application/vnd.jupyter.widget-view+json": {
       "model_id": "acb0e353afb242aabab44e5631db79cb"
      }
     },
     "metadata": {},
     "output_type": "display_data"
    },
    {
     "name": "stderr",
     "output_type": "stream",
     "text": [
      "Epoch 54: 3.7s to complete\n",
      "    error(train)=2.14e-01, acc(train)=9.20e-01, error(valid)=6.95e-01, acc(valid)=8.22e-01\n",
      "Widget Javascript not detected.  It may not be installed or enabled properly.\n"
     ]
    },
    {
     "data": {
      "application/vnd.jupyter.widget-view+json": {
       "model_id": "eba87424c5834d9aa67ee6e6d2184ece"
      }
     },
     "metadata": {},
     "output_type": "display_data"
    },
    {
     "name": "stderr",
     "output_type": "stream",
     "text": [
      "Epoch 55: 3.7s to complete\n",
      "    error(train)=2.17e-01, acc(train)=9.19e-01, error(valid)=6.97e-01, acc(valid)=8.20e-01\n",
      "Widget Javascript not detected.  It may not be installed or enabled properly.\n"
     ]
    },
    {
     "data": {
      "application/vnd.jupyter.widget-view+json": {
       "model_id": "e4cb3d5508f5421ea84d2daf8bc2f656"
      }
     },
     "metadata": {},
     "output_type": "display_data"
    },
    {
     "name": "stderr",
     "output_type": "stream",
     "text": [
      "Epoch 56: 3.6s to complete\n",
      "    error(train)=2.05e-01, acc(train)=9.24e-01, error(valid)=6.96e-01, acc(valid)=8.21e-01\n",
      "Widget Javascript not detected.  It may not be installed or enabled properly.\n"
     ]
    },
    {
     "data": {
      "application/vnd.jupyter.widget-view+json": {
       "model_id": "dfc57cd79c86437787707167dc590d03"
      }
     },
     "metadata": {},
     "output_type": "display_data"
    },
    {
     "name": "stderr",
     "output_type": "stream",
     "text": [
      "Epoch 57: 3.6s to complete\n",
      "    error(train)=2.17e-01, acc(train)=9.18e-01, error(valid)=7.19e-01, acc(valid)=8.18e-01\n",
      "Widget Javascript not detected.  It may not be installed or enabled properly.\n"
     ]
    },
    {
     "data": {
      "application/vnd.jupyter.widget-view+json": {
       "model_id": "f8e52f33b1c94e019eb086ba1708102c"
      }
     },
     "metadata": {},
     "output_type": "display_data"
    },
    {
     "name": "stderr",
     "output_type": "stream",
     "text": [
      "Epoch 58: 3.6s to complete\n",
      "    error(train)=2.05e-01, acc(train)=9.24e-01, error(valid)=7.08e-01, acc(valid)=8.21e-01\n",
      "Widget Javascript not detected.  It may not be installed or enabled properly.\n"
     ]
    },
    {
     "data": {
      "application/vnd.jupyter.widget-view+json": {
       "model_id": "fc2ba616ad97469a958c2621db87bc3a"
      }
     },
     "metadata": {},
     "output_type": "display_data"
    },
    {
     "name": "stderr",
     "output_type": "stream",
     "text": [
      "Epoch 59: 3.6s to complete\n",
      "    error(train)=2.03e-01, acc(train)=9.23e-01, error(valid)=7.13e-01, acc(valid)=8.19e-01\n",
      "Widget Javascript not detected.  It may not be installed or enabled properly.\n"
     ]
    },
    {
     "data": {
      "application/vnd.jupyter.widget-view+json": {
       "model_id": "37c9107c0a2c4508840e41aad6aeab05"
      }
     },
     "metadata": {},
     "output_type": "display_data"
    },
    {
     "name": "stderr",
     "output_type": "stream",
     "text": [
      "Epoch 60: 3.6s to complete\n",
      "    error(train)=2.03e-01, acc(train)=9.24e-01, error(valid)=7.26e-01, acc(valid)=8.16e-01\n",
      "Widget Javascript not detected.  It may not be installed or enabled properly.\n"
     ]
    },
    {
     "data": {
      "application/vnd.jupyter.widget-view+json": {
       "model_id": "898626ad81cd44da9f7e03e83e68f56a"
      }
     },
     "metadata": {},
     "output_type": "display_data"
    },
    {
     "name": "stderr",
     "output_type": "stream",
     "text": [
      "Epoch 61: 3.7s to complete\n",
      "    error(train)=2.04e-01, acc(train)=9.24e-01, error(valid)=7.35e-01, acc(valid)=8.18e-01\n",
      "Widget Javascript not detected.  It may not be installed or enabled properly.\n"
     ]
    },
    {
     "data": {
      "application/vnd.jupyter.widget-view+json": {
       "model_id": "e139073b321a4fad87ead8e9537148b7"
      }
     },
     "metadata": {},
     "output_type": "display_data"
    },
    {
     "name": "stderr",
     "output_type": "stream",
     "text": [
      "Epoch 62: 3.6s to complete\n",
      "    error(train)=2.03e-01, acc(train)=9.23e-01, error(valid)=7.44e-01, acc(valid)=8.18e-01\n",
      "Widget Javascript not detected.  It may not be installed or enabled properly.\n"
     ]
    },
    {
     "data": {
      "application/vnd.jupyter.widget-view+json": {
       "model_id": "24003049073f48349d6bb271391db9f9"
      }
     },
     "metadata": {},
     "output_type": "display_data"
    },
    {
     "name": "stderr",
     "output_type": "stream",
     "text": [
      "Epoch 63: 3.6s to complete\n",
      "    error(train)=2.04e-01, acc(train)=9.23e-01, error(valid)=7.48e-01, acc(valid)=8.18e-01\n",
      "Widget Javascript not detected.  It may not be installed or enabled properly.\n"
     ]
    },
    {
     "data": {
      "application/vnd.jupyter.widget-view+json": {
       "model_id": "b6b83bdeeae947df858e192a32fc14d2"
      }
     },
     "metadata": {},
     "output_type": "display_data"
    },
    {
     "name": "stderr",
     "output_type": "stream",
     "text": [
      "Epoch 64: 3.6s to complete\n",
      "    error(train)=1.95e-01, acc(train)=9.27e-01, error(valid)=7.53e-01, acc(valid)=8.18e-01\n",
      "Widget Javascript not detected.  It may not be installed or enabled properly.\n"
     ]
    },
    {
     "data": {
      "application/vnd.jupyter.widget-view+json": {
       "model_id": "4dc7a2ae681a48029d260613a4c72ebd"
      }
     },
     "metadata": {},
     "output_type": "display_data"
    },
    {
     "name": "stderr",
     "output_type": "stream",
     "text": [
      "Epoch 65: 3.6s to complete\n",
      "    error(train)=1.90e-01, acc(train)=9.29e-01, error(valid)=7.51e-01, acc(valid)=8.18e-01\n",
      "Widget Javascript not detected.  It may not be installed or enabled properly.\n"
     ]
    },
    {
     "data": {
      "application/vnd.jupyter.widget-view+json": {
       "model_id": "6ab285131d2344e6903ca1b619661a7d"
      }
     },
     "metadata": {},
     "output_type": "display_data"
    },
    {
     "name": "stderr",
     "output_type": "stream",
     "text": [
      "Epoch 66: 3.7s to complete\n",
      "    error(train)=1.99e-01, acc(train)=9.25e-01, error(valid)=7.72e-01, acc(valid)=8.14e-01\n",
      "Widget Javascript not detected.  It may not be installed or enabled properly.\n"
     ]
    },
    {
     "data": {
      "application/vnd.jupyter.widget-view+json": {
       "model_id": "2c0c5314fdcf4428856ad5bcbbf9a37b"
      }
     },
     "metadata": {},
     "output_type": "display_data"
    },
    {
     "name": "stderr",
     "output_type": "stream",
     "text": [
      "Epoch 67: 3.7s to complete\n",
      "    error(train)=1.89e-01, acc(train)=9.29e-01, error(valid)=7.60e-01, acc(valid)=8.19e-01\n",
      "Widget Javascript not detected.  It may not be installed or enabled properly.\n"
     ]
    },
    {
     "data": {
      "application/vnd.jupyter.widget-view+json": {
       "model_id": "d03242963f7b4be1a61991b9afaf0ce6"
      }
     },
     "metadata": {},
     "output_type": "display_data"
    },
    {
     "name": "stderr",
     "output_type": "stream",
     "text": [
      "Epoch 68: 3.6s to complete\n",
      "    error(train)=1.93e-01, acc(train)=9.27e-01, error(valid)=7.68e-01, acc(valid)=8.12e-01\n",
      "Widget Javascript not detected.  It may not be installed or enabled properly.\n"
     ]
    },
    {
     "data": {
      "application/vnd.jupyter.widget-view+json": {
       "model_id": "26d8f47079d54d759592f2c7a3711320"
      }
     },
     "metadata": {},
     "output_type": "display_data"
    },
    {
     "name": "stderr",
     "output_type": "stream",
     "text": [
      "Epoch 69: 3.6s to complete\n",
      "    error(train)=1.85e-01, acc(train)=9.31e-01, error(valid)=7.70e-01, acc(valid)=8.16e-01\n",
      "Widget Javascript not detected.  It may not be installed or enabled properly.\n"
     ]
    },
    {
     "data": {
      "application/vnd.jupyter.widget-view+json": {
       "model_id": "1389fb99564f4a54895d141a192738f5"
      }
     },
     "metadata": {},
     "output_type": "display_data"
    },
    {
     "name": "stderr",
     "output_type": "stream",
     "text": [
      "Epoch 70: 3.7s to complete\n",
      "    error(train)=1.86e-01, acc(train)=9.30e-01, error(valid)=7.86e-01, acc(valid)=8.16e-01\n",
      "Widget Javascript not detected.  It may not be installed or enabled properly.\n"
     ]
    },
    {
     "data": {
      "application/vnd.jupyter.widget-view+json": {
       "model_id": "e39d3d6917a04733a6af76aa580cffd4"
      }
     },
     "metadata": {},
     "output_type": "display_data"
    },
    {
     "name": "stderr",
     "output_type": "stream",
     "text": [
      "Epoch 71: 3.6s to complete\n",
      "    error(train)=1.84e-01, acc(train)=9.31e-01, error(valid)=7.95e-01, acc(valid)=8.13e-01\n",
      "Widget Javascript not detected.  It may not be installed or enabled properly.\n"
     ]
    },
    {
     "data": {
      "application/vnd.jupyter.widget-view+json": {
       "model_id": "494b340166dd475999fc7e8df8517e53"
      }
     },
     "metadata": {},
     "output_type": "display_data"
    },
    {
     "name": "stderr",
     "output_type": "stream",
     "text": [
      "Epoch 72: 3.7s to complete\n",
      "    error(train)=1.83e-01, acc(train)=9.32e-01, error(valid)=7.97e-01, acc(valid)=8.15e-01\n",
      "Widget Javascript not detected.  It may not be installed or enabled properly.\n"
     ]
    },
    {
     "data": {
      "application/vnd.jupyter.widget-view+json": {
       "model_id": "1e8bdc8170514db59821acd3aaaea99b"
      }
     },
     "metadata": {},
     "output_type": "display_data"
    },
    {
     "name": "stderr",
     "output_type": "stream",
     "text": [
      "Epoch 73: 3.7s to complete\n",
      "    error(train)=1.79e-01, acc(train)=9.32e-01, error(valid)=7.96e-01, acc(valid)=8.15e-01\n",
      "Widget Javascript not detected.  It may not be installed or enabled properly.\n"
     ]
    },
    {
     "data": {
      "application/vnd.jupyter.widget-view+json": {
       "model_id": "f0bed459790d489aa33aa961c3fe4b7c"
      }
     },
     "metadata": {},
     "output_type": "display_data"
    },
    {
     "name": "stderr",
     "output_type": "stream",
     "text": [
      "Epoch 74: 3.9s to complete\n",
      "    error(train)=1.81e-01, acc(train)=9.32e-01, error(valid)=8.10e-01, acc(valid)=8.12e-01\n",
      "Widget Javascript not detected.  It may not be installed or enabled properly.\n"
     ]
    },
    {
     "data": {
      "application/vnd.jupyter.widget-view+json": {
       "model_id": "f0fbd850a9834b5db7d131b53e18f384"
      }
     },
     "metadata": {},
     "output_type": "display_data"
    },
    {
     "name": "stderr",
     "output_type": "stream",
     "text": [
      "Epoch 75: 3.7s to complete\n",
      "    error(train)=1.82e-01, acc(train)=9.31e-01, error(valid)=8.15e-01, acc(valid)=8.14e-01\n",
      "Widget Javascript not detected.  It may not be installed or enabled properly.\n"
     ]
    },
    {
     "data": {
      "application/vnd.jupyter.widget-view+json": {
       "model_id": "db765b78a5b949609b33a74b125c0f98"
      }
     },
     "metadata": {},
     "output_type": "display_data"
    },
    {
     "name": "stderr",
     "output_type": "stream",
     "text": [
      "Epoch 76: 3.7s to complete\n",
      "    error(train)=1.82e-01, acc(train)=9.31e-01, error(valid)=8.26e-01, acc(valid)=8.14e-01\n",
      "Widget Javascript not detected.  It may not be installed or enabled properly.\n"
     ]
    },
    {
     "data": {
      "application/vnd.jupyter.widget-view+json": {
       "model_id": "4b0e2ac7364b4b5d9cc324e987679fc4"
      }
     },
     "metadata": {},
     "output_type": "display_data"
    },
    {
     "name": "stderr",
     "output_type": "stream",
     "text": [
      "Epoch 77: 3.7s to complete\n",
      "    error(train)=1.82e-01, acc(train)=9.31e-01, error(valid)=8.33e-01, acc(valid)=8.11e-01\n",
      "Widget Javascript not detected.  It may not be installed or enabled properly.\n"
     ]
    },
    {
     "data": {
      "application/vnd.jupyter.widget-view+json": {
       "model_id": "a77b37bf92b64707be6ce53a39dc7013"
      }
     },
     "metadata": {},
     "output_type": "display_data"
    },
    {
     "name": "stderr",
     "output_type": "stream",
     "text": [
      "Epoch 78: 3.6s to complete\n",
      "    error(train)=1.75e-01, acc(train)=9.34e-01, error(valid)=8.41e-01, acc(valid)=8.15e-01\n",
      "Widget Javascript not detected.  It may not be installed or enabled properly.\n"
     ]
    },
    {
     "data": {
      "application/vnd.jupyter.widget-view+json": {
       "model_id": "69549803298342eebe2908c1cc1f842f"
      }
     },
     "metadata": {},
     "output_type": "display_data"
    },
    {
     "name": "stderr",
     "output_type": "stream",
     "text": [
      "Epoch 79: 3.6s to complete\n",
      "    error(train)=1.82e-01, acc(train)=9.30e-01, error(valid)=8.50e-01, acc(valid)=8.09e-01\n",
      "Widget Javascript not detected.  It may not be installed or enabled properly.\n"
     ]
    },
    {
     "data": {
      "application/vnd.jupyter.widget-view+json": {
       "model_id": "4e5c7812f5d3448ba7b004668aba2cdd"
      }
     },
     "metadata": {},
     "output_type": "display_data"
    },
    {
     "name": "stderr",
     "output_type": "stream",
     "text": [
      "Epoch 80: 3.7s to complete\n",
      "    error(train)=1.73e-01, acc(train)=9.34e-01, error(valid)=8.49e-01, acc(valid)=8.12e-01\n",
      "Widget Javascript not detected.  It may not be installed or enabled properly.\n"
     ]
    },
    {
     "data": {
      "application/vnd.jupyter.widget-view+json": {
       "model_id": "f6b1f4863ee14e64b3d7b944865d73a6"
      }
     },
     "metadata": {},
     "output_type": "display_data"
    },
    {
     "name": "stderr",
     "output_type": "stream",
     "text": [
      "Epoch 81: 3.6s to complete\n",
      "    error(train)=1.81e-01, acc(train)=9.31e-01, error(valid)=8.64e-01, acc(valid)=8.10e-01\n",
      "Widget Javascript not detected.  It may not be installed or enabled properly.\n"
     ]
    },
    {
     "data": {
      "application/vnd.jupyter.widget-view+json": {
       "model_id": "210b41754d254414aae0d954d6668cef"
      }
     },
     "metadata": {},
     "output_type": "display_data"
    },
    {
     "name": "stderr",
     "output_type": "stream",
     "text": [
      "Epoch 82: 3.8s to complete\n",
      "    error(train)=1.72e-01, acc(train)=9.34e-01, error(valid)=8.63e-01, acc(valid)=8.10e-01\n",
      "Widget Javascript not detected.  It may not be installed or enabled properly.\n"
     ]
    },
    {
     "data": {
      "application/vnd.jupyter.widget-view+json": {
       "model_id": "457a806dc8264866bb9a28885db4a467"
      }
     },
     "metadata": {},
     "output_type": "display_data"
    },
    {
     "name": "stderr",
     "output_type": "stream",
     "text": [
      "Epoch 83: 4.0s to complete\n",
      "    error(train)=1.67e-01, acc(train)=9.36e-01, error(valid)=8.58e-01, acc(valid)=8.13e-01\n",
      "Widget Javascript not detected.  It may not be installed or enabled properly.\n"
     ]
    },
    {
     "data": {
      "application/vnd.jupyter.widget-view+json": {
       "model_id": "b9ba742c3f41412eb5559c91e1b2352d"
      }
     },
     "metadata": {},
     "output_type": "display_data"
    },
    {
     "name": "stderr",
     "output_type": "stream",
     "text": [
      "Epoch 84: 3.9s to complete\n",
      "    error(train)=1.69e-01, acc(train)=9.36e-01, error(valid)=8.64e-01, acc(valid)=8.13e-01\n",
      "Widget Javascript not detected.  It may not be installed or enabled properly.\n"
     ]
    },
    {
     "data": {
      "application/vnd.jupyter.widget-view+json": {
       "model_id": "de932342e2984b62894c42aa78c6984c"
      }
     },
     "metadata": {},
     "output_type": "display_data"
    },
    {
     "name": "stderr",
     "output_type": "stream",
     "text": [
      "Epoch 85: 3.6s to complete\n",
      "    error(train)=1.64e-01, acc(train)=9.39e-01, error(valid)=8.80e-01, acc(valid)=8.12e-01\n",
      "Widget Javascript not detected.  It may not be installed or enabled properly.\n"
     ]
    },
    {
     "data": {
      "application/vnd.jupyter.widget-view+json": {
       "model_id": "f4184f1fb639485ab06be8d9005d2fca"
      }
     },
     "metadata": {},
     "output_type": "display_data"
    },
    {
     "name": "stderr",
     "output_type": "stream",
     "text": [
      "Epoch 86: 3.6s to complete\n",
      "    error(train)=1.76e-01, acc(train)=9.33e-01, error(valid)=8.92e-01, acc(valid)=8.11e-01\n",
      "Widget Javascript not detected.  It may not be installed or enabled properly.\n"
     ]
    },
    {
     "data": {
      "application/vnd.jupyter.widget-view+json": {
       "model_id": "98540f7ece074d7da8c50d123c69e244"
      }
     },
     "metadata": {},
     "output_type": "display_data"
    },
    {
     "name": "stderr",
     "output_type": "stream",
     "text": [
      "Epoch 87: 3.6s to complete\n",
      "    error(train)=1.64e-01, acc(train)=9.38e-01, error(valid)=8.90e-01, acc(valid)=8.11e-01\n",
      "Widget Javascript not detected.  It may not be installed or enabled properly.\n"
     ]
    },
    {
     "data": {
      "application/vnd.jupyter.widget-view+json": {
       "model_id": "bbef78c5212b4ad3a8a8f720098cf688"
      }
     },
     "metadata": {},
     "output_type": "display_data"
    },
    {
     "name": "stderr",
     "output_type": "stream",
     "text": [
      "Epoch 88: 3.6s to complete\n",
      "    error(train)=1.70e-01, acc(train)=9.36e-01, error(valid)=9.10e-01, acc(valid)=8.09e-01\n",
      "Widget Javascript not detected.  It may not be installed or enabled properly.\n"
     ]
    },
    {
     "data": {
      "application/vnd.jupyter.widget-view+json": {
       "model_id": "b1de63786a634d97b9b833fa8c809202"
      }
     },
     "metadata": {},
     "output_type": "display_data"
    },
    {
     "name": "stderr",
     "output_type": "stream",
     "text": [
      "Epoch 89: 3.6s to complete\n",
      "    error(train)=1.69e-01, acc(train)=9.36e-01, error(valid)=9.12e-01, acc(valid)=8.06e-01\n",
      "Widget Javascript not detected.  It may not be installed or enabled properly.\n"
     ]
    },
    {
     "data": {
      "application/vnd.jupyter.widget-view+json": {
       "model_id": "355bcd7684e84906aea784bc03870574"
      }
     },
     "metadata": {},
     "output_type": "display_data"
    },
    {
     "name": "stderr",
     "output_type": "stream",
     "text": [
      "Epoch 90: 3.7s to complete\n",
      "    error(train)=1.65e-01, acc(train)=9.36e-01, error(valid)=9.06e-01, acc(valid)=8.12e-01\n",
      "Widget Javascript not detected.  It may not be installed or enabled properly.\n"
     ]
    },
    {
     "data": {
      "application/vnd.jupyter.widget-view+json": {
       "model_id": "17b8bc0b10044eb987694de07a90f180"
      }
     },
     "metadata": {},
     "output_type": "display_data"
    },
    {
     "name": "stderr",
     "output_type": "stream",
     "text": [
      "Epoch 91: 3.6s to complete\n",
      "    error(train)=1.61e-01, acc(train)=9.39e-01, error(valid)=9.25e-01, acc(valid)=8.07e-01\n",
      "Widget Javascript not detected.  It may not be installed or enabled properly.\n"
     ]
    },
    {
     "data": {
      "application/vnd.jupyter.widget-view+json": {
       "model_id": "2e69decd0020462c987a6aafc2e1da37"
      }
     },
     "metadata": {},
     "output_type": "display_data"
    },
    {
     "name": "stderr",
     "output_type": "stream",
     "text": [
      "Epoch 92: 3.6s to complete\n",
      "    error(train)=1.61e-01, acc(train)=9.38e-01, error(valid)=9.31e-01, acc(valid)=8.09e-01\n",
      "Widget Javascript not detected.  It may not be installed or enabled properly.\n"
     ]
    },
    {
     "data": {
      "application/vnd.jupyter.widget-view+json": {
       "model_id": "3bf0b6a1e26c4a8285e6efab9743d1d5"
      }
     },
     "metadata": {},
     "output_type": "display_data"
    },
    {
     "name": "stderr",
     "output_type": "stream",
     "text": [
      "Epoch 93: 3.7s to complete\n",
      "    error(train)=1.60e-01, acc(train)=9.39e-01, error(valid)=9.32e-01, acc(valid)=8.07e-01\n",
      "Widget Javascript not detected.  It may not be installed or enabled properly.\n"
     ]
    },
    {
     "data": {
      "application/vnd.jupyter.widget-view+json": {
       "model_id": "4a6b5d07899d44a98da44762ee94a26b"
      }
     },
     "metadata": {},
     "output_type": "display_data"
    },
    {
     "name": "stderr",
     "output_type": "stream",
     "text": [
      "Epoch 94: 3.6s to complete\n",
      "    error(train)=1.65e-01, acc(train)=9.36e-01, error(valid)=9.39e-01, acc(valid)=8.07e-01\n",
      "Widget Javascript not detected.  It may not be installed or enabled properly.\n"
     ]
    },
    {
     "data": {
      "application/vnd.jupyter.widget-view+json": {
       "model_id": "7172348f623c412f819a8010375878d1"
      }
     },
     "metadata": {},
     "output_type": "display_data"
    },
    {
     "name": "stderr",
     "output_type": "stream",
     "text": [
      "Epoch 95: 3.7s to complete\n",
      "    error(train)=1.57e-01, acc(train)=9.40e-01, error(valid)=9.41e-01, acc(valid)=8.07e-01\n",
      "Widget Javascript not detected.  It may not be installed or enabled properly.\n"
     ]
    },
    {
     "data": {
      "application/vnd.jupyter.widget-view+json": {
       "model_id": "43b6da55a7a245e2b532c5768b507625"
      }
     },
     "metadata": {},
     "output_type": "display_data"
    },
    {
     "name": "stderr",
     "output_type": "stream",
     "text": [
      "Epoch 96: 3.6s to complete\n",
      "    error(train)=1.60e-01, acc(train)=9.38e-01, error(valid)=9.54e-01, acc(valid)=8.06e-01\n",
      "Widget Javascript not detected.  It may not be installed or enabled properly.\n"
     ]
    },
    {
     "data": {
      "application/vnd.jupyter.widget-view+json": {
       "model_id": "46e11eaf986d4d918ab6ed340f140b95"
      }
     },
     "metadata": {},
     "output_type": "display_data"
    },
    {
     "name": "stderr",
     "output_type": "stream",
     "text": [
      "Epoch 97: 3.6s to complete\n",
      "    error(train)=1.63e-01, acc(train)=9.37e-01, error(valid)=9.66e-01, acc(valid)=8.05e-01\n",
      "Widget Javascript not detected.  It may not be installed or enabled properly.\n"
     ]
    },
    {
     "data": {
      "application/vnd.jupyter.widget-view+json": {
       "model_id": "e0fabf11f9c542928acd361f8f980bca"
      }
     },
     "metadata": {},
     "output_type": "display_data"
    },
    {
     "name": "stderr",
     "output_type": "stream",
     "text": [
      "Epoch 98: 3.7s to complete\n",
      "    error(train)=1.58e-01, acc(train)=9.39e-01, error(valid)=9.63e-01, acc(valid)=8.07e-01\n",
      "Widget Javascript not detected.  It may not be installed or enabled properly.\n"
     ]
    },
    {
     "data": {
      "application/vnd.jupyter.widget-view+json": {
       "model_id": "84ec32658f9c4c2aa0a64a5d2537ce50"
      }
     },
     "metadata": {},
     "output_type": "display_data"
    },
    {
     "name": "stderr",
     "output_type": "stream",
     "text": [
      "Epoch 99: 3.6s to complete\n",
      "    error(train)=1.56e-01, acc(train)=9.40e-01, error(valid)=9.79e-01, acc(valid)=8.03e-01\n",
      "Widget Javascript not detected.  It may not be installed or enabled properly.\n"
     ]
    },
    {
     "data": {
      "application/vnd.jupyter.widget-view+json": {
       "model_id": "14abe9c8b3f149bba759776f962e45cc"
      }
     },
     "metadata": {},
     "output_type": "display_data"
    },
    {
     "name": "stderr",
     "output_type": "stream",
     "text": [
      "Epoch 100: 3.9s to complete\n",
      "    error(train)=1.60e-01, acc(train)=9.38e-01, error(valid)=9.84e-01, acc(valid)=8.07e-01\n"
     ]
    },
    {
     "name": "stdout",
     "output_type": "stream",
     "text": [
      "\n"
     ]
    },
    {
     "data": {
      "image/png": "[encoded data removed]",
      "text/plain": [
       "<matplotlib.figure.Figure at 0x231873a94a8>"
      ]
     },
     "metadata": {},
     "output_type": "display_data"
    },
    {
     "data": {
      "image/png": "[encoded data removed]",
      "text/plain": [
       "<matplotlib.figure.Figure at 0x231873a9c50>"
      ]
     },
     "metadata": {},
     "output_type": "display_data"
    }
   ],
   "source": [
    "# The model set up code below is provided as a starting point.\n",
    "# You will probably want to add further code cells for the\n",
    "# different experiments you run.\n",
    "\n",
    "from mlp.layers import AffineLayer, SoftmaxLayer, SigmoidLayer, ReluLayer, DropoutLayer\n",
    "from mlp.errors import CrossEntropySoftmaxError\n",
    "from mlp.models import MultipleLayerModel\n",
    "from mlp.initialisers import ConstantInit, GlorotUniformInit\n",
    "from mlp.learning_rules import AdamLearningRule\n",
    "from mlp.optimisers import Optimiser\n",
    "\n",
    "# Setup hyperparameters\n",
    "learning_rate = 0.001\n",
    "num_epochs = 100\n",
    "stats_interval = 1\n",
    "input_dim, output_dim, hidden_dim = 784, 47, 128\n",
    "incl_prob = 0.5\n",
    "\n",
    "weights_init = GlorotUniformInit(rng=rng)\n",
    "biases_init = ConstantInit(0.)\n",
    "\n",
    "# Create model with ONE hidden layer\n",
    "model = MultipleLayerModel([\n",
    "#     DropoutLayer(rng, incl_prob),\n",
    "    AffineLayer(input_dim, hidden_dim, weights_init, biases_init), # hidden layer\n",
    "    ReluLayer(),\n",
    "#     DropoutLayer(rng, incl_prob),\n",
    "    AffineLayer(hidden_dim, output_dim, weights_init, biases_init) # output layer\n",
    "])\n",
    "\n",
    "# Create model with multipal hidden_dims\n",
    "models = [MultipleLayerModel([\n",
    "    AffineLayer(input_dim, 32, weights_init, biases_init), # hidden layer\n",
    "    ReluLayer(),\n",
    "    AffineLayer(32, output_dim, weights_init, biases_init) # output layer\n",
    "]),MultipleLayerModel([\n",
    "    AffineLayer(input_dim, 64, weights_init, biases_init), # hidden layer\n",
    "    ReluLayer(),\n",
    "    AffineLayer(64, output_dim, weights_init, biases_init) # output layer\n",
    "]),MultipleLayerModel([\n",
    "    AffineLayer(input_dim, 128, weights_init, biases_init), # hidden layer\n",
    "    ReluLayer(),\n",
    "    AffineLayer(128, output_dim, weights_init, biases_init) # output layer\n",
    "])]\n",
    "\n",
    "\n",
    "\n",
    "error = CrossEntropySoftmaxError()\n",
    "# Use a Adam learning rule\n",
    "learning_rule = AdamLearningRule(learning_rate=learning_rate)\n",
    "\n",
    "# Remember to use notebook=False when you write a script to be run in a terminal\n",
    "_ = train_model_and_plot_stats1(\n",
    "    models, error, learning_rule, train_data, valid_data, num_epochs, stats_interval, notebook=True)"
   ]
  },
  {
   "cell_type": "code",
   "execution_count": 51,
   "metadata": {},
   "outputs": [
    {
     "name": "stderr",
     "output_type": "stream",
     "text": [
      "Widget Javascript not detected.  It may not be installed or enabled properly.\n"
     ]
    },
    {
     "data": {
      "application/vnd.jupyter.widget-view+json": {
       "model_id": "b37338cb4cce4c258545d9ee044eba18"
      }
     },
     "metadata": {},
     "output_type": "display_data"
    },
    {
     "name": "stderr",
     "output_type": "stream",
     "text": [
      "Widget Javascript not detected.  It may not be installed or enabled properly.\n"
     ]
    },
    {
     "data": {
      "application/vnd.jupyter.widget-view+json": {
       "model_id": "8c472b8e591f47369ccdce73a74f46c7"
      }
     },
     "metadata": {},
     "output_type": "display_data"
    },
    {
     "name": "stderr",
     "output_type": "stream",
     "text": [
      "Epoch 1: 3.8s to complete\n",
      "    error(train)=8.96e-01, acc(train)=7.44e-01, error(valid)=9.12e-01, acc(valid)=7.36e-01\n",
      "Widget Javascript not detected.  It may not be installed or enabled properly.\n"
     ]
    },
    {
     "data": {
      "application/vnd.jupyter.widget-view+json": {
       "model_id": "bdbe4006f65c404da30981d3c90b80ca"
      }
     },
     "metadata": {},
     "output_type": "display_data"
    },
    {
     "name": "stderr",
     "output_type": "stream",
     "text": [
      "Epoch 2: 4.1s to complete\n",
      "    error(train)=7.09e-01, acc(train)=7.86e-01, error(valid)=7.48e-01, acc(valid)=7.77e-01\n",
      "Widget Javascript not detected.  It may not be installed or enabled properly.\n"
     ]
    },
    {
     "data": {
      "application/vnd.jupyter.widget-view+json": {
       "model_id": "822731631d084ad69d44a552ee8d7cdf"
      }
     },
     "metadata": {},
     "output_type": "display_data"
    },
    {
     "name": "stderr",
     "output_type": "stream",
     "text": [
      "Epoch 3: 3.0s to complete\n",
      "    error(train)=6.29e-01, acc(train)=8.05e-01, error(valid)=6.84e-01, acc(valid)=7.90e-01\n",
      "Widget Javascript not detected.  It may not be installed or enabled properly.\n"
     ]
    },
    {
     "data": {
      "application/vnd.jupyter.widget-view+json": {
       "model_id": "de6bc40384174db0869e9566c1064847"
      }
     },
     "metadata": {},
     "output_type": "display_data"
    },
    {
     "name": "stderr",
     "output_type": "stream",
     "text": [
      "Epoch 4: 4.4s to complete\n",
      "    error(train)=5.61e-01, acc(train)=8.25e-01, error(valid)=6.26e-01, acc(valid)=8.08e-01\n",
      "Widget Javascript not detected.  It may not be installed or enabled properly.\n"
     ]
    },
    {
     "data": {
      "application/vnd.jupyter.widget-view+json": {
       "model_id": "b79680160bc7462687afbac1acdbe02d"
      }
     },
     "metadata": {},
     "output_type": "display_data"
    },
    {
     "name": "stderr",
     "output_type": "stream",
     "text": [
      "Epoch 5: 3.8s to complete\n",
      "    error(train)=5.23e-01, acc(train)=8.34e-01, error(valid)=5.97e-01, acc(valid)=8.16e-01\n",
      "Widget Javascript not detected.  It may not be installed or enabled properly.\n"
     ]
    },
    {
     "data": {
      "application/vnd.jupyter.widget-view+json": {
       "model_id": "0b20fa169c0f492c8f034ded92d45f2d"
      }
     },
     "metadata": {},
     "output_type": "display_data"
    },
    {
     "name": "stderr",
     "output_type": "stream",
     "text": [
      "Epoch 6: 3.8s to complete\n",
      "    error(train)=4.95e-01, acc(train)=8.41e-01, error(valid)=5.80e-01, acc(valid)=8.15e-01\n",
      "Widget Javascript not detected.  It may not be installed or enabled properly.\n"
     ]
    },
    {
     "data": {
      "application/vnd.jupyter.widget-view+json": {
       "model_id": "805daa81323b443ba575ccb01c0560c1"
      }
     },
     "metadata": {},
     "output_type": "display_data"
    },
    {
     "name": "stderr",
     "output_type": "stream",
     "text": [
      "Epoch 7: 3.8s to complete\n",
      "    error(train)=4.67e-01, acc(train)=8.50e-01, error(valid)=5.65e-01, acc(valid)=8.22e-01\n",
      "Widget Javascript not detected.  It may not be installed or enabled properly.\n"
     ]
    },
    {
     "data": {
      "application/vnd.jupyter.widget-view+json": {
       "model_id": "3ec6184351754b53829bc6367ea952d2"
      }
     },
     "metadata": {},
     "output_type": "display_data"
    },
    {
     "name": "stderr",
     "output_type": "stream",
     "text": [
      "Epoch 8: 3.8s to complete\n",
      "    error(train)=4.47e-01, acc(train)=8.54e-01, error(valid)=5.49e-01, acc(valid)=8.23e-01\n",
      "Widget Javascript not detected.  It may not be installed or enabled properly.\n"
     ]
    },
    {
     "data": {
      "application/vnd.jupyter.widget-view+json": {
       "model_id": "0d979658a0fe4fbd82193f87cdaceff8"
      }
     },
     "metadata": {},
     "output_type": "display_data"
    },
    {
     "name": "stderr",
     "output_type": "stream",
     "text": [
      "Epoch 9: 3.9s to complete\n",
      "    error(train)=4.28e-01, acc(train)=8.58e-01, error(valid)=5.46e-01, acc(valid)=8.26e-01\n",
      "Widget Javascript not detected.  It may not be installed or enabled properly.\n"
     ]
    },
    {
     "data": {
      "application/vnd.jupyter.widget-view+json": {
       "model_id": "edeb9a5b275945b681b821c4cb57c976"
      }
     },
     "metadata": {},
     "output_type": "display_data"
    },
    {
     "name": "stderr",
     "output_type": "stream",
     "text": [
      "Epoch 10: 3.8s to complete\n",
      "    error(train)=4.12e-01, acc(train)=8.62e-01, error(valid)=5.36e-01, acc(valid)=8.25e-01\n",
      "Widget Javascript not detected.  It may not be installed or enabled properly.\n"
     ]
    },
    {
     "data": {
      "application/vnd.jupyter.widget-view+json": {
       "model_id": "286a5fb64e2a431eab846c3e7f66ff9b"
      }
     },
     "metadata": {},
     "output_type": "display_data"
    },
    {
     "name": "stderr",
     "output_type": "stream",
     "text": [
      "Epoch 11: 4.0s to complete\n",
      "    error(train)=3.99e-01, acc(train)=8.67e-01, error(valid)=5.30e-01, acc(valid)=8.30e-01\n",
      "Widget Javascript not detected.  It may not be installed or enabled properly.\n"
     ]
    },
    {
     "data": {
      "application/vnd.jupyter.widget-view+json": {
       "model_id": "ad37c45a428441469a586ac1bfd366a6"
      }
     },
     "metadata": {},
     "output_type": "display_data"
    },
    {
     "name": "stderr",
     "output_type": "stream",
     "text": [
      "Epoch 12: 3.9s to complete\n",
      "    error(train)=3.94e-01, acc(train)=8.68e-01, error(valid)=5.37e-01, acc(valid)=8.29e-01\n",
      "Widget Javascript not detected.  It may not be installed or enabled properly.\n"
     ]
    },
    {
     "data": {
      "application/vnd.jupyter.widget-view+json": {
       "model_id": "55601765b965445fa3b1afc788f4d27f"
      }
     },
     "metadata": {},
     "output_type": "display_data"
    },
    {
     "name": "stderr",
     "output_type": "stream",
     "text": [
      "Epoch 13: 4.0s to complete\n",
      "    error(train)=3.77e-01, acc(train)=8.71e-01, error(valid)=5.26e-01, acc(valid)=8.30e-01\n",
      "Widget Javascript not detected.  It may not be installed or enabled properly.\n"
     ]
    },
    {
     "data": {
      "application/vnd.jupyter.widget-view+json": {
       "model_id": "2714b28cf39c4666bb93f43d3185779c"
      }
     },
     "metadata": {},
     "output_type": "display_data"
    },
    {
     "name": "stderr",
     "output_type": "stream",
     "text": [
      "Epoch 14: 3.9s to complete\n",
      "    error(train)=3.70e-01, acc(train)=8.75e-01, error(valid)=5.35e-01, acc(valid)=8.31e-01\n",
      "Widget Javascript not detected.  It may not be installed or enabled properly.\n"
     ]
    },
    {
     "data": {
      "application/vnd.jupyter.widget-view+json": {
       "model_id": "a847b4e67c3949bfa526eae045eca0d6"
      }
     },
     "metadata": {},
     "output_type": "display_data"
    },
    {
     "name": "stderr",
     "output_type": "stream",
     "text": [
      "Epoch 15: 4.0s to complete\n",
      "    error(train)=3.61e-01, acc(train)=8.79e-01, error(valid)=5.28e-01, acc(valid)=8.33e-01\n",
      "Widget Javascript not detected.  It may not be installed or enabled properly.\n"
     ]
    },
    {
     "data": {
      "application/vnd.jupyter.widget-view+json": {
       "model_id": "7a4b76be28f4439482fa4a41edb8cc8e"
      }
     },
     "metadata": {},
     "output_type": "display_data"
    },
    {
     "name": "stderr",
     "output_type": "stream",
     "text": [
      "Epoch 16: 4.0s to complete\n",
      "    error(train)=3.51e-01, acc(train)=8.79e-01, error(valid)=5.35e-01, acc(valid)=8.28e-01\n",
      "Widget Javascript not detected.  It may not be installed or enabled properly.\n"
     ]
    },
    {
     "data": {
      "application/vnd.jupyter.widget-view+json": {
       "model_id": "dcbfafca9779424e8d3817ec5ad35408"
      }
     },
     "metadata": {},
     "output_type": "display_data"
    },
    {
     "name": "stderr",
     "output_type": "stream",
     "text": [
      "Epoch 17: 4.0s to complete\n",
      "    error(train)=3.49e-01, acc(train)=8.79e-01, error(valid)=5.34e-01, acc(valid)=8.31e-01\n",
      "Widget Javascript not detected.  It may not be installed or enabled properly.\n"
     ]
    },
    {
     "data": {
      "application/vnd.jupyter.widget-view+json": {
       "model_id": "571a2459596d42cd937b3f7e41a2f4ab"
      }
     },
     "metadata": {},
     "output_type": "display_data"
    },
    {
     "name": "stderr",
     "output_type": "stream",
     "text": [
      "Epoch 18: 4.0s to complete\n",
      "    error(train)=3.42e-01, acc(train)=8.82e-01, error(valid)=5.37e-01, acc(valid)=8.30e-01\n",
      "Widget Javascript not detected.  It may not be installed or enabled properly.\n"
     ]
    },
    {
     "data": {
      "application/vnd.jupyter.widget-view+json": {
       "model_id": "85084ab4334449eebbbd7c2108438af4"
      }
     },
     "metadata": {},
     "output_type": "display_data"
    },
    {
     "name": "stderr",
     "output_type": "stream",
     "text": [
      "Epoch 19: 3.9s to complete\n",
      "    error(train)=3.30e-01, acc(train)=8.85e-01, error(valid)=5.33e-01, acc(valid)=8.32e-01\n",
      "Widget Javascript not detected.  It may not be installed or enabled properly.\n"
     ]
    },
    {
     "data": {
      "application/vnd.jupyter.widget-view+json": {
       "model_id": "a34a681301144c7fb7f86bb4757131d2"
      }
     },
     "metadata": {},
     "output_type": "display_data"
    },
    {
     "name": "stderr",
     "output_type": "stream",
     "text": [
      "Epoch 20: 4.0s to complete\n",
      "    error(train)=3.27e-01, acc(train)=8.86e-01, error(valid)=5.33e-01, acc(valid)=8.30e-01\n",
      "Widget Javascript not detected.  It may not be installed or enabled properly.\n"
     ]
    },
    {
     "data": {
      "application/vnd.jupyter.widget-view+json": {
       "model_id": "61d8b2f5687b431982361274362ef98d"
      }
     },
     "metadata": {},
     "output_type": "display_data"
    },
    {
     "name": "stderr",
     "output_type": "stream",
     "text": [
      "Epoch 21: 4.0s to complete\n",
      "    error(train)=3.21e-01, acc(train)=8.89e-01, error(valid)=5.43e-01, acc(valid)=8.31e-01\n",
      "Widget Javascript not detected.  It may not be installed or enabled properly.\n"
     ]
    },
    {
     "data": {
      "application/vnd.jupyter.widget-view+json": {
       "model_id": "f78bf4f7e36643ac93df18e693755ac4"
      }
     },
     "metadata": {},
     "output_type": "display_data"
    },
    {
     "name": "stderr",
     "output_type": "stream",
     "text": [
      "Epoch 22: 4.0s to complete\n",
      "    error(train)=3.13e-01, acc(train)=8.90e-01, error(valid)=5.39e-01, acc(valid)=8.34e-01\n",
      "Widget Javascript not detected.  It may not be installed or enabled properly.\n"
     ]
    },
    {
     "data": {
      "application/vnd.jupyter.widget-view+json": {
       "model_id": "71a655fa80384ab897c46fa3fc3c454f"
      }
     },
     "metadata": {},
     "output_type": "display_data"
    },
    {
     "name": "stderr",
     "output_type": "stream",
     "text": [
      "Epoch 23: 4.0s to complete\n",
      "    error(train)=3.17e-01, acc(train)=8.90e-01, error(valid)=5.54e-01, acc(valid)=8.31e-01\n",
      "Widget Javascript not detected.  It may not be installed or enabled properly.\n"
     ]
    },
    {
     "data": {
      "application/vnd.jupyter.widget-view+json": {
       "model_id": "4ba873e0719a4dd9af9c3691c2629cb4"
      }
     },
     "metadata": {},
     "output_type": "display_data"
    },
    {
     "name": "stderr",
     "output_type": "stream",
     "text": [
      "Epoch 24: 4.1s to complete\n",
      "    error(train)=3.09e-01, acc(train)=8.90e-01, error(valid)=5.56e-01, acc(valid)=8.28e-01\n",
      "Widget Javascript not detected.  It may not be installed or enabled properly.\n"
     ]
    },
    {
     "data": {
      "application/vnd.jupyter.widget-view+json": {
       "model_id": "127512f78dee4fb8aef0e14a941f6f57"
      }
     },
     "metadata": {},
     "output_type": "display_data"
    },
    {
     "name": "stderr",
     "output_type": "stream",
     "text": [
      "Epoch 25: 4.0s to complete\n",
      "    error(train)=3.06e-01, acc(train)=8.92e-01, error(valid)=5.62e-01, acc(valid)=8.28e-01\n",
      "Widget Javascript not detected.  It may not be installed or enabled properly.\n"
     ]
    },
    {
     "data": {
      "application/vnd.jupyter.widget-view+json": {
       "model_id": "8abe9a9e49864d53b4978a08503cceee"
      }
     },
     "metadata": {},
     "output_type": "display_data"
    },
    {
     "name": "stderr",
     "output_type": "stream",
     "text": [
      "Epoch 26: 4.0s to complete\n",
      "    error(train)=2.97e-01, acc(train)=8.94e-01, error(valid)=5.56e-01, acc(valid)=8.31e-01\n",
      "Widget Javascript not detected.  It may not be installed or enabled properly.\n"
     ]
    },
    {
     "data": {
      "application/vnd.jupyter.widget-view+json": {
       "model_id": "dd204da7087d426f9a6555f79ced2d24"
      }
     },
     "metadata": {},
     "output_type": "display_data"
    },
    {
     "name": "stderr",
     "output_type": "stream",
     "text": [
      "Epoch 27: 3.9s to complete\n",
      "    error(train)=3.03e-01, acc(train)=8.91e-01, error(valid)=5.72e-01, acc(valid)=8.26e-01\n",
      "Widget Javascript not detected.  It may not be installed or enabled properly.\n"
     ]
    },
    {
     "data": {
      "application/vnd.jupyter.widget-view+json": {
       "model_id": "e18766f9f9e1439e9011aa30a8a1b6e9"
      }
     },
     "metadata": {},
     "output_type": "display_data"
    },
    {
     "name": "stderr",
     "output_type": "stream",
     "text": [
      "Epoch 28: 4.0s to complete\n",
      "    error(train)=2.87e-01, acc(train)=8.97e-01, error(valid)=5.63e-01, acc(valid)=8.29e-01\n",
      "Widget Javascript not detected.  It may not be installed or enabled properly.\n"
     ]
    },
    {
     "data": {
      "application/vnd.jupyter.widget-view+json": {
       "model_id": "4bddd24eb0ae43cca356848c8e4c1ad4"
      }
     },
     "metadata": {},
     "output_type": "display_data"
    },
    {
     "name": "stderr",
     "output_type": "stream",
     "text": [
      "Epoch 29: 4.0s to complete\n",
      "    error(train)=2.77e-01, acc(train)=9.02e-01, error(valid)=5.70e-01, acc(valid)=8.30e-01\n",
      "Widget Javascript not detected.  It may not be installed or enabled properly.\n"
     ]
    },
    {
     "data": {
      "application/vnd.jupyter.widget-view+json": {
       "model_id": "efbd4da669774daeb71cb07bca46e381"
      }
     },
     "metadata": {},
     "output_type": "display_data"
    },
    {
     "name": "stderr",
     "output_type": "stream",
     "text": [
      "Epoch 30: 4.0s to complete\n",
      "    error(train)=2.87e-01, acc(train)=8.97e-01, error(valid)=5.78e-01, acc(valid)=8.28e-01\n",
      "Widget Javascript not detected.  It may not be installed or enabled properly.\n"
     ]
    },
    {
     "data": {
      "application/vnd.jupyter.widget-view+json": {
       "model_id": "c8b51bc5fc4148b0a63a44244da67158"
      }
     },
     "metadata": {},
     "output_type": "display_data"
    },
    {
     "name": "stderr",
     "output_type": "stream",
     "text": [
      "Epoch 31: 4.0s to complete\n",
      "    error(train)=2.82e-01, acc(train)=8.98e-01, error(valid)=5.85e-01, acc(valid)=8.25e-01\n",
      "Widget Javascript not detected.  It may not be installed or enabled properly.\n"
     ]
    },
    {
     "data": {
      "application/vnd.jupyter.widget-view+json": {
       "model_id": "4c9bd78d705c400fb7cd4442b25b15d2"
      }
     },
     "metadata": {},
     "output_type": "display_data"
    },
    {
     "name": "stderr",
     "output_type": "stream",
     "text": [
      "Epoch 32: 3.9s to complete\n",
      "    error(train)=2.70e-01, acc(train)=9.04e-01, error(valid)=5.77e-01, acc(valid)=8.29e-01\n",
      "Widget Javascript not detected.  It may not be installed or enabled properly.\n"
     ]
    },
    {
     "data": {
      "application/vnd.jupyter.widget-view+json": {
       "model_id": "0582d8a18e9b4a189e4ef1292ee19d02"
      }
     },
     "metadata": {},
     "output_type": "display_data"
    },
    {
     "name": "stderr",
     "output_type": "stream",
     "text": [
      "Epoch 33: 3.9s to complete\n",
      "    error(train)=2.69e-01, acc(train)=9.03e-01, error(valid)=5.85e-01, acc(valid)=8.26e-01\n",
      "Widget Javascript not detected.  It may not be installed or enabled properly.\n"
     ]
    },
    {
     "data": {
      "application/vnd.jupyter.widget-view+json": {
       "model_id": "6c25acef1a7148cfb8e4612c2094656f"
      }
     },
     "metadata": {},
     "output_type": "display_data"
    },
    {
     "name": "stderr",
     "output_type": "stream",
     "text": [
      "Epoch 34: 4.1s to complete\n",
      "    error(train)=2.65e-01, acc(train)=9.04e-01, error(valid)=5.87e-01, acc(valid)=8.29e-01\n",
      "Widget Javascript not detected.  It may not be installed or enabled properly.\n"
     ]
    },
    {
     "data": {
      "application/vnd.jupyter.widget-view+json": {
       "model_id": "56e9c3a8a9a84306b6a83d77a47244d6"
      }
     },
     "metadata": {},
     "output_type": "display_data"
    },
    {
     "name": "stderr",
     "output_type": "stream",
     "text": [
      "Epoch 35: 4.1s to complete\n",
      "    error(train)=2.57e-01, acc(train)=9.08e-01, error(valid)=5.90e-01, acc(valid)=8.27e-01\n",
      "Widget Javascript not detected.  It may not be installed or enabled properly.\n"
     ]
    },
    {
     "data": {
      "application/vnd.jupyter.widget-view+json": {
       "model_id": "1b69725007d746b588454d9efc875bfd"
      }
     },
     "metadata": {},
     "output_type": "display_data"
    },
    {
     "name": "stderr",
     "output_type": "stream",
     "text": [
      "Epoch 36: 4.5s to complete\n",
      "    error(train)=2.59e-01, acc(train)=9.07e-01, error(valid)=5.93e-01, acc(valid)=8.30e-01\n",
      "Widget Javascript not detected.  It may not be installed or enabled properly.\n"
     ]
    },
    {
     "data": {
      "application/vnd.jupyter.widget-view+json": {
       "model_id": "e3f35675e15c44a6b08b0a066b0527d2"
      }
     },
     "metadata": {},
     "output_type": "display_data"
    },
    {
     "name": "stderr",
     "output_type": "stream",
     "text": [
      "Epoch 37: 4.3s to complete\n",
      "    error(train)=2.55e-01, acc(train)=9.08e-01, error(valid)=5.98e-01, acc(valid)=8.30e-01\n",
      "Widget Javascript not detected.  It may not be installed or enabled properly.\n"
     ]
    },
    {
     "data": {
      "application/vnd.jupyter.widget-view+json": {
       "model_id": "6f502c82bd194c61997d7331b1ceb526"
      }
     },
     "metadata": {},
     "output_type": "display_data"
    },
    {
     "name": "stderr",
     "output_type": "stream",
     "text": [
      "Epoch 38: 4.3s to complete\n",
      "    error(train)=2.56e-01, acc(train)=9.07e-01, error(valid)=6.08e-01, acc(valid)=8.25e-01\n",
      "Widget Javascript not detected.  It may not be installed or enabled properly.\n"
     ]
    },
    {
     "data": {
      "application/vnd.jupyter.widget-view+json": {
       "model_id": "263cc449f6fc464b934e56a919531ecf"
      }
     },
     "metadata": {},
     "output_type": "display_data"
    },
    {
     "name": "stderr",
     "output_type": "stream",
     "text": [
      "Epoch 39: 4.3s to complete\n",
      "    error(train)=2.55e-01, acc(train)=9.06e-01, error(valid)=6.19e-01, acc(valid)=8.25e-01\n",
      "Widget Javascript not detected.  It may not be installed or enabled properly.\n"
     ]
    },
    {
     "data": {
      "application/vnd.jupyter.widget-view+json": {
       "model_id": "88fbd57d382747e7ba8cb28f3e4b54bb"
      }
     },
     "metadata": {},
     "output_type": "display_data"
    },
    {
     "name": "stderr",
     "output_type": "stream",
     "text": [
      "Epoch 40: 4.2s to complete\n",
      "    error(train)=2.50e-01, acc(train)=9.10e-01, error(valid)=6.16e-01, acc(valid)=8.27e-01\n",
      "Widget Javascript not detected.  It may not be installed or enabled properly.\n"
     ]
    },
    {
     "data": {
      "application/vnd.jupyter.widget-view+json": {
       "model_id": "3d740e2a07234cd0b95085e0a4c53aeb"
      }
     },
     "metadata": {},
     "output_type": "display_data"
    },
    {
     "name": "stderr",
     "output_type": "stream",
     "text": [
      "Epoch 41: 4.3s to complete\n",
      "    error(train)=2.46e-01, acc(train)=9.10e-01, error(valid)=6.15e-01, acc(valid)=8.27e-01\n",
      "Widget Javascript not detected.  It may not be installed or enabled properly.\n"
     ]
    },
    {
     "data": {
      "application/vnd.jupyter.widget-view+json": {
       "model_id": "983a50b4306d4a10949623f6b5eb791b"
      }
     },
     "metadata": {},
     "output_type": "display_data"
    },
    {
     "name": "stderr",
     "output_type": "stream",
     "text": [
      "Epoch 42: 4.2s to complete\n",
      "    error(train)=2.47e-01, acc(train)=9.10e-01, error(valid)=6.27e-01, acc(valid)=8.25e-01\n",
      "Widget Javascript not detected.  It may not be installed or enabled properly.\n"
     ]
    },
    {
     "data": {
      "application/vnd.jupyter.widget-view+json": {
       "model_id": "3b83886182b346ff9f9f844e03391c03"
      }
     },
     "metadata": {},
     "output_type": "display_data"
    },
    {
     "name": "stderr",
     "output_type": "stream",
     "text": [
      "Epoch 43: 4.3s to complete\n",
      "    error(train)=2.38e-01, acc(train)=9.14e-01, error(valid)=6.34e-01, acc(valid)=8.25e-01\n",
      "Widget Javascript not detected.  It may not be installed or enabled properly.\n"
     ]
    },
    {
     "data": {
      "application/vnd.jupyter.widget-view+json": {
       "model_id": "6d8162abc9754f85a5659b4bb0107f4c"
      }
     },
     "metadata": {},
     "output_type": "display_data"
    },
    {
     "name": "stderr",
     "output_type": "stream",
     "text": [
      "Epoch 44: 4.4s to complete\n",
      "    error(train)=2.39e-01, acc(train)=9.13e-01, error(valid)=6.36e-01, acc(valid)=8.24e-01\n",
      "Widget Javascript not detected.  It may not be installed or enabled properly.\n"
     ]
    },
    {
     "data": {
      "application/vnd.jupyter.widget-view+json": {
       "model_id": "9370271dce1c4fdea81008a52ee4ef4b"
      }
     },
     "metadata": {},
     "output_type": "display_data"
    },
    {
     "name": "stderr",
     "output_type": "stream",
     "text": [
      "Epoch 45: 4.4s to complete\n",
      "    error(train)=2.38e-01, acc(train)=9.12e-01, error(valid)=6.43e-01, acc(valid)=8.22e-01\n",
      "Widget Javascript not detected.  It may not be installed or enabled properly.\n"
     ]
    },
    {
     "data": {
      "application/vnd.jupyter.widget-view+json": {
       "model_id": "b3d951c9f57042bcb55af48a2363d288"
      }
     },
     "metadata": {},
     "output_type": "display_data"
    },
    {
     "name": "stderr",
     "output_type": "stream",
     "text": [
      "Epoch 46: 4.2s to complete\n",
      "    error(train)=2.30e-01, acc(train)=9.17e-01, error(valid)=6.41e-01, acc(valid)=8.25e-01\n",
      "Widget Javascript not detected.  It may not be installed or enabled properly.\n"
     ]
    },
    {
     "data": {
      "application/vnd.jupyter.widget-view+json": {
       "model_id": "2b3f96f3f3f24f58bd47e10cfd90201b"
      }
     },
     "metadata": {},
     "output_type": "display_data"
    },
    {
     "name": "stderr",
     "output_type": "stream",
     "text": [
      "Epoch 47: 4.3s to complete\n",
      "    error(train)=2.31e-01, acc(train)=9.15e-01, error(valid)=6.49e-01, acc(valid)=8.23e-01\n",
      "Widget Javascript not detected.  It may not be installed or enabled properly.\n"
     ]
    },
    {
     "data": {
      "application/vnd.jupyter.widget-view+json": {
       "model_id": "fc883e5d212c4a78992162c6895eeafa"
      }
     },
     "metadata": {},
     "output_type": "display_data"
    },
    {
     "name": "stderr",
     "output_type": "stream",
     "text": [
      "Epoch 48: 4.4s to complete\n",
      "    error(train)=2.30e-01, acc(train)=9.17e-01, error(valid)=6.53e-01, acc(valid)=8.25e-01\n",
      "Widget Javascript not detected.  It may not be installed or enabled properly.\n"
     ]
    },
    {
     "data": {
      "application/vnd.jupyter.widget-view+json": {
       "model_id": "629b6d1718ad4da6b753947426a81439"
      }
     },
     "metadata": {},
     "output_type": "display_data"
    },
    {
     "name": "stderr",
     "output_type": "stream",
     "text": [
      "Epoch 49: 3.9s to complete\n",
      "    error(train)=2.34e-01, acc(train)=9.12e-01, error(valid)=6.68e-01, acc(valid)=8.20e-01\n",
      "Widget Javascript not detected.  It may not be installed or enabled properly.\n"
     ]
    },
    {
     "data": {
      "application/vnd.jupyter.widget-view+json": {
       "model_id": "c71e5c1912b447979bbf3dc325a383cc"
      }
     },
     "metadata": {},
     "output_type": "display_data"
    },
    {
     "name": "stderr",
     "output_type": "stream",
     "text": [
      "Epoch 50: 3.9s to complete\n",
      "    error(train)=2.24e-01, acc(train)=9.18e-01, error(valid)=6.60e-01, acc(valid)=8.25e-01\n",
      "Widget Javascript not detected.  It may not be installed or enabled properly.\n"
     ]
    },
    {
     "data": {
      "application/vnd.jupyter.widget-view+json": {
       "model_id": "b7279a453175439cbc646296ea38a9d0"
      }
     },
     "metadata": {},
     "output_type": "display_data"
    },
    {
     "name": "stderr",
     "output_type": "stream",
     "text": [
      "Epoch 51: 4.0s to complete\n",
      "    error(train)=2.23e-01, acc(train)=9.19e-01, error(valid)=6.73e-01, acc(valid)=8.24e-01\n",
      "Widget Javascript not detected.  It may not be installed or enabled properly.\n"
     ]
    },
    {
     "data": {
      "application/vnd.jupyter.widget-view+json": {
       "model_id": "2a304e9c80f74b45ab9529d0ab7b4fbb"
      }
     },
     "metadata": {},
     "output_type": "display_data"
    },
    {
     "name": "stderr",
     "output_type": "stream",
     "text": [
      "Epoch 52: 3.9s to complete\n",
      "    error(train)=2.26e-01, acc(train)=9.15e-01, error(valid)=6.89e-01, acc(valid)=8.20e-01\n",
      "Widget Javascript not detected.  It may not be installed or enabled properly.\n"
     ]
    },
    {
     "data": {
      "application/vnd.jupyter.widget-view+json": {
       "model_id": "6078f14956ca49bbaf00fbf46803c455"
      }
     },
     "metadata": {},
     "output_type": "display_data"
    },
    {
     "name": "stderr",
     "output_type": "stream",
     "text": [
      "Epoch 53: 4.1s to complete\n",
      "    error(train)=2.18e-01, acc(train)=9.20e-01, error(valid)=6.83e-01, acc(valid)=8.22e-01\n",
      "Widget Javascript not detected.  It may not be installed or enabled properly.\n"
     ]
    },
    {
     "data": {
      "application/vnd.jupyter.widget-view+json": {
       "model_id": "3a675eb76a804a1ca0090fff4a6f286f"
      }
     },
     "metadata": {},
     "output_type": "display_data"
    },
    {
     "name": "stderr",
     "output_type": "stream",
     "text": [
      "Epoch 54: 4.0s to complete\n",
      "    error(train)=2.19e-01, acc(train)=9.20e-01, error(valid)=6.95e-01, acc(valid)=8.23e-01\n",
      "Widget Javascript not detected.  It may not be installed or enabled properly.\n"
     ]
    },
    {
     "data": {
      "application/vnd.jupyter.widget-view+json": {
       "model_id": "8cdffcfdf2604a28918b3bec68f97f14"
      }
     },
     "metadata": {},
     "output_type": "display_data"
    },
    {
     "name": "stderr",
     "output_type": "stream",
     "text": [
      "Epoch 55: 4.0s to complete\n",
      "    error(train)=2.15e-01, acc(train)=9.20e-01, error(valid)=6.97e-01, acc(valid)=8.21e-01\n",
      "Widget Javascript not detected.  It may not be installed or enabled properly.\n"
     ]
    },
    {
     "data": {
      "application/vnd.jupyter.widget-view+json": {
       "model_id": "aad4416094f64b159d264ca303ed50d2"
      }
     },
     "metadata": {},
     "output_type": "display_data"
    },
    {
     "name": "stderr",
     "output_type": "stream",
     "text": [
      "Epoch 56: 4.0s to complete\n",
      "    error(train)=2.23e-01, acc(train)=9.17e-01, error(valid)=7.14e-01, acc(valid)=8.14e-01\n",
      "Widget Javascript not detected.  It may not be installed or enabled properly.\n"
     ]
    },
    {
     "data": {
      "application/vnd.jupyter.widget-view+json": {
       "model_id": "aa3fabc6b2b24d168e28b181fc1f0bdc"
      }
     },
     "metadata": {},
     "output_type": "display_data"
    },
    {
     "name": "stderr",
     "output_type": "stream",
     "text": [
      "Epoch 57: 4.0s to complete\n",
      "    error(train)=2.23e-01, acc(train)=9.14e-01, error(valid)=7.25e-01, acc(valid)=8.15e-01\n",
      "Widget Javascript not detected.  It may not be installed or enabled properly.\n"
     ]
    },
    {
     "data": {
      "application/vnd.jupyter.widget-view+json": {
       "model_id": "d14b16400a41480dbf5d6fb8479ff268"
      }
     },
     "metadata": {},
     "output_type": "display_data"
    },
    {
     "name": "stderr",
     "output_type": "stream",
     "text": [
      "Epoch 58: 4.5s to complete\n",
      "    error(train)=2.10e-01, acc(train)=9.21e-01, error(valid)=7.09e-01, acc(valid)=8.21e-01\n",
      "Widget Javascript not detected.  It may not be installed or enabled properly.\n"
     ]
    },
    {
     "data": {
      "application/vnd.jupyter.widget-view+json": {
       "model_id": "e2e0f14e44994284b2d20b44a51adf2c"
      }
     },
     "metadata": {},
     "output_type": "display_data"
    },
    {
     "name": "stderr",
     "output_type": "stream",
     "text": [
      "Epoch 59: 4.4s to complete\n",
      "    error(train)=2.13e-01, acc(train)=9.21e-01, error(valid)=7.17e-01, acc(valid)=8.21e-01\n",
      "Widget Javascript not detected.  It may not be installed or enabled properly.\n"
     ]
    },
    {
     "data": {
      "application/vnd.jupyter.widget-view+json": {
       "model_id": "039b27c7c4a9407db647efaea60d73f8"
      }
     },
     "metadata": {},
     "output_type": "display_data"
    },
    {
     "name": "stderr",
     "output_type": "stream",
     "text": [
      "Epoch 60: 3.9s to complete\n",
      "    error(train)=2.15e-01, acc(train)=9.19e-01, error(valid)=7.21e-01, acc(valid)=8.15e-01\n",
      "Widget Javascript not detected.  It may not be installed or enabled properly.\n"
     ]
    },
    {
     "data": {
      "application/vnd.jupyter.widget-view+json": {
       "model_id": "ee22539983a646beb1b6a3b9cf16c4ca"
      }
     },
     "metadata": {},
     "output_type": "display_data"
    },
    {
     "name": "stderr",
     "output_type": "stream",
     "text": [
      "Epoch 61: 4.0s to complete\n",
      "    error(train)=2.06e-01, acc(train)=9.23e-01, error(valid)=7.27e-01, acc(valid)=8.19e-01\n",
      "Widget Javascript not detected.  It may not be installed or enabled properly.\n"
     ]
    },
    {
     "data": {
      "application/vnd.jupyter.widget-view+json": {
       "model_id": "aeb0e41231c54121a70ada09bc323882"
      }
     },
     "metadata": {},
     "output_type": "display_data"
    },
    {
     "name": "stderr",
     "output_type": "stream",
     "text": [
      "Epoch 62: 3.9s to complete\n",
      "    error(train)=2.03e-01, acc(train)=9.24e-01, error(valid)=7.24e-01, acc(valid)=8.17e-01\n",
      "Widget Javascript not detected.  It may not be installed or enabled properly.\n"
     ]
    },
    {
     "data": {
      "application/vnd.jupyter.widget-view+json": {
       "model_id": "0200c71796e1460d9e8ff74daf5db012"
      }
     },
     "metadata": {},
     "output_type": "display_data"
    },
    {
     "name": "stderr",
     "output_type": "stream",
     "text": [
      "Epoch 63: 4.0s to complete\n",
      "    error(train)=2.02e-01, acc(train)=9.26e-01, error(valid)=7.41e-01, acc(valid)=8.19e-01\n",
      "Widget Javascript not detected.  It may not be installed or enabled properly.\n"
     ]
    },
    {
     "data": {
      "application/vnd.jupyter.widget-view+json": {
       "model_id": "f64dd3eb126446108f5149410d2b59e4"
      }
     },
     "metadata": {},
     "output_type": "display_data"
    },
    {
     "name": "stderr",
     "output_type": "stream",
     "text": [
      "Epoch 64: 4.0s to complete\n",
      "    error(train)=1.98e-01, acc(train)=9.27e-01, error(valid)=7.35e-01, acc(valid)=8.19e-01\n",
      "Widget Javascript not detected.  It may not be installed or enabled properly.\n"
     ]
    },
    {
     "data": {
      "application/vnd.jupyter.widget-view+json": {
       "model_id": "6f5939519a0744a889bd4ac6fbf299f4"
      }
     },
     "metadata": {},
     "output_type": "display_data"
    },
    {
     "name": "stderr",
     "output_type": "stream",
     "text": [
      "Epoch 65: 3.9s to complete\n",
      "    error(train)=1.97e-01, acc(train)=9.25e-01, error(valid)=7.51e-01, acc(valid)=8.13e-01\n",
      "Widget Javascript not detected.  It may not be installed or enabled properly.\n"
     ]
    },
    {
     "data": {
      "application/vnd.jupyter.widget-view+json": {
       "model_id": "5925044f6bb94d429233d641fd70c35c"
      }
     },
     "metadata": {},
     "output_type": "display_data"
    },
    {
     "name": "stderr",
     "output_type": "stream",
     "text": [
      "Epoch 66: 3.9s to complete\n",
      "    error(train)=1.95e-01, acc(train)=9.28e-01, error(valid)=7.53e-01, acc(valid)=8.16e-01\n",
      "Widget Javascript not detected.  It may not be installed or enabled properly.\n"
     ]
    },
    {
     "data": {
      "application/vnd.jupyter.widget-view+json": {
       "model_id": "304a2ea5aea043a09c70ecd0b456e6e5"
      }
     },
     "metadata": {},
     "output_type": "display_data"
    },
    {
     "name": "stderr",
     "output_type": "stream",
     "text": [
      "Epoch 67: 3.9s to complete\n",
      "    error(train)=1.98e-01, acc(train)=9.24e-01, error(valid)=7.59e-01, acc(valid)=8.17e-01\n",
      "Widget Javascript not detected.  It may not be installed or enabled properly.\n"
     ]
    },
    {
     "data": {
      "application/vnd.jupyter.widget-view+json": {
       "model_id": "8379c7284d3642a0812b478109e2e2f8"
      }
     },
     "metadata": {},
     "output_type": "display_data"
    },
    {
     "name": "stderr",
     "output_type": "stream",
     "text": [
      "Epoch 68: 4.0s to complete\n",
      "    error(train)=1.93e-01, acc(train)=9.28e-01, error(valid)=7.69e-01, acc(valid)=8.16e-01\n",
      "Widget Javascript not detected.  It may not be installed or enabled properly.\n"
     ]
    },
    {
     "data": {
      "application/vnd.jupyter.widget-view+json": {
       "model_id": "67accd1f49664dc4a9b31dad22fe7c8a"
      }
     },
     "metadata": {},
     "output_type": "display_data"
    },
    {
     "name": "stderr",
     "output_type": "stream",
     "text": [
      "Epoch 69: 3.9s to complete\n",
      "    error(train)=1.97e-01, acc(train)=9.25e-01, error(valid)=7.80e-01, acc(valid)=8.14e-01\n",
      "Widget Javascript not detected.  It may not be installed or enabled properly.\n"
     ]
    },
    {
     "data": {
      "application/vnd.jupyter.widget-view+json": {
       "model_id": "48a64e3210244423878ecd817e35d666"
      }
     },
     "metadata": {},
     "output_type": "display_data"
    },
    {
     "name": "stderr",
     "output_type": "stream",
     "text": [
      "Epoch 70: 4.0s to complete\n",
      "    error(train)=1.88e-01, acc(train)=9.29e-01, error(valid)=7.72e-01, acc(valid)=8.14e-01\n",
      "Widget Javascript not detected.  It may not be installed or enabled properly.\n"
     ]
    },
    {
     "data": {
      "application/vnd.jupyter.widget-view+json": {
       "model_id": "391ae49f973d43fba37a45b78bbd64b9"
      }
     },
     "metadata": {},
     "output_type": "display_data"
    },
    {
     "name": "stderr",
     "output_type": "stream",
     "text": [
      "Epoch 71: 3.9s to complete\n",
      "    error(train)=1.98e-01, acc(train)=9.25e-01, error(valid)=7.89e-01, acc(valid)=8.15e-01\n",
      "Widget Javascript not detected.  It may not be installed or enabled properly.\n"
     ]
    },
    {
     "data": {
      "application/vnd.jupyter.widget-view+json": {
       "model_id": "3602dadcb0fa491dbf931f34f7290912"
      }
     },
     "metadata": {},
     "output_type": "display_data"
    },
    {
     "name": "stderr",
     "output_type": "stream",
     "text": [
      "Epoch 72: 3.9s to complete\n",
      "    error(train)=1.98e-01, acc(train)=9.25e-01, error(valid)=7.99e-01, acc(valid)=8.14e-01\n",
      "Widget Javascript not detected.  It may not be installed or enabled properly.\n"
     ]
    },
    {
     "data": {
      "application/vnd.jupyter.widget-view+json": {
       "model_id": "d194d14827ac40eea1264a772de20b0b"
      }
     },
     "metadata": {},
     "output_type": "display_data"
    },
    {
     "name": "stderr",
     "output_type": "stream",
     "text": [
      "Epoch 73: 4.0s to complete\n",
      "    error(train)=1.92e-01, acc(train)=9.25e-01, error(valid)=7.98e-01, acc(valid)=8.14e-01\n",
      "Widget Javascript not detected.  It may not be installed or enabled properly.\n"
     ]
    },
    {
     "data": {
      "application/vnd.jupyter.widget-view+json": {
       "model_id": "d32abce4b99748ce8349fafb7e1a3e8f"
      }
     },
     "metadata": {},
     "output_type": "display_data"
    },
    {
     "name": "stderr",
     "output_type": "stream",
     "text": [
      "Epoch 74: 4.0s to complete\n",
      "    error(train)=1.88e-01, acc(train)=9.29e-01, error(valid)=8.02e-01, acc(valid)=8.13e-01\n",
      "Widget Javascript not detected.  It may not be installed or enabled properly.\n"
     ]
    },
    {
     "data": {
      "application/vnd.jupyter.widget-view+json": {
       "model_id": "5945524a0f0b44e5a3a0a433371177b2"
      }
     },
     "metadata": {},
     "output_type": "display_data"
    },
    {
     "name": "stderr",
     "output_type": "stream",
     "text": [
      "Epoch 75: 4.0s to complete\n",
      "    error(train)=2.01e-01, acc(train)=9.23e-01, error(valid)=8.13e-01, acc(valid)=8.13e-01\n",
      "Widget Javascript not detected.  It may not be installed or enabled properly.\n"
     ]
    },
    {
     "data": {
      "application/vnd.jupyter.widget-view+json": {
       "model_id": "85f5bc935a08490d89574bdf5e5e4400"
      }
     },
     "metadata": {},
     "output_type": "display_data"
    },
    {
     "name": "stderr",
     "output_type": "stream",
     "text": [
      "Epoch 76: 4.0s to complete\n",
      "    error(train)=1.85e-01, acc(train)=9.29e-01, error(valid)=8.06e-01, acc(valid)=8.15e-01\n",
      "Widget Javascript not detected.  It may not be installed or enabled properly.\n"
     ]
    },
    {
     "data": {
      "application/vnd.jupyter.widget-view+json": {
       "model_id": "01ed32c11c9d4f5e9b553dc9f5323516"
      }
     },
     "metadata": {},
     "output_type": "display_data"
    },
    {
     "name": "stderr",
     "output_type": "stream",
     "text": [
      "Epoch 77: 3.9s to complete\n",
      "    error(train)=1.94e-01, acc(train)=9.27e-01, error(valid)=8.35e-01, acc(valid)=8.10e-01\n",
      "Widget Javascript not detected.  It may not be installed or enabled properly.\n"
     ]
    },
    {
     "data": {
      "application/vnd.jupyter.widget-view+json": {
       "model_id": "9d7116db8a97479bb21fc586bf457ac8"
      }
     },
     "metadata": {},
     "output_type": "display_data"
    },
    {
     "name": "stderr",
     "output_type": "stream",
     "text": [
      "Epoch 78: 3.9s to complete\n",
      "    error(train)=1.85e-01, acc(train)=9.29e-01, error(valid)=8.41e-01, acc(valid)=8.13e-01\n",
      "Widget Javascript not detected.  It may not be installed or enabled properly.\n"
     ]
    },
    {
     "data": {
      "application/vnd.jupyter.widget-view+json": {
       "model_id": "bc60e7046b2d4b369e9d5f53d0bccfae"
      }
     },
     "metadata": {},
     "output_type": "display_data"
    },
    {
     "name": "stderr",
     "output_type": "stream",
     "text": [
      "Epoch 79: 4.0s to complete\n",
      "    error(train)=1.79e-01, acc(train)=9.32e-01, error(valid)=8.29e-01, acc(valid)=8.10e-01\n",
      "Widget Javascript not detected.  It may not be installed or enabled properly.\n"
     ]
    },
    {
     "data": {
      "application/vnd.jupyter.widget-view+json": {
       "model_id": "6e25397bb3654c6d9d45aeac43a84a18"
      }
     },
     "metadata": {},
     "output_type": "display_data"
    },
    {
     "name": "stderr",
     "output_type": "stream",
     "text": [
      "Epoch 80: 4.0s to complete\n",
      "    error(train)=1.82e-01, acc(train)=9.31e-01, error(valid)=8.37e-01, acc(valid)=8.11e-01\n",
      "Widget Javascript not detected.  It may not be installed or enabled properly.\n"
     ]
    },
    {
     "data": {
      "application/vnd.jupyter.widget-view+json": {
       "model_id": "21ac96066957429d84d8c617e19c3a84"
      }
     },
     "metadata": {},
     "output_type": "display_data"
    },
    {
     "name": "stderr",
     "output_type": "stream",
     "text": [
      "Epoch 81: 4.0s to complete\n",
      "    error(train)=1.83e-01, acc(train)=9.30e-01, error(valid)=8.49e-01, acc(valid)=8.15e-01\n",
      "Widget Javascript not detected.  It may not be installed or enabled properly.\n"
     ]
    },
    {
     "data": {
      "application/vnd.jupyter.widget-view+json": {
       "model_id": "32109f79464044fa965ca3ebd514923b"
      }
     },
     "metadata": {},
     "output_type": "display_data"
    },
    {
     "name": "stderr",
     "output_type": "stream",
     "text": [
      "Epoch 82: 4.0s to complete\n",
      "    error(train)=1.79e-01, acc(train)=9.32e-01, error(valid)=8.66e-01, acc(valid)=8.12e-01\n",
      "Widget Javascript not detected.  It may not be installed or enabled properly.\n"
     ]
    },
    {
     "data": {
      "application/vnd.jupyter.widget-view+json": {
       "model_id": "46c9747901bd41e79e928dcad4f74bcd"
      }
     },
     "metadata": {},
     "output_type": "display_data"
    },
    {
     "name": "stderr",
     "output_type": "stream",
     "text": [
      "Epoch 83: 4.0s to complete\n",
      "    error(train)=1.77e-01, acc(train)=9.33e-01, error(valid)=8.59e-01, acc(valid)=8.15e-01\n",
      "Widget Javascript not detected.  It may not be installed or enabled properly.\n"
     ]
    },
    {
     "data": {
      "application/vnd.jupyter.widget-view+json": {
       "model_id": "2e33b19d8e324b1f993f46c45956c91f"
      }
     },
     "metadata": {},
     "output_type": "display_data"
    },
    {
     "name": "stderr",
     "output_type": "stream",
     "text": [
      "Epoch 84: 4.1s to complete\n",
      "    error(train)=1.75e-01, acc(train)=9.33e-01, error(valid)=8.54e-01, acc(valid)=8.14e-01\n",
      "Widget Javascript not detected.  It may not be installed or enabled properly.\n"
     ]
    },
    {
     "data": {
      "application/vnd.jupyter.widget-view+json": {
       "model_id": "edd9d124fee14441a419bbba25f21a8e"
      }
     },
     "metadata": {},
     "output_type": "display_data"
    },
    {
     "name": "stderr",
     "output_type": "stream",
     "text": [
      "Epoch 85: 4.0s to complete\n",
      "    error(train)=1.81e-01, acc(train)=9.31e-01, error(valid)=8.73e-01, acc(valid)=8.10e-01\n",
      "Widget Javascript not detected.  It may not be installed or enabled properly.\n"
     ]
    },
    {
     "data": {
      "application/vnd.jupyter.widget-view+json": {
       "model_id": "b4b28bc34c0a4706b0f6f82b00191c16"
      }
     },
     "metadata": {},
     "output_type": "display_data"
    },
    {
     "name": "stderr",
     "output_type": "stream",
     "text": [
      "Epoch 86: 4.0s to complete\n",
      "    error(train)=1.73e-01, acc(train)=9.34e-01, error(valid)=8.74e-01, acc(valid)=8.09e-01\n",
      "Widget Javascript not detected.  It may not be installed or enabled properly.\n"
     ]
    },
    {
     "data": {
      "application/vnd.jupyter.widget-view+json": {
       "model_id": "35a1033442d747b6b94cea7eae496edb"
      }
     },
     "metadata": {},
     "output_type": "display_data"
    },
    {
     "name": "stderr",
     "output_type": "stream",
     "text": [
      "Epoch 87: 4.0s to complete\n",
      "    error(train)=1.69e-01, acc(train)=9.36e-01, error(valid)=8.71e-01, acc(valid)=8.14e-01\n",
      "Widget Javascript not detected.  It may not be installed or enabled properly.\n"
     ]
    },
    {
     "data": {
      "application/vnd.jupyter.widget-view+json": {
       "model_id": "1e8f855201994eae940824f4d5ee75ca"
      }
     },
     "metadata": {},
     "output_type": "display_data"
    },
    {
     "name": "stderr",
     "output_type": "stream",
     "text": [
      "Epoch 88: 4.0s to complete\n",
      "    error(train)=1.67e-01, acc(train)=9.37e-01, error(valid)=8.87e-01, acc(valid)=8.10e-01\n",
      "Widget Javascript not detected.  It may not be installed or enabled properly.\n"
     ]
    },
    {
     "data": {
      "application/vnd.jupyter.widget-view+json": {
       "model_id": "89a91bdccc1b4109a8ae9144a18ccbbe"
      }
     },
     "metadata": {},
     "output_type": "display_data"
    },
    {
     "name": "stderr",
     "output_type": "stream",
     "text": [
      "Epoch 89: 4.0s to complete\n",
      "    error(train)=1.74e-01, acc(train)=9.34e-01, error(valid)=8.95e-01, acc(valid)=8.11e-01\n",
      "Widget Javascript not detected.  It may not be installed or enabled properly.\n"
     ]
    },
    {
     "data": {
      "application/vnd.jupyter.widget-view+json": {
       "model_id": "4853fca77fd34ba8b5052c211e18bf49"
      }
     },
     "metadata": {},
     "output_type": "display_data"
    },
    {
     "name": "stderr",
     "output_type": "stream",
     "text": [
      "Epoch 90: 3.9s to complete\n",
      "    error(train)=1.72e-01, acc(train)=9.34e-01, error(valid)=8.94e-01, acc(valid)=8.11e-01\n",
      "Widget Javascript not detected.  It may not be installed or enabled properly.\n"
     ]
    },
    {
     "data": {
      "application/vnd.jupyter.widget-view+json": {
       "model_id": "b0bfe13b2c9e4d83bae277bc50595acf"
      }
     },
     "metadata": {},
     "output_type": "display_data"
    },
    {
     "name": "stderr",
     "output_type": "stream",
     "text": [
      "Epoch 91: 3.9s to complete\n",
      "    error(train)=1.73e-01, acc(train)=9.34e-01, error(valid)=9.13e-01, acc(valid)=8.07e-01\n",
      "Widget Javascript not detected.  It may not be installed or enabled properly.\n"
     ]
    },
    {
     "data": {
      "application/vnd.jupyter.widget-view+json": {
       "model_id": "6a83428c421b4094aceb9dbe145a5f6b"
      }
     },
     "metadata": {},
     "output_type": "display_data"
    },
    {
     "name": "stderr",
     "output_type": "stream",
     "text": [
      "Epoch 92: 3.9s to complete\n",
      "    error(train)=1.60e-01, acc(train)=9.39e-01, error(valid)=9.01e-01, acc(valid)=8.11e-01\n",
      "Widget Javascript not detected.  It may not be installed or enabled properly.\n"
     ]
    },
    {
     "data": {
      "application/vnd.jupyter.widget-view+json": {
       "model_id": "72386283f9b348208bfdc7b96431493e"
      }
     },
     "metadata": {},
     "output_type": "display_data"
    },
    {
     "name": "stderr",
     "output_type": "stream",
     "text": [
      "Epoch 93: 4.1s to complete\n",
      "    error(train)=1.74e-01, acc(train)=9.31e-01, error(valid)=9.13e-01, acc(valid)=8.06e-01\n",
      "Widget Javascript not detected.  It may not be installed or enabled properly.\n"
     ]
    },
    {
     "data": {
      "application/vnd.jupyter.widget-view+json": {
       "model_id": "a55c59bddc6142d8a1bc897270819eb8"
      }
     },
     "metadata": {},
     "output_type": "display_data"
    },
    {
     "name": "stderr",
     "output_type": "stream",
     "text": [
      "Epoch 94: 4.6s to complete\n",
      "    error(train)=1.68e-01, acc(train)=9.35e-01, error(valid)=9.16e-01, acc(valid)=8.12e-01\n",
      "Widget Javascript not detected.  It may not be installed or enabled properly.\n"
     ]
    },
    {
     "data": {
      "application/vnd.jupyter.widget-view+json": {
       "model_id": "b46372f8f7a84c4fa7edeb35662f6e7d"
      }
     },
     "metadata": {},
     "output_type": "display_data"
    },
    {
     "name": "stderr",
     "output_type": "stream",
     "text": [
      "Epoch 95: 5.3s to complete\n",
      "    error(train)=1.61e-01, acc(train)=9.39e-01, error(valid)=9.27e-01, acc(valid)=8.08e-01\n",
      "Widget Javascript not detected.  It may not be installed or enabled properly.\n"
     ]
    },
    {
     "data": {
      "application/vnd.jupyter.widget-view+json": {
       "model_id": "82a62169edc745c7a50dbf0f78225ca4"
      }
     },
     "metadata": {},
     "output_type": "display_data"
    },
    {
     "name": "stderr",
     "output_type": "stream",
     "text": [
      "Epoch 96: 4.6s to complete\n",
      "    error(train)=1.64e-01, acc(train)=9.36e-01, error(valid)=9.47e-01, acc(valid)=8.04e-01\n",
      "Widget Javascript not detected.  It may not be installed or enabled properly.\n"
     ]
    },
    {
     "data": {
      "application/vnd.jupyter.widget-view+json": {
       "model_id": "9d495c65926542559ca960e8318fca21"
      }
     },
     "metadata": {},
     "output_type": "display_data"
    },
    {
     "name": "stderr",
     "output_type": "stream",
     "text": [
      "Epoch 97: 5.4s to complete\n",
      "    error(train)=1.64e-01, acc(train)=9.37e-01, error(valid)=9.44e-01, acc(valid)=8.04e-01\n",
      "Widget Javascript not detected.  It may not be installed or enabled properly.\n"
     ]
    },
    {
     "data": {
      "application/vnd.jupyter.widget-view+json": {
       "model_id": "d2a716f2bb2c4e1192f4ae0a5277ead6"
      }
     },
     "metadata": {},
     "output_type": "display_data"
    },
    {
     "name": "stderr",
     "output_type": "stream",
     "text": [
      "Epoch 98: 4.6s to complete\n",
      "    error(train)=1.57e-01, acc(train)=9.40e-01, error(valid)=9.34e-01, acc(valid)=8.08e-01\n",
      "Widget Javascript not detected.  It may not be installed or enabled properly.\n"
     ]
    },
    {
     "data": {
      "application/vnd.jupyter.widget-view+json": {
       "model_id": "587d71ba04a040d0abd60b1404a7966a"
      }
     },
     "metadata": {},
     "output_type": "display_data"
    },
    {
     "name": "stderr",
     "output_type": "stream",
     "text": [
      "Epoch 99: 5.2s to complete\n",
      "    error(train)=1.60e-01, acc(train)=9.38e-01, error(valid)=9.48e-01, acc(valid)=8.10e-01\n",
      "Widget Javascript not detected.  It may not be installed or enabled properly.\n"
     ]
    },
    {
     "data": {
      "application/vnd.jupyter.widget-view+json": {
       "model_id": "50ad88e376374ff8a01f6a48d9ee951c"
      }
     },
     "metadata": {},
     "output_type": "display_data"
    },
    {
     "name": "stderr",
     "output_type": "stream",
     "text": [
      "Epoch 100: 4.6s to complete\n",
      "    error(train)=1.56e-01, acc(train)=9.40e-01, error(valid)=9.56e-01, acc(valid)=8.09e-01\n"
     ]
    },
    {
     "name": "stdout",
     "output_type": "stream",
     "text": [
      "\n"
     ]
    },
    {
     "name": "stderr",
     "output_type": "stream",
     "text": [
      "Widget Javascript not detected.  It may not be installed or enabled properly.\n"
     ]
    },
    {
     "data": {
      "application/vnd.jupyter.widget-view+json": {
       "model_id": "8d3ee58fe00449e09aa784935beb72eb"
      }
     },
     "metadata": {},
     "output_type": "display_data"
    },
    {
     "name": "stderr",
     "output_type": "stream",
     "text": [
      "Widget Javascript not detected.  It may not be installed or enabled properly.\n"
     ]
    },
    {
     "data": {
      "application/vnd.jupyter.widget-view+json": {
       "model_id": "745623bd97584707b702c477e6778c36"
      }
     },
     "metadata": {},
     "output_type": "display_data"
    },
    {
     "name": "stderr",
     "output_type": "stream",
     "text": [
      "Epoch 1: 4.4s to complete\n",
      "    error(train)=7.50e-01, acc(train)=7.69e-01, error(valid)=7.76e-01, acc(valid)=7.64e-01\n",
      "Widget Javascript not detected.  It may not be installed or enabled properly.\n"
     ]
    },
    {
     "data": {
      "application/vnd.jupyter.widget-view+json": {
       "model_id": "7c662cd1232f4555933bd2556a4a1214"
      }
     },
     "metadata": {},
     "output_type": "display_data"
    },
    {
     "name": "stderr",
     "output_type": "stream",
     "text": [
      "Epoch 2: 4.6s to complete\n",
      "    error(train)=5.94e-01, acc(train)=8.05e-01, error(valid)=6.30e-01, acc(valid)=7.96e-01\n",
      "Widget Javascript not detected.  It may not be installed or enabled properly.\n"
     ]
    },
    {
     "data": {
      "application/vnd.jupyter.widget-view+json": {
       "model_id": "3fa08e6a10044f0e841eda6a32c380c4"
      }
     },
     "metadata": {},
     "output_type": "display_data"
    },
    {
     "name": "stderr",
     "output_type": "stream",
     "text": [
      "Epoch 3: 4.5s to complete\n",
      "    error(train)=5.10e-01, acc(train)=8.31e-01, error(valid)=5.68e-01, acc(valid)=8.16e-01\n",
      "Widget Javascript not detected.  It may not be installed or enabled properly.\n"
     ]
    },
    {
     "data": {
      "application/vnd.jupyter.widget-view+json": {
       "model_id": "c1b11ab4da45405f8ca8129cd2916dda"
      }
     },
     "metadata": {},
     "output_type": "display_data"
    },
    {
     "name": "stderr",
     "output_type": "stream",
     "text": [
      "Epoch 4: 4.6s to complete\n",
      "    error(train)=4.66e-01, acc(train)=8.40e-01, error(valid)=5.37e-01, acc(valid)=8.21e-01\n",
      "Widget Javascript not detected.  It may not be installed or enabled properly.\n"
     ]
    },
    {
     "data": {
      "application/vnd.jupyter.widget-view+json": {
       "model_id": "f060ec9ccc9f41da8aa58b8d35a484c8"
      }
     },
     "metadata": {},
     "output_type": "display_data"
    },
    {
     "name": "stderr",
     "output_type": "stream",
     "text": [
      "Epoch 5: 4.5s to complete\n",
      "    error(train)=4.17e-01, acc(train)=8.58e-01, error(valid)=5.00e-01, acc(valid)=8.36e-01\n",
      "Widget Javascript not detected.  It may not be installed or enabled properly.\n"
     ]
    },
    {
     "data": {
      "application/vnd.jupyter.widget-view+json": {
       "model_id": "d3f64afbfd454762a603df580d5afb9e"
      }
     },
     "metadata": {},
     "output_type": "display_data"
    },
    {
     "name": "stderr",
     "output_type": "stream",
     "text": [
      "Epoch 6: 4.5s to complete\n",
      "    error(train)=4.00e-01, acc(train)=8.62e-01, error(valid)=5.03e-01, acc(valid)=8.34e-01\n",
      "Widget Javascript not detected.  It may not be installed or enabled properly.\n"
     ]
    },
    {
     "data": {
      "application/vnd.jupyter.widget-view+json": {
       "model_id": "fe6ee8a9afed470689459439074d6ec3"
      }
     },
     "metadata": {},
     "output_type": "display_data"
    },
    {
     "name": "stderr",
     "output_type": "stream",
     "text": [
      "Epoch 7: 4.6s to complete\n",
      "    error(train)=3.79e-01, acc(train)=8.69e-01, error(valid)=5.00e-01, acc(valid)=8.37e-01\n",
      "Widget Javascript not detected.  It may not be installed or enabled properly.\n"
     ]
    },
    {
     "data": {
      "application/vnd.jupyter.widget-view+json": {
       "model_id": "b5653735d9c948169b527242e9b2e0fd"
      }
     },
     "metadata": {},
     "output_type": "display_data"
    },
    {
     "name": "stderr",
     "output_type": "stream",
     "text": [
      "Epoch 8: 4.6s to complete\n",
      "    error(train)=3.65e-01, acc(train)=8.69e-01, error(valid)=4.95e-01, acc(valid)=8.36e-01\n",
      "Widget Javascript not detected.  It may not be installed or enabled properly.\n"
     ]
    },
    {
     "data": {
      "application/vnd.jupyter.widget-view+json": {
       "model_id": "0b91c422bc5841caae78d8d106162fed"
      }
     },
     "metadata": {},
     "output_type": "display_data"
    },
    {
     "name": "stderr",
     "output_type": "stream",
     "text": [
      "Epoch 9: 4.6s to complete\n",
      "    error(train)=3.46e-01, acc(train)=8.76e-01, error(valid)=4.93e-01, acc(valid)=8.39e-01\n",
      "Widget Javascript not detected.  It may not be installed or enabled properly.\n"
     ]
    },
    {
     "data": {
      "application/vnd.jupyter.widget-view+json": {
       "model_id": "fd0a5a145d83443293b8a4037bb7135b"
      }
     },
     "metadata": {},
     "output_type": "display_data"
    },
    {
     "name": "stderr",
     "output_type": "stream",
     "text": [
      "Epoch 10: 4.6s to complete\n",
      "    error(train)=3.31e-01, acc(train)=8.83e-01, error(valid)=4.91e-01, acc(valid)=8.39e-01\n",
      "Widget Javascript not detected.  It may not be installed or enabled properly.\n"
     ]
    },
    {
     "data": {
      "application/vnd.jupyter.widget-view+json": {
       "model_id": "a6597a3e682a41daaa0a93e706e8c7e6"
      }
     },
     "metadata": {},
     "output_type": "display_data"
    },
    {
     "name": "stderr",
     "output_type": "stream",
     "text": [
      "Epoch 11: 4.7s to complete\n",
      "    error(train)=3.12e-01, acc(train)=8.86e-01, error(valid)=4.92e-01, acc(valid)=8.41e-01\n",
      "Widget Javascript not detected.  It may not be installed or enabled properly.\n"
     ]
    },
    {
     "data": {
      "application/vnd.jupyter.widget-view+json": {
       "model_id": "e2b135c8305448d38c839149c0198972"
      }
     },
     "metadata": {},
     "output_type": "display_data"
    },
    {
     "name": "stderr",
     "output_type": "stream",
     "text": [
      "Epoch 12: 4.6s to complete\n",
      "    error(train)=3.14e-01, acc(train)=8.85e-01, error(valid)=5.03e-01, acc(valid)=8.39e-01\n",
      "Widget Javascript not detected.  It may not be installed or enabled properly.\n"
     ]
    },
    {
     "data": {
      "application/vnd.jupyter.widget-view+json": {
       "model_id": "bc9679969349428080b87ab3d3e5c668"
      }
     },
     "metadata": {},
     "output_type": "display_data"
    },
    {
     "name": "stderr",
     "output_type": "stream",
     "text": [
      "Epoch 13: 4.7s to complete\n",
      "    error(train)=2.92e-01, acc(train)=8.92e-01, error(valid)=4.98e-01, acc(valid)=8.42e-01\n",
      "Widget Javascript not detected.  It may not be installed or enabled properly.\n"
     ]
    },
    {
     "data": {
      "application/vnd.jupyter.widget-view+json": {
       "model_id": "edd02800fe0f4dc6ac390356a18209f9"
      }
     },
     "metadata": {},
     "output_type": "display_data"
    },
    {
     "name": "stderr",
     "output_type": "stream",
     "text": [
      "Epoch 14: 4.7s to complete\n",
      "    error(train)=2.85e-01, acc(train)=8.93e-01, error(valid)=5.01e-01, acc(valid)=8.40e-01\n",
      "Widget Javascript not detected.  It may not be installed or enabled properly.\n"
     ]
    },
    {
     "data": {
      "application/vnd.jupyter.widget-view+json": {
       "model_id": "f660d004840747428deb7b570c4f65cc"
      }
     },
     "metadata": {},
     "output_type": "display_data"
    },
    {
     "name": "stderr",
     "output_type": "stream",
     "text": [
      "Epoch 15: 4.7s to complete\n",
      "    error(train)=2.77e-01, acc(train)=8.98e-01, error(valid)=5.18e-01, acc(valid)=8.42e-01\n",
      "Widget Javascript not detected.  It may not be installed or enabled properly.\n"
     ]
    },
    {
     "data": {
      "application/vnd.jupyter.widget-view+json": {
       "model_id": "d8de5ffcd0ca406c9cd91bd3f58821d4"
      }
     },
     "metadata": {},
     "output_type": "display_data"
    },
    {
     "name": "stderr",
     "output_type": "stream",
     "text": [
      "Epoch 16: 4.7s to complete\n",
      "    error(train)=2.70e-01, acc(train)=8.99e-01, error(valid)=5.09e-01, acc(valid)=8.44e-01\n",
      "Widget Javascript not detected.  It may not be installed or enabled properly.\n"
     ]
    },
    {
     "data": {
      "application/vnd.jupyter.widget-view+json": {
       "model_id": "70a72ccef62e455bb1a9cab5e57fea51"
      }
     },
     "metadata": {},
     "output_type": "display_data"
    },
    {
     "name": "stderr",
     "output_type": "stream",
     "text": [
      "Epoch 17: 4.6s to complete\n",
      "    error(train)=2.58e-01, acc(train)=9.02e-01, error(valid)=5.14e-01, acc(valid)=8.42e-01\n",
      "Widget Javascript not detected.  It may not be installed or enabled properly.\n"
     ]
    },
    {
     "data": {
      "application/vnd.jupyter.widget-view+json": {
       "model_id": "b55a876a635f4c6f80e6265b4c5f7995"
      }
     },
     "metadata": {},
     "output_type": "display_data"
    },
    {
     "name": "stderr",
     "output_type": "stream",
     "text": [
      "Epoch 18: 4.7s to complete\n",
      "    error(train)=2.51e-01, acc(train)=9.03e-01, error(valid)=5.24e-01, acc(valid)=8.38e-01\n",
      "Widget Javascript not detected.  It may not be installed or enabled properly.\n"
     ]
    },
    {
     "data": {
      "application/vnd.jupyter.widget-view+json": {
       "model_id": "d12a1314bd7b402091d724a9e6ef39a0"
      }
     },
     "metadata": {},
     "output_type": "display_data"
    },
    {
     "name": "stderr",
     "output_type": "stream",
     "text": [
      "Epoch 19: 4.7s to complete\n",
      "    error(train)=2.50e-01, acc(train)=9.05e-01, error(valid)=5.33e-01, acc(valid)=8.39e-01\n",
      "Widget Javascript not detected.  It may not be installed or enabled properly.\n"
     ]
    },
    {
     "data": {
      "application/vnd.jupyter.widget-view+json": {
       "model_id": "60c89ad0af694ee0a9cd30ea332bdcb8"
      }
     },
     "metadata": {},
     "output_type": "display_data"
    },
    {
     "name": "stderr",
     "output_type": "stream",
     "text": [
      "Epoch 20: 4.6s to complete\n",
      "    error(train)=2.39e-01, acc(train)=9.08e-01, error(valid)=5.50e-01, acc(valid)=8.39e-01\n",
      "Widget Javascript not detected.  It may not be installed or enabled properly.\n"
     ]
    },
    {
     "data": {
      "application/vnd.jupyter.widget-view+json": {
       "model_id": "ec8be110a63b40519941efc17fa146a3"
      }
     },
     "metadata": {},
     "output_type": "display_data"
    },
    {
     "name": "stderr",
     "output_type": "stream",
     "text": [
      "Epoch 21: 4.7s to complete\n",
      "    error(train)=2.35e-01, acc(train)=9.08e-01, error(valid)=5.52e-01, acc(valid)=8.38e-01\n",
      "Widget Javascript not detected.  It may not be installed or enabled properly.\n"
     ]
    },
    {
     "data": {
      "application/vnd.jupyter.widget-view+json": {
       "model_id": "45218b78d1034671827c4b82238c54b4"
      }
     },
     "metadata": {},
     "output_type": "display_data"
    },
    {
     "name": "stderr",
     "output_type": "stream",
     "text": [
      "Epoch 22: 4.7s to complete\n",
      "    error(train)=2.18e-01, acc(train)=9.15e-01, error(valid)=5.52e-01, acc(valid)=8.41e-01\n",
      "Widget Javascript not detected.  It may not be installed or enabled properly.\n"
     ]
    },
    {
     "data": {
      "application/vnd.jupyter.widget-view+json": {
       "model_id": "b4bde4ed8a664b7bb7054c0c450d983b"
      }
     },
     "metadata": {},
     "output_type": "display_data"
    },
    {
     "name": "stderr",
     "output_type": "stream",
     "text": [
      "Epoch 23: 4.6s to complete\n",
      "    error(train)=2.13e-01, acc(train)=9.17e-01, error(valid)=5.65e-01, acc(valid)=8.41e-01\n",
      "Widget Javascript not detected.  It may not be installed or enabled properly.\n"
     ]
    },
    {
     "data": {
      "application/vnd.jupyter.widget-view+json": {
       "model_id": "e1e81d04e4c84df5b138614156977eb4"
      }
     },
     "metadata": {},
     "output_type": "display_data"
    },
    {
     "name": "stderr",
     "output_type": "stream",
     "text": [
      "Epoch 24: 4.6s to complete\n",
      "    error(train)=2.20e-01, acc(train)=9.14e-01, error(valid)=5.85e-01, acc(valid)=8.36e-01\n",
      "Widget Javascript not detected.  It may not be installed or enabled properly.\n"
     ]
    },
    {
     "data": {
      "application/vnd.jupyter.widget-view+json": {
       "model_id": "f7bdad8e4acf4414b3eba3e414aca3b3"
      }
     },
     "metadata": {},
     "output_type": "display_data"
    },
    {
     "name": "stderr",
     "output_type": "stream",
     "text": [
      "Epoch 25: 4.7s to complete\n",
      "    error(train)=2.04e-01, acc(train)=9.19e-01, error(valid)=5.75e-01, acc(valid)=8.39e-01\n",
      "Widget Javascript not detected.  It may not be installed or enabled properly.\n"
     ]
    },
    {
     "data": {
      "application/vnd.jupyter.widget-view+json": {
       "model_id": "79cb2b8249cc49669ef6d8ed9687340a"
      }
     },
     "metadata": {},
     "output_type": "display_data"
    },
    {
     "name": "stderr",
     "output_type": "stream",
     "text": [
      "Epoch 26: 4.6s to complete\n",
      "    error(train)=2.06e-01, acc(train)=9.20e-01, error(valid)=6.10e-01, acc(valid)=8.36e-01\n",
      "Widget Javascript not detected.  It may not be installed or enabled properly.\n"
     ]
    },
    {
     "data": {
      "application/vnd.jupyter.widget-view+json": {
       "model_id": "1754455db64e4b029a612feec01e4c77"
      }
     },
     "metadata": {},
     "output_type": "display_data"
    },
    {
     "name": "stderr",
     "output_type": "stream",
     "text": [
      "Epoch 27: 4.6s to complete\n",
      "    error(train)=2.12e-01, acc(train)=9.13e-01, error(valid)=6.30e-01, acc(valid)=8.28e-01\n",
      "Widget Javascript not detected.  It may not be installed or enabled properly.\n"
     ]
    },
    {
     "data": {
      "application/vnd.jupyter.widget-view+json": {
       "model_id": "3628f2ad14cd47aebca53f9cc2869bd8"
      }
     },
     "metadata": {},
     "output_type": "display_data"
    },
    {
     "name": "stderr",
     "output_type": "stream",
     "text": [
      "Epoch 28: 4.6s to complete\n",
      "    error(train)=1.96e-01, acc(train)=9.22e-01, error(valid)=6.18e-01, acc(valid)=8.39e-01\n",
      "Widget Javascript not detected.  It may not be installed or enabled properly.\n"
     ]
    },
    {
     "data": {
      "application/vnd.jupyter.widget-view+json": {
       "model_id": "fae38533a5d742c2813326d931c355ee"
      }
     },
     "metadata": {},
     "output_type": "display_data"
    },
    {
     "name": "stderr",
     "output_type": "stream",
     "text": [
      "Epoch 29: 4.7s to complete\n",
      "    error(train)=2.00e-01, acc(train)=9.20e-01, error(valid)=6.35e-01, acc(valid)=8.33e-01\n",
      "Widget Javascript not detected.  It may not be installed or enabled properly.\n"
     ]
    },
    {
     "data": {
      "application/vnd.jupyter.widget-view+json": {
       "model_id": "783f2b9dc7f9439fb2c293bddc42033a"
      }
     },
     "metadata": {},
     "output_type": "display_data"
    },
    {
     "name": "stderr",
     "output_type": "stream",
     "text": [
      "Epoch 30: 4.7s to complete\n",
      "    error(train)=1.93e-01, acc(train)=9.23e-01, error(valid)=6.42e-01, acc(valid)=8.33e-01\n",
      "Widget Javascript not detected.  It may not be installed or enabled properly.\n"
     ]
    },
    {
     "data": {
      "application/vnd.jupyter.widget-view+json": {
       "model_id": "842072f7222c4d6dbe83eb8e39171522"
      }
     },
     "metadata": {},
     "output_type": "display_data"
    },
    {
     "name": "stderr",
     "output_type": "stream",
     "text": [
      "Epoch 31: 4.8s to complete\n",
      "    error(train)=1.91e-01, acc(train)=9.23e-01, error(valid)=6.67e-01, acc(valid)=8.30e-01\n",
      "Widget Javascript not detected.  It may not be installed or enabled properly.\n"
     ]
    },
    {
     "data": {
      "application/vnd.jupyter.widget-view+json": {
       "model_id": "9eed70299897427094c96547ec90aefa"
      }
     },
     "metadata": {},
     "output_type": "display_data"
    },
    {
     "name": "stderr",
     "output_type": "stream",
     "text": [
      "Epoch 32: 4.6s to complete\n",
      "    error(train)=1.97e-01, acc(train)=9.20e-01, error(valid)=6.97e-01, acc(valid)=8.28e-01\n",
      "Widget Javascript not detected.  It may not be installed or enabled properly.\n"
     ]
    },
    {
     "data": {
      "application/vnd.jupyter.widget-view+json": {
       "model_id": "b78a90ebe865407d85386b2e0e5f7220"
      }
     },
     "metadata": {},
     "output_type": "display_data"
    },
    {
     "name": "stderr",
     "output_type": "stream",
     "text": [
      "Epoch 33: 4.7s to complete\n",
      "    error(train)=1.77e-01, acc(train)=9.28e-01, error(valid)=6.64e-01, acc(valid)=8.33e-01\n",
      "Widget Javascript not detected.  It may not be installed or enabled properly.\n"
     ]
    },
    {
     "data": {
      "application/vnd.jupyter.widget-view+json": {
       "model_id": "34df33eb37ae473ebde945d4af17b696"
      }
     },
     "metadata": {},
     "output_type": "display_data"
    },
    {
     "name": "stderr",
     "output_type": "stream",
     "text": [
      "Epoch 34: 4.7s to complete\n",
      "    error(train)=1.73e-01, acc(train)=9.31e-01, error(valid)=6.88e-01, acc(valid)=8.31e-01\n",
      "Widget Javascript not detected.  It may not be installed or enabled properly.\n"
     ]
    },
    {
     "data": {
      "application/vnd.jupyter.widget-view+json": {
       "model_id": "c7adb098bb4c4ba8887c2d5422f7955b"
      }
     },
     "metadata": {},
     "output_type": "display_data"
    },
    {
     "name": "stderr",
     "output_type": "stream",
     "text": [
      "Epoch 35: 4.6s to complete\n",
      "    error(train)=1.78e-01, acc(train)=9.27e-01, error(valid)=7.11e-01, acc(valid)=8.30e-01\n",
      "Widget Javascript not detected.  It may not be installed or enabled properly.\n"
     ]
    },
    {
     "data": {
      "application/vnd.jupyter.widget-view+json": {
       "model_id": "15b49e0d2bdc483bafc5bce4a4b58543"
      }
     },
     "metadata": {},
     "output_type": "display_data"
    },
    {
     "name": "stderr",
     "output_type": "stream",
     "text": [
      "Epoch 36: 4.6s to complete\n",
      "    error(train)=1.64e-01, acc(train)=9.33e-01, error(valid)=7.13e-01, acc(valid)=8.34e-01\n",
      "Widget Javascript not detected.  It may not be installed or enabled properly.\n"
     ]
    },
    {
     "data": {
      "application/vnd.jupyter.widget-view+json": {
       "model_id": "a8b033750e2c498895726072dce5e15c"
      }
     },
     "metadata": {},
     "output_type": "display_data"
    },
    {
     "name": "stderr",
     "output_type": "stream",
     "text": [
      "Epoch 37: 4.6s to complete\n",
      "    error(train)=1.60e-01, acc(train)=9.36e-01, error(valid)=7.14e-01, acc(valid)=8.30e-01\n",
      "Widget Javascript not detected.  It may not be installed or enabled properly.\n"
     ]
    },
    {
     "data": {
      "application/vnd.jupyter.widget-view+json": {
       "model_id": "6546b934bba84ac793758090db412316"
      }
     },
     "metadata": {},
     "output_type": "display_data"
    },
    {
     "name": "stderr",
     "output_type": "stream",
     "text": [
      "Epoch 38: 4.6s to complete\n",
      "    error(train)=1.65e-01, acc(train)=9.33e-01, error(valid)=7.42e-01, acc(valid)=8.28e-01\n",
      "Widget Javascript not detected.  It may not be installed or enabled properly.\n"
     ]
    },
    {
     "data": {
      "application/vnd.jupyter.widget-view+json": {
       "model_id": "51c21c1a24754c338052eda1e0a869a2"
      }
     },
     "metadata": {},
     "output_type": "display_data"
    },
    {
     "name": "stderr",
     "output_type": "stream",
     "text": [
      "Epoch 39: 4.7s to complete\n",
      "    error(train)=1.74e-01, acc(train)=9.28e-01, error(valid)=7.72e-01, acc(valid)=8.23e-01\n",
      "Widget Javascript not detected.  It may not be installed or enabled properly.\n"
     ]
    },
    {
     "data": {
      "application/vnd.jupyter.widget-view+json": {
       "model_id": "a1d1543ada9644a6a0ee7a2e98c519a9"
      }
     },
     "metadata": {},
     "output_type": "display_data"
    },
    {
     "name": "stderr",
     "output_type": "stream",
     "text": [
      "Epoch 40: 4.6s to complete\n",
      "    error(train)=1.56e-01, acc(train)=9.36e-01, error(valid)=7.48e-01, acc(valid)=8.30e-01\n",
      "Widget Javascript not detected.  It may not be installed or enabled properly.\n"
     ]
    },
    {
     "data": {
      "application/vnd.jupyter.widget-view+json": {
       "model_id": "74ad62333beb4557914f5380f825bb1c"
      }
     },
     "metadata": {},
     "output_type": "display_data"
    },
    {
     "name": "stderr",
     "output_type": "stream",
     "text": [
      "Epoch 41: 4.7s to complete\n",
      "    error(train)=1.61e-01, acc(train)=9.34e-01, error(valid)=7.88e-01, acc(valid)=8.28e-01\n",
      "Widget Javascript not detected.  It may not be installed or enabled properly.\n"
     ]
    },
    {
     "data": {
      "application/vnd.jupyter.widget-view+json": {
       "model_id": "8419f4d8bc30483c804377e74ac236ba"
      }
     },
     "metadata": {},
     "output_type": "display_data"
    },
    {
     "name": "stderr",
     "output_type": "stream",
     "text": [
      "Epoch 42: 4.6s to complete\n",
      "    error(train)=1.59e-01, acc(train)=9.35e-01, error(valid)=8.07e-01, acc(valid)=8.27e-01\n",
      "Widget Javascript not detected.  It may not be installed or enabled properly.\n"
     ]
    },
    {
     "data": {
      "application/vnd.jupyter.widget-view+json": {
       "model_id": "22053e7c030d448eae8c08d1c0de0096"
      }
     },
     "metadata": {},
     "output_type": "display_data"
    },
    {
     "name": "stderr",
     "output_type": "stream",
     "text": [
      "Epoch 43: 4.6s to complete\n",
      "    error(train)=1.62e-01, acc(train)=9.34e-01, error(valid)=8.19e-01, acc(valid)=8.29e-01\n",
      "Widget Javascript not detected.  It may not be installed or enabled properly.\n"
     ]
    },
    {
     "data": {
      "application/vnd.jupyter.widget-view+json": {
       "model_id": "a0f29f4de73b432ba82514bedcc187d6"
      }
     },
     "metadata": {},
     "output_type": "display_data"
    },
    {
     "name": "stderr",
     "output_type": "stream",
     "text": [
      "Epoch 44: 4.7s to complete\n",
      "    error(train)=1.47e-01, acc(train)=9.40e-01, error(valid)=8.12e-01, acc(valid)=8.28e-01\n",
      "Widget Javascript not detected.  It may not be installed or enabled properly.\n"
     ]
    },
    {
     "data": {
      "application/vnd.jupyter.widget-view+json": {
       "model_id": "bd9de1a9b09a4cb089215600d5eea600"
      }
     },
     "metadata": {},
     "output_type": "display_data"
    },
    {
     "name": "stderr",
     "output_type": "stream",
     "text": [
      "Epoch 45: 4.6s to complete\n",
      "    error(train)=1.57e-01, acc(train)=9.36e-01, error(valid)=8.38e-01, acc(valid)=8.25e-01\n",
      "Widget Javascript not detected.  It may not be installed or enabled properly.\n"
     ]
    },
    {
     "data": {
      "application/vnd.jupyter.widget-view+json": {
       "model_id": "3fec723d9702478ba59c3fbadeda81df"
      }
     },
     "metadata": {},
     "output_type": "display_data"
    },
    {
     "name": "stderr",
     "output_type": "stream",
     "text": [
      "Epoch 46: 4.5s to complete\n",
      "    error(train)=1.53e-01, acc(train)=9.37e-01, error(valid)=8.61e-01, acc(valid)=8.25e-01\n",
      "Widget Javascript not detected.  It may not be installed or enabled properly.\n"
     ]
    },
    {
     "data": {
      "application/vnd.jupyter.widget-view+json": {
       "model_id": "3a2bb1fb8bc64eb2be0e0c1704deee0b"
      }
     },
     "metadata": {},
     "output_type": "display_data"
    },
    {
     "name": "stderr",
     "output_type": "stream",
     "text": [
      "Epoch 47: 4.6s to complete\n",
      "    error(train)=1.47e-01, acc(train)=9.40e-01, error(valid)=8.66e-01, acc(valid)=8.24e-01\n",
      "Widget Javascript not detected.  It may not be installed or enabled properly.\n"
     ]
    },
    {
     "data": {
      "application/vnd.jupyter.widget-view+json": {
       "model_id": "45c27f534be34814845f98d67e302352"
      }
     },
     "metadata": {},
     "output_type": "display_data"
    },
    {
     "name": "stderr",
     "output_type": "stream",
     "text": [
      "Epoch 48: 4.5s to complete\n",
      "    error(train)=1.58e-01, acc(train)=9.34e-01, error(valid)=8.82e-01, acc(valid)=8.20e-01\n",
      "Widget Javascript not detected.  It may not be installed or enabled properly.\n"
     ]
    },
    {
     "data": {
      "application/vnd.jupyter.widget-view+json": {
       "model_id": "3f8a8f63be6e446d8fab7f2c006bfd76"
      }
     },
     "metadata": {},
     "output_type": "display_data"
    },
    {
     "name": "stderr",
     "output_type": "stream",
     "text": [
      "Epoch 49: 5.1s to complete\n",
      "    error(train)=1.61e-01, acc(train)=9.34e-01, error(valid)=9.19e-01, acc(valid)=8.22e-01\n",
      "Widget Javascript not detected.  It may not be installed or enabled properly.\n"
     ]
    },
    {
     "data": {
      "application/vnd.jupyter.widget-view+json": {
       "model_id": "5c33945541604bc494c549f6668d72ab"
      }
     },
     "metadata": {},
     "output_type": "display_data"
    },
    {
     "name": "stderr",
     "output_type": "stream",
     "text": [
      "Epoch 50: 5.7s to complete\n",
      "    error(train)=1.54e-01, acc(train)=9.36e-01, error(valid)=9.13e-01, acc(valid)=8.21e-01\n",
      "Widget Javascript not detected.  It may not be installed or enabled properly.\n"
     ]
    },
    {
     "data": {
      "application/vnd.jupyter.widget-view+json": {
       "model_id": "532d9d78b7fc499d941b6c6205bd0d6f"
      }
     },
     "metadata": {},
     "output_type": "display_data"
    },
    {
     "name": "stderr",
     "output_type": "stream",
     "text": [
      "Epoch 51: 5.1s to complete\n",
      "    error(train)=1.42e-01, acc(train)=9.41e-01, error(valid)=9.10e-01, acc(valid)=8.21e-01\n",
      "Widget Javascript not detected.  It may not be installed or enabled properly.\n"
     ]
    },
    {
     "data": {
      "application/vnd.jupyter.widget-view+json": {
       "model_id": "1d2a07246f644862add2ee374bf58fb4"
      }
     },
     "metadata": {},
     "output_type": "display_data"
    },
    {
     "name": "stderr",
     "output_type": "stream",
     "text": [
      "Epoch 52: 5.6s to complete\n",
      "    error(train)=1.35e-01, acc(train)=9.44e-01, error(valid)=9.06e-01, acc(valid)=8.28e-01\n",
      "Widget Javascript not detected.  It may not be installed or enabled properly.\n"
     ]
    },
    {
     "data": {
      "application/vnd.jupyter.widget-view+json": {
       "model_id": "53e2bfde4c1f4884baa6e3680e51a0dc"
      }
     },
     "metadata": {},
     "output_type": "display_data"
    },
    {
     "name": "stderr",
     "output_type": "stream",
     "text": [
      "Epoch 53: 5.1s to complete\n",
      "    error(train)=1.41e-01, acc(train)=9.41e-01, error(valid)=9.43e-01, acc(valid)=8.24e-01\n",
      "Widget Javascript not detected.  It may not be installed or enabled properly.\n"
     ]
    },
    {
     "data": {
      "application/vnd.jupyter.widget-view+json": {
       "model_id": "4b6928f319ea48f3a1294e9f7ed42c78"
      }
     },
     "metadata": {},
     "output_type": "display_data"
    },
    {
     "name": "stderr",
     "output_type": "stream",
     "text": [
      "Epoch 54: 5.7s to complete\n",
      "    error(train)=1.36e-01, acc(train)=9.43e-01, error(valid)=9.42e-01, acc(valid)=8.22e-01\n",
      "Widget Javascript not detected.  It may not be installed or enabled properly.\n"
     ]
    },
    {
     "data": {
      "application/vnd.jupyter.widget-view+json": {
       "model_id": "62eeafe179f84b86853ea0d3fd4ce7ec"
      }
     },
     "metadata": {},
     "output_type": "display_data"
    },
    {
     "name": "stderr",
     "output_type": "stream",
     "text": [
      "Epoch 55: 5.1s to complete\n",
      "    error(train)=1.32e-01, acc(train)=9.46e-01, error(valid)=9.71e-01, acc(valid)=8.24e-01\n",
      "Widget Javascript not detected.  It may not be installed or enabled properly.\n"
     ]
    },
    {
     "data": {
      "application/vnd.jupyter.widget-view+json": {
       "model_id": "3ed024d8cf82433aa8ae2403ab4a7a0a"
      }
     },
     "metadata": {},
     "output_type": "display_data"
    },
    {
     "name": "stderr",
     "output_type": "stream",
     "text": [
      "Epoch 56: 5.8s to complete\n",
      "    error(train)=1.27e-01, acc(train)=9.47e-01, error(valid)=9.61e-01, acc(valid)=8.23e-01\n",
      "Widget Javascript not detected.  It may not be installed or enabled properly.\n"
     ]
    },
    {
     "data": {
      "application/vnd.jupyter.widget-view+json": {
       "model_id": "11e75582641544959a2ec7c44f3d5dbb"
      }
     },
     "metadata": {},
     "output_type": "display_data"
    },
    {
     "name": "stderr",
     "output_type": "stream",
     "text": [
      "Epoch 57: 5.2s to complete\n",
      "    error(train)=1.33e-01, acc(train)=9.45e-01, error(valid)=9.85e-01, acc(valid)=8.23e-01\n",
      "Widget Javascript not detected.  It may not be installed or enabled properly.\n"
     ]
    },
    {
     "data": {
      "application/vnd.jupyter.widget-view+json": {
       "model_id": "88376f767b4f4871bfe4f9988928aa1c"
      }
     },
     "metadata": {},
     "output_type": "display_data"
    },
    {
     "name": "stderr",
     "output_type": "stream",
     "text": [
      "Epoch 58: 5.7s to complete\n",
      "    error(train)=1.39e-01, acc(train)=9.42e-01, error(valid)=1.02e+00, acc(valid)=8.22e-01\n",
      "Widget Javascript not detected.  It may not be installed or enabled properly.\n"
     ]
    },
    {
     "data": {
      "application/vnd.jupyter.widget-view+json": {
       "model_id": "57ae799759064b179731b638b15b6085"
      }
     },
     "metadata": {},
     "output_type": "display_data"
    },
    {
     "name": "stderr",
     "output_type": "stream",
     "text": [
      "Epoch 59: 5.1s to complete\n",
      "    error(train)=1.29e-01, acc(train)=9.46e-01, error(valid)=1.00e+00, acc(valid)=8.20e-01\n",
      "Widget Javascript not detected.  It may not be installed or enabled properly.\n"
     ]
    },
    {
     "data": {
      "application/vnd.jupyter.widget-view+json": {
       "model_id": "936ffeb2f00b48268022d370ff09453d"
      }
     },
     "metadata": {},
     "output_type": "display_data"
    },
    {
     "name": "stderr",
     "output_type": "stream",
     "text": [
      "Epoch 60: 5.8s to complete\n",
      "    error(train)=1.33e-01, acc(train)=9.45e-01, error(valid)=1.02e+00, acc(valid)=8.24e-01\n",
      "Widget Javascript not detected.  It may not be installed or enabled properly.\n"
     ]
    },
    {
     "data": {
      "application/vnd.jupyter.widget-view+json": {
       "model_id": "740756244eb84626b401dc3e5138bc10"
      }
     },
     "metadata": {},
     "output_type": "display_data"
    },
    {
     "name": "stderr",
     "output_type": "stream",
     "text": [
      "Epoch 61: 5.2s to complete\n",
      "    error(train)=1.28e-01, acc(train)=9.46e-01, error(valid)=1.03e+00, acc(valid)=8.20e-01\n",
      "Widget Javascript not detected.  It may not be installed or enabled properly.\n"
     ]
    },
    {
     "data": {
      "application/vnd.jupyter.widget-view+json": {
       "model_id": "5552ad64c5454c81a1301aa4ea5cc0fe"
      }
     },
     "metadata": {},
     "output_type": "display_data"
    },
    {
     "name": "stderr",
     "output_type": "stream",
     "text": [
      "Epoch 62: 5.8s to complete\n",
      "    error(train)=1.46e-01, acc(train)=9.41e-01, error(valid)=1.07e+00, acc(valid)=8.14e-01\n",
      "Widget Javascript not detected.  It may not be installed or enabled properly.\n"
     ]
    },
    {
     "data": {
      "application/vnd.jupyter.widget-view+json": {
       "model_id": "8b8e11764e024902a0303bab186f9d1f"
      }
     },
     "metadata": {},
     "output_type": "display_data"
    },
    {
     "name": "stderr",
     "output_type": "stream",
     "text": [
      "Epoch 63: 5.1s to complete\n",
      "    error(train)=1.32e-01, acc(train)=9.45e-01, error(valid)=1.09e+00, acc(valid)=8.21e-01\n",
      "Widget Javascript not detected.  It may not be installed or enabled properly.\n"
     ]
    },
    {
     "data": {
      "application/vnd.jupyter.widget-view+json": {
       "model_id": "cc6769a61fbb417d92ad67197582550f"
      }
     },
     "metadata": {},
     "output_type": "display_data"
    },
    {
     "name": "stderr",
     "output_type": "stream",
     "text": [
      "Epoch 64: 5.7s to complete\n",
      "    error(train)=1.21e-01, acc(train)=9.49e-01, error(valid)=1.07e+00, acc(valid)=8.21e-01\n",
      "Widget Javascript not detected.  It may not be installed or enabled properly.\n"
     ]
    },
    {
     "data": {
      "application/vnd.jupyter.widget-view+json": {
       "model_id": "da545e112f644ef09e538ab3f9d04689"
      }
     },
     "metadata": {},
     "output_type": "display_data"
    },
    {
     "name": "stderr",
     "output_type": "stream",
     "text": [
      "Epoch 65: 5.1s to complete\n",
      "    error(train)=1.39e-01, acc(train)=9.42e-01, error(valid)=1.11e+00, acc(valid)=8.17e-01\n",
      "Widget Javascript not detected.  It may not be installed or enabled properly.\n"
     ]
    },
    {
     "data": {
      "application/vnd.jupyter.widget-view+json": {
       "model_id": "c4209886f84d42af94077d5096d21399"
      }
     },
     "metadata": {},
     "output_type": "display_data"
    },
    {
     "name": "stderr",
     "output_type": "stream",
     "text": [
      "Epoch 66: 5.7s to complete\n",
      "    error(train)=1.31e-01, acc(train)=9.46e-01, error(valid)=1.13e+00, acc(valid)=8.19e-01\n",
      "Widget Javascript not detected.  It may not be installed or enabled properly.\n"
     ]
    },
    {
     "data": {
      "application/vnd.jupyter.widget-view+json": {
       "model_id": "90e3c4449a28499a9c46f2a4c9913f1a"
      }
     },
     "metadata": {},
     "output_type": "display_data"
    },
    {
     "name": "stderr",
     "output_type": "stream",
     "text": [
      "Epoch 67: 7.0s to complete\n",
      "    error(train)=1.37e-01, acc(train)=9.43e-01, error(valid)=1.14e+00, acc(valid)=8.19e-01\n",
      "Widget Javascript not detected.  It may not be installed or enabled properly.\n"
     ]
    },
    {
     "data": {
      "application/vnd.jupyter.widget-view+json": {
       "model_id": "e44c9874468f4762b3f0e48cb29d1cca"
      }
     },
     "metadata": {},
     "output_type": "display_data"
    },
    {
     "name": "stderr",
     "output_type": "stream",
     "text": [
      "Epoch 68: 6.3s to complete\n",
      "    error(train)=1.22e-01, acc(train)=9.49e-01, error(valid)=1.15e+00, acc(valid)=8.18e-01\n",
      "Widget Javascript not detected.  It may not be installed or enabled properly.\n"
     ]
    },
    {
     "data": {
      "application/vnd.jupyter.widget-view+json": {
       "model_id": "1cb7c55d4c6345deb81314fff4952b28"
      }
     },
     "metadata": {},
     "output_type": "display_data"
    },
    {
     "name": "stderr",
     "output_type": "stream",
     "text": [
      "Epoch 69: 5.2s to complete\n",
      "    error(train)=1.21e-01, acc(train)=9.51e-01, error(valid)=1.13e+00, acc(valid)=8.21e-01\n",
      "Widget Javascript not detected.  It may not be installed or enabled properly.\n"
     ]
    },
    {
     "data": {
      "application/vnd.jupyter.widget-view+json": {
       "model_id": "3c2887c6d37e49adbe159da1ae8d617f"
      }
     },
     "metadata": {},
     "output_type": "display_data"
    },
    {
     "name": "stderr",
     "output_type": "stream",
     "text": [
      "Epoch 70: 5.9s to complete\n",
      "    error(train)=1.15e-01, acc(train)=9.52e-01, error(valid)=1.16e+00, acc(valid)=8.24e-01\n",
      "Widget Javascript not detected.  It may not be installed or enabled properly.\n"
     ]
    },
    {
     "data": {
      "application/vnd.jupyter.widget-view+json": {
       "model_id": "88eb73208c1b4bd68bcabc4e31d7586c"
      }
     },
     "metadata": {},
     "output_type": "display_data"
    },
    {
     "name": "stderr",
     "output_type": "stream",
     "text": [
      "Epoch 71: 5.2s to complete\n",
      "    error(train)=1.18e-01, acc(train)=9.51e-01, error(valid)=1.16e+00, acc(valid)=8.23e-01\n",
      "Widget Javascript not detected.  It may not be installed or enabled properly.\n"
     ]
    },
    {
     "data": {
      "application/vnd.jupyter.widget-view+json": {
       "model_id": "88221c1c014043f2ba8b080892901ac3"
      }
     },
     "metadata": {},
     "output_type": "display_data"
    },
    {
     "name": "stderr",
     "output_type": "stream",
     "text": [
      "Epoch 72: 5.7s to complete\n",
      "    error(train)=1.22e-01, acc(train)=9.50e-01, error(valid)=1.22e+00, acc(valid)=8.17e-01\n",
      "Widget Javascript not detected.  It may not be installed or enabled properly.\n"
     ]
    },
    {
     "data": {
      "application/vnd.jupyter.widget-view+json": {
       "model_id": "fff0c9f9f4ba438186216f5c88ddcde9"
      }
     },
     "metadata": {},
     "output_type": "display_data"
    },
    {
     "name": "stderr",
     "output_type": "stream",
     "text": [
      "Epoch 73: 5.2s to complete\n",
      "    error(train)=1.05e-01, acc(train)=9.56e-01, error(valid)=1.16e+00, acc(valid)=8.22e-01\n",
      "Widget Javascript not detected.  It may not be installed or enabled properly.\n"
     ]
    },
    {
     "data": {
      "application/vnd.jupyter.widget-view+json": {
       "model_id": "209a9704d9a34f14b78b3809a6cce6dc"
      }
     },
     "metadata": {},
     "output_type": "display_data"
    },
    {
     "name": "stderr",
     "output_type": "stream",
     "text": [
      "Epoch 74: 5.8s to complete\n",
      "    error(train)=1.16e-01, acc(train)=9.53e-01, error(valid)=1.21e+00, acc(valid)=8.19e-01\n",
      "Widget Javascript not detected.  It may not be installed or enabled properly.\n"
     ]
    },
    {
     "data": {
      "application/vnd.jupyter.widget-view+json": {
       "model_id": "4032f0314b6c43ac91fdbc195d2bd508"
      }
     },
     "metadata": {},
     "output_type": "display_data"
    },
    {
     "name": "stderr",
     "output_type": "stream",
     "text": [
      "Epoch 75: 5.2s to complete\n",
      "    error(train)=1.19e-01, acc(train)=9.51e-01, error(valid)=1.24e+00, acc(valid)=8.15e-01\n",
      "Widget Javascript not detected.  It may not be installed or enabled properly.\n"
     ]
    },
    {
     "data": {
      "application/vnd.jupyter.widget-view+json": {
       "model_id": "6660298e8e864c31a3e06b4efc475bbd"
      }
     },
     "metadata": {},
     "output_type": "display_data"
    },
    {
     "name": "stderr",
     "output_type": "stream",
     "text": [
      "Epoch 76: 5.7s to complete\n",
      "    error(train)=1.28e-01, acc(train)=9.48e-01, error(valid)=1.26e+00, acc(valid)=8.14e-01\n",
      "Widget Javascript not detected.  It may not be installed or enabled properly.\n"
     ]
    },
    {
     "data": {
      "application/vnd.jupyter.widget-view+json": {
       "model_id": "71824ba63a944c548ead13e2c43ae0a1"
      }
     },
     "metadata": {},
     "output_type": "display_data"
    },
    {
     "name": "stderr",
     "output_type": "stream",
     "text": [
      "Epoch 77: 5.1s to complete\n",
      "    error(train)=1.35e-01, acc(train)=9.44e-01, error(valid)=1.26e+00, acc(valid)=8.16e-01\n",
      "Widget Javascript not detected.  It may not be installed or enabled properly.\n"
     ]
    },
    {
     "data": {
      "application/vnd.jupyter.widget-view+json": {
       "model_id": "c36251560cd841629dc67f83c09515fe"
      }
     },
     "metadata": {},
     "output_type": "display_data"
    },
    {
     "name": "stderr",
     "output_type": "stream",
     "text": [
      "Epoch 78: 5.7s to complete\n",
      "    error(train)=1.08e-01, acc(train)=9.55e-01, error(valid)=1.25e+00, acc(valid)=8.22e-01\n",
      "Widget Javascript not detected.  It may not be installed or enabled properly.\n"
     ]
    },
    {
     "data": {
      "application/vnd.jupyter.widget-view+json": {
       "model_id": "27dc9a06cb9b4a099f5db3e56131dbb4"
      }
     },
     "metadata": {},
     "output_type": "display_data"
    },
    {
     "name": "stderr",
     "output_type": "stream",
     "text": [
      "Epoch 79: 5.1s to complete\n",
      "    error(train)=1.05e-01, acc(train)=9.57e-01, error(valid)=1.26e+00, acc(valid)=8.21e-01\n",
      "Widget Javascript not detected.  It may not be installed or enabled properly.\n"
     ]
    },
    {
     "data": {
      "application/vnd.jupyter.widget-view+json": {
       "model_id": "6db841042bdb4a199704e9f619059d30"
      }
     },
     "metadata": {},
     "output_type": "display_data"
    },
    {
     "name": "stderr",
     "output_type": "stream",
     "text": [
      "Epoch 80: 5.8s to complete\n",
      "    error(train)=1.18e-01, acc(train)=9.52e-01, error(valid)=1.31e+00, acc(valid)=8.17e-01\n",
      "Widget Javascript not detected.  It may not be installed or enabled properly.\n"
     ]
    },
    {
     "data": {
      "application/vnd.jupyter.widget-view+json": {
       "model_id": "0fd66c41cc5e4fb5a16126be38c80cd7"
      }
     },
     "metadata": {},
     "output_type": "display_data"
    },
    {
     "name": "stderr",
     "output_type": "stream",
     "text": [
      "Epoch 81: 5.2s to complete\n",
      "    error(train)=1.01e-01, acc(train)=9.58e-01, error(valid)=1.26e+00, acc(valid)=8.17e-01\n",
      "Widget Javascript not detected.  It may not be installed or enabled properly.\n"
     ]
    },
    {
     "data": {
      "application/vnd.jupyter.widget-view+json": {
       "model_id": "cc77feeeae604aa09c675b66e44f682a"
      }
     },
     "metadata": {},
     "output_type": "display_data"
    },
    {
     "name": "stderr",
     "output_type": "stream",
     "text": [
      "Epoch 82: 5.8s to complete\n",
      "    error(train)=1.17e-01, acc(train)=9.53e-01, error(valid)=1.29e+00, acc(valid)=8.19e-01\n",
      "Widget Javascript not detected.  It may not be installed or enabled properly.\n"
     ]
    },
    {
     "data": {
      "application/vnd.jupyter.widget-view+json": {
       "model_id": "512c256d658440a7ae6e332d866f0691"
      }
     },
     "metadata": {},
     "output_type": "display_data"
    },
    {
     "name": "stderr",
     "output_type": "stream",
     "text": [
      "Epoch 83: 4.7s to complete\n",
      "    error(train)=1.16e-01, acc(train)=9.52e-01, error(valid)=1.36e+00, acc(valid)=8.18e-01\n",
      "Widget Javascript not detected.  It may not be installed or enabled properly.\n"
     ]
    },
    {
     "data": {
      "application/vnd.jupyter.widget-view+json": {
       "model_id": "a75cad45608549209fbb6af4df8ab531"
      }
     },
     "metadata": {},
     "output_type": "display_data"
    },
    {
     "name": "stderr",
     "output_type": "stream",
     "text": [
      "Epoch 84: 5.2s to complete\n",
      "    error(train)=1.08e-01, acc(train)=9.56e-01, error(valid)=1.36e+00, acc(valid)=8.18e-01\n",
      "Widget Javascript not detected.  It may not be installed or enabled properly.\n"
     ]
    },
    {
     "data": {
      "application/vnd.jupyter.widget-view+json": {
       "model_id": "a9e3931a6e7146228458fa5bc0b75650"
      }
     },
     "metadata": {},
     "output_type": "display_data"
    },
    {
     "name": "stderr",
     "output_type": "stream",
     "text": [
      "Epoch 85: 5.8s to complete\n",
      "    error(train)=1.11e-01, acc(train)=9.55e-01, error(valid)=1.37e+00, acc(valid)=8.18e-01\n",
      "Widget Javascript not detected.  It may not be installed or enabled properly.\n"
     ]
    },
    {
     "data": {
      "application/vnd.jupyter.widget-view+json": {
       "model_id": "9d77db37fa2d45f1b51f0c9d192d0d0e"
      }
     },
     "metadata": {},
     "output_type": "display_data"
    },
    {
     "name": "stderr",
     "output_type": "stream",
     "text": [
      "Epoch 86: 4.8s to complete\n",
      "    error(train)=1.01e-01, acc(train)=9.59e-01, error(valid)=1.34e+00, acc(valid)=8.19e-01\n",
      "Widget Javascript not detected.  It may not be installed or enabled properly.\n"
     ]
    },
    {
     "data": {
      "application/vnd.jupyter.widget-view+json": {
       "model_id": "6eadf58ffd9648a39a230f32b0c15f6d"
      }
     },
     "metadata": {},
     "output_type": "display_data"
    },
    {
     "name": "stderr",
     "output_type": "stream",
     "text": [
      "Epoch 87: 5.3s to complete\n",
      "    error(train)=1.08e-01, acc(train)=9.55e-01, error(valid)=1.37e+00, acc(valid)=8.11e-01\n",
      "Widget Javascript not detected.  It may not be installed or enabled properly.\n"
     ]
    },
    {
     "data": {
      "application/vnd.jupyter.widget-view+json": {
       "model_id": "9ce124b4074149dcacab7f21d9b85f35"
      }
     },
     "metadata": {},
     "output_type": "display_data"
    },
    {
     "name": "stderr",
     "output_type": "stream",
     "text": [
      "Epoch 88: 5.8s to complete\n",
      "    error(train)=1.01e-01, acc(train)=9.59e-01, error(valid)=1.36e+00, acc(valid)=8.21e-01\n",
      "Widget Javascript not detected.  It may not be installed or enabled properly.\n"
     ]
    },
    {
     "data": {
      "application/vnd.jupyter.widget-view+json": {
       "model_id": "4320e91ee4164fddaeeada53b6bab00a"
      }
     },
     "metadata": {},
     "output_type": "display_data"
    },
    {
     "name": "stderr",
     "output_type": "stream",
     "text": [
      "Epoch 89: 4.6s to complete\n",
      "    error(train)=9.37e-02, acc(train)=9.61e-01, error(valid)=1.36e+00, acc(valid)=8.21e-01\n",
      "Widget Javascript not detected.  It may not be installed or enabled properly.\n"
     ]
    },
    {
     "data": {
      "application/vnd.jupyter.widget-view+json": {
       "model_id": "cb985682a56e4714a8fda49d3dacf1e3"
      }
     },
     "metadata": {},
     "output_type": "display_data"
    },
    {
     "name": "stderr",
     "output_type": "stream",
     "text": [
      "Epoch 90: 5.1s to complete\n",
      "    error(train)=1.07e-01, acc(train)=9.57e-01, error(valid)=1.42e+00, acc(valid)=8.17e-01\n",
      "Widget Javascript not detected.  It may not be installed or enabled properly.\n"
     ]
    },
    {
     "data": {
      "application/vnd.jupyter.widget-view+json": {
       "model_id": "884d5e2d52ca4d5a8fe83fe7f5655699"
      }
     },
     "metadata": {},
     "output_type": "display_data"
    },
    {
     "name": "stderr",
     "output_type": "stream",
     "text": [
      "Epoch 91: 5.8s to complete\n",
      "    error(train)=1.12e-01, acc(train)=9.54e-01, error(valid)=1.47e+00, acc(valid)=8.14e-01\n",
      "Widget Javascript not detected.  It may not be installed or enabled properly.\n"
     ]
    },
    {
     "data": {
      "application/vnd.jupyter.widget-view+json": {
       "model_id": "c9fe648f38e24458964c8f751553bde2"
      }
     },
     "metadata": {},
     "output_type": "display_data"
    },
    {
     "name": "stderr",
     "output_type": "stream",
     "text": [
      "Epoch 92: 4.7s to complete\n",
      "    error(train)=9.73e-02, acc(train)=9.60e-01, error(valid)=1.42e+00, acc(valid)=8.20e-01\n",
      "Widget Javascript not detected.  It may not be installed or enabled properly.\n"
     ]
    },
    {
     "data": {
      "application/vnd.jupyter.widget-view+json": {
       "model_id": "82c71d46ca0242bda35909940785214c"
      }
     },
     "metadata": {},
     "output_type": "display_data"
    },
    {
     "name": "stderr",
     "output_type": "stream",
     "text": [
      "Epoch 93: 5.2s to complete\n",
      "    error(train)=1.00e-01, acc(train)=9.59e-01, error(valid)=1.43e+00, acc(valid)=8.21e-01\n",
      "Widget Javascript not detected.  It may not be installed or enabled properly.\n"
     ]
    },
    {
     "data": {
      "application/vnd.jupyter.widget-view+json": {
       "model_id": "ec41acc3a3834b2bb9516b4275a69f12"
      }
     },
     "metadata": {},
     "output_type": "display_data"
    },
    {
     "name": "stderr",
     "output_type": "stream",
     "text": [
      "Epoch 94: 5.8s to complete\n",
      "    error(train)=1.19e-01, acc(train)=9.54e-01, error(valid)=1.54e+00, acc(valid)=8.09e-01\n",
      "Widget Javascript not detected.  It may not be installed or enabled properly.\n"
     ]
    },
    {
     "data": {
      "application/vnd.jupyter.widget-view+json": {
       "model_id": "2459d9d11c374247834f564de9271f93"
      }
     },
     "metadata": {},
     "output_type": "display_data"
    },
    {
     "name": "stderr",
     "output_type": "stream",
     "text": [
      "Epoch 95: 4.6s to complete\n",
      "    error(train)=9.78e-02, acc(train)=9.60e-01, error(valid)=1.47e+00, acc(valid)=8.17e-01\n",
      "Widget Javascript not detected.  It may not be installed or enabled properly.\n"
     ]
    },
    {
     "data": {
      "application/vnd.jupyter.widget-view+json": {
       "model_id": "abec83affb6740c0a706bc8d6663665e"
      }
     },
     "metadata": {},
     "output_type": "display_data"
    },
    {
     "name": "stderr",
     "output_type": "stream",
     "text": [
      "Epoch 96: 5.2s to complete\n",
      "    error(train)=9.13e-02, acc(train)=9.62e-01, error(valid)=1.50e+00, acc(valid)=8.16e-01\n",
      "Widget Javascript not detected.  It may not be installed or enabled properly.\n"
     ]
    },
    {
     "data": {
      "application/vnd.jupyter.widget-view+json": {
       "model_id": "c31ad2688c874dd5be9ab3d56c679962"
      }
     },
     "metadata": {},
     "output_type": "display_data"
    },
    {
     "name": "stderr",
     "output_type": "stream",
     "text": [
      "Epoch 97: 5.8s to complete\n",
      "    error(train)=1.03e-01, acc(train)=9.58e-01, error(valid)=1.54e+00, acc(valid)=8.14e-01\n",
      "Widget Javascript not detected.  It may not be installed or enabled properly.\n"
     ]
    },
    {
     "data": {
      "application/vnd.jupyter.widget-view+json": {
       "model_id": "88a8773db581416d9750010a5c524c7d"
      }
     },
     "metadata": {},
     "output_type": "display_data"
    },
    {
     "name": "stderr",
     "output_type": "stream",
     "text": [
      "Epoch 98: 4.7s to complete\n",
      "    error(train)=9.21e-02, acc(train)=9.62e-01, error(valid)=1.52e+00, acc(valid)=8.17e-01\n",
      "Widget Javascript not detected.  It may not be installed or enabled properly.\n"
     ]
    },
    {
     "data": {
      "application/vnd.jupyter.widget-view+json": {
       "model_id": "b04ac424b5da4defa35c0e1e254db208"
      }
     },
     "metadata": {},
     "output_type": "display_data"
    },
    {
     "name": "stderr",
     "output_type": "stream",
     "text": [
      "Epoch 99: 5.3s to complete\n",
      "    error(train)=1.05e-01, acc(train)=9.56e-01, error(valid)=1.52e+00, acc(valid)=8.13e-01\n",
      "Widget Javascript not detected.  It may not be installed or enabled properly.\n"
     ]
    },
    {
     "data": {
      "application/vnd.jupyter.widget-view+json": {
       "model_id": "7c7213a8127a4b32b6be41a57b6538e8"
      }
     },
     "metadata": {},
     "output_type": "display_data"
    },
    {
     "name": "stderr",
     "output_type": "stream",
     "text": [
      "Epoch 100: 5.9s to complete\n",
      "    error(train)=9.84e-02, acc(train)=9.61e-01, error(valid)=1.53e+00, acc(valid)=8.16e-01\n"
     ]
    },
    {
     "name": "stdout",
     "output_type": "stream",
     "text": [
      "\n"
     ]
    },
    {
     "name": "stderr",
     "output_type": "stream",
     "text": [
      "Widget Javascript not detected.  It may not be installed or enabled properly.\n"
     ]
    },
    {
     "data": {
      "application/vnd.jupyter.widget-view+json": {
       "model_id": "304f2c6662dc42e8b834233dd5bef017"
      }
     },
     "metadata": {},
     "output_type": "display_data"
    },
    {
     "name": "stderr",
     "output_type": "stream",
     "text": [
      "Widget Javascript not detected.  It may not be installed or enabled properly.\n"
     ]
    },
    {
     "data": {
      "application/vnd.jupyter.widget-view+json": {
       "model_id": "3c194b1b57aa44148bc80e3695361ea9"
      }
     },
     "metadata": {},
     "output_type": "display_data"
    },
    {
     "name": "stderr",
     "output_type": "stream",
     "text": [
      "Epoch 1: 5.4s to complete\n",
      "    error(train)=6.81e-01, acc(train)=7.84e-01, error(valid)=7.05e-01, acc(valid)=7.79e-01\n",
      "Widget Javascript not detected.  It may not be installed or enabled properly.\n"
     ]
    },
    {
     "data": {
      "application/vnd.jupyter.widget-view+json": {
       "model_id": "f42eb88f4b4140b4b30b56ee3df9dbd1"
      }
     },
     "metadata": {},
     "output_type": "display_data"
    },
    {
     "name": "stderr",
     "output_type": "stream",
     "text": [
      "Epoch 2: 6.1s to complete\n",
      "    error(train)=5.40e-01, acc(train)=8.23e-01, error(valid)=5.88e-01, acc(valid)=8.09e-01\n",
      "Widget Javascript not detected.  It may not be installed or enabled properly.\n"
     ]
    },
    {
     "data": {
      "application/vnd.jupyter.widget-view+json": {
       "model_id": "057ede571e0045a3aee958bf933143f4"
      }
     },
     "metadata": {},
     "output_type": "display_data"
    },
    {
     "name": "stderr",
     "output_type": "stream",
     "text": [
      "Epoch 3: 5.0s to complete\n",
      "    error(train)=4.83e-01, acc(train)=8.34e-01, error(valid)=5.49e-01, acc(valid)=8.15e-01\n",
      "Widget Javascript not detected.  It may not be installed or enabled properly.\n"
     ]
    },
    {
     "data": {
      "application/vnd.jupyter.widget-view+json": {
       "model_id": "7e7f87cb3e59428f89b0c74a55c9d8f3"
      }
     },
     "metadata": {},
     "output_type": "display_data"
    },
    {
     "name": "stderr",
     "output_type": "stream",
     "text": [
      "Epoch 4: 5.6s to complete\n",
      "    error(train)=4.36e-01, acc(train)=8.48e-01, error(valid)=5.25e-01, acc(valid)=8.24e-01\n",
      "Widget Javascript not detected.  It may not be installed or enabled properly.\n"
     ]
    },
    {
     "data": {
      "application/vnd.jupyter.widget-view+json": {
       "model_id": "218e9be1f5db42278d56729d212bbedb"
      }
     },
     "metadata": {},
     "output_type": "display_data"
    },
    {
     "name": "stderr",
     "output_type": "stream",
     "text": [
      "Epoch 5: 6.0s to complete\n",
      "    error(train)=3.95e-01, acc(train)=8.61e-01, error(valid)=4.96e-01, acc(valid)=8.35e-01\n",
      "Widget Javascript not detected.  It may not be installed or enabled properly.\n"
     ]
    },
    {
     "data": {
      "application/vnd.jupyter.widget-view+json": {
       "model_id": "74d778bfd48e4e379c8d216f3797ca9f"
      }
     },
     "metadata": {},
     "output_type": "display_data"
    },
    {
     "name": "stderr",
     "output_type": "stream",
     "text": [
      "Epoch 6: 4.8s to complete\n",
      "    error(train)=3.85e-01, acc(train)=8.62e-01, error(valid)=5.04e-01, acc(valid)=8.33e-01\n",
      "Widget Javascript not detected.  It may not be installed or enabled properly.\n"
     ]
    },
    {
     "data": {
      "application/vnd.jupyter.widget-view+json": {
       "model_id": "00c1362606f645789549725b4edafb6e"
      }
     },
     "metadata": {},
     "output_type": "display_data"
    },
    {
     "name": "stderr",
     "output_type": "stream",
     "text": [
      "Epoch 7: 5.0s to complete\n",
      "    error(train)=3.53e-01, acc(train)=8.70e-01, error(valid)=4.92e-01, acc(valid)=8.34e-01\n",
      "Widget Javascript not detected.  It may not be installed or enabled properly.\n"
     ]
    },
    {
     "data": {
      "application/vnd.jupyter.widget-view+json": {
       "model_id": "17a29c08ceb446f6a8ac6bee216fddc4"
      }
     },
     "metadata": {},
     "output_type": "display_data"
    },
    {
     "name": "stderr",
     "output_type": "stream",
     "text": [
      "Epoch 8: 5.1s to complete\n",
      "    error(train)=3.45e-01, acc(train)=8.73e-01, error(valid)=4.98e-01, acc(valid)=8.33e-01\n",
      "Widget Javascript not detected.  It may not be installed or enabled properly.\n"
     ]
    },
    {
     "data": {
      "application/vnd.jupyter.widget-view+json": {
       "model_id": "4c8b566b26d74a34b1362371cb346699"
      }
     },
     "metadata": {},
     "output_type": "display_data"
    },
    {
     "name": "stderr",
     "output_type": "stream",
     "text": [
      "Epoch 9: 5.1s to complete\n",
      "    error(train)=3.21e-01, acc(train)=8.81e-01, error(valid)=4.85e-01, acc(valid)=8.38e-01\n",
      "Widget Javascript not detected.  It may not be installed or enabled properly.\n"
     ]
    },
    {
     "data": {
      "application/vnd.jupyter.widget-view+json": {
       "model_id": "9ac3414e4c2b4c5a8b9dc71ebc907278"
      }
     },
     "metadata": {},
     "output_type": "display_data"
    },
    {
     "name": "stderr",
     "output_type": "stream",
     "text": [
      "Epoch 10: 5.1s to complete\n",
      "    error(train)=2.99e-01, acc(train)=8.88e-01, error(valid)=4.85e-01, acc(valid)=8.42e-01\n",
      "Widget Javascript not detected.  It may not be installed or enabled properly.\n"
     ]
    },
    {
     "data": {
      "application/vnd.jupyter.widget-view+json": {
       "model_id": "bd95983a7cb144bf981806c7b3aeac99"
      }
     },
     "metadata": {},
     "output_type": "display_data"
    },
    {
     "name": "stderr",
     "output_type": "stream",
     "text": [
      "Epoch 11: 5.1s to complete\n",
      "    error(train)=3.10e-01, acc(train)=8.83e-01, error(valid)=5.26e-01, acc(valid)=8.35e-01\n",
      "Widget Javascript not detected.  It may not be installed or enabled properly.\n"
     ]
    },
    {
     "data": {
      "application/vnd.jupyter.widget-view+json": {
       "model_id": "a48753f6b2054172b06c314cf25e6c66"
      }
     },
     "metadata": {},
     "output_type": "display_data"
    },
    {
     "name": "stderr",
     "output_type": "stream",
     "text": [
      "Epoch 12: 5.0s to complete\n",
      "    error(train)=2.92e-01, acc(train)=8.89e-01, error(valid)=5.08e-01, acc(valid)=8.39e-01\n",
      "Widget Javascript not detected.  It may not be installed or enabled properly.\n"
     ]
    },
    {
     "data": {
      "application/vnd.jupyter.widget-view+json": {
       "model_id": "7945a15873844b9898d856b88e3e72db"
      }
     },
     "metadata": {},
     "output_type": "display_data"
    },
    {
     "name": "stderr",
     "output_type": "stream",
     "text": [
      "Epoch 13: 5.0s to complete\n",
      "    error(train)=2.73e-01, acc(train)=8.95e-01, error(valid)=5.12e-01, acc(valid)=8.44e-01\n",
      "Widget Javascript not detected.  It may not be installed or enabled properly.\n"
     ]
    },
    {
     "data": {
      "application/vnd.jupyter.widget-view+json": {
       "model_id": "29d0230ba4f949c582a72a3d9f33efd7"
      }
     },
     "metadata": {},
     "output_type": "display_data"
    },
    {
     "name": "stderr",
     "output_type": "stream",
     "text": [
      "Epoch 14: 5.0s to complete\n",
      "    error(train)=2.61e-01, acc(train)=9.00e-01, error(valid)=5.12e-01, acc(valid)=8.41e-01\n",
      "Widget Javascript not detected.  It may not be installed or enabled properly.\n"
     ]
    },
    {
     "data": {
      "application/vnd.jupyter.widget-view+json": {
       "model_id": "2ab44fdaf9cc44f4b7bf9cd5adc07cc2"
      }
     },
     "metadata": {},
     "output_type": "display_data"
    },
    {
     "name": "stderr",
     "output_type": "stream",
     "text": [
      "Epoch 15: 5.1s to complete\n",
      "    error(train)=2.59e-01, acc(train)=8.99e-01, error(valid)=5.29e-01, acc(valid)=8.40e-01\n",
      "Widget Javascript not detected.  It may not be installed or enabled properly.\n"
     ]
    },
    {
     "data": {
      "application/vnd.jupyter.widget-view+json": {
       "model_id": "425b0961dbe84b0ab98fc8b52fba355f"
      }
     },
     "metadata": {},
     "output_type": "display_data"
    },
    {
     "name": "stderr",
     "output_type": "stream",
     "text": [
      "Epoch 16: 5.0s to complete\n",
      "    error(train)=2.48e-01, acc(train)=9.03e-01, error(valid)=5.26e-01, acc(valid)=8.40e-01\n",
      "Widget Javascript not detected.  It may not be installed or enabled properly.\n"
     ]
    },
    {
     "data": {
      "application/vnd.jupyter.widget-view+json": {
       "model_id": "ab5c30ef5a824a43b913a33107759ca0"
      }
     },
     "metadata": {},
     "output_type": "display_data"
    },
    {
     "name": "stderr",
     "output_type": "stream",
     "text": [
      "Epoch 17: 5.0s to complete\n",
      "    error(train)=2.37e-01, acc(train)=9.06e-01, error(valid)=5.38e-01, acc(valid)=8.40e-01\n",
      "Widget Javascript not detected.  It may not be installed or enabled properly.\n"
     ]
    },
    {
     "data": {
      "application/vnd.jupyter.widget-view+json": {
       "model_id": "b5fb80a32ac14a15b3fbe1c8d598b118"
      }
     },
     "metadata": {},
     "output_type": "display_data"
    },
    {
     "name": "stderr",
     "output_type": "stream",
     "text": [
      "Epoch 18: 5.0s to complete\n",
      "    error(train)=2.38e-01, acc(train)=9.06e-01, error(valid)=5.58e-01, acc(valid)=8.35e-01\n",
      "Widget Javascript not detected.  It may not be installed or enabled properly.\n"
     ]
    },
    {
     "data": {
      "application/vnd.jupyter.widget-view+json": {
       "model_id": "e46b02561b404f669c4df5a9367432e0"
      }
     },
     "metadata": {},
     "output_type": "display_data"
    },
    {
     "name": "stderr",
     "output_type": "stream",
     "text": [
      "Epoch 19: 5.3s to complete\n",
      "    error(train)=2.22e-01, acc(train)=9.13e-01, error(valid)=5.63e-01, acc(valid)=8.44e-01\n",
      "Widget Javascript not detected.  It may not be installed or enabled properly.\n"
     ]
    },
    {
     "data": {
      "application/vnd.jupyter.widget-view+json": {
       "model_id": "bd78bb979d9d4491b4d66bf37d6e11c0"
      }
     },
     "metadata": {},
     "output_type": "display_data"
    },
    {
     "name": "stderr",
     "output_type": "stream",
     "text": [
      "Epoch 20: 5.1s to complete\n",
      "    error(train)=2.20e-01, acc(train)=9.11e-01, error(valid)=5.93e-01, acc(valid)=8.38e-01\n",
      "Widget Javascript not detected.  It may not be installed or enabled properly.\n"
     ]
    },
    {
     "data": {
      "application/vnd.jupyter.widget-view+json": {
       "model_id": "de9f4dedbece4b0a95c1b538057823e6"
      }
     },
     "metadata": {},
     "output_type": "display_data"
    },
    {
     "name": "stderr",
     "output_type": "stream",
     "text": [
      "Epoch 21: 5.2s to complete\n",
      "    error(train)=2.25e-01, acc(train)=9.10e-01, error(valid)=5.87e-01, acc(valid)=8.34e-01\n",
      "Widget Javascript not detected.  It may not be installed or enabled properly.\n"
     ]
    },
    {
     "data": {
      "application/vnd.jupyter.widget-view+json": {
       "model_id": "d90ff20ca67345a8b28c1e5aed5501cf"
      }
     },
     "metadata": {},
     "output_type": "display_data"
    },
    {
     "name": "stderr",
     "output_type": "stream",
     "text": [
      "Epoch 22: 5.1s to complete\n",
      "    error(train)=2.28e-01, acc(train)=9.07e-01, error(valid)=6.11e-01, acc(valid)=8.30e-01\n",
      "Widget Javascript not detected.  It may not be installed or enabled properly.\n"
     ]
    },
    {
     "data": {
      "application/vnd.jupyter.widget-view+json": {
       "model_id": "78c7f6f026264bb8aa7e6111bb10543e"
      }
     },
     "metadata": {},
     "output_type": "display_data"
    },
    {
     "name": "stderr",
     "output_type": "stream",
     "text": [
      "Epoch 23: 5.2s to complete\n",
      "    error(train)=2.32e-01, acc(train)=9.06e-01, error(valid)=6.52e-01, acc(valid)=8.31e-01\n",
      "Widget Javascript not detected.  It may not be installed or enabled properly.\n"
     ]
    },
    {
     "data": {
      "application/vnd.jupyter.widget-view+json": {
       "model_id": "776fa5648100424786b714b2bff86c7b"
      }
     },
     "metadata": {},
     "output_type": "display_data"
    },
    {
     "name": "stderr",
     "output_type": "stream",
     "text": [
      "Epoch 24: 5.1s to complete\n",
      "    error(train)=1.95e-01, acc(train)=9.21e-01, error(valid)=6.35e-01, acc(valid)=8.40e-01\n",
      "Widget Javascript not detected.  It may not be installed or enabled properly.\n"
     ]
    },
    {
     "data": {
      "application/vnd.jupyter.widget-view+json": {
       "model_id": "6d09f87497f14057b59adb632d047449"
      }
     },
     "metadata": {},
     "output_type": "display_data"
    },
    {
     "name": "stderr",
     "output_type": "stream",
     "text": [
      "Epoch 25: 5.1s to complete\n",
      "    error(train)=1.91e-01, acc(train)=9.23e-01, error(valid)=6.29e-01, acc(valid)=8.38e-01\n",
      "Widget Javascript not detected.  It may not be installed or enabled properly.\n"
     ]
    },
    {
     "data": {
      "application/vnd.jupyter.widget-view+json": {
       "model_id": "e179f1dcc559432186dd1e6594b7c1a4"
      }
     },
     "metadata": {},
     "output_type": "display_data"
    },
    {
     "name": "stderr",
     "output_type": "stream",
     "text": [
      "Epoch 26: 5.0s to complete\n",
      "    error(train)=1.91e-01, acc(train)=9.22e-01, error(valid)=6.52e-01, acc(valid)=8.33e-01\n",
      "Widget Javascript not detected.  It may not be installed or enabled properly.\n"
     ]
    },
    {
     "data": {
      "application/vnd.jupyter.widget-view+json": {
       "model_id": "cd2533beec344a04bef849b6184abf74"
      }
     },
     "metadata": {},
     "output_type": "display_data"
    },
    {
     "name": "stderr",
     "output_type": "stream",
     "text": [
      "Epoch 27: 5.0s to complete\n",
      "    error(train)=1.90e-01, acc(train)=9.23e-01, error(valid)=6.62e-01, acc(valid)=8.31e-01\n",
      "Widget Javascript not detected.  It may not be installed or enabled properly.\n"
     ]
    },
    {
     "data": {
      "application/vnd.jupyter.widget-view+json": {
       "model_id": "d976a6af1bca4d049b09508d3eeecbba"
      }
     },
     "metadata": {},
     "output_type": "display_data"
    },
    {
     "name": "stderr",
     "output_type": "stream",
     "text": [
      "Epoch 28: 5.1s to complete\n",
      "    error(train)=1.94e-01, acc(train)=9.21e-01, error(valid)=7.02e-01, acc(valid)=8.30e-01\n",
      "Widget Javascript not detected.  It may not be installed or enabled properly.\n"
     ]
    },
    {
     "data": {
      "application/vnd.jupyter.widget-view+json": {
       "model_id": "6ff4a9683fa14ee6bcec4ddc685199bd"
      }
     },
     "metadata": {},
     "output_type": "display_data"
    },
    {
     "name": "stderr",
     "output_type": "stream",
     "text": [
      "Epoch 29: 5.2s to complete\n",
      "    error(train)=1.84e-01, acc(train)=9.24e-01, error(valid)=6.93e-01, acc(valid)=8.32e-01\n",
      "Widget Javascript not detected.  It may not be installed or enabled properly.\n"
     ]
    },
    {
     "data": {
      "application/vnd.jupyter.widget-view+json": {
       "model_id": "3251a4f8eb3843ef9dce9643c84bf448"
      }
     },
     "metadata": {},
     "output_type": "display_data"
    },
    {
     "name": "stderr",
     "output_type": "stream",
     "text": [
      "Epoch 30: 5.2s to complete\n",
      "    error(train)=1.74e-01, acc(train)=9.28e-01, error(valid)=6.97e-01, acc(valid)=8.35e-01\n",
      "Widget Javascript not detected.  It may not be installed or enabled properly.\n"
     ]
    },
    {
     "data": {
      "application/vnd.jupyter.widget-view+json": {
       "model_id": "d002f757d0e54319bc9ccee75b2c1ecc"
      }
     },
     "metadata": {},
     "output_type": "display_data"
    },
    {
     "name": "stderr",
     "output_type": "stream",
     "text": [
      "Epoch 31: 5.1s to complete\n",
      "    error(train)=1.82e-01, acc(train)=9.26e-01, error(valid)=7.23e-01, acc(valid)=8.33e-01\n",
      "Widget Javascript not detected.  It may not be installed or enabled properly.\n"
     ]
    },
    {
     "data": {
      "application/vnd.jupyter.widget-view+json": {
       "model_id": "4f22b60bd90143968b4792b1e1a48fdf"
      }
     },
     "metadata": {},
     "output_type": "display_data"
    },
    {
     "name": "stderr",
     "output_type": "stream",
     "text": [
      "Epoch 32: 5.2s to complete\n",
      "    error(train)=1.65e-01, acc(train)=9.31e-01, error(valid)=7.09e-01, acc(valid)=8.33e-01\n",
      "Widget Javascript not detected.  It may not be installed or enabled properly.\n"
     ]
    },
    {
     "data": {
      "application/vnd.jupyter.widget-view+json": {
       "model_id": "a41c8f4a25844859a894d9c911fb08c0"
      }
     },
     "metadata": {},
     "output_type": "display_data"
    },
    {
     "name": "stderr",
     "output_type": "stream",
     "text": [
      "Epoch 33: 5.2s to complete\n",
      "    error(train)=1.66e-01, acc(train)=9.31e-01, error(valid)=7.36e-01, acc(valid)=8.33e-01\n",
      "Widget Javascript not detected.  It may not be installed or enabled properly.\n"
     ]
    },
    {
     "data": {
      "application/vnd.jupyter.widget-view+json": {
       "model_id": "eb6f3e4f68f6478598ebb2af473d1066"
      }
     },
     "metadata": {},
     "output_type": "display_data"
    },
    {
     "name": "stderr",
     "output_type": "stream",
     "text": [
      "Epoch 34: 5.1s to complete\n",
      "    error(train)=1.72e-01, acc(train)=9.30e-01, error(valid)=7.70e-01, acc(valid)=8.28e-01\n",
      "Widget Javascript not detected.  It may not be installed or enabled properly.\n"
     ]
    },
    {
     "data": {
      "application/vnd.jupyter.widget-view+json": {
       "model_id": "ddef2ff472a04b128f575a87459230cb"
      }
     },
     "metadata": {},
     "output_type": "display_data"
    },
    {
     "name": "stderr",
     "output_type": "stream",
     "text": [
      "Epoch 35: 5.2s to complete\n",
      "    error(train)=1.82e-01, acc(train)=9.27e-01, error(valid)=7.85e-01, acc(valid)=8.27e-01\n",
      "Widget Javascript not detected.  It may not be installed or enabled properly.\n"
     ]
    },
    {
     "data": {
      "application/vnd.jupyter.widget-view+json": {
       "model_id": "85f4caee6ee543f5af529823c1f43251"
      }
     },
     "metadata": {},
     "output_type": "display_data"
    },
    {
     "name": "stderr",
     "output_type": "stream",
     "text": [
      "Epoch 36: 5.1s to complete\n",
      "    error(train)=1.59e-01, acc(train)=9.34e-01, error(valid)=7.87e-01, acc(valid)=8.31e-01\n",
      "Widget Javascript not detected.  It may not be installed or enabled properly.\n"
     ]
    },
    {
     "data": {
      "application/vnd.jupyter.widget-view+json": {
       "model_id": "16877150a1944a49ada709aa0a32b2ca"
      }
     },
     "metadata": {},
     "output_type": "display_data"
    },
    {
     "name": "stderr",
     "output_type": "stream",
     "text": [
      "Epoch 37: 5.2s to complete\n",
      "    error(train)=1.62e-01, acc(train)=9.34e-01, error(valid)=8.06e-01, acc(valid)=8.30e-01\n",
      "Widget Javascript not detected.  It may not be installed or enabled properly.\n"
     ]
    },
    {
     "data": {
      "application/vnd.jupyter.widget-view+json": {
       "model_id": "b1bc118b12ed4f83b7eb31e956af567e"
      }
     },
     "metadata": {},
     "output_type": "display_data"
    },
    {
     "name": "stderr",
     "output_type": "stream",
     "text": [
      "Epoch 38: 5.2s to complete\n",
      "    error(train)=1.57e-01, acc(train)=9.35e-01, error(valid)=8.06e-01, acc(valid)=8.32e-01\n",
      "Widget Javascript not detected.  It may not be installed or enabled properly.\n"
     ]
    },
    {
     "data": {
      "application/vnd.jupyter.widget-view+json": {
       "model_id": "1f7cdad225af49f3ac5e4835af784fdf"
      }
     },
     "metadata": {},
     "output_type": "display_data"
    },
    {
     "name": "stderr",
     "output_type": "stream",
     "text": [
      "Epoch 39: 5.1s to complete\n",
      "    error(train)=1.54e-01, acc(train)=9.37e-01, error(valid)=8.15e-01, acc(valid)=8.30e-01\n",
      "Widget Javascript not detected.  It may not be installed or enabled properly.\n"
     ]
    },
    {
     "data": {
      "application/vnd.jupyter.widget-view+json": {
       "model_id": "0a5b7ed33c9d468980ff3a4d08335a6b"
      }
     },
     "metadata": {},
     "output_type": "display_data"
    },
    {
     "name": "stderr",
     "output_type": "stream",
     "text": [
      "Epoch 40: 5.0s to complete\n",
      "    error(train)=1.58e-01, acc(train)=9.36e-01, error(valid)=8.31e-01, acc(valid)=8.31e-01\n",
      "Widget Javascript not detected.  It may not be installed or enabled properly.\n"
     ]
    },
    {
     "data": {
      "application/vnd.jupyter.widget-view+json": {
       "model_id": "51895c38db1845f78da6bac6ec70bcbf"
      }
     },
     "metadata": {},
     "output_type": "display_data"
    },
    {
     "name": "stderr",
     "output_type": "stream",
     "text": [
      "Epoch 41: 5.0s to complete\n",
      "    error(train)=1.57e-01, acc(train)=9.35e-01, error(valid)=8.47e-01, acc(valid)=8.27e-01\n",
      "Widget Javascript not detected.  It may not be installed or enabled properly.\n"
     ]
    },
    {
     "data": {
      "application/vnd.jupyter.widget-view+json": {
       "model_id": "e275715de96943c5a60e990c09ea8acd"
      }
     },
     "metadata": {},
     "output_type": "display_data"
    },
    {
     "name": "stderr",
     "output_type": "stream",
     "text": [
      "Epoch 42: 5.1s to complete\n",
      "    error(train)=1.56e-01, acc(train)=9.36e-01, error(valid)=8.61e-01, acc(valid)=8.27e-01\n",
      "Widget Javascript not detected.  It may not be installed or enabled properly.\n"
     ]
    },
    {
     "data": {
      "application/vnd.jupyter.widget-view+json": {
       "model_id": "47da801ea209453ba105bf09ffd08d7b"
      }
     },
     "metadata": {},
     "output_type": "display_data"
    },
    {
     "name": "stderr",
     "output_type": "stream",
     "text": [
      "Epoch 43: 5.0s to complete\n",
      "    error(train)=1.53e-01, acc(train)=9.38e-01, error(valid)=8.82e-01, acc(valid)=8.30e-01\n",
      "Widget Javascript not detected.  It may not be installed or enabled properly.\n"
     ]
    },
    {
     "data": {
      "application/vnd.jupyter.widget-view+json": {
       "model_id": "77ff444904174c95a2ef9463424d24e5"
      }
     },
     "metadata": {},
     "output_type": "display_data"
    },
    {
     "name": "stderr",
     "output_type": "stream",
     "text": [
      "Epoch 44: 5.0s to complete\n",
      "    error(train)=1.40e-01, acc(train)=9.41e-01, error(valid)=9.00e-01, acc(valid)=8.30e-01\n",
      "Widget Javascript not detected.  It may not be installed or enabled properly.\n"
     ]
    },
    {
     "data": {
      "application/vnd.jupyter.widget-view+json": {
       "model_id": "ee9f8ce39bf143efadbf79caae9608d0"
      }
     },
     "metadata": {},
     "output_type": "display_data"
    },
    {
     "name": "stderr",
     "output_type": "stream",
     "text": [
      "Epoch 45: 5.1s to complete\n",
      "    error(train)=1.55e-01, acc(train)=9.37e-01, error(valid)=9.16e-01, acc(valid)=8.24e-01\n",
      "Widget Javascript not detected.  It may not be installed or enabled properly.\n"
     ]
    },
    {
     "data": {
      "application/vnd.jupyter.widget-view+json": {
       "model_id": "bb967646d95a42e4a9ed231cb87b356a"
      }
     },
     "metadata": {},
     "output_type": "display_data"
    },
    {
     "name": "stderr",
     "output_type": "stream",
     "text": [
      "Epoch 46: 5.1s to complete\n",
      "    error(train)=1.38e-01, acc(train)=9.42e-01, error(valid)=9.19e-01, acc(valid)=8.24e-01\n",
      "Widget Javascript not detected.  It may not be installed or enabled properly.\n"
     ]
    },
    {
     "data": {
      "application/vnd.jupyter.widget-view+json": {
       "model_id": "2667f4c876d443c5bb50cf83539d6ebe"
      }
     },
     "metadata": {},
     "output_type": "display_data"
    },
    {
     "name": "stderr",
     "output_type": "stream",
     "text": [
      "Epoch 47: 5.3s to complete\n",
      "    error(train)=1.56e-01, acc(train)=9.37e-01, error(valid)=9.48e-01, acc(valid)=8.25e-01\n",
      "Widget Javascript not detected.  It may not be installed or enabled properly.\n"
     ]
    },
    {
     "data": {
      "application/vnd.jupyter.widget-view+json": {
       "model_id": "7a21b66493f7454ca0f63e329cb513b4"
      }
     },
     "metadata": {},
     "output_type": "display_data"
    },
    {
     "name": "stderr",
     "output_type": "stream",
     "text": [
      "Epoch 48: 5.0s to complete\n",
      "    error(train)=1.40e-01, acc(train)=9.42e-01, error(valid)=9.55e-01, acc(valid)=8.27e-01\n",
      "Widget Javascript not detected.  It may not be installed or enabled properly.\n"
     ]
    },
    {
     "data": {
      "application/vnd.jupyter.widget-view+json": {
       "model_id": "ea87e03ba52340dcb61c06d5a224bda7"
      }
     },
     "metadata": {},
     "output_type": "display_data"
    },
    {
     "name": "stderr",
     "output_type": "stream",
     "text": [
      "Epoch 49: 5.0s to complete\n",
      "    error(train)=1.43e-01, acc(train)=9.41e-01, error(valid)=9.52e-01, acc(valid)=8.29e-01\n",
      "Widget Javascript not detected.  It may not be installed or enabled properly.\n"
     ]
    },
    {
     "data": {
      "application/vnd.jupyter.widget-view+json": {
       "model_id": "d927f565b69446b595fb533ebb22e693"
      }
     },
     "metadata": {},
     "output_type": "display_data"
    },
    {
     "name": "stderr",
     "output_type": "stream",
     "text": [
      "Epoch 50: 5.0s to complete\n",
      "    error(train)=1.26e-01, acc(train)=9.47e-01, error(valid)=9.89e-01, acc(valid)=8.30e-01\n",
      "Widget Javascript not detected.  It may not be installed or enabled properly.\n"
     ]
    },
    {
     "data": {
      "application/vnd.jupyter.widget-view+json": {
       "model_id": "0d2d6948c7f240b0931bd4ffd471c98f"
      }
     },
     "metadata": {},
     "output_type": "display_data"
    },
    {
     "name": "stderr",
     "output_type": "stream",
     "text": [
      "Epoch 51: 5.0s to complete\n",
      "    error(train)=1.37e-01, acc(train)=9.43e-01, error(valid)=1.01e+00, acc(valid)=8.23e-01\n",
      "Widget Javascript not detected.  It may not be installed or enabled properly.\n"
     ]
    },
    {
     "data": {
      "application/vnd.jupyter.widget-view+json": {
       "model_id": "18bda5e579fd4f8a8fdedef406424a83"
      }
     },
     "metadata": {},
     "output_type": "display_data"
    },
    {
     "name": "stderr",
     "output_type": "stream",
     "text": [
      "Epoch 52: 5.1s to complete\n",
      "    error(train)=1.45e-01, acc(train)=9.41e-01, error(valid)=1.04e+00, acc(valid)=8.25e-01\n",
      "Widget Javascript not detected.  It may not be installed or enabled properly.\n"
     ]
    },
    {
     "data": {
      "application/vnd.jupyter.widget-view+json": {
       "model_id": "48ca00aff51d45cfbd41a9304676e589"
      }
     },
     "metadata": {},
     "output_type": "display_data"
    },
    {
     "name": "stderr",
     "output_type": "stream",
     "text": [
      "Epoch 53: 5.0s to complete\n",
      "    error(train)=1.50e-01, acc(train)=9.39e-01, error(valid)=1.07e+00, acc(valid)=8.23e-01\n",
      "Widget Javascript not detected.  It may not be installed or enabled properly.\n"
     ]
    },
    {
     "data": {
      "application/vnd.jupyter.widget-view+json": {
       "model_id": "98f7a8565e784d939672abe46da8199e"
      }
     },
     "metadata": {},
     "output_type": "display_data"
    },
    {
     "name": "stderr",
     "output_type": "stream",
     "text": [
      "Epoch 54: 5.0s to complete\n",
      "    error(train)=1.57e-01, acc(train)=9.38e-01, error(valid)=1.09e+00, acc(valid)=8.20e-01\n",
      "Widget Javascript not detected.  It may not be installed or enabled properly.\n"
     ]
    },
    {
     "data": {
      "application/vnd.jupyter.widget-view+json": {
       "model_id": "5ed3e4a3a230474da3af3d4592da8015"
      }
     },
     "metadata": {},
     "output_type": "display_data"
    },
    {
     "name": "stderr",
     "output_type": "stream",
     "text": [
      "Epoch 55: 5.1s to complete\n",
      "    error(train)=1.36e-01, acc(train)=9.45e-01, error(valid)=1.09e+00, acc(valid)=8.29e-01\n",
      "Widget Javascript not detected.  It may not be installed or enabled properly.\n"
     ]
    },
    {
     "data": {
      "application/vnd.jupyter.widget-view+json": {
       "model_id": "dab3b120ffd4422fa95a6eea2a02c926"
      }
     },
     "metadata": {},
     "output_type": "display_data"
    },
    {
     "name": "stderr",
     "output_type": "stream",
     "text": [
      "Epoch 56: 5.1s to complete\n",
      "    error(train)=1.41e-01, acc(train)=9.43e-01, error(valid)=1.10e+00, acc(valid)=8.23e-01\n",
      "Widget Javascript not detected.  It may not be installed or enabled properly.\n"
     ]
    },
    {
     "data": {
      "application/vnd.jupyter.widget-view+json": {
       "model_id": "969b0c2c740b4dd48fb61905842da052"
      }
     },
     "metadata": {},
     "output_type": "display_data"
    },
    {
     "name": "stderr",
     "output_type": "stream",
     "text": [
      "Epoch 57: 5.1s to complete\n",
      "    error(train)=1.27e-01, acc(train)=9.48e-01, error(valid)=1.10e+00, acc(valid)=8.27e-01\n",
      "Widget Javascript not detected.  It may not be installed or enabled properly.\n"
     ]
    },
    {
     "data": {
      "application/vnd.jupyter.widget-view+json": {
       "model_id": "5099cfe76c694fc2b118dfe826f2ba5a"
      }
     },
     "metadata": {},
     "output_type": "display_data"
    },
    {
     "name": "stderr",
     "output_type": "stream",
     "text": [
      "Epoch 58: 5.0s to complete\n",
      "    error(train)=1.35e-01, acc(train)=9.45e-01, error(valid)=1.12e+00, acc(valid)=8.26e-01\n",
      "Widget Javascript not detected.  It may not be installed or enabled properly.\n"
     ]
    },
    {
     "data": {
      "application/vnd.jupyter.widget-view+json": {
       "model_id": "413c7770fc5c4141bd8370a34d5d1420"
      }
     },
     "metadata": {},
     "output_type": "display_data"
    },
    {
     "name": "stderr",
     "output_type": "stream",
     "text": [
      "Epoch 59: 5.1s to complete\n",
      "    error(train)=1.44e-01, acc(train)=9.42e-01, error(valid)=1.12e+00, acc(valid)=8.24e-01\n",
      "Widget Javascript not detected.  It may not be installed or enabled properly.\n"
     ]
    },
    {
     "data": {
      "application/vnd.jupyter.widget-view+json": {
       "model_id": "3821cf94ee494b4f92b8e62ca8493faf"
      }
     },
     "metadata": {},
     "output_type": "display_data"
    },
    {
     "name": "stderr",
     "output_type": "stream",
     "text": [
      "Epoch 60: 5.1s to complete\n",
      "    error(train)=1.45e-01, acc(train)=9.43e-01, error(valid)=1.17e+00, acc(valid)=8.23e-01\n",
      "Widget Javascript not detected.  It may not be installed or enabled properly.\n"
     ]
    },
    {
     "data": {
      "application/vnd.jupyter.widget-view+json": {
       "model_id": "46aab985c5bc402d84dc5fe846a1a673"
      }
     },
     "metadata": {},
     "output_type": "display_data"
    },
    {
     "name": "stderr",
     "output_type": "stream",
     "text": [
      "Epoch 61: 5.1s to complete\n",
      "    error(train)=1.27e-01, acc(train)=9.49e-01, error(valid)=1.17e+00, acc(valid)=8.26e-01\n",
      "Widget Javascript not detected.  It may not be installed or enabled properly.\n"
     ]
    },
    {
     "data": {
      "application/vnd.jupyter.widget-view+json": {
       "model_id": "9f09501b9e80400eac366873331ca8f7"
      }
     },
     "metadata": {},
     "output_type": "display_data"
    },
    {
     "name": "stderr",
     "output_type": "stream",
     "text": [
      "Epoch 62: 4.8s to complete\n",
      "    error(train)=1.41e-01, acc(train)=9.44e-01, error(valid)=1.18e+00, acc(valid)=8.24e-01\n",
      "Widget Javascript not detected.  It may not be installed or enabled properly.\n"
     ]
    },
    {
     "data": {
      "application/vnd.jupyter.widget-view+json": {
       "model_id": "e52ac490393646a4a7b66028202bbf11"
      }
     },
     "metadata": {},
     "output_type": "display_data"
    },
    {
     "name": "stderr",
     "output_type": "stream",
     "text": [
      "Epoch 63: 5.0s to complete\n",
      "    error(train)=1.21e-01, acc(train)=9.51e-01, error(valid)=1.15e+00, acc(valid)=8.27e-01\n",
      "Widget Javascript not detected.  It may not be installed or enabled properly.\n"
     ]
    },
    {
     "data": {
      "application/vnd.jupyter.widget-view+json": {
       "model_id": "7dfe13bea38c4f0fb68d6c40fc0a2b36"
      }
     },
     "metadata": {},
     "output_type": "display_data"
    },
    {
     "name": "stderr",
     "output_type": "stream",
     "text": [
      "Epoch 64: 5.0s to complete\n",
      "    error(train)=1.44e-01, acc(train)=9.42e-01, error(valid)=1.23e+00, acc(valid)=8.21e-01\n",
      "Widget Javascript not detected.  It may not be installed or enabled properly.\n"
     ]
    },
    {
     "data": {
      "application/vnd.jupyter.widget-view+json": {
       "model_id": "371fdebfcc944fcb991edf24845949f4"
      }
     },
     "metadata": {},
     "output_type": "display_data"
    },
    {
     "name": "stderr",
     "output_type": "stream",
     "text": [
      "Epoch 65: 5.1s to complete\n",
      "    error(train)=1.31e-01, acc(train)=9.47e-01, error(valid)=1.20e+00, acc(valid)=8.23e-01\n",
      "Widget Javascript not detected.  It may not be installed or enabled properly.\n"
     ]
    },
    {
     "data": {
      "application/vnd.jupyter.widget-view+json": {
       "model_id": "e96f85687c8f4b66afb943a546ffac67"
      }
     },
     "metadata": {},
     "output_type": "display_data"
    },
    {
     "name": "stderr",
     "output_type": "stream",
     "text": [
      "Epoch 66: 5.1s to complete\n",
      "    error(train)=1.37e-01, acc(train)=9.46e-01, error(valid)=1.22e+00, acc(valid)=8.24e-01\n",
      "Widget Javascript not detected.  It may not be installed or enabled properly.\n"
     ]
    },
    {
     "data": {
      "application/vnd.jupyter.widget-view+json": {
       "model_id": "287dd5ae98d848c88518dc54ba72fc23"
      }
     },
     "metadata": {},
     "output_type": "display_data"
    },
    {
     "name": "stderr",
     "output_type": "stream",
     "text": [
      "Epoch 67: 5.1s to complete\n",
      "    error(train)=1.16e-01, acc(train)=9.53e-01, error(valid)=1.23e+00, acc(valid)=8.26e-01\n",
      "Widget Javascript not detected.  It may not be installed or enabled properly.\n"
     ]
    },
    {
     "data": {
      "application/vnd.jupyter.widget-view+json": {
       "model_id": "dff1913a366a440bab107c03795e732c"
      }
     },
     "metadata": {},
     "output_type": "display_data"
    },
    {
     "name": "stderr",
     "output_type": "stream",
     "text": [
      "Epoch 68: 5.2s to complete\n",
      "    error(train)=1.20e-01, acc(train)=9.51e-01, error(valid)=1.24e+00, acc(valid)=8.27e-01\n",
      "Widget Javascript not detected.  It may not be installed or enabled properly.\n"
     ]
    },
    {
     "data": {
      "application/vnd.jupyter.widget-view+json": {
       "model_id": "4abcd5ba60ff4ca28d84240193d4c096"
      }
     },
     "metadata": {},
     "output_type": "display_data"
    },
    {
     "name": "stderr",
     "output_type": "stream",
     "text": [
      "Epoch 69: 5.2s to complete\n",
      "    error(train)=1.19e-01, acc(train)=9.52e-01, error(valid)=1.30e+00, acc(valid)=8.21e-01\n",
      "Widget Javascript not detected.  It may not be installed or enabled properly.\n"
     ]
    },
    {
     "data": {
      "application/vnd.jupyter.widget-view+json": {
       "model_id": "e3b5ca767d84483284583205ec65e791"
      }
     },
     "metadata": {},
     "output_type": "display_data"
    },
    {
     "name": "stderr",
     "output_type": "stream",
     "text": [
      "Epoch 70: 4.9s to complete\n",
      "    error(train)=1.20e-01, acc(train)=9.51e-01, error(valid)=1.25e+00, acc(valid)=8.21e-01\n",
      "Widget Javascript not detected.  It may not be installed or enabled properly.\n"
     ]
    },
    {
     "data": {
      "application/vnd.jupyter.widget-view+json": {
       "model_id": "829426096c2b45ad95b1ddfd6490a7b2"
      }
     },
     "metadata": {},
     "output_type": "display_data"
    },
    {
     "name": "stderr",
     "output_type": "stream",
     "text": [
      "Epoch 71: 5.1s to complete\n",
      "    error(train)=1.09e-01, acc(train)=9.55e-01, error(valid)=1.24e+00, acc(valid)=8.25e-01\n",
      "Widget Javascript not detected.  It may not be installed or enabled properly.\n"
     ]
    },
    {
     "data": {
      "application/vnd.jupyter.widget-view+json": {
       "model_id": "5d68cd302d24467881bcdfdc17af13fc"
      }
     },
     "metadata": {},
     "output_type": "display_data"
    },
    {
     "name": "stderr",
     "output_type": "stream",
     "text": [
      "Epoch 72: 5.1s to complete\n",
      "    error(train)=1.25e-01, acc(train)=9.50e-01, error(valid)=1.32e+00, acc(valid)=8.20e-01\n",
      "Widget Javascript not detected.  It may not be installed or enabled properly.\n"
     ]
    },
    {
     "data": {
      "application/vnd.jupyter.widget-view+json": {
       "model_id": "afdc31f110cd48e98bf9149fafa9017d"
      }
     },
     "metadata": {},
     "output_type": "display_data"
    },
    {
     "name": "stderr",
     "output_type": "stream",
     "text": [
      "Epoch 73: 5.1s to complete\n",
      "    error(train)=1.29e-01, acc(train)=9.49e-01, error(valid)=1.33e+00, acc(valid)=8.21e-01\n",
      "Widget Javascript not detected.  It may not be installed or enabled properly.\n"
     ]
    },
    {
     "data": {
      "application/vnd.jupyter.widget-view+json": {
       "model_id": "58601ac6773e43a2a6d5cb74c244bebd"
      }
     },
     "metadata": {},
     "output_type": "display_data"
    },
    {
     "name": "stderr",
     "output_type": "stream",
     "text": [
      "Epoch 74: 5.1s to complete\n",
      "    error(train)=1.45e-01, acc(train)=9.43e-01, error(valid)=1.35e+00, acc(valid)=8.21e-01\n",
      "Widget Javascript not detected.  It may not be installed or enabled properly.\n"
     ]
    },
    {
     "data": {
      "application/vnd.jupyter.widget-view+json": {
       "model_id": "f9d3ae21dcac4f3388ac5ec650eac59a"
      }
     },
     "metadata": {},
     "output_type": "display_data"
    },
    {
     "name": "stderr",
     "output_type": "stream",
     "text": [
      "Epoch 75: 5.0s to complete\n",
      "    error(train)=1.27e-01, acc(train)=9.49e-01, error(valid)=1.39e+00, acc(valid)=8.20e-01\n",
      "Widget Javascript not detected.  It may not be installed or enabled properly.\n"
     ]
    },
    {
     "data": {
      "application/vnd.jupyter.widget-view+json": {
       "model_id": "2b9cfc3994ca49629cae1c815b4fa32f"
      }
     },
     "metadata": {},
     "output_type": "display_data"
    },
    {
     "name": "stderr",
     "output_type": "stream",
     "text": [
      "Epoch 76: 5.2s to complete\n",
      "    error(train)=1.34e-01, acc(train)=9.49e-01, error(valid)=1.37e+00, acc(valid)=8.19e-01\n",
      "Widget Javascript not detected.  It may not be installed or enabled properly.\n"
     ]
    },
    {
     "data": {
      "application/vnd.jupyter.widget-view+json": {
       "model_id": "8cecd80450164755b85fcd62ad9d61de"
      }
     },
     "metadata": {},
     "output_type": "display_data"
    },
    {
     "name": "stderr",
     "output_type": "stream",
     "text": [
      "Epoch 77: 5.0s to complete\n",
      "    error(train)=1.17e-01, acc(train)=9.52e-01, error(valid)=1.39e+00, acc(valid)=8.23e-01\n",
      "Widget Javascript not detected.  It may not be installed or enabled properly.\n"
     ]
    },
    {
     "data": {
      "application/vnd.jupyter.widget-view+json": {
       "model_id": "a2b83f293fa542b6a6609b2da3131a24"
      }
     },
     "metadata": {},
     "output_type": "display_data"
    },
    {
     "name": "stderr",
     "output_type": "stream",
     "text": [
      "Epoch 78: 5.0s to complete\n",
      "    error(train)=1.15e-01, acc(train)=9.54e-01, error(valid)=1.35e+00, acc(valid)=8.24e-01\n",
      "Widget Javascript not detected.  It may not be installed or enabled properly.\n"
     ]
    },
    {
     "data": {
      "application/vnd.jupyter.widget-view+json": {
       "model_id": "7795e10ab91e42f5a7515eb4aa45dbd0"
      }
     },
     "metadata": {},
     "output_type": "display_data"
    },
    {
     "name": "stderr",
     "output_type": "stream",
     "text": [
      "Epoch 79: 5.1s to complete\n",
      "    error(train)=1.34e-01, acc(train)=9.49e-01, error(valid)=1.42e+00, acc(valid)=8.21e-01\n",
      "Widget Javascript not detected.  It may not be installed or enabled properly.\n"
     ]
    },
    {
     "data": {
      "application/vnd.jupyter.widget-view+json": {
       "model_id": "856c520bc7834a4bbde3a95c9f5fe6df"
      }
     },
     "metadata": {},
     "output_type": "display_data"
    },
    {
     "name": "stderr",
     "output_type": "stream",
     "text": [
      "Epoch 80: 5.0s to complete\n",
      "    error(train)=1.18e-01, acc(train)=9.53e-01, error(valid)=1.41e+00, acc(valid)=8.18e-01\n",
      "Widget Javascript not detected.  It may not be installed or enabled properly.\n"
     ]
    },
    {
     "data": {
      "application/vnd.jupyter.widget-view+json": {
       "model_id": "de75a71668ff44b3b0892e831c32f308"
      }
     },
     "metadata": {},
     "output_type": "display_data"
    },
    {
     "name": "stderr",
     "output_type": "stream",
     "text": [
      "Epoch 81: 5.0s to complete\n",
      "    error(train)=1.13e-01, acc(train)=9.55e-01, error(valid)=1.43e+00, acc(valid)=8.23e-01\n",
      "Widget Javascript not detected.  It may not be installed or enabled properly.\n"
     ]
    },
    {
     "data": {
      "application/vnd.jupyter.widget-view+json": {
       "model_id": "fa8aa28496bb4ec896a8f6f55eab1816"
      }
     },
     "metadata": {},
     "output_type": "display_data"
    },
    {
     "name": "stderr",
     "output_type": "stream",
     "text": [
      "Epoch 82: 5.1s to complete\n",
      "    error(train)=1.30e-01, acc(train)=9.50e-01, error(valid)=1.46e+00, acc(valid)=8.20e-01\n",
      "Widget Javascript not detected.  It may not be installed or enabled properly.\n"
     ]
    },
    {
     "data": {
      "application/vnd.jupyter.widget-view+json": {
       "model_id": "f62d9cd054c046638431f4f75f8b40db"
      }
     },
     "metadata": {},
     "output_type": "display_data"
    },
    {
     "name": "stderr",
     "output_type": "stream",
     "text": [
      "Epoch 83: 5.0s to complete\n",
      "    error(train)=1.08e-01, acc(train)=9.57e-01, error(valid)=1.48e+00, acc(valid)=8.19e-01\n",
      "Widget Javascript not detected.  It may not be installed or enabled properly.\n"
     ]
    },
    {
     "data": {
      "application/vnd.jupyter.widget-view+json": {
       "model_id": "9f8b5a90742045a7a09c527f14ca1872"
      }
     },
     "metadata": {},
     "output_type": "display_data"
    },
    {
     "name": "stderr",
     "output_type": "stream",
     "text": [
      "Epoch 84: 5.0s to complete\n",
      "    error(train)=1.14e-01, acc(train)=9.55e-01, error(valid)=1.48e+00, acc(valid)=8.24e-01\n",
      "Widget Javascript not detected.  It may not be installed or enabled properly.\n"
     ]
    },
    {
     "data": {
      "application/vnd.jupyter.widget-view+json": {
       "model_id": "a06d7e1f8a134493a7a6cdca60061401"
      }
     },
     "metadata": {},
     "output_type": "display_data"
    },
    {
     "name": "stderr",
     "output_type": "stream",
     "text": [
      "Epoch 85: 5.1s to complete\n",
      "    error(train)=1.34e-01, acc(train)=9.49e-01, error(valid)=1.48e+00, acc(valid)=8.17e-01\n",
      "Widget Javascript not detected.  It may not be installed or enabled properly.\n"
     ]
    },
    {
     "data": {
      "application/vnd.jupyter.widget-view+json": {
       "model_id": "f4c986c98fa94a318208a578656fd288"
      }
     },
     "metadata": {},
     "output_type": "display_data"
    },
    {
     "name": "stderr",
     "output_type": "stream",
     "text": [
      "Epoch 86: 5.0s to complete\n",
      "    error(train)=1.16e-01, acc(train)=9.54e-01, error(valid)=1.54e+00, acc(valid)=8.22e-01\n",
      "Widget Javascript not detected.  It may not be installed or enabled properly.\n"
     ]
    },
    {
     "data": {
      "application/vnd.jupyter.widget-view+json": {
       "model_id": "e564190208fa493fa3f6367581a733c2"
      }
     },
     "metadata": {},
     "output_type": "display_data"
    },
    {
     "name": "stderr",
     "output_type": "stream",
     "text": [
      "Epoch 87: 5.1s to complete\n",
      "    error(train)=1.09e-01, acc(train)=9.57e-01, error(valid)=1.46e+00, acc(valid)=8.22e-01\n",
      "Widget Javascript not detected.  It may not be installed or enabled properly.\n"
     ]
    },
    {
     "data": {
      "application/vnd.jupyter.widget-view+json": {
       "model_id": "5e0a5796afcd4b6d84d8acdfe61d9b53"
      }
     },
     "metadata": {},
     "output_type": "display_data"
    },
    {
     "name": "stderr",
     "output_type": "stream",
     "text": [
      "Epoch 88: 5.0s to complete\n",
      "    error(train)=1.15e-01, acc(train)=9.56e-01, error(valid)=1.57e+00, acc(valid)=8.22e-01\n",
      "Widget Javascript not detected.  It may not be installed or enabled properly.\n"
     ]
    },
    {
     "data": {
      "application/vnd.jupyter.widget-view+json": {
       "model_id": "0addbb2dc2df4f6a9019cad40fb2fccc"
      }
     },
     "metadata": {},
     "output_type": "display_data"
    },
    {
     "name": "stderr",
     "output_type": "stream",
     "text": [
      "Epoch 89: 5.0s to complete\n",
      "    error(train)=1.23e-01, acc(train)=9.52e-01, error(valid)=1.51e+00, acc(valid)=8.22e-01\n",
      "Widget Javascript not detected.  It may not be installed or enabled properly.\n"
     ]
    },
    {
     "data": {
      "application/vnd.jupyter.widget-view+json": {
       "model_id": "c6a28ed2820244a891e01491ba6a8439"
      }
     },
     "metadata": {},
     "output_type": "display_data"
    },
    {
     "name": "stderr",
     "output_type": "stream",
     "text": [
      "Epoch 90: 5.1s to complete\n",
      "    error(train)=1.30e-01, acc(train)=9.51e-01, error(valid)=1.53e+00, acc(valid)=8.22e-01\n",
      "Widget Javascript not detected.  It may not be installed or enabled properly.\n"
     ]
    },
    {
     "data": {
      "application/vnd.jupyter.widget-view+json": {
       "model_id": "17dc53d938ba41d09e9353ff4a56d6e9"
      }
     },
     "metadata": {},
     "output_type": "display_data"
    },
    {
     "name": "stderr",
     "output_type": "stream",
     "text": [
      "Epoch 91: 5.0s to complete\n",
      "    error(train)=1.16e-01, acc(train)=9.55e-01, error(valid)=1.55e+00, acc(valid)=8.22e-01\n",
      "Widget Javascript not detected.  It may not be installed or enabled properly.\n"
     ]
    },
    {
     "data": {
      "application/vnd.jupyter.widget-view+json": {
       "model_id": "58428104125647d9a76ba3e0d1e13f48"
      }
     },
     "metadata": {},
     "output_type": "display_data"
    },
    {
     "name": "stderr",
     "output_type": "stream",
     "text": [
      "Epoch 92: 5.0s to complete\n",
      "    error(train)=1.25e-01, acc(train)=9.52e-01, error(valid)=1.57e+00, acc(valid)=8.22e-01\n",
      "Widget Javascript not detected.  It may not be installed or enabled properly.\n"
     ]
    },
    {
     "data": {
      "application/vnd.jupyter.widget-view+json": {
       "model_id": "ed7852660a9340caa109c08fd04d2bad"
      }
     },
     "metadata": {},
     "output_type": "display_data"
    },
    {
     "name": "stderr",
     "output_type": "stream",
     "text": [
      "Epoch 93: 5.0s to complete\n",
      "    error(train)=1.01e-01, acc(train)=9.60e-01, error(valid)=1.54e+00, acc(valid)=8.22e-01\n",
      "Widget Javascript not detected.  It may not be installed or enabled properly.\n"
     ]
    },
    {
     "data": {
      "application/vnd.jupyter.widget-view+json": {
       "model_id": "41b9c9fdf89a43e394ebf75a3029732d"
      }
     },
     "metadata": {},
     "output_type": "display_data"
    },
    {
     "name": "stderr",
     "output_type": "stream",
     "text": [
      "Epoch 94: 5.1s to complete\n",
      "    error(train)=1.11e-01, acc(train)=9.57e-01, error(valid)=1.61e+00, acc(valid)=8.20e-01\n",
      "Widget Javascript not detected.  It may not be installed or enabled properly.\n"
     ]
    },
    {
     "data": {
      "application/vnd.jupyter.widget-view+json": {
       "model_id": "21753ec4d40640cc87ba7ec7861bc03d"
      }
     },
     "metadata": {},
     "output_type": "display_data"
    },
    {
     "name": "stderr",
     "output_type": "stream",
     "text": [
      "Epoch 95: 6.6s to complete\n",
      "    error(train)=1.17e-01, acc(train)=9.55e-01, error(valid)=1.58e+00, acc(valid)=8.21e-01\n",
      "Widget Javascript not detected.  It may not be installed or enabled properly.\n"
     ]
    },
    {
     "data": {
      "application/vnd.jupyter.widget-view+json": {
       "model_id": "b60d554a07a04fec9675757c51f9d958"
      }
     },
     "metadata": {},
     "output_type": "display_data"
    },
    {
     "name": "stderr",
     "output_type": "stream",
     "text": [
      "Epoch 96: 5.2s to complete\n",
      "    error(train)=1.08e-01, acc(train)=9.59e-01, error(valid)=1.58e+00, acc(valid)=8.19e-01\n",
      "Widget Javascript not detected.  It may not be installed or enabled properly.\n"
     ]
    },
    {
     "data": {
      "application/vnd.jupyter.widget-view+json": {
       "model_id": "2a746f6890af4d84a723e4732669e96f"
      }
     },
     "metadata": {},
     "output_type": "display_data"
    },
    {
     "name": "stderr",
     "output_type": "stream",
     "text": [
      "Epoch 97: 5.1s to complete\n",
      "    error(train)=1.03e-01, acc(train)=9.61e-01, error(valid)=1.64e+00, acc(valid)=8.20e-01\n",
      "Widget Javascript not detected.  It may not be installed or enabled properly.\n"
     ]
    },
    {
     "data": {
      "application/vnd.jupyter.widget-view+json": {
       "model_id": "59102c43a5d94d7d835a48c0762ee949"
      }
     },
     "metadata": {},
     "output_type": "display_data"
    },
    {
     "name": "stderr",
     "output_type": "stream",
     "text": [
      "Epoch 98: 5.2s to complete\n",
      "    error(train)=1.22e-01, acc(train)=9.55e-01, error(valid)=1.66e+00, acc(valid)=8.21e-01\n",
      "Widget Javascript not detected.  It may not be installed or enabled properly.\n"
     ]
    },
    {
     "data": {
      "application/vnd.jupyter.widget-view+json": {
       "model_id": "7d220d87f3e2439fa64c998be2acaf1b"
      }
     },
     "metadata": {},
     "output_type": "display_data"
    },
    {
     "name": "stderr",
     "output_type": "stream",
     "text": [
      "Epoch 99: 5.1s to complete\n",
      "    error(train)=1.28e-01, acc(train)=9.53e-01, error(valid)=1.70e+00, acc(valid)=8.16e-01\n",
      "Widget Javascript not detected.  It may not be installed or enabled properly.\n"
     ]
    },
    {
     "data": {
      "application/vnd.jupyter.widget-view+json": {
       "model_id": "e3a66ac795cd46e9861a8604895933aa"
      }
     },
     "metadata": {},
     "output_type": "display_data"
    },
    {
     "name": "stderr",
     "output_type": "stream",
     "text": [
      "Epoch 100: 5.1s to complete\n",
      "    error(train)=1.06e-01, acc(train)=9.59e-01, error(valid)=1.70e+00, acc(valid)=8.21e-01\n"
     ]
    },
    {
     "name": "stdout",
     "output_type": "stream",
     "text": [
      "\n"
     ]
    },
    {
     "data": {
      "image/png": "[encoded data removed]",
      "text/plain": [
       "<matplotlib.figure.Figure at 0x23187f932e8>"
      ]
     },
     "metadata": {},
     "output_type": "display_data"
    },
    {
     "data": {
      "image/png": "[encoded data removed]",
      "text/plain": [
       "<matplotlib.figure.Figure at 0x23187389e10>"
      ]
     },
     "metadata": {},
     "output_type": "display_data"
    }
   ],
   "source": [
    "models = [MultipleLayerModel([\n",
    "    AffineLayer(input_dim, 128, weights_init, biases_init), # hidden layer\n",
    "    ReluLayer(),\n",
    "    AffineLayer(128, output_dim, weights_init, biases_init) # output layer\n",
    "]),MultipleLayerModel([\n",
    "    AffineLayer(input_dim, 128, weights_init, biases_init), # first hidden layer\n",
    "    ReluLayer(),\n",
    "    AffineLayer(128, 128, weights_init, biases_init), # second hidden layer\n",
    "    ReluLayer(),\n",
    "    AffineLayer(128, output_dim, weights_init, biases_init) # output layer\n",
    "]),MultipleLayerModel([\n",
    "    AffineLayer(input_dim, 128, weights_init, biases_init), # first hidden layer\n",
    "    ReluLayer(),\n",
    "    AffineLayer(128, 128, weights_init, biases_init), # second hidden layer\n",
    "    ReluLayer(),\n",
    "    AffineLayer(128, 128, weights_init, biases_init), # third hidden layer\n",
    "    ReluLayer(),\n",
    "    AffineLayer(128, output_dim, weights_init, biases_init) # output layer\n",
    "])]\n",
    "_ = train_model_and_plot_stats2(\n",
    "    models, error, learning_rule, train_data, valid_data, num_epochs, stats_interval, notebook=True)"
   ]
  },
  {
   "cell_type": "code",
   "execution_count": 44,
   "metadata": {},
   "outputs": [
    {
     "ename": "NameError",
     "evalue": "name 'fig1' is not defined",
     "output_type": "error",
     "traceback": [
      "\u001b[1;31m---------------------------------------------------------------------------\u001b[0m",
      "\u001b[1;31mNameError\u001b[0m                                 Traceback (most recent call last)",
      "\u001b[1;32m<ipython-input-44-6f112fe53bd4>\u001b[0m in \u001b[0;36m<module>\u001b[1;34m()\u001b[0m\n\u001b[1;32m----> 1\u001b[1;33m \u001b[0mfig1\u001b[0m\u001b[1;33m.\u001b[0m\u001b[0msavefig\u001b[0m\u001b[1;33m(\u001b[0m\u001b[1;34m'empty_error_curve_depth_1.pdf'\u001b[0m\u001b[1;33m)\u001b[0m\u001b[1;33m\u001b[0m\u001b[0m\n\u001b[0m\u001b[0;32m      2\u001b[0m \u001b[0mfig2\u001b[0m\u001b[1;33m.\u001b[0m\u001b[0msavefig\u001b[0m\u001b[1;33m(\u001b[0m\u001b[1;34m'empty_acc_curve_depth_1.pdf'\u001b[0m\u001b[1;33m)\u001b[0m\u001b[1;33m\u001b[0m\u001b[0m\n",
      "\u001b[1;31mNameError\u001b[0m: name 'fig1' is not defined"
     ]
    }
   ],
   "source": []
  },
  {
   "cell_type": "code",
   "execution_count": 7,
   "metadata": {},
   "outputs": [
    {
     "name": "stderr",
     "output_type": "stream",
     "text": [
      "Widget Javascript not detected.  It may not be installed or enabled properly.\n"
     ]
    },
    {
     "data": {
      "application/vnd.jupyter.widget-view+json": {
       "model_id": "723998948ef643199995babd4c370650"
      }
     },
     "metadata": {},
     "output_type": "display_data"
    },
    {
     "name": "stderr",
     "output_type": "stream",
     "text": [
      "Widget Javascript not detected.  It may not be installed or enabled properly.\n"
     ]
    },
    {
     "data": {
      "application/vnd.jupyter.widget-view+json": {
       "model_id": "6e350318f74047a296d183e35a859bef"
      }
     },
     "metadata": {},
     "output_type": "display_data"
    },
    {
     "name": "stderr",
     "output_type": "stream",
     "text": [
      "Epoch 1: 1.8s to complete\n",
      "    error(train)=1.15e+00, acc(train)=6.72e-01, error(valid)=1.17e+00, acc(valid)=6.66e-01\n",
      "Widget Javascript not detected.  It may not be installed or enabled properly.\n"
     ]
    },
    {
     "data": {
      "application/vnd.jupyter.widget-view+json": {
       "model_id": "b221b998eff642d6b5645dca2646834d"
      }
     },
     "metadata": {},
     "output_type": "display_data"
    },
    {
     "name": "stderr",
     "output_type": "stream",
     "text": [
      "Epoch 2: 1.8s to complete\n",
      "    error(train)=9.88e-01, acc(train)=7.10e-01, error(valid)=1.01e+00, acc(valid)=7.02e-01\n",
      "Widget Javascript not detected.  It may not be installed or enabled properly.\n"
     ]
    },
    {
     "data": {
      "application/vnd.jupyter.widget-view+json": {
       "model_id": "5ea0d852562a45f8bf962a1721b34cef"
      }
     },
     "metadata": {},
     "output_type": "display_data"
    },
    {
     "name": "stderr",
     "output_type": "stream",
     "text": [
      "Epoch 3: 1.8s to complete\n",
      "    error(train)=8.96e-01, acc(train)=7.34e-01, error(valid)=9.23e-01, acc(valid)=7.29e-01\n",
      "Widget Javascript not detected.  It may not be installed or enabled properly.\n"
     ]
    },
    {
     "data": {
      "application/vnd.jupyter.widget-view+json": {
       "model_id": "c3ea62bf3535473b8299508b2572a440"
      }
     },
     "metadata": {},
     "output_type": "display_data"
    },
    {
     "name": "stderr",
     "output_type": "stream",
     "text": [
      "Epoch 4: 1.9s to complete\n",
      "    error(train)=8.34e-01, acc(train)=7.49e-01, error(valid)=8.67e-01, acc(valid)=7.44e-01\n",
      "Widget Javascript not detected.  It may not be installed or enabled properly.\n"
     ]
    },
    {
     "data": {
      "application/vnd.jupyter.widget-view+json": {
       "model_id": "4defb9b7f7cb401abbd67162c304c4ba"
      }
     },
     "metadata": {},
     "output_type": "display_data"
    },
    {
     "name": "stderr",
     "output_type": "stream",
     "text": [
      "Epoch 5: 1.8s to complete\n",
      "    error(train)=8.12e-01, acc(train)=7.55e-01, error(valid)=8.47e-01, acc(valid)=7.44e-01\n",
      "Widget Javascript not detected.  It may not be installed or enabled properly.\n"
     ]
    },
    {
     "data": {
      "application/vnd.jupyter.widget-view+json": {
       "model_id": "e731b086b81c426e97d4291249e9d25e"
      }
     },
     "metadata": {},
     "output_type": "display_data"
    },
    {
     "name": "stderr",
     "output_type": "stream",
     "text": [
      "Epoch 6: 1.1s to complete\n",
      "    error(train)=7.60e-01, acc(train)=7.71e-01, error(valid)=7.95e-01, acc(valid)=7.62e-01\n",
      "Widget Javascript not detected.  It may not be installed or enabled properly.\n"
     ]
    },
    {
     "data": {
      "application/vnd.jupyter.widget-view+json": {
       "model_id": "31834877a47b472eaff5940022b9afc3"
      }
     },
     "metadata": {},
     "output_type": "display_data"
    },
    {
     "name": "stderr",
     "output_type": "stream",
     "text": [
      "Epoch 7: 1.1s to complete\n",
      "    error(train)=7.38e-01, acc(train)=7.75e-01, error(valid)=7.78e-01, acc(valid)=7.63e-01\n",
      "Widget Javascript not detected.  It may not be installed or enabled properly.\n"
     ]
    },
    {
     "data": {
      "application/vnd.jupyter.widget-view+json": {
       "model_id": "218fc297ea644b238451de33baa70c36"
      }
     },
     "metadata": {},
     "output_type": "display_data"
    },
    {
     "name": "stderr",
     "output_type": "stream",
     "text": [
      "Epoch 8: 1.1s to complete\n",
      "    error(train)=7.21e-01, acc(train)=7.76e-01, error(valid)=7.71e-01, acc(valid)=7.65e-01\n",
      "Widget Javascript not detected.  It may not be installed or enabled properly.\n"
     ]
    },
    {
     "data": {
      "application/vnd.jupyter.widget-view+json": {
       "model_id": "8db95c96cc7841cbb03d0ee21ad7ebb6"
      }
     },
     "metadata": {},
     "output_type": "display_data"
    },
    {
     "name": "stderr",
     "output_type": "stream",
     "text": [
      "Epoch 9: 1.1s to complete\n",
      "    error(train)=7.04e-01, acc(train)=7.82e-01, error(valid)=7.54e-01, acc(valid)=7.69e-01\n",
      "Widget Javascript not detected.  It may not be installed or enabled properly.\n"
     ]
    },
    {
     "data": {
      "application/vnd.jupyter.widget-view+json": {
       "model_id": "15bc5a2dce354bd5b4df1d55e2f3012b"
      }
     },
     "metadata": {},
     "output_type": "display_data"
    },
    {
     "name": "stderr",
     "output_type": "stream",
     "text": [
      "Epoch 10: 1.1s to complete\n",
      "    error(train)=7.00e-01, acc(train)=7.83e-01, error(valid)=7.55e-01, acc(valid)=7.67e-01\n",
      "Widget Javascript not detected.  It may not be installed or enabled properly.\n"
     ]
    },
    {
     "data": {
      "application/vnd.jupyter.widget-view+json": {
       "model_id": "8b9381a3bab74a76b41b80ab22bd4fad"
      }
     },
     "metadata": {},
     "output_type": "display_data"
    },
    {
     "name": "stderr",
     "output_type": "stream",
     "text": [
      "Epoch 11: 1.1s to complete\n",
      "    error(train)=6.72e-01, acc(train)=7.89e-01, error(valid)=7.30e-01, acc(valid)=7.75e-01\n",
      "Widget Javascript not detected.  It may not be installed or enabled properly.\n"
     ]
    },
    {
     "data": {
      "application/vnd.jupyter.widget-view+json": {
       "model_id": "7c34b2cc2d394cc387b44e7a04ebb100"
      }
     },
     "metadata": {},
     "output_type": "display_data"
    },
    {
     "name": "stderr",
     "output_type": "stream",
     "text": [
      "Epoch 12: 1.1s to complete\n",
      "    error(train)=6.73e-01, acc(train)=7.90e-01, error(valid)=7.36e-01, acc(valid)=7.73e-01\n",
      "Widget Javascript not detected.  It may not be installed or enabled properly.\n"
     ]
    },
    {
     "data": {
      "application/vnd.jupyter.widget-view+json": {
       "model_id": "1dd1c97639bb44fd9977d272a1f15127"
      }
     },
     "metadata": {},
     "output_type": "display_data"
    },
    {
     "name": "stderr",
     "output_type": "stream",
     "text": [
      "Epoch 13: 1.1s to complete\n",
      "    error(train)=6.47e-01, acc(train)=7.97e-01, error(valid)=7.15e-01, acc(valid)=7.77e-01\n",
      "Widget Javascript not detected.  It may not be installed or enabled properly.\n"
     ]
    },
    {
     "data": {
      "application/vnd.jupyter.widget-view+json": {
       "model_id": "e65b90fcc88048d59aa0d9fff6929c68"
      }
     },
     "metadata": {},
     "output_type": "display_data"
    },
    {
     "name": "stderr",
     "output_type": "stream",
     "text": [
      "Epoch 14: 1.1s to complete\n",
      "    error(train)=6.46e-01, acc(train)=7.97e-01, error(valid)=7.15e-01, acc(valid)=7.79e-01\n",
      "Widget Javascript not detected.  It may not be installed or enabled properly.\n"
     ]
    },
    {
     "data": {
      "application/vnd.jupyter.widget-view+json": {
       "model_id": "617af9ddd34d444386cf29edf9c60601"
      }
     },
     "metadata": {},
     "output_type": "display_data"
    },
    {
     "name": "stderr",
     "output_type": "stream",
     "text": [
      "Epoch 15: 1.1s to complete\n",
      "    error(train)=6.36e-01, acc(train)=7.99e-01, error(valid)=7.08e-01, acc(valid)=7.84e-01\n",
      "Widget Javascript not detected.  It may not be installed or enabled properly.\n"
     ]
    },
    {
     "data": {
      "application/vnd.jupyter.widget-view+json": {
       "model_id": "3c9e288d6bd1485d88c8483447cc1156"
      }
     },
     "metadata": {},
     "output_type": "display_data"
    },
    {
     "name": "stderr",
     "output_type": "stream",
     "text": [
      "Epoch 16: 1.2s to complete\n",
      "    error(train)=6.24e-01, acc(train)=8.04e-01, error(valid)=7.01e-01, acc(valid)=7.81e-01\n",
      "Widget Javascript not detected.  It may not be installed or enabled properly.\n"
     ]
    },
    {
     "data": {
      "application/vnd.jupyter.widget-view+json": {
       "model_id": "bbfd2a89e2e247a78705e489c0586f56"
      }
     },
     "metadata": {},
     "output_type": "display_data"
    },
    {
     "name": "stderr",
     "output_type": "stream",
     "text": [
      "Epoch 17: 1.2s to complete\n",
      "    error(train)=6.23e-01, acc(train)=8.03e-01, error(valid)=7.01e-01, acc(valid)=7.81e-01\n",
      "Widget Javascript not detected.  It may not be installed or enabled properly.\n"
     ]
    },
    {
     "data": {
      "application/vnd.jupyter.widget-view+json": {
       "model_id": "5b0b1041177e4a80a438f41e0e68abd0"
      }
     },
     "metadata": {},
     "output_type": "display_data"
    },
    {
     "name": "stderr",
     "output_type": "stream",
     "text": [
      "Epoch 18: 1.2s to complete\n",
      "    error(train)=6.28e-01, acc(train)=8.00e-01, error(valid)=7.11e-01, acc(valid)=7.76e-01\n",
      "Widget Javascript not detected.  It may not be installed or enabled properly.\n"
     ]
    },
    {
     "data": {
      "application/vnd.jupyter.widget-view+json": {
       "model_id": "f0cf8298a6a8436eb93e147429fc655c"
      }
     },
     "metadata": {},
     "output_type": "display_data"
    },
    {
     "name": "stderr",
     "output_type": "stream",
     "text": [
      "Epoch 19: 1.2s to complete\n",
      "    error(train)=6.08e-01, acc(train)=8.07e-01, error(valid)=6.88e-01, acc(valid)=7.85e-01\n",
      "Widget Javascript not detected.  It may not be installed or enabled properly.\n"
     ]
    },
    {
     "data": {
      "application/vnd.jupyter.widget-view+json": {
       "model_id": "400948902c024d93a57644c9a5433477"
      }
     },
     "metadata": {},
     "output_type": "display_data"
    },
    {
     "name": "stderr",
     "output_type": "stream",
     "text": [
      "Epoch 20: 1.1s to complete\n",
      "    error(train)=6.09e-01, acc(train)=8.07e-01, error(valid)=6.92e-01, acc(valid)=7.84e-01\n",
      "Widget Javascript not detected.  It may not be installed or enabled properly.\n"
     ]
    },
    {
     "data": {
      "application/vnd.jupyter.widget-view+json": {
       "model_id": "313c40bad1cb4bc7b569b99614ba697f"
      }
     },
     "metadata": {},
     "output_type": "display_data"
    },
    {
     "name": "stderr",
     "output_type": "stream",
     "text": [
      "Epoch 21: 1.1s to complete\n",
      "    error(train)=5.94e-01, acc(train)=8.12e-01, error(valid)=6.78e-01, acc(valid)=7.88e-01\n",
      "Widget Javascript not detected.  It may not be installed or enabled properly.\n"
     ]
    },
    {
     "data": {
      "application/vnd.jupyter.widget-view+json": {
       "model_id": "a6cc9d5a12fb4e9abce9235e54aaa411"
      }
     },
     "metadata": {},
     "output_type": "display_data"
    },
    {
     "name": "stderr",
     "output_type": "stream",
     "text": [
      "Epoch 22: 1.2s to complete\n",
      "    error(train)=5.86e-01, acc(train)=8.14e-01, error(valid)=6.71e-01, acc(valid)=7.88e-01\n",
      "Widget Javascript not detected.  It may not be installed or enabled properly.\n"
     ]
    },
    {
     "data": {
      "application/vnd.jupyter.widget-view+json": {
       "model_id": "491d4484dc0f4e6ab8231b66558b3555"
      }
     },
     "metadata": {},
     "output_type": "display_data"
    },
    {
     "name": "stderr",
     "output_type": "stream",
     "text": [
      "Epoch 23: 1.2s to complete\n",
      "    error(train)=5.84e-01, acc(train)=8.14e-01, error(valid)=6.78e-01, acc(valid)=7.87e-01\n",
      "Widget Javascript not detected.  It may not be installed or enabled properly.\n"
     ]
    },
    {
     "data": {
      "application/vnd.jupyter.widget-view+json": {
       "model_id": "cf6ea821397841c8b2e8452c522062e6"
      }
     },
     "metadata": {},
     "output_type": "display_data"
    },
    {
     "name": "stderr",
     "output_type": "stream",
     "text": [
      "Epoch 24: 1.2s to complete\n",
      "    error(train)=5.80e-01, acc(train)=8.14e-01, error(valid)=6.74e-01, acc(valid)=7.86e-01\n",
      "Widget Javascript not detected.  It may not be installed or enabled properly.\n"
     ]
    },
    {
     "data": {
      "application/vnd.jupyter.widget-view+json": {
       "model_id": "4a0af60f6d8240e09996fe339e002b29"
      }
     },
     "metadata": {},
     "output_type": "display_data"
    },
    {
     "name": "stderr",
     "output_type": "stream",
     "text": [
      "Epoch 25: 1.2s to complete\n",
      "    error(train)=5.92e-01, acc(train)=8.11e-01, error(valid)=6.90e-01, acc(valid)=7.84e-01\n",
      "Widget Javascript not detected.  It may not be installed or enabled properly.\n"
     ]
    },
    {
     "data": {
      "application/vnd.jupyter.widget-view+json": {
       "model_id": "7e128513cb4e43a5bab61d6decfb73b9"
      }
     },
     "metadata": {},
     "output_type": "display_data"
    },
    {
     "name": "stderr",
     "output_type": "stream",
     "text": [
      "Epoch 26: 1.2s to complete\n",
      "    error(train)=5.86e-01, acc(train)=8.12e-01, error(valid)=6.81e-01, acc(valid)=7.87e-01\n",
      "Widget Javascript not detected.  It may not be installed or enabled properly.\n"
     ]
    },
    {
     "data": {
      "application/vnd.jupyter.widget-view+json": {
       "model_id": "060413fa50e443a39b083ec4439e1586"
      }
     },
     "metadata": {},
     "output_type": "display_data"
    },
    {
     "name": "stderr",
     "output_type": "stream",
     "text": [
      "Epoch 27: 1.2s to complete\n",
      "    error(train)=5.83e-01, acc(train)=8.13e-01, error(valid)=6.85e-01, acc(valid)=7.85e-01\n",
      "Widget Javascript not detected.  It may not be installed or enabled properly.\n"
     ]
    },
    {
     "data": {
      "application/vnd.jupyter.widget-view+json": {
       "model_id": "d30895510b3b4d2d8437d9cb0020b0db"
      }
     },
     "metadata": {},
     "output_type": "display_data"
    },
    {
     "name": "stderr",
     "output_type": "stream",
     "text": [
      "Epoch 28: 1.2s to complete\n",
      "    error(train)=5.71e-01, acc(train)=8.17e-01, error(valid)=6.72e-01, acc(valid)=7.88e-01\n",
      "Widget Javascript not detected.  It may not be installed or enabled properly.\n"
     ]
    },
    {
     "data": {
      "application/vnd.jupyter.widget-view+json": {
       "model_id": "e175386563b94c05b1d208bd8d95928d"
      }
     },
     "metadata": {},
     "output_type": "display_data"
    },
    {
     "name": "stderr",
     "output_type": "stream",
     "text": [
      "Epoch 29: 1.2s to complete\n",
      "    error(train)=5.72e-01, acc(train)=8.14e-01, error(valid)=6.79e-01, acc(valid)=7.85e-01\n",
      "Widget Javascript not detected.  It may not be installed or enabled properly.\n"
     ]
    },
    {
     "data": {
      "application/vnd.jupyter.widget-view+json": {
       "model_id": "78ab4587e1ae45c1b3795b033112ff6d"
      }
     },
     "metadata": {},
     "output_type": "display_data"
    },
    {
     "name": "stderr",
     "output_type": "stream",
     "text": [
      "Epoch 30: 1.2s to complete\n",
      "    error(train)=5.74e-01, acc(train)=8.15e-01, error(valid)=6.82e-01, acc(valid)=7.85e-01\n",
      "Widget Javascript not detected.  It may not be installed or enabled properly.\n"
     ]
    },
    {
     "data": {
      "application/vnd.jupyter.widget-view+json": {
       "model_id": "c18f32382a6e412b83842bae73698e26"
      }
     },
     "metadata": {},
     "output_type": "display_data"
    },
    {
     "name": "stderr",
     "output_type": "stream",
     "text": [
      "Epoch 31: 1.3s to complete\n",
      "    error(train)=5.65e-01, acc(train)=8.17e-01, error(valid)=6.77e-01, acc(valid)=7.87e-01\n",
      "Widget Javascript not detected.  It may not be installed or enabled properly.\n"
     ]
    },
    {
     "data": {
      "application/vnd.jupyter.widget-view+json": {
       "model_id": "bf8f176d76dc4338bcd0ad3c8eb38f8c"
      }
     },
     "metadata": {},
     "output_type": "display_data"
    },
    {
     "name": "stderr",
     "output_type": "stream",
     "text": [
      "Epoch 32: 1.3s to complete\n",
      "    error(train)=5.67e-01, acc(train)=8.18e-01, error(valid)=6.75e-01, acc(valid)=7.87e-01\n",
      "Widget Javascript not detected.  It may not be installed or enabled properly.\n"
     ]
    },
    {
     "data": {
      "application/vnd.jupyter.widget-view+json": {
       "model_id": "b6e09c4dd38e4adaafdfaf227675f5bc"
      }
     },
     "metadata": {},
     "output_type": "display_data"
    },
    {
     "name": "stderr",
     "output_type": "stream",
     "text": [
      "Epoch 33: 1.2s to complete\n",
      "    error(train)=5.55e-01, acc(train)=8.20e-01, error(valid)=6.63e-01, acc(valid)=7.91e-01\n",
      "Widget Javascript not detected.  It may not be installed or enabled properly.\n"
     ]
    },
    {
     "data": {
      "application/vnd.jupyter.widget-view+json": {
       "model_id": "c9f61506d8fb4007b74347ba06073825"
      }
     },
     "metadata": {},
     "output_type": "display_data"
    },
    {
     "name": "stderr",
     "output_type": "stream",
     "text": [
      "Epoch 34: 1.2s to complete\n",
      "    error(train)=5.58e-01, acc(train)=8.19e-01, error(valid)=6.68e-01, acc(valid)=7.88e-01\n",
      "Widget Javascript not detected.  It may not be installed or enabled properly.\n"
     ]
    },
    {
     "data": {
      "application/vnd.jupyter.widget-view+json": {
       "model_id": "7f9ab1ed54a74bd19e8d5b8f8f865d6d"
      }
     },
     "metadata": {},
     "output_type": "display_data"
    },
    {
     "name": "stderr",
     "output_type": "stream",
     "text": [
      "Epoch 35: 1.2s to complete\n",
      "    error(train)=5.53e-01, acc(train)=8.20e-01, error(valid)=6.66e-01, acc(valid)=7.92e-01\n",
      "Widget Javascript not detected.  It may not be installed or enabled properly.\n"
     ]
    },
    {
     "data": {
      "application/vnd.jupyter.widget-view+json": {
       "model_id": "a392d778065149689cbc99d4fd8d45f0"
      }
     },
     "metadata": {},
     "output_type": "display_data"
    },
    {
     "name": "stderr",
     "output_type": "stream",
     "text": [
      "Epoch 36: 1.2s to complete\n",
      "    error(train)=5.48e-01, acc(train)=8.21e-01, error(valid)=6.64e-01, acc(valid)=7.89e-01\n",
      "Widget Javascript not detected.  It may not be installed or enabled properly.\n"
     ]
    },
    {
     "data": {
      "application/vnd.jupyter.widget-view+json": {
       "model_id": "b5c78e08e44a43f9b9a77ba4d195cf27"
      }
     },
     "metadata": {},
     "output_type": "display_data"
    },
    {
     "name": "stderr",
     "output_type": "stream",
     "text": [
      "Epoch 37: 1.2s to complete\n",
      "    error(train)=5.44e-01, acc(train)=8.24e-01, error(valid)=6.62e-01, acc(valid)=7.90e-01\n",
      "Widget Javascript not detected.  It may not be installed or enabled properly.\n"
     ]
    },
    {
     "data": {
      "application/vnd.jupyter.widget-view+json": {
       "model_id": "361e2e84a90a4290a9818753cd75709c"
      }
     },
     "metadata": {},
     "output_type": "display_data"
    },
    {
     "name": "stderr",
     "output_type": "stream",
     "text": [
      "Epoch 38: 1.2s to complete\n",
      "    error(train)=5.55e-01, acc(train)=8.18e-01, error(valid)=6.73e-01, acc(valid)=7.88e-01\n",
      "Widget Javascript not detected.  It may not be installed or enabled properly.\n"
     ]
    },
    {
     "data": {
      "application/vnd.jupyter.widget-view+json": {
       "model_id": "904cb13e840e44bdb5b8f9bc8ec7cada"
      }
     },
     "metadata": {},
     "output_type": "display_data"
    },
    {
     "name": "stderr",
     "output_type": "stream",
     "text": [
      "Epoch 39: 1.2s to complete\n",
      "    error(train)=5.46e-01, acc(train)=8.24e-01, error(valid)=6.63e-01, acc(valid)=7.93e-01\n",
      "Widget Javascript not detected.  It may not be installed or enabled properly.\n"
     ]
    },
    {
     "data": {
      "application/vnd.jupyter.widget-view+json": {
       "model_id": "6ced0d7175204da6acfd9bafe5d3bd10"
      }
     },
     "metadata": {},
     "output_type": "display_data"
    },
    {
     "name": "stderr",
     "output_type": "stream",
     "text": [
      "Epoch 40: 1.2s to complete\n",
      "    error(train)=5.40e-01, acc(train)=8.25e-01, error(valid)=6.61e-01, acc(valid)=7.92e-01\n",
      "Widget Javascript not detected.  It may not be installed or enabled properly.\n"
     ]
    },
    {
     "data": {
      "application/vnd.jupyter.widget-view+json": {
       "model_id": "ad6ef46cd2b24dc6a20613f333441064"
      }
     },
     "metadata": {},
     "output_type": "display_data"
    },
    {
     "name": "stderr",
     "output_type": "stream",
     "text": [
      "Epoch 41: 1.2s to complete\n",
      "    error(train)=5.44e-01, acc(train)=8.22e-01, error(valid)=6.70e-01, acc(valid)=7.92e-01\n",
      "Widget Javascript not detected.  It may not be installed or enabled properly.\n"
     ]
    },
    {
     "data": {
      "application/vnd.jupyter.widget-view+json": {
       "model_id": "7981f95de8454ef2a45c4537efbdc15a"
      }
     },
     "metadata": {},
     "output_type": "display_data"
    },
    {
     "name": "stderr",
     "output_type": "stream",
     "text": [
      "Epoch 42: 1.2s to complete\n",
      "    error(train)=5.37e-01, acc(train)=8.25e-01, error(valid)=6.59e-01, acc(valid)=7.95e-01\n",
      "Widget Javascript not detected.  It may not be installed or enabled properly.\n"
     ]
    },
    {
     "data": {
      "application/vnd.jupyter.widget-view+json": {
       "model_id": "4a582192c6934c1aa3f4d56c5e313451"
      }
     },
     "metadata": {},
     "output_type": "display_data"
    },
    {
     "name": "stderr",
     "output_type": "stream",
     "text": [
      "Epoch 43: 1.2s to complete\n",
      "    error(train)=5.37e-01, acc(train)=8.24e-01, error(valid)=6.66e-01, acc(valid)=7.93e-01\n",
      "Widget Javascript not detected.  It may not be installed or enabled properly.\n"
     ]
    },
    {
     "data": {
      "application/vnd.jupyter.widget-view+json": {
       "model_id": "6ba4ba0cd0114a0a84da5d1ff9954f2b"
      }
     },
     "metadata": {},
     "output_type": "display_data"
    },
    {
     "name": "stderr",
     "output_type": "stream",
     "text": [
      "Epoch 44: 1.4s to complete\n",
      "    error(train)=5.36e-01, acc(train)=8.25e-01, error(valid)=6.62e-01, acc(valid)=7.93e-01\n",
      "Widget Javascript not detected.  It may not be installed or enabled properly.\n"
     ]
    },
    {
     "data": {
      "application/vnd.jupyter.widget-view+json": {
       "model_id": "1605cc4b6a714c2a8471e11cad4f924d"
      }
     },
     "metadata": {},
     "output_type": "display_data"
    },
    {
     "name": "stderr",
     "output_type": "stream",
     "text": [
      "Epoch 45: 1.2s to complete\n",
      "    error(train)=5.32e-01, acc(train)=8.27e-01, error(valid)=6.61e-01, acc(valid)=7.94e-01\n",
      "Widget Javascript not detected.  It may not be installed or enabled properly.\n"
     ]
    },
    {
     "data": {
      "application/vnd.jupyter.widget-view+json": {
       "model_id": "775006c5548e460c924a7cec46d15c79"
      }
     },
     "metadata": {},
     "output_type": "display_data"
    },
    {
     "name": "stderr",
     "output_type": "stream",
     "text": [
      "Epoch 46: 1.2s to complete\n",
      "    error(train)=5.36e-01, acc(train)=8.26e-01, error(valid)=6.64e-01, acc(valid)=7.93e-01\n",
      "Widget Javascript not detected.  It may not be installed or enabled properly.\n"
     ]
    },
    {
     "data": {
      "application/vnd.jupyter.widget-view+json": {
       "model_id": "677ba3c316ba4a8b9d4c6fed43b0b5ae"
      }
     },
     "metadata": {},
     "output_type": "display_data"
    },
    {
     "name": "stderr",
     "output_type": "stream",
     "text": [
      "Epoch 47: 1.2s to complete\n",
      "    error(train)=5.30e-01, acc(train)=8.27e-01, error(valid)=6.63e-01, acc(valid)=7.93e-01\n",
      "Widget Javascript not detected.  It may not be installed or enabled properly.\n"
     ]
    },
    {
     "data": {
      "application/vnd.jupyter.widget-view+json": {
       "model_id": "1f53cd363381486b8d48e16cfee999b6"
      }
     },
     "metadata": {},
     "output_type": "display_data"
    },
    {
     "name": "stderr",
     "output_type": "stream",
     "text": [
      "Epoch 48: 1.2s to complete\n",
      "    error(train)=5.35e-01, acc(train)=8.25e-01, error(valid)=6.68e-01, acc(valid)=7.92e-01\n",
      "Widget Javascript not detected.  It may not be installed or enabled properly.\n"
     ]
    },
    {
     "data": {
      "application/vnd.jupyter.widget-view+json": {
       "model_id": "90347bd6aa7043a78d2c8679d5336147"
      }
     },
     "metadata": {},
     "output_type": "display_data"
    },
    {
     "name": "stderr",
     "output_type": "stream",
     "text": [
      "Epoch 49: 1.2s to complete\n",
      "    error(train)=5.35e-01, acc(train)=8.26e-01, error(valid)=6.67e-01, acc(valid)=7.92e-01\n",
      "Widget Javascript not detected.  It may not be installed or enabled properly.\n"
     ]
    },
    {
     "data": {
      "application/vnd.jupyter.widget-view+json": {
       "model_id": "d4f325f00eb1481fb933def0801f0bba"
      }
     },
     "metadata": {},
     "output_type": "display_data"
    },
    {
     "name": "stderr",
     "output_type": "stream",
     "text": [
      "Epoch 50: 1.2s to complete\n",
      "    error(train)=5.23e-01, acc(train)=8.28e-01, error(valid)=6.58e-01, acc(valid)=7.93e-01\n",
      "Widget Javascript not detected.  It may not be installed or enabled properly.\n"
     ]
    },
    {
     "data": {
      "application/vnd.jupyter.widget-view+json": {
       "model_id": "a6c16ae073564b7a9278229d5971c72c"
      }
     },
     "metadata": {},
     "output_type": "display_data"
    },
    {
     "name": "stderr",
     "output_type": "stream",
     "text": [
      "Epoch 51: 1.2s to complete\n",
      "    error(train)=5.25e-01, acc(train)=8.26e-01, error(valid)=6.64e-01, acc(valid)=7.91e-01\n",
      "Widget Javascript not detected.  It may not be installed or enabled properly.\n"
     ]
    },
    {
     "data": {
      "application/vnd.jupyter.widget-view+json": {
       "model_id": "caf6d9ed222843668272028893bb3407"
      }
     },
     "metadata": {},
     "output_type": "display_data"
    },
    {
     "name": "stderr",
     "output_type": "stream",
     "text": [
      "Epoch 52: 1.2s to complete\n",
      "    error(train)=5.27e-01, acc(train)=8.27e-01, error(valid)=6.64e-01, acc(valid)=7.94e-01\n",
      "Widget Javascript not detected.  It may not be installed or enabled properly.\n"
     ]
    },
    {
     "data": {
      "application/vnd.jupyter.widget-view+json": {
       "model_id": "a701c4162c4d4cde9bed3f9af2f17b5b"
      }
     },
     "metadata": {},
     "output_type": "display_data"
    },
    {
     "name": "stderr",
     "output_type": "stream",
     "text": [
      "Epoch 53: 1.2s to complete\n",
      "    error(train)=5.23e-01, acc(train)=8.27e-01, error(valid)=6.68e-01, acc(valid)=7.89e-01\n",
      "Widget Javascript not detected.  It may not be installed or enabled properly.\n"
     ]
    },
    {
     "data": {
      "application/vnd.jupyter.widget-view+json": {
       "model_id": "4ef402b7363a4c61a29e8fbdc9166537"
      }
     },
     "metadata": {},
     "output_type": "display_data"
    },
    {
     "name": "stderr",
     "output_type": "stream",
     "text": [
      "Epoch 54: 1.2s to complete\n",
      "    error(train)=5.18e-01, acc(train)=8.30e-01, error(valid)=6.61e-01, acc(valid)=7.97e-01\n",
      "Widget Javascript not detected.  It may not be installed or enabled properly.\n"
     ]
    },
    {
     "data": {
      "application/vnd.jupyter.widget-view+json": {
       "model_id": "45028026315b4cb4b45ad8d768f87c37"
      }
     },
     "metadata": {},
     "output_type": "display_data"
    },
    {
     "name": "stderr",
     "output_type": "stream",
     "text": [
      "Epoch 55: 1.2s to complete\n",
      "    error(train)=5.31e-01, acc(train)=8.27e-01, error(valid)=6.74e-01, acc(valid)=7.92e-01\n",
      "Widget Javascript not detected.  It may not be installed or enabled properly.\n"
     ]
    },
    {
     "data": {
      "application/vnd.jupyter.widget-view+json": {
       "model_id": "7ba446bf857c4e6e8de0d8799aedc64d"
      }
     },
     "metadata": {},
     "output_type": "display_data"
    },
    {
     "name": "stderr",
     "output_type": "stream",
     "text": [
      "Epoch 56: 1.2s to complete\n",
      "    error(train)=5.25e-01, acc(train)=8.28e-01, error(valid)=6.68e-01, acc(valid)=7.89e-01\n",
      "Widget Javascript not detected.  It may not be installed or enabled properly.\n"
     ]
    },
    {
     "data": {
      "application/vnd.jupyter.widget-view+json": {
       "model_id": "371f0809ef9848f58ae557991513d655"
      }
     },
     "metadata": {},
     "output_type": "display_data"
    },
    {
     "name": "stderr",
     "output_type": "stream",
     "text": [
      "Epoch 57: 1.2s to complete\n",
      "    error(train)=5.18e-01, acc(train)=8.29e-01, error(valid)=6.63e-01, acc(valid)=7.94e-01\n",
      "Widget Javascript not detected.  It may not be installed or enabled properly.\n"
     ]
    },
    {
     "data": {
      "application/vnd.jupyter.widget-view+json": {
       "model_id": "3629fa8fabf249e781b373585de0e92a"
      }
     },
     "metadata": {},
     "output_type": "display_data"
    },
    {
     "name": "stderr",
     "output_type": "stream",
     "text": [
      "Epoch 58: 1.2s to complete\n",
      "    error(train)=5.14e-01, acc(train)=8.32e-01, error(valid)=6.60e-01, acc(valid)=7.95e-01\n",
      "Widget Javascript not detected.  It may not be installed or enabled properly.\n"
     ]
    },
    {
     "data": {
      "application/vnd.jupyter.widget-view+json": {
       "model_id": "18623403829e4f508c5fa5bf069f7cbf"
      }
     },
     "metadata": {},
     "output_type": "display_data"
    },
    {
     "name": "stderr",
     "output_type": "stream",
     "text": [
      "Epoch 59: 1.2s to complete\n",
      "    error(train)=5.24e-01, acc(train)=8.28e-01, error(valid)=6.72e-01, acc(valid)=7.94e-01\n",
      "Widget Javascript not detected.  It may not be installed or enabled properly.\n"
     ]
    },
    {
     "data": {
      "application/vnd.jupyter.widget-view+json": {
       "model_id": "d1902e221d4c46feb7efb2229db0f5e7"
      }
     },
     "metadata": {},
     "output_type": "display_data"
    },
    {
     "name": "stderr",
     "output_type": "stream",
     "text": [
      "Epoch 60: 1.2s to complete\n",
      "    error(train)=5.22e-01, acc(train)=8.28e-01, error(valid)=6.67e-01, acc(valid)=7.94e-01\n",
      "Widget Javascript not detected.  It may not be installed or enabled properly.\n"
     ]
    },
    {
     "data": {
      "application/vnd.jupyter.widget-view+json": {
       "model_id": "a2fe4fed8d1746459b613fab96d29fec"
      }
     },
     "metadata": {},
     "output_type": "display_data"
    },
    {
     "name": "stderr",
     "output_type": "stream",
     "text": [
      "Epoch 61: 1.2s to complete\n",
      "    error(train)=5.18e-01, acc(train)=8.28e-01, error(valid)=6.72e-01, acc(valid)=7.90e-01\n",
      "Widget Javascript not detected.  It may not be installed or enabled properly.\n"
     ]
    },
    {
     "data": {
      "application/vnd.jupyter.widget-view+json": {
       "model_id": "1b2663ec55ee4bf286063fcef72d985e"
      }
     },
     "metadata": {},
     "output_type": "display_data"
    },
    {
     "name": "stderr",
     "output_type": "stream",
     "text": [
      "Epoch 62: 1.2s to complete\n",
      "    error(train)=5.15e-01, acc(train)=8.31e-01, error(valid)=6.67e-01, acc(valid)=7.92e-01\n",
      "Widget Javascript not detected.  It may not be installed or enabled properly.\n"
     ]
    },
    {
     "data": {
      "application/vnd.jupyter.widget-view+json": {
       "model_id": "1c41e069638643d79951d67e05c23356"
      }
     },
     "metadata": {},
     "output_type": "display_data"
    },
    {
     "name": "stderr",
     "output_type": "stream",
     "text": [
      "Epoch 63: 1.2s to complete\n",
      "    error(train)=5.12e-01, acc(train)=8.31e-01, error(valid)=6.60e-01, acc(valid)=7.95e-01\n",
      "Widget Javascript not detected.  It may not be installed or enabled properly.\n"
     ]
    },
    {
     "data": {
      "application/vnd.jupyter.widget-view+json": {
       "model_id": "07629051d42149f18b8d06faae69e10b"
      }
     },
     "metadata": {},
     "output_type": "display_data"
    },
    {
     "name": "stderr",
     "output_type": "stream",
     "text": [
      "Epoch 64: 1.2s to complete\n",
      "    error(train)=5.09e-01, acc(train)=8.32e-01, error(valid)=6.61e-01, acc(valid)=7.95e-01\n",
      "Widget Javascript not detected.  It may not be installed or enabled properly.\n"
     ]
    },
    {
     "data": {
      "application/vnd.jupyter.widget-view+json": {
       "model_id": "722c400718ed4215ad8643e577e14274"
      }
     },
     "metadata": {},
     "output_type": "display_data"
    },
    {
     "name": "stderr",
     "output_type": "stream",
     "text": [
      "Epoch 65: 1.2s to complete\n",
      "    error(train)=5.10e-01, acc(train)=8.32e-01, error(valid)=6.62e-01, acc(valid)=7.95e-01\n",
      "Widget Javascript not detected.  It may not be installed or enabled properly.\n"
     ]
    },
    {
     "data": {
      "application/vnd.jupyter.widget-view+json": {
       "model_id": "4866b8403f0049f98632e16d2a9a37ac"
      }
     },
     "metadata": {},
     "output_type": "display_data"
    },
    {
     "name": "stderr",
     "output_type": "stream",
     "text": [
      "Epoch 66: 1.2s to complete\n",
      "    error(train)=5.20e-01, acc(train)=8.29e-01, error(valid)=6.76e-01, acc(valid)=7.93e-01\n",
      "Widget Javascript not detected.  It may not be installed or enabled properly.\n"
     ]
    },
    {
     "data": {
      "application/vnd.jupyter.widget-view+json": {
       "model_id": "d5fb786a23b6442f96b184e4912277fa"
      }
     },
     "metadata": {},
     "output_type": "display_data"
    },
    {
     "name": "stderr",
     "output_type": "stream",
     "text": [
      "Epoch 67: 1.2s to complete\n",
      "    error(train)=5.09e-01, acc(train)=8.32e-01, error(valid)=6.67e-01, acc(valid)=7.92e-01\n",
      "Widget Javascript not detected.  It may not be installed or enabled properly.\n"
     ]
    },
    {
     "data": {
      "application/vnd.jupyter.widget-view+json": {
       "model_id": "29bf8ab870154d7390b7e29c129e76a1"
      }
     },
     "metadata": {},
     "output_type": "display_data"
    },
    {
     "name": "stderr",
     "output_type": "stream",
     "text": [
      "Epoch 68: 1.2s to complete\n",
      "    error(train)=5.07e-01, acc(train)=8.33e-01, error(valid)=6.65e-01, acc(valid)=7.95e-01\n",
      "Widget Javascript not detected.  It may not be installed or enabled properly.\n"
     ]
    },
    {
     "data": {
      "application/vnd.jupyter.widget-view+json": {
       "model_id": "c52d10b160f345ed9d01dfbcb8e33694"
      }
     },
     "metadata": {},
     "output_type": "display_data"
    },
    {
     "name": "stderr",
     "output_type": "stream",
     "text": [
      "Epoch 69: 1.2s to complete\n",
      "    error(train)=5.05e-01, acc(train)=8.33e-01, error(valid)=6.66e-01, acc(valid)=7.96e-01\n",
      "Widget Javascript not detected.  It may not be installed or enabled properly.\n"
     ]
    },
    {
     "data": {
      "application/vnd.jupyter.widget-view+json": {
       "model_id": "b06f869d838c4536b7c7244515d776c6"
      }
     },
     "metadata": {},
     "output_type": "display_data"
    },
    {
     "name": "stderr",
     "output_type": "stream",
     "text": [
      "Epoch 70: 1.2s to complete\n",
      "    error(train)=5.08e-01, acc(train)=8.32e-01, error(valid)=6.67e-01, acc(valid)=7.93e-01\n",
      "Widget Javascript not detected.  It may not be installed or enabled properly.\n"
     ]
    },
    {
     "data": {
      "application/vnd.jupyter.widget-view+json": {
       "model_id": "2ffd4133e9904a5b8347d4a19bdba7c9"
      }
     },
     "metadata": {},
     "output_type": "display_data"
    },
    {
     "name": "stderr",
     "output_type": "stream",
     "text": [
      "Epoch 71: 1.2s to complete\n",
      "    error(train)=5.02e-01, acc(train)=8.35e-01, error(valid)=6.64e-01, acc(valid)=7.96e-01\n",
      "Widget Javascript not detected.  It may not be installed or enabled properly.\n"
     ]
    },
    {
     "data": {
      "application/vnd.jupyter.widget-view+json": {
       "model_id": "ec3d41a7bcc54c378c9248fc50e18359"
      }
     },
     "metadata": {},
     "output_type": "display_data"
    },
    {
     "name": "stderr",
     "output_type": "stream",
     "text": [
      "Epoch 72: 1.4s to complete\n",
      "    error(train)=5.03e-01, acc(train)=8.33e-01, error(valid)=6.69e-01, acc(valid)=7.93e-01\n",
      "Widget Javascript not detected.  It may not be installed or enabled properly.\n"
     ]
    },
    {
     "data": {
      "application/vnd.jupyter.widget-view+json": {
       "model_id": "6932f7e498f544eba2a04c8a68617560"
      }
     },
     "metadata": {},
     "output_type": "display_data"
    },
    {
     "name": "stderr",
     "output_type": "stream",
     "text": [
      "Epoch 73: 1.3s to complete\n",
      "    error(train)=4.96e-01, acc(train)=8.35e-01, error(valid)=6.59e-01, acc(valid)=7.96e-01\n",
      "Widget Javascript not detected.  It may not be installed or enabled properly.\n"
     ]
    },
    {
     "data": {
      "application/vnd.jupyter.widget-view+json": {
       "model_id": "cb282aa6f3b44d96aa6a2d73618aa1c2"
      }
     },
     "metadata": {},
     "output_type": "display_data"
    },
    {
     "name": "stderr",
     "output_type": "stream",
     "text": [
      "Epoch 74: 1.2s to complete\n",
      "    error(train)=4.96e-01, acc(train)=8.34e-01, error(valid)=6.69e-01, acc(valid)=7.93e-01\n",
      "Widget Javascript not detected.  It may not be installed or enabled properly.\n"
     ]
    },
    {
     "data": {
      "application/vnd.jupyter.widget-view+json": {
       "model_id": "b5d06d644c3443f8a69040d4e176d2de"
      }
     },
     "metadata": {},
     "output_type": "display_data"
    },
    {
     "name": "stderr",
     "output_type": "stream",
     "text": [
      "Epoch 75: 1.3s to complete\n",
      "    error(train)=5.07e-01, acc(train)=8.31e-01, error(valid)=6.74e-01, acc(valid)=7.94e-01\n",
      "Widget Javascript not detected.  It may not be installed or enabled properly.\n"
     ]
    },
    {
     "data": {
      "application/vnd.jupyter.widget-view+json": {
       "model_id": "dbf398277ead44efba8118d24a90ca37"
      }
     },
     "metadata": {},
     "output_type": "display_data"
    },
    {
     "name": "stderr",
     "output_type": "stream",
     "text": [
      "Epoch 76: 1.3s to complete\n",
      "    error(train)=5.05e-01, acc(train)=8.32e-01, error(valid)=6.76e-01, acc(valid)=7.92e-01\n",
      "Widget Javascript not detected.  It may not be installed or enabled properly.\n"
     ]
    },
    {
     "data": {
      "application/vnd.jupyter.widget-view+json": {
       "model_id": "f51f63fa7b6f4936a3f838c569b02f90"
      }
     },
     "metadata": {},
     "output_type": "display_data"
    },
    {
     "name": "stderr",
     "output_type": "stream",
     "text": [
      "Epoch 77: 1.3s to complete\n",
      "    error(train)=5.08e-01, acc(train)=8.33e-01, error(valid)=6.75e-01, acc(valid)=7.95e-01\n",
      "Widget Javascript not detected.  It may not be installed or enabled properly.\n"
     ]
    },
    {
     "data": {
      "application/vnd.jupyter.widget-view+json": {
       "model_id": "6d01b602549c495a83e394f6fa505481"
      }
     },
     "metadata": {},
     "output_type": "display_data"
    },
    {
     "name": "stderr",
     "output_type": "stream",
     "text": [
      "Epoch 78: 1.2s to complete\n",
      "    error(train)=5.04e-01, acc(train)=8.32e-01, error(valid)=6.76e-01, acc(valid)=7.92e-01\n",
      "Widget Javascript not detected.  It may not be installed or enabled properly.\n"
     ]
    },
    {
     "data": {
      "application/vnd.jupyter.widget-view+json": {
       "model_id": "d14854103d3542ff994d7eb4ce0c6ff4"
      }
     },
     "metadata": {},
     "output_type": "display_data"
    },
    {
     "name": "stderr",
     "output_type": "stream",
     "text": [
      "Epoch 79: 1.2s to complete\n",
      "    error(train)=5.07e-01, acc(train)=8.31e-01, error(valid)=6.75e-01, acc(valid)=7.93e-01\n",
      "Widget Javascript not detected.  It may not be installed or enabled properly.\n"
     ]
    },
    {
     "data": {
      "application/vnd.jupyter.widget-view+json": {
       "model_id": "0f3820874b4f474cb1345ed9458b3f26"
      }
     },
     "metadata": {},
     "output_type": "display_data"
    },
    {
     "name": "stderr",
     "output_type": "stream",
     "text": [
      "Epoch 80: 1.2s to complete\n",
      "    error(train)=5.07e-01, acc(train)=8.31e-01, error(valid)=6.76e-01, acc(valid)=7.93e-01\n",
      "Widget Javascript not detected.  It may not be installed or enabled properly.\n"
     ]
    },
    {
     "data": {
      "application/vnd.jupyter.widget-view+json": {
       "model_id": "f268214440374d60a54cb46714dc4c09"
      }
     },
     "metadata": {},
     "output_type": "display_data"
    },
    {
     "name": "stderr",
     "output_type": "stream",
     "text": [
      "Epoch 81: 1.3s to complete\n",
      "    error(train)=4.91e-01, acc(train)=8.36e-01, error(valid)=6.65e-01, acc(valid)=7.95e-01\n",
      "Widget Javascript not detected.  It may not be installed or enabled properly.\n"
     ]
    },
    {
     "data": {
      "application/vnd.jupyter.widget-view+json": {
       "model_id": "9ef21cb3b2914fc2a9dc92fec298fce4"
      }
     },
     "metadata": {},
     "output_type": "display_data"
    },
    {
     "name": "stderr",
     "output_type": "stream",
     "text": [
      "Epoch 82: 1.5s to complete\n",
      "    error(train)=4.94e-01, acc(train)=8.36e-01, error(valid)=6.73e-01, acc(valid)=7.93e-01\n",
      "Widget Javascript not detected.  It may not be installed or enabled properly.\n"
     ]
    },
    {
     "data": {
      "application/vnd.jupyter.widget-view+json": {
       "model_id": "219f21fb2f17474899a356307bed1e48"
      }
     },
     "metadata": {},
     "output_type": "display_data"
    },
    {
     "name": "stderr",
     "output_type": "stream",
     "text": [
      "Epoch 83: 1.3s to complete\n",
      "    error(train)=5.00e-01, acc(train)=8.34e-01, error(valid)=6.72e-01, acc(valid)=7.93e-01\n",
      "Widget Javascript not detected.  It may not be installed or enabled properly.\n"
     ]
    },
    {
     "data": {
      "application/vnd.jupyter.widget-view+json": {
       "model_id": "c5cb8c3be0c645488f1215f0fbc41b16"
      }
     },
     "metadata": {},
     "output_type": "display_data"
    },
    {
     "name": "stderr",
     "output_type": "stream",
     "text": [
      "Epoch 84: 1.2s to complete\n",
      "    error(train)=4.91e-01, acc(train)=8.38e-01, error(valid)=6.66e-01, acc(valid)=7.96e-01\n",
      "Widget Javascript not detected.  It may not be installed or enabled properly.\n"
     ]
    },
    {
     "data": {
      "application/vnd.jupyter.widget-view+json": {
       "model_id": "ca1c929a630b4ca797dcbdc1f732c43b"
      }
     },
     "metadata": {},
     "output_type": "display_data"
    },
    {
     "name": "stderr",
     "output_type": "stream",
     "text": [
      "Epoch 85: 1.4s to complete\n",
      "    error(train)=4.96e-01, acc(train)=8.34e-01, error(valid)=6.79e-01, acc(valid)=7.93e-01\n",
      "Widget Javascript not detected.  It may not be installed or enabled properly.\n"
     ]
    },
    {
     "data": {
      "application/vnd.jupyter.widget-view+json": {
       "model_id": "e5edc86e94a5422c817e01ca6399a6af"
      }
     },
     "metadata": {},
     "output_type": "display_data"
    },
    {
     "name": "stderr",
     "output_type": "stream",
     "text": [
      "Epoch 86: 1.2s to complete\n",
      "    error(train)=4.92e-01, acc(train)=8.36e-01, error(valid)=6.71e-01, acc(valid)=7.95e-01\n",
      "Widget Javascript not detected.  It may not be installed or enabled properly.\n"
     ]
    },
    {
     "data": {
      "application/vnd.jupyter.widget-view+json": {
       "model_id": "7be7c70c4c5643aaa880ec61e023b0ac"
      }
     },
     "metadata": {},
     "output_type": "display_data"
    },
    {
     "name": "stderr",
     "output_type": "stream",
     "text": [
      "Epoch 87: 1.2s to complete\n",
      "    error(train)=4.97e-01, acc(train)=8.34e-01, error(valid)=6.81e-01, acc(valid)=7.92e-01\n",
      "Widget Javascript not detected.  It may not be installed or enabled properly.\n"
     ]
    },
    {
     "data": {
      "application/vnd.jupyter.widget-view+json": {
       "model_id": "a8cbef0aa50b471e9f8f01054f77a210"
      }
     },
     "metadata": {},
     "output_type": "display_data"
    },
    {
     "name": "stderr",
     "output_type": "stream",
     "text": [
      "Epoch 88: 1.2s to complete\n",
      "    error(train)=4.89e-01, acc(train)=8.37e-01, error(valid)=6.70e-01, acc(valid)=7.93e-01\n",
      "Widget Javascript not detected.  It may not be installed or enabled properly.\n"
     ]
    },
    {
     "data": {
      "application/vnd.jupyter.widget-view+json": {
       "model_id": "a7db2849ecfd41c3ac4d5b6277f519c9"
      }
     },
     "metadata": {},
     "output_type": "display_data"
    },
    {
     "name": "stderr",
     "output_type": "stream",
     "text": [
      "Epoch 89: 1.2s to complete\n",
      "    error(train)=5.00e-01, acc(train)=8.34e-01, error(valid)=6.77e-01, acc(valid)=7.94e-01\n",
      "Widget Javascript not detected.  It may not be installed or enabled properly.\n"
     ]
    },
    {
     "data": {
      "application/vnd.jupyter.widget-view+json": {
       "model_id": "c84f05e81ffe4a1a8a6ee4c368f76f34"
      }
     },
     "metadata": {},
     "output_type": "display_data"
    },
    {
     "name": "stderr",
     "output_type": "stream",
     "text": [
      "Epoch 90: 1.3s to complete\n",
      "    error(train)=4.91e-01, acc(train)=8.36e-01, error(valid)=6.76e-01, acc(valid)=7.93e-01\n",
      "Widget Javascript not detected.  It may not be installed or enabled properly.\n"
     ]
    },
    {
     "data": {
      "application/vnd.jupyter.widget-view+json": {
       "model_id": "c6a319e5df2443a08d68ca8df4682be7"
      }
     },
     "metadata": {},
     "output_type": "display_data"
    },
    {
     "name": "stderr",
     "output_type": "stream",
     "text": [
      "Epoch 91: 1.3s to complete\n",
      "    error(train)=4.83e-01, acc(train)=8.39e-01, error(valid)=6.69e-01, acc(valid)=7.93e-01\n",
      "Widget Javascript not detected.  It may not be installed or enabled properly.\n"
     ]
    },
    {
     "data": {
      "application/vnd.jupyter.widget-view+json": {
       "model_id": "0e17944c4cbe4b8ea724a3d0653e2e21"
      }
     },
     "metadata": {},
     "output_type": "display_data"
    },
    {
     "name": "stderr",
     "output_type": "stream",
     "text": [
      "Epoch 92: 1.3s to complete\n",
      "    error(train)=4.92e-01, acc(train)=8.37e-01, error(valid)=6.72e-01, acc(valid)=7.97e-01\n",
      "Widget Javascript not detected.  It may not be installed or enabled properly.\n"
     ]
    },
    {
     "data": {
      "application/vnd.jupyter.widget-view+json": {
       "model_id": "80658d508bc44a50bbcbf01d581a0064"
      }
     },
     "metadata": {},
     "output_type": "display_data"
    },
    {
     "name": "stderr",
     "output_type": "stream",
     "text": [
      "Epoch 93: 1.3s to complete\n",
      "    error(train)=4.90e-01, acc(train)=8.36e-01, error(valid)=6.78e-01, acc(valid)=7.93e-01\n",
      "Widget Javascript not detected.  It may not be installed or enabled properly.\n"
     ]
    },
    {
     "data": {
      "application/vnd.jupyter.widget-view+json": {
       "model_id": "4087641662494ed08646532aa4ffb86f"
      }
     },
     "metadata": {},
     "output_type": "display_data"
    },
    {
     "name": "stderr",
     "output_type": "stream",
     "text": [
      "Epoch 94: 1.6s to complete\n",
      "    error(train)=4.84e-01, acc(train)=8.38e-01, error(valid)=6.68e-01, acc(valid)=7.97e-01\n",
      "Widget Javascript not detected.  It may not be installed or enabled properly.\n"
     ]
    },
    {
     "data": {
      "application/vnd.jupyter.widget-view+json": {
       "model_id": "d0aa5dc3689e4d5d961245b7ee64dffc"
      }
     },
     "metadata": {},
     "output_type": "display_data"
    },
    {
     "name": "stderr",
     "output_type": "stream",
     "text": [
      "Epoch 95: 1.3s to complete\n",
      "    error(train)=4.86e-01, acc(train)=8.38e-01, error(valid)=6.69e-01, acc(valid)=7.98e-01\n",
      "Widget Javascript not detected.  It may not be installed or enabled properly.\n"
     ]
    },
    {
     "data": {
      "application/vnd.jupyter.widget-view+json": {
       "model_id": "efab0e8d4e7441e99b18a6b8d819bf97"
      }
     },
     "metadata": {},
     "output_type": "display_data"
    },
    {
     "name": "stderr",
     "output_type": "stream",
     "text": [
      "Epoch 96: 1.2s to complete\n",
      "    error(train)=4.92e-01, acc(train)=8.36e-01, error(valid)=6.80e-01, acc(valid)=7.91e-01\n",
      "Widget Javascript not detected.  It may not be installed or enabled properly.\n"
     ]
    },
    {
     "data": {
      "application/vnd.jupyter.widget-view+json": {
       "model_id": "8356ed582e914b02990cc85ed9a36b12"
      }
     },
     "metadata": {},
     "output_type": "display_data"
    },
    {
     "name": "stderr",
     "output_type": "stream",
     "text": [
      "Epoch 97: 1.2s to complete\n",
      "    error(train)=4.77e-01, acc(train)=8.42e-01, error(valid)=6.59e-01, acc(valid)=8.01e-01\n",
      "Widget Javascript not detected.  It may not be installed or enabled properly.\n"
     ]
    },
    {
     "data": {
      "application/vnd.jupyter.widget-view+json": {
       "model_id": "9e63a4bc9d56471b859f9ab3439bf232"
      }
     },
     "metadata": {},
     "output_type": "display_data"
    },
    {
     "name": "stderr",
     "output_type": "stream",
     "text": [
      "Epoch 98: 1.5s to complete\n",
      "    error(train)=4.79e-01, acc(train)=8.40e-01, error(valid)=6.70e-01, acc(valid)=7.96e-01\n",
      "Widget Javascript not detected.  It may not be installed or enabled properly.\n"
     ]
    },
    {
     "data": {
      "application/vnd.jupyter.widget-view+json": {
       "model_id": "962fb371da7d4f73a9bca014356f7d65"
      }
     },
     "metadata": {},
     "output_type": "display_data"
    },
    {
     "name": "stderr",
     "output_type": "stream",
     "text": [
      "Epoch 99: 1.5s to complete\n",
      "    error(train)=4.88e-01, acc(train)=8.36e-01, error(valid)=6.76e-01, acc(valid)=7.92e-01\n",
      "Widget Javascript not detected.  It may not be installed or enabled properly.\n"
     ]
    },
    {
     "data": {
      "application/vnd.jupyter.widget-view+json": {
       "model_id": "daaad68266614b90967d7627a78897c0"
      }
     },
     "metadata": {},
     "output_type": "display_data"
    },
    {
     "name": "stderr",
     "output_type": "stream",
     "text": [
      "Epoch 100: 1.5s to complete\n",
      "    error(train)=4.92e-01, acc(train)=8.36e-01, error(valid)=6.79e-01, acc(valid)=7.92e-01\n"
     ]
    },
    {
     "name": "stdout",
     "output_type": "stream",
     "text": [
      "\n"
     ]
    },
    {
     "data": {
      "image/png": "[encoded data removed]",
      "text/plain": [
       "<matplotlib.figure.Figure at 0x231802864e0>"
      ]
     },
     "metadata": {},
     "output_type": "display_data"
    },
    {
     "data": {
      "image/png": "[encoded data removed]",
      "text/plain": [
       "<matplotlib.figure.Figure at 0x2318166e6d8>"
      ]
     },
     "metadata": {},
     "output_type": "display_data"
    }
   ],
   "source": [
    "learning_rate = 0.0001\n",
    "num_epochs = 100\n",
    "stats_interval = 1\n",
    "input_dim, output_dim, hidden_dim = 784, 47, 128\n",
    "incl_prob = 0.5\n",
    "\n",
    "weights_init = GlorotUniformInit(rng=rng)\n",
    "biases_init = ConstantInit(0.)\n",
    "\n",
    "# Create model with Three hidden layers\n",
    "model = MultipleLayerModel([\n",
    "    AffineLayer(input_dim, hidden_dim, weights_init, biases_init, weights_penalty=1e-4), # first hidden layer\n",
    "    ReluLayer(),\n",
    "    AffineLayer(hidden_dim, hidden_dim, weights_init, biases_init, weights_penalty=1e-4), # second hidden layer\n",
    "    ReluLayer(),\n",
    "    AffineLayer(hidden_dim, hidden_dim, weights_init, biases_init, weights_penalty=1e-4) # third layer\n",
    "])\n",
    "\n",
    "error = CrossEntropySoftmaxError()\n",
    "# Use a Adam learning rule\n",
    "learning_rule = AdamLearningRule(learning_rate=learning_rate)\n",
    "\n",
    "# Remember to use notebook=False when you write a script to be run in a terminal\n",
    "_ = train_model_and_plot_stats(\n",
    "    model, error, learning_rule, train_data, valid_data, num_epochs, stats_interval, notebook=True)"
   ]
  },
  {
   "cell_type": "code",
   "execution_count": null,
   "metadata": {
    "collapsed": true
   },
   "outputs": [],
   "source": []
  }
 ],
 "metadata": {
  "kernelspec": {
   "display_name": "Python 3",
   "language": "python",
   "name": "python3"
  },
  "language_info": {
   "codemirror_mode": {
    "name": "ipython",
    "version": 3
   },
   "file_extension": ".py",
   "mimetype": "text/x-python",
   "name": "python",
   "nbconvert_exporter": "python",
   "pygments_lexer": "ipython3",
   "version": "3.6.2"
  }
 },
 "nbformat": 4,
 "nbformat_minor": 1
}
